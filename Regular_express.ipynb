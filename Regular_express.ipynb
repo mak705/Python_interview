{
 "cells": [
  {
   "cell_type": "code",
   "execution_count": 1,
   "metadata": {},
   "outputs": [],
   "source": [
    "#problem statements\n",
    "# 1. date and time from a log file\n",
    "# 2. get valid e-mail ids from a list of e-mail ids\n",
    "# 3. get valid phone numbers from a list phone numbers with country\n",
    "# 4. replace a value with another value in a bunch of data\n",
    "\n",
    "#note:  regex is compactable with other languages also (like c, java, etc)"
   ]
  },
  {
   "cell_type": "code",
   "execution_count": 2,
   "metadata": {},
   "outputs": [],
   "source": [
    "import re"
   ]
  },
  {
   "cell_type": "code",
   "execution_count": 3,
   "metadata": {},
   "outputs": [],
   "source": [
    "Nameage = '''\n",
    "Janice is 22 and Theon is 33 \n",
    "Gabriel is 44 and Joey is 31\n",
    "'''"
   ]
  },
  {
   "cell_type": "code",
   "execution_count": 4,
   "metadata": {},
   "outputs": [],
   "source": [
    "ages = re.findall(r'\\d{1,3}', Nameage)\n",
    "names = re.findall(r'[A-Z][a-z]*', Nameage)"
   ]
  },
  {
   "cell_type": "code",
   "execution_count": 5,
   "metadata": {},
   "outputs": [],
   "source": [
    "agedict = {}\n",
    "x = 0"
   ]
  },
  {
   "cell_type": "code",
   "execution_count": 6,
   "metadata": {},
   "outputs": [
    {
     "name": "stdout",
     "output_type": "stream",
     "text": [
      "{'Janice': '22', 'Theon': '33', 'Gabriel': '44', 'Joey': '31'}\n"
     ]
    }
   ],
   "source": [
    "for name in names:\n",
    "    agedict[name] = ages[x]\n",
    "    x = x+1\n",
    "    \n",
    "print(agedict)"
   ]
  },
  {
   "cell_type": "markdown",
   "metadata": {},
   "source": [
    "# Find a word in a centance"
   ]
  },
  {
   "cell_type": "code",
   "execution_count": 7,
   "metadata": {},
   "outputs": [],
   "source": [
    "string1 = \"we need to inform him with the latest information\"\n",
    "# find 'inform'"
   ]
  },
  {
   "cell_type": "code",
   "execution_count": 8,
   "metadata": {},
   "outputs": [
    {
     "name": "stdout",
     "output_type": "stream",
     "text": [
      "There is inform in bthe mentioned string\n"
     ]
    }
   ],
   "source": [
    "if re.search('inform', string1):\n",
    "    print(\"There is inform in bthe mentioned string\")\n",
    "else:\n",
    "    print(\"No word inform in the provided string\")"
   ]
  },
  {
   "cell_type": "code",
   "execution_count": 9,
   "metadata": {},
   "outputs": [
    {
     "name": "stdout",
     "output_type": "stream",
     "text": [
      "inform\n",
      "inform\n"
     ]
    }
   ],
   "source": [
    "# to find all matching words\n",
    "allinform = re.findall(\"inform\", string1)\n",
    "\n",
    "for i in allinform:\n",
    "    print(i)"
   ]
  },
  {
   "cell_type": "markdown",
   "metadata": {},
   "source": [
    "# To generate an iterator"
   ]
  },
  {
   "cell_type": "code",
   "execution_count": 10,
   "metadata": {},
   "outputs": [],
   "source": [
    "string2 = \"we need to inform him with the latest information\""
   ]
  },
  {
   "cell_type": "code",
   "execution_count": 11,
   "metadata": {},
   "outputs": [
    {
     "name": "stdout",
     "output_type": "stream",
     "text": [
      "(11, 17)\n",
      "(38, 44)\n"
     ]
    }
   ],
   "source": [
    "for i in re.finditer(\"inform\", string2):\n",
    "    tuple1 = i.span()\n",
    "    print(tuple1)\n",
    "#print the starting and ending positions of the word finding"
   ]
  },
  {
   "cell_type": "markdown",
   "metadata": {},
   "source": [
    "# To match one of several letters"
   ]
  },
  {
   "cell_type": "code",
   "execution_count": 12,
   "metadata": {},
   "outputs": [],
   "source": [
    "string3 = 'Sat, hat, mat, pat, word, love'\n",
    "#need to match anything ends with 'at'"
   ]
  },
  {
   "cell_type": "code",
   "execution_count": 13,
   "metadata": {},
   "outputs": [
    {
     "name": "stdout",
     "output_type": "stream",
     "text": [
      "Sat\n",
      "hat\n",
      "mat\n",
      "pat\n"
     ]
    }
   ],
   "source": [
    "allstring = re.findall('[Shmp]at', string3)\n",
    "\n",
    "for i in allstring:\n",
    "    print(i)\n",
    "\n",
    "#regs searches are case sensitive"
   ]
  },
  {
   "cell_type": "code",
   "execution_count": 14,
   "metadata": {},
   "outputs": [
    {
     "name": "stdout",
     "output_type": "stream",
     "text": [
      "Sat\n",
      "hat\n",
      "mat\n",
      "pat\n"
     ]
    }
   ],
   "source": [
    "#method2\n",
    "allstring2 = re.findall('[A-Za-z]at', string3)\n",
    "\n",
    "for i in allstring2:\n",
    "    print(i)"
   ]
  },
  {
   "cell_type": "markdown",
   "metadata": {},
   "source": [
    "# Match series of range of characters"
   ]
  },
  {
   "cell_type": "code",
   "execution_count": 15,
   "metadata": {},
   "outputs": [],
   "source": [
    "#need to find all letters which starts with letters between h to m and ends with 'at'\n",
    "string3 = 'Sat, hat, mat, pat, word, love, Hat'"
   ]
  },
  {
   "cell_type": "code",
   "execution_count": 16,
   "metadata": {},
   "outputs": [
    {
     "name": "stdout",
     "output_type": "stream",
     "text": [
      "hat\n",
      "mat\n",
      "Hat\n"
     ]
    }
   ],
   "source": [
    "sel_string = re.findall('[H-Mh-m]at', string3)\n",
    "for i in sel_string:\n",
    "    print(i)"
   ]
  },
  {
   "cell_type": "code",
   "execution_count": 17,
   "metadata": {},
   "outputs": [
    {
     "data": {
      "text/plain": [
       "['hat', 'mat', 'Hat']"
      ]
     },
     "execution_count": 17,
     "metadata": {},
     "output_type": "execute_result"
    }
   ],
   "source": [
    "sel_string"
   ]
  },
  {
   "cell_type": "code",
   "execution_count": 18,
   "metadata": {},
   "outputs": [
    {
     "name": "stdout",
     "output_type": "stream",
     "text": [
      "hat\n",
      "mat\n",
      "love\n",
      "Hat\n",
      "['hat', 'mat', 'love', 'Hat']\n"
     ]
    }
   ],
   "source": [
    "#to print words starts with H-M or h-m and ends with anything\n",
    "sel_string2 = re.findall('[H-Mh-m]\\w+', string3)\n",
    "for i in sel_string2:\n",
    "    print(i)\n",
    "\n",
    "print(sel_string2)"
   ]
  },
  {
   "cell_type": "code",
   "execution_count": 19,
   "metadata": {},
   "outputs": [],
   "source": [
    "# to print words except starts with H-M or h-m and ends with anything\n",
    "# sel_string2 = re.findall('[^H-Mh-m]\\w+', string3)\n",
    "# for i in sel_string2:\n",
    "#     print(i)\n",
    "\n",
    "# print(sel_string2)"
   ]
  },
  {
   "cell_type": "code",
   "execution_count": null,
   "metadata": {},
   "outputs": [],
   "source": []
  },
  {
   "cell_type": "markdown",
   "metadata": {},
   "source": [
    "# To replace a string"
   ]
  },
  {
   "cell_type": "code",
   "execution_count": 20,
   "metadata": {},
   "outputs": [],
   "source": [
    "string4 = 'hat rat mat pat'\n",
    "#replace rat with food"
   ]
  },
  {
   "cell_type": "code",
   "execution_count": 21,
   "metadata": {},
   "outputs": [
    {
     "name": "stdout",
     "output_type": "stream",
     "text": [
      "hat food mat pat\n"
     ]
    }
   ],
   "source": [
    "repl_str = re.compile('rat')\n",
    "string4 = repl_str.sub('food', string4)\n",
    "print(string4)"
   ]
  },
  {
   "cell_type": "code",
   "execution_count": 22,
   "metadata": {},
   "outputs": [],
   "source": [
    "string5 = 'giri do not want to go to school. because he does not know anyone in the school'\n",
    "#remplace school with play-school"
   ]
  },
  {
   "cell_type": "code",
   "execution_count": 23,
   "metadata": {},
   "outputs": [
    {
     "name": "stdout",
     "output_type": "stream",
     "text": [
      "giri do not want to go to play-school. because he does not know anyone in the play-school\n"
     ]
    }
   ],
   "source": [
    "repl_str2 = re.compile('school')\n",
    "string5 = repl_str2.sub('play-school', string5)\n",
    "print(string5)"
   ]
  },
  {
   "cell_type": "markdown",
   "metadata": {},
   "source": [
    "# Deling with backslash problem"
   ]
  },
  {
   "cell_type": "code",
   "execution_count": 24,
   "metadata": {},
   "outputs": [
    {
     "name": "stdout",
     "output_type": "stream",
     "text": [
      "here is \\drogba\n"
     ]
    }
   ],
   "source": [
    "rand_str = 'here is \\\\drogba'\n",
    "print(rand_str)\n",
    "#even though we have two \\ characters it is printing only 1"
   ]
  },
  {
   "cell_type": "code",
   "execution_count": 25,
   "metadata": {},
   "outputs": [
    {
     "name": "stdout",
     "output_type": "stream",
     "text": [
      "<re.Match object; span=(8, 15), match='\\\\drogba'>\n"
     ]
    }
   ],
   "source": [
    "print(re.search(r'\\\\drogba', rand_str))\n",
    "#search method can find it"
   ]
  },
  {
   "cell_type": "markdown",
   "metadata": {},
   "source": [
    "# To deal with blank spaces"
   ]
  },
  {
   "cell_type": "code",
   "execution_count": 26,
   "metadata": {},
   "outputs": [
    {
     "name": "stdout",
     "output_type": "stream",
     "text": [
      "\n",
      "Keep the blue flag\n",
      "flying high\n",
      "Chelsea\n"
     ]
    }
   ],
   "source": [
    "rand_str = '''\n",
    "Keep the blue flag\n",
    "flying high\n",
    "Chelsea'''\n",
    "print(rand_str)  # its a multi line string"
   ]
  },
  {
   "cell_type": "code",
   "execution_count": 27,
   "metadata": {},
   "outputs": [
    {
     "name": "stdout",
     "output_type": "stream",
     "text": [
      " Keep the blue flag flying high Chelsea\n"
     ]
    }
   ],
   "source": [
    "repl_str = re.compile('\\n')\n",
    "rand_str = repl_str.sub(' ', rand_str)  # next lines replaced with spaces\n",
    "print(rand_str)"
   ]
  },
  {
   "cell_type": "markdown",
   "metadata": {},
   "source": [
    "# Deal with numbers"
   ]
  },
  {
   "cell_type": "code",
   "execution_count": 28,
   "metadata": {},
   "outputs": [
    {
     "name": "stdout",
     "output_type": "stream",
     "text": [
      "Matches: 5\n",
      "Matches: 0\n"
     ]
    }
   ],
   "source": [
    "# to deal with backslash (\\b), formfeed(\\f), carriage return(\\r), tab(\\t), vertical tab(\\v)\n",
    "rand_str2 = '12345'\n",
    "print('Matches:', len(re.findall('\\d', rand_str2))) # \\d to match any number\n",
    "print('Matches:', len(re.findall('\\D', rand_str2))) # \\D will match anything except number"
   ]
  },
  {
   "cell_type": "code",
   "execution_count": 29,
   "metadata": {},
   "outputs": [
    {
     "name": "stdout",
     "output_type": "stream",
     "text": [
      "Matches: 1\n"
     ]
    }
   ],
   "source": [
    "print('Matches:', len(re.findall('\\d{5}', rand_str2)))  # matches 1 digit '5'"
   ]
  },
  {
   "cell_type": "code",
   "execution_count": 30,
   "metadata": {},
   "outputs": [],
   "source": [
    "num = '123 1234 12345 123456 1234567'\n",
    "# to find occurance in range 5 to 7"
   ]
  },
  {
   "cell_type": "code",
   "execution_count": 31,
   "metadata": {},
   "outputs": [
    {
     "name": "stdout",
     "output_type": "stream",
     "text": [
      "Marches :  ['12345', '123456', '1234567']\n",
      "Marches :  3\n"
     ]
    }
   ],
   "source": [
    "print('Marches : ', re.findall('\\d{5,7}', num))\n",
    "print('Marches : ', len(re.findall('\\d{5,7}', num)))  # \\d{5,7} dearches digits 5 or 56 or 567"
   ]
  },
  {
   "cell_type": "markdown",
   "metadata": {},
   "source": [
    "# Phone number verification"
   ]
  },
  {
   "cell_type": "code",
   "execution_count": 32,
   "metadata": {},
   "outputs": [],
   "source": [
    "# sample 444-122-1234\n",
    "# format is 3 digits, - sign, 3 gits, - sign, 4 digits"
   ]
  },
  {
   "cell_type": "code",
   "execution_count": 33,
   "metadata": {},
   "outputs": [],
   "source": [
    "# Note:-\n",
    "#  \\w refers to [a-zA-Z0-9_]\n",
    "#  \\W refers to [^a-zA-Z0-9]"
   ]
  },
  {
   "cell_type": "code",
   "execution_count": 34,
   "metadata": {},
   "outputs": [
    {
     "name": "stdout",
     "output_type": "stream",
     "text": [
      "it is a valid phone number\n"
     ]
    }
   ],
   "source": [
    "phone = '412-555-1212'\n",
    "if re.search('\\d{3}-\\d{3}-\\d{4}', phone):\n",
    "    print('it is a valid phone number')\n",
    "else:\n",
    "    print('it is not a valid phone number')"
   ]
  },
  {
   "cell_type": "code",
   "execution_count": 35,
   "metadata": {},
   "outputs": [
    {
     "name": "stdout",
     "output_type": "stream",
     "text": [
      "it is not a valid phone number\n"
     ]
    }
   ],
   "source": [
    "phone = '412-5551-1212'\n",
    "if re.search('\\d{3}-\\d{3}-\\d{4}', phone):\n",
    "    print('it is a valid phone number')\n",
    "else:\n",
    "    print('it is not a valid phone number')"
   ]
  },
  {
   "cell_type": "markdown",
   "metadata": {},
   "source": [
    "# To check if names is a valid name"
   ]
  },
  {
   "cell_type": "code",
   "execution_count": 36,
   "metadata": {},
   "outputs": [],
   "source": [
    "#Note:-\n",
    "#  \\s represennts all spaces [\\f\\n\\r\\t\\v]\n",
    "#  \\S represents all except spaces [^\\f\\n\\r\\t\\v]"
   ]
  },
  {
   "cell_type": "code",
   "execution_count": 37,
   "metadata": {},
   "outputs": [
    {
     "name": "stdout",
     "output_type": "stream",
     "text": [
      "Mark Samuel is a valid name\n"
     ]
    }
   ],
   "source": [
    "name1 = 'Mark Samuel'\n",
    "if re.search('\\w{2,20}\\s\\w{2,20}', name1):\n",
    "    print(\"%s is a valid name\"%name1)\n",
    "else:\n",
    "    print(\"%s is not a valid name\"%name1)"
   ]
  },
  {
   "cell_type": "code",
   "execution_count": 38,
   "metadata": {},
   "outputs": [
    {
     "name": "stdout",
     "output_type": "stream",
     "text": [
      "sreerajva5@gmail.com is not a valid name\n"
     ]
    }
   ],
   "source": [
    "name1 = 'sreerajva5@gmail.com'\n",
    "if re.search('\\w{2,20}\\s\\w{2,20}', name1):\n",
    "    print(\"%s is a valid name\"%name1)\n",
    "else:\n",
    "    print(\"%s is not a valid name\"%name1)"
   ]
  },
  {
   "cell_type": "markdown",
   "metadata": {},
   "source": [
    "# To check if e-mail id is valid"
   ]
  },
  {
   "cell_type": "code",
   "execution_count": 39,
   "metadata": {},
   "outputs": [],
   "source": [
    "# Note:- to check if e-mail id is valid\n",
    "# 1. one to 20 lower or uppercase letters, numbers plus ._%+-\n",
    "# 2. an @ symbol\n",
    "# 3. 2 to 20 lower or uppercase letters, numbers plus .-\n",
    "# 4. A period\n",
    "# 5. 2 to 3 lowercase and uppercase letters"
   ]
  },
  {
   "cell_type": "code",
   "execution_count": 40,
   "metadata": {},
   "outputs": [
    {
     "name": "stdout",
     "output_type": "stream",
     "text": [
      "1 email are valid and shown below\n",
      "['sk@aol.com']\n"
     ]
    }
   ],
   "source": [
    "email = 'sk@aol.com  md@.com @seo.com dc@.com'\n",
    "valid = re.findall('[\\w._%+-]{1,20}@[\\w.-]{2,20}.[A-Za-z]{2,3}', email)\n",
    "count = len(valid)\n",
    "print(\"%d email are valid and shown below\" %count)\n",
    "print(valid)"
   ]
  },
  {
   "cell_type": "markdown",
   "metadata": {},
   "source": [
    "# Web scrapping"
   ]
  },
  {
   "cell_type": "code",
   "execution_count": 41,
   "metadata": {},
   "outputs": [],
   "source": [
    "import urllib.request\n",
    "import re"
   ]
  },
  {
   "cell_type": "code",
   "execution_count": 42,
   "metadata": {},
   "outputs": [],
   "source": [
    "url = 'http://www.summet.com/dmsi/html/codesamples/addresses.html'\n",
    "response = urllib.request.urlopen(url)\n",
    "html = response.read()\n",
    "# print(html)\n",
    "htmlstr = html.decode()\n",
    "# print(htmlstr)"
   ]
  },
  {
   "cell_type": "code",
   "execution_count": 43,
   "metadata": {},
   "outputs": [
    {
     "name": "stdout",
     "output_type": "stream",
     "text": [
      "100\n"
     ]
    }
   ],
   "source": [
    "phone_numbers = re.findall('\\(\\d{3}\\) \\d{3}-\\d{4}', htmlstr)\n",
    "#print(phone_numbers)\n",
    "# names = re.findall('\\w{2,20}\\s\\w{2,20}', htmlstr)\n",
    "print(len(phone_numbers))\n",
    "# print(len(names))"
   ]
  },
  {
   "cell_type": "code",
   "execution_count": 44,
   "metadata": {},
   "outputs": [
    {
     "name": "stdout",
     "output_type": "stream",
     "text": [
      "100\n"
     ]
    }
   ],
   "source": [
    "post_box = re.findall('\\d{5}', htmlstr)\n",
    "print(len(post_box))"
   ]
  },
  {
   "cell_type": "code",
   "execution_count": 45,
   "metadata": {},
   "outputs": [],
   "source": [
    "import pandas as pd"
   ]
  },
  {
   "cell_type": "code",
   "execution_count": 46,
   "metadata": {},
   "outputs": [
    {
     "data": {
      "text/html": [
       "<div>\n",
       "<style scoped>\n",
       "    .dataframe tbody tr th:only-of-type {\n",
       "        vertical-align: middle;\n",
       "    }\n",
       "\n",
       "    .dataframe tbody tr th {\n",
       "        vertical-align: top;\n",
       "    }\n",
       "\n",
       "    .dataframe thead th {\n",
       "        text-align: right;\n",
       "    }\n",
       "</style>\n",
       "<table border=\"1\" class=\"dataframe\">\n",
       "  <thead>\n",
       "    <tr style=\"text-align: right;\">\n",
       "      <th></th>\n",
       "      <th>0</th>\n",
       "    </tr>\n",
       "  </thead>\n",
       "  <tbody>\n",
       "    <tr>\n",
       "      <th>96522</th>\n",
       "      <td>(257) 563-7401</td>\n",
       "    </tr>\n",
       "    <tr>\n",
       "      <th>20620</th>\n",
       "      <td>(372) 587-2335</td>\n",
       "    </tr>\n",
       "    <tr>\n",
       "      <th>11523</th>\n",
       "      <td>(786) 713-8616</td>\n",
       "    </tr>\n",
       "    <tr>\n",
       "      <th>39531</th>\n",
       "      <td>(793) 151-6230</td>\n",
       "    </tr>\n",
       "    <tr>\n",
       "      <th>47096</th>\n",
       "      <td>(492) 709-6392</td>\n",
       "    </tr>\n",
       "  </tbody>\n",
       "</table>\n",
       "</div>"
      ],
      "text/plain": [
       "                    0\n",
       "96522  (257) 563-7401\n",
       "20620  (372) 587-2335\n",
       "11523  (786) 713-8616\n",
       "39531  (793) 151-6230\n",
       "47096  (492) 709-6392"
      ]
     },
     "execution_count": 46,
     "metadata": {},
     "output_type": "execute_result"
    }
   ],
   "source": [
    "dict1 = {post_box[n]:phone_numbers[n] for n in range(len(post_box))}\n",
    "#print(dict1)\n",
    "df1 = pd.DataFrame(dict1, index = [0])\n",
    "df2 = df1.T\n",
    "df2.head()"
   ]
  },
  {
   "cell_type": "code",
   "execution_count": 47,
   "metadata": {},
   "outputs": [
    {
     "data": {
      "text/html": [
       "<div>\n",
       "<style scoped>\n",
       "    .dataframe tbody tr th:only-of-type {\n",
       "        vertical-align: middle;\n",
       "    }\n",
       "\n",
       "    .dataframe tbody tr th {\n",
       "        vertical-align: top;\n",
       "    }\n",
       "\n",
       "    .dataframe thead th {\n",
       "        text-align: right;\n",
       "    }\n",
       "</style>\n",
       "<table border=\"1\" class=\"dataframe\">\n",
       "  <thead>\n",
       "    <tr style=\"text-align: right;\">\n",
       "      <th></th>\n",
       "      <th>pin</th>\n",
       "      <th>phone</th>\n",
       "    </tr>\n",
       "  </thead>\n",
       "  <tbody>\n",
       "    <tr>\n",
       "      <th>0</th>\n",
       "      <td>96522</td>\n",
       "      <td>(257) 563-7401</td>\n",
       "    </tr>\n",
       "    <tr>\n",
       "      <th>1</th>\n",
       "      <td>20620</td>\n",
       "      <td>(372) 587-2335</td>\n",
       "    </tr>\n",
       "    <tr>\n",
       "      <th>2</th>\n",
       "      <td>11523</td>\n",
       "      <td>(786) 713-8616</td>\n",
       "    </tr>\n",
       "    <tr>\n",
       "      <th>3</th>\n",
       "      <td>39531</td>\n",
       "      <td>(793) 151-6230</td>\n",
       "    </tr>\n",
       "    <tr>\n",
       "      <th>4</th>\n",
       "      <td>47096</td>\n",
       "      <td>(492) 709-6392</td>\n",
       "    </tr>\n",
       "  </tbody>\n",
       "</table>\n",
       "</div>"
      ],
      "text/plain": [
       "     pin           phone\n",
       "0  96522  (257) 563-7401\n",
       "1  20620  (372) 587-2335\n",
       "2  11523  (786) 713-8616\n",
       "3  39531  (793) 151-6230\n",
       "4  47096  (492) 709-6392"
      ]
     },
     "execution_count": 47,
     "metadata": {},
     "output_type": "execute_result"
    }
   ],
   "source": [
    "datafr = pd.DataFrame(list(dict1.items()), columns=['pin', 'phone'])\n",
    "datafr.head()"
   ]
  },
  {
   "cell_type": "code",
   "execution_count": 49,
   "metadata": {},
   "outputs": [
    {
     "data": {
      "text/plain": [
       "[('96522', '(257) 563-7401'),\n",
       " ('20620', '(372) 587-2335'),\n",
       " ('11523', '(786) 713-8616'),\n",
       " ('39531', '(793) 151-6230'),\n",
       " ('47096', '(492) 709-6392'),\n",
       " ('10855', '(654) 393-5734'),\n",
       " ('08219', '(404) 960-3807'),\n",
       " ('12482', '(314) 244-6306'),\n",
       " ('67708', '(947) 278-5929'),\n",
       " ('98804', '(684) 579-1879'),\n",
       " ('69409', '(389) 737-2852'),\n",
       " ('24975', '(660) 663-4518'),\n",
       " ('38100', '(608) 265-2215'),\n",
       " ('45149', '(959) 119-8364'),\n",
       " ('49854', '(468) 353-2641'),\n",
       " ('19253', '(248) 675-4007'),\n",
       " ('02913', '(939) 353-1107'),\n",
       " ('09289', '(570) 873-7090'),\n",
       " ('93373', '(302) 259-2375'),\n",
       " ('20783', '(717) 450-4729'),\n",
       " ('90255', '(453) 391-4650'),\n",
       " ('37547', '(559) 104-5475'),\n",
       " ('48432', '(387) 142-9434'),\n",
       " ('58563', '(516) 745-4496'),\n",
       " ('93479', '(326) 677-3419'),\n",
       " ('30309', '(746) 679-2470'),\n",
       " ('51324', '(455) 430-0989'),\n",
       " ('92358', '(490) 936-4694'),\n",
       " ('19759', '(985) 834-8285'),\n",
       " ('55797', '(662) 661-1446'),\n",
       " ('37232', '(802) 668-8240'),\n",
       " ('50654', '(477) 768-9247'),\n",
       " ('31626', '(791) 239-9057'),\n",
       " ('43526', '(832) 109-0213'),\n",
       " ('95302', '(837) 196-3274'),\n",
       " ('29738', '(268) 442-2428'),\n",
       " ('54886', '(850) 676-5117'),\n",
       " ('77373', '(861) 546-5032'),\n",
       " ('11292', '(176) 805-4108'),\n",
       " ('73585', '(715) 912-6931'),\n",
       " ('87535', '(993) 554-0563'),\n",
       " ('77382', '(357) 616-5411'),\n",
       " ('35282', '(121) 347-0086'),\n",
       " ('82776', '(304) 506-6314'),\n",
       " ('92508', '(425) 288-2332'),\n",
       " ('85794', '(145) 987-4962'),\n",
       " ('19408', '(187) 582-9707'),\n",
       " ('08609', '(750) 558-3965'),\n",
       " ('31522', '(492) 467-3131'),\n",
       " ('58521', '(774) 914-2510'),\n",
       " ('81202', '(888) 106-8550'),\n",
       " ('10626', '(539) 567-3573'),\n",
       " ('58520', '(693) 337-2849'),\n",
       " ('57692', '(545) 604-9386'),\n",
       " ('04645', '(221) 156-5026'),\n",
       " ('26278', '(414) 876-0865'),\n",
       " ('69679', '(932) 726-8645'),\n",
       " ('03869', '(726) 710-9826'),\n",
       " ('55246', '(622) 594-1662'),\n",
       " ('87323', '(948) 600-8503'),\n",
       " ('84872', '(605) 900-7508'),\n",
       " ('41329', '(716) 977-5775'),\n",
       " ('30135', '(368) 239-8275'),\n",
       " ('99602', '(725) 342-0650'),\n",
       " ('91750', '(711) 993-5187'),\n",
       " ('76865', '(882) 399-5084'),\n",
       " ('73490', '(287) 755-9948'),\n",
       " ('63725', '(659) 551-3389'),\n",
       " ('96892', '(275) 730-6868'),\n",
       " ('22767', '(725) 757-4047'),\n",
       " ('77987', '(314) 882-1496'),\n",
       " ('43841', '(639) 360-7590'),\n",
       " ('40684', '(168) 222-1592'),\n",
       " ('03828', '(896) 303-1164'),\n",
       " ('50710', '(203) 982-6130'),\n",
       " ('66309', '(906) 217-1470'),\n",
       " ('67973', '(614) 514-1269'),\n",
       " ('71983', '(763) 409-5446'),\n",
       " ('79637', '(836) 292-5324'),\n",
       " ('06963', '(926) 709-3295'),\n",
       " ('07367', '(963) 356-9268'),\n",
       " ('68999', '(736) 522-8584'),\n",
       " ('73510', '(410) 483-0352'),\n",
       " ('53700', '(252) 204-1434'),\n",
       " ('48247', '(874) 886-4174'),\n",
       " ('12657', '(581) 379-7573'),\n",
       " ('56618', '(983) 632-8597'),\n",
       " ('28423', '(295) 983-3476'),\n",
       " ('97020', '(873) 392-8802'),\n",
       " ('93490', '(360) 669-3923'),\n",
       " ('62401', '(840) 987-9449'),\n",
       " ('05182', '(422) 517-6053'),\n",
       " ('87065', '(126) 940-2753'),\n",
       " ('92611', '(427) 930-5255'),\n",
       " ('88317', '(689) 721-5145'),\n",
       " ('36734', '(676) 334-2174'),\n",
       " ('70863', '(437) 994-5270'),\n",
       " ('19587', '(564) 908-6970'),\n",
       " ('07528', '(577) 333-6244'),\n",
       " ('48580', '(655) 840-6139')]"
      ]
     },
     "execution_count": 49,
     "metadata": {},
     "output_type": "execute_result"
    }
   ],
   "source": [
    "list(dict1.items())"
   ]
  },
  {
   "cell_type": "code",
   "execution_count": 80,
   "metadata": {},
   "outputs": [
    {
     "name": "stdout",
     "output_type": "stream",
     "text": [
      "ok: [192.168.1.1] => {\n",
      "    \"OS\": \"Ubuntu(Core) \"\n",
      "\n",
      "ok: [192.168.1.2] => {\n",
      "    \"OS\": \"Ubuntu (Core) \"  \n",
      "\n",
      "ok: [192.168.1.3] => {\n",
      "    \"OS\": \"CentOS (Core) \"\n",
      "\n",
      "ok: [192.168.1.3] => {\n",
      "    \"OS\":\"CentOS (Core) \"  \n",
      "\n",
      "ok: [192.168.1.5] => {\n",
      "    \"OS\": \"Red Hat(Core) \"\n",
      "\n",
      "ok: [192.168.1.6] => {\n",
      "    \"OS\": \"CentOS (Core) \"  \n",
      "\n"
     ]
    }
   ],
   "source": [
    "FILENAME = r'C:\\Users\\makka\\Desktop\\raw.txt'\n",
    "with open(FILENAME, \"r\") as file:\n",
    "    #lines = file.read()\n",
    "    for line in file:\n",
    "        line = line.rstrip(\"\\n\")\n",
    "        #print (line)\n",
    "        s = line.split('}')[-1]\n",
    "        print (s)\n",
    "        "
   ]
  },
  {
   "cell_type": "code",
   "execution_count": 138,
   "metadata": {},
   "outputs": [],
   "source": [
    "f = open(r'C:\\Users\\makka\\Desktop\\raw.txt', 'r')\n",
    "s = f.read()\n",
    "list1 = s.split('\\n')\n",
    "ip_list = []\n",
    "os_list = []\n",
    "for i in list1[::3]:\n",
    "    ip_list.append(i)\n",
    "for i in list1[1::3]:\n",
    "    os_list.append(i)\n",
    "y = [z[10:25] for z in os_list]\n",
    "os_l = [x.strip(' ').replace('\"','').replace(' ','') for x in y]\n",
    "ip_l = [z[5:18] for z in ip_list]\n",
    "ip_l_rep = [x.strip(' ').replace(']','') for x in ip_l]\n"
   ]
  },
  {
   "cell_type": "code",
   "execution_count": 139,
   "metadata": {},
   "outputs": [],
   "source": [
    "# my = {}\n",
    "# for i,j in zip(ip_l_rep,os_l):\n",
    "#     my[i] = j\n",
    "#m = {ip_l_rep[n]:os_l[n] for n in range(len(os_l))}"
   ]
  },
  {
   "cell_type": "code",
   "execution_count": 140,
   "metadata": {},
   "outputs": [
    {
     "data": {
      "text/plain": [
       "['Ubuntu(Core)',\n",
       " 'Ubuntu(Core)',\n",
       " 'CentOS(Core)',\n",
       " 'CentOS(Core)',\n",
       " 'RedHat(Core)',\n",
       " 'CentOS(Core)']"
      ]
     },
     "execution_count": 140,
     "metadata": {},
     "output_type": "execute_result"
    }
   ],
   "source": [
    "os_l"
   ]
  },
  {
   "cell_type": "code",
   "execution_count": 141,
   "metadata": {},
   "outputs": [
    {
     "data": {
      "text/plain": [
       "['192.168.1.1',\n",
       " '192.168.1.2',\n",
       " '192.168.1.3',\n",
       " '192.168.1.3',\n",
       " '192.168.1.5',\n",
       " '192.168.1.6']"
      ]
     },
     "execution_count": 141,
     "metadata": {},
     "output_type": "execute_result"
    }
   ],
   "source": [
    "ip_l_rep"
   ]
  },
  {
   "cell_type": "code",
   "execution_count": 142,
   "metadata": {},
   "outputs": [],
   "source": [
    "m = {ip_l_rep[n]:os_l[n] for n in range(len(os_l))}"
   ]
  },
  {
   "cell_type": "code",
   "execution_count": 143,
   "metadata": {},
   "outputs": [
    {
     "data": {
      "text/plain": [
       "{'192.168.1.1': 'Ubuntu(Core)',\n",
       " '192.168.1.2': 'Ubuntu(Core)',\n",
       " '192.168.1.3': 'CentOS(Core)',\n",
       " '192.168.1.5': 'RedHat(Core)',\n",
       " '192.168.1.6': 'CentOS(Core)'}"
      ]
     },
     "execution_count": 143,
     "metadata": {},
     "output_type": "execute_result"
    }
   ],
   "source": [
    "m"
   ]
  },
  {
   "cell_type": "code",
   "execution_count": 144,
   "metadata": {},
   "outputs": [
    {
     "data": {
      "text/plain": [
       "{'192.168.1.1': 'Ubuntu(Core)',\n",
       " '192.168.1.2': 'Ubuntu(Core)',\n",
       " '192.168.1.3': 'CentOS(Core)',\n",
       " '192.168.1.5': 'RedHat(Core)',\n",
       " '192.168.1.6': 'CentOS(Core)'}"
      ]
     },
     "execution_count": 144,
     "metadata": {},
     "output_type": "execute_result"
    }
   ],
   "source": [
    "{ip_l_rep[n]:os_l[n] for n in range(len(os_l))}"
   ]
  },
  {
   "cell_type": "code",
   "execution_count": 20,
   "metadata": {},
   "outputs": [
    {
     "data": {
      "text/plain": [
       "'Salut  Comment ca va ?'"
      ]
     },
     "execution_count": 20,
     "metadata": {},
     "output_type": "execute_result"
    }
   ],
   "source": [
    "import string\n",
    "s = \"Salut\\n\\tComment ca va ?\"\n",
    "t = str.maketrans(\"\\n\",\" \")\n",
    "y = str.maketrans(\"\\t\",\" \")\n",
    "#z = str.maketrans(\"\\n\\t\",\"  \")\n",
    "s = s.translate(t).translate(y)\n",
    "s"
   ]
  },
  {
   "cell_type": "code",
   "execution_count": 23,
   "metadata": {},
   "outputs": [
    {
     "data": {
      "text/plain": [
       "'Salut Comment ca va ?'"
      ]
     },
     "execution_count": 23,
     "metadata": {},
     "output_type": "execute_result"
    }
   ],
   "source": [
    "m = \"Salut\\n\\tComment ca va ?\"\n",
    "' '.join(m.split())"
   ]
  },
  {
   "cell_type": "code",
   "execution_count": 24,
   "metadata": {},
   "outputs": [
    {
     "data": {
      "text/plain": [
       "'Hello World Hi There'"
      ]
     },
     "execution_count": 24,
     "metadata": {},
     "output_type": "execute_result"
    }
   ],
   "source": [
    "m = '''Hello  World \\t\\n\\r\\tHi There'''\n",
    "' '.join(m.split())"
   ]
  },
  {
   "cell_type": "code",
   "execution_count": 25,
   "metadata": {},
   "outputs": [
    {
     "name": "stdout",
     "output_type": "stream",
     "text": [
      "{'Cardname': 2, 'Cardname Two': 3, 'Cardname Three': 1}\n"
     ]
    }
   ],
   "source": [
    "import re\n",
    "\n",
    "regex = re.compile(r'(\\d*)([A-Za-z ]+)$')\n",
    "card_list = [\"2 Cardname\", \"3 Cardname Two\", \"Cardname Three\"]\n",
    "card_dict = {}\n",
    "\n",
    "for quantity, name in (regex.match(card).groups() for card in card_list):\n",
    "    if not quantity:\n",
    "        quantity = 1\n",
    "    card_dict[name.strip()] = int(quantity)\n",
    "\n",
    "print(card_dict)"
   ]
  },
  {
   "cell_type": "code",
   "execution_count": 42,
   "metadata": {},
   "outputs": [
    {
     "name": "stdout",
     "output_type": "stream",
     "text": [
      "['192.168.1.1', '192.168.1.2/32', '192.168.1.5', '192.168.1.7', 'reject', 'any', 'reject', '192.168.1.1/32', 'reject', 'any', '172.168.1.4', '172.168.1.4', 'reject']\n",
      "True\n"
     ]
    }
   ],
   "source": [
    "import re\n",
    "\n",
    "string_ = '''192.168.1.1,192.168.1.2/32,192.168.1.5-192.168.1.7,reject,any,\n",
    "reject,192.168.1.1/32,reject,any,\n",
    "172.168.1.4-172.168.1.4,reject'''\n",
    "result = re.findall('\\d{1,3}\\.\\d{1,3}\\.\\d{1,3}\\.\\d{1,3}\\/?\\d{0,}|[any|reject]+', string_)\n",
    "print(result)\n",
    "if result :\n",
    "    print (True)"
   ]
  },
  {
   "cell_type": "code",
   "execution_count": 103,
   "metadata": {},
   "outputs": [],
   "source": [
    "s = '''\n",
    "text1\n",
    "text2\n",
    "http://url.com/bla1/blah1/text22\n",
    "text3\n",
    "'''"
   ]
  },
  {
   "cell_type": "code",
   "execution_count": 131,
   "metadata": {},
   "outputs": [
    {
     "name": "stdout",
     "output_type": "stream",
     "text": [
      "list ['text1', 'text2', 'text3']\n",
      "text1\n",
      "text2\n",
      "text3\n"
     ]
    }
   ],
   "source": [
    "g = re.findall(r'^(?!http).*(text\\d+)',s, flags=re.MULTILINE)\n",
    "print ('list',g)\n",
    "for i in g:\n",
    "    #print ('elements')\n",
    "    print (i)"
   ]
  },
  {
   "cell_type": "code",
   "execution_count": 217,
   "metadata": {},
   "outputs": [
    {
     "data": {
      "text/plain": [
       "['15.5(1)SY2', '03.08.07.E']"
      ]
     },
     "execution_count": 217,
     "metadata": {},
     "output_type": "execute_result"
    }
   ],
   "source": [
    "s = '''\n",
    "Output 1: Cisco IOS Software, s2t54 Software (s2t54-ADVIPSERVICESK9-M), Version 15.5(1)SY2, RELEASE SOFTWARE (fc6) ROM: System Bootstrap, Version 12.2(50r)SYS3, RELEASE SOFTWARE (fc1) CPU: MPC8572_E, Version: 2.2, (0x80E80022) CORE: E500, Version: 3.0, (0x80210030) \n",
    "\n",
    "Output 2: Cisco IOS Software, IOS-XE Software, Catalyst 4500 L3 Switch Software (cat4500es8-UNIVERSALK9-M), Version 03.08.07.E RELEASE SOFTWARE (fc2) licensed under the GNU General Public License (\"GPL\") Version 2.0. The software code licensed under GPL Version 2.0 is free software that comes GPL code under the terms of GPL Version 2.0.\n",
    "'''\n",
    "re.findall(r'Version\\s+([^,\\s]+).+', s)\n",
    "#re.findall(r'Version\\s*(.+?)[\\s|,]', s)\n",
    "# Version - matches Version literally\n",
    "\n",
    "# \\s+ - matches one or more of white spaces\n",
    "\n",
    "# ([^,\\s]+) - match one or more characters other from whitespace \\s or comma , and store it inside first capturing group\n",
    "\n",
    "# .+ - match one or more of any characters (except newline), this is to consume rest of the output\n",
    "#  and prevent from matching multiple versions in one output"
   ]
  },
  {
   "cell_type": "code",
   "execution_count": 218,
   "metadata": {},
   "outputs": [
    {
     "data": {
      "text/plain": [
       "['Mak', 'Mak1', 'Mak2']"
      ]
     },
     "execution_count": 218,
     "metadata": {},
     "output_type": "execute_result"
    }
   ],
   "source": [
    "m = '''\n",
    "Name Mak How are you Name non Name anonymouse\n",
    "Name Mak1 How are you Name non1\n",
    "Name Mak2 How are you Name non2\n",
    "'''\n",
    "re.findall(r'(?m)^Name (\\w+)', m)\n",
    "['Mak', 'Mak1', 'Mak2']"
   ]
  },
  {
   "cell_type": "code",
   "execution_count": 220,
   "metadata": {},
   "outputs": [
    {
     "name": "stdout",
     "output_type": "stream",
     "text": [
      "['Mak', 'Mak1', 'Mak2']\n"
     ]
    }
   ],
   "source": [
    "print([line.split()[1] for line in m.splitlines() if line.startswith('Name')])"
   ]
  },
  {
   "cell_type": "code",
   "execution_count": 224,
   "metadata": {},
   "outputs": [
    {
     "data": {
      "text/plain": [
       "['Mak', 'Mak1', 'Mak2']"
      ]
     },
     "execution_count": 224,
     "metadata": {},
     "output_type": "execute_result"
    }
   ],
   "source": [
    "re.findall(r'Name\\s+([^\\s]+).+', m)\n",
    "# Name - matches Name literally\n",
    "\n",
    "# \\s+ - matches one or more of white spaces\n",
    "\n",
    "# ([^,\\s]+) - match one or more characters other from whitespace \\s and store it inside first capturing group\n",
    "\n",
    "# .+ - match one or more of any characters (except newline)"
   ]
  },
  {
   "cell_type": "code",
   "execution_count": 1,
   "metadata": {},
   "outputs": [
    {
     "data": {
      "text/plain": [
       "False"
      ]
     },
     "execution_count": 1,
     "metadata": {},
     "output_type": "execute_result"
    }
   ],
   "source": [
    "import re\n",
    "string_ = '''8080,102-2929,any\n",
    "any,8080-3939,3939'''\n",
    "bool(re.search('^(?:\\d+|any)(?:,(?:\\d+|any))*$', string_))"
   ]
  },
  {
   "cell_type": "code",
   "execution_count": 4,
   "metadata": {},
   "outputs": [
    {
     "name": "stdout",
     "output_type": "stream",
     "text": [
      "False\n"
     ]
    }
   ],
   "source": [
    "string_ = '''8080,102-2929,any\n",
    "any,8080-3939,,3939'''\n",
    "rx_line = r'(?:\\d+(?:-\\d+)?|any)(?:,(?:\\d+(?:-\\d+)?|any))*'.format(r'(?:\\d+(?:-\\d+)?|any)')\n",
    "print(bool(re.search('^(?:\\d+(?:-\\d+)?|any)(?:,(?:\\d+(?:-\\d+)?|any))*(?:\\r?\\n(?:\\d+(?:-\\d+)?|any)(?:,(?:\\d+(?:-\\d+)?|any))*)*$'.format(rx_line), string_)))"
   ]
  },
  {
   "cell_type": "code",
   "execution_count": 44,
   "metadata": {},
   "outputs": [
    {
     "name": "stdout",
     "output_type": "stream",
     "text": [
      "<re.Match object; span=(0, 17), match='text1\\ntext2\\ntext3'>\n"
     ]
    }
   ],
   "source": [
    "text = '''text1\n",
    "text2\n",
    "text3\n",
    "#text4\n",
    "text5'''\n",
    "print(re.search('(?s)\\A.*(?=\\n#)', text))\n",
    "#re.search(r'(?sm)\\A(.*?)\\n.+$', text)\n",
    "#print(re.search('(?sm)\\A(.*?)\\n(?=_)', text))"
   ]
  },
  {
   "cell_type": "code",
   "execution_count": 45,
   "metadata": {},
   "outputs": [
    {
     "name": "stdout",
     "output_type": "stream",
     "text": [
      "ATGCCAGGCTAGCTTATTTAA\n"
     ]
    }
   ],
   "source": [
    "seq=\"ATGCCAGGCTAGCTTATTTAA\"\n",
    "pattern = re.compile(r\"(ATG[ACGT]*(TAG|TAA|TGA))\")\n",
    "for match in re.finditer(pattern, seq):\n",
    "    coding = match.group(1)\n",
    "    print(coding)"
   ]
  },
  {
   "cell_type": "code",
   "execution_count": 76,
   "metadata": {},
   "outputs": [
    {
     "data": {
      "text/plain": [
       "[('ATGCCAGGCTAGCTTATT', 'TAA')]"
      ]
     },
     "execution_count": 76,
     "metadata": {},
     "output_type": "execute_result"
    }
   ],
   "source": [
    "re.findall('(?=(ATG.*(?=(TAA|TAG))))','ATGCCAGGCTAGCTTATTTAA')"
   ]
  },
  {
   "cell_type": "code",
   "execution_count": 75,
   "metadata": {},
   "outputs": [],
   "source": [
    "#(?=...) matches if ... matches next, but doesn’t consume any of the string. This is called a lookahead assertion. \n",
    "#For example, Isaac (?=Asimov) will match 'Isaac ' only if it’s followed by 'Asimov'."
   ]
  },
  {
   "cell_type": "code",
   "execution_count": 80,
   "metadata": {},
   "outputs": [
    {
     "data": {
      "text/plain": [
       "[('ATGCCAGGCTAGCTTATTTAA', 'ATGCCAGGCTAG')]"
      ]
     },
     "execution_count": 80,
     "metadata": {},
     "output_type": "execute_result"
    }
   ],
   "source": [
    "re.findall('(?=(ATG[ATCG]*(?:T(?:A[AG]|GA))))(ATG[ATCG]*?(?:T(?:A[AG]|GA)))','ATGCCAGGCTAGCTTATTTAA')"
   ]
  },
  {
   "cell_type": "code",
   "execution_count": 96,
   "metadata": {},
   "outputs": [
    {
     "name": "stdout",
     "output_type": "stream",
     "text": [
      "['BBA', 'BBADA', 'BA', 'BADA']\n"
     ]
    }
   ],
   "source": [
    "def find_substrings(data, start, end):\n",
    "    result = []\n",
    "    s_len = len(start)  # a shortcut for `start` length\n",
    "    e_len = len(end)  # a shortcut for `end` length\n",
    "    current_pos = data.find(start)  # find the first occurrence of `start`\n",
    "    while current_pos != -1:  # loop while we can find `start` in our data\n",
    "        # find the first occurrence of `end` after the current occurrence of `start`\n",
    "        end_pos = data.find(end, current_pos + s_len)\n",
    "        while end_pos != -1:  # loop while we can find `end` after the current `start`\n",
    "            end_pos += e_len  # just so we include the selected substring\n",
    "            result.append(data[current_pos:end_pos])  # add the current substring\n",
    "            end_pos = data.find(end, end_pos)  # find the next `end` after the curr. `start`\n",
    "        current_pos = data.find(start, current_pos + s_len)  # find the next `start`\n",
    "    return result\n",
    "substrings = find_substrings(\"BBADA\", \"B\", \"A\")\n",
    "substrings1 = find_substrings(\"ATGCCAGGCTAGCTTATTTAA\", \"ATG\", \"TAA\")\n",
    "substrings2 = find_substrings(\"ATGCCAGGCTAGCTTATTTAA\", \"ATG\", \"TAG\")\n",
    "\n",
    "print (substrings)"
   ]
  },
  {
   "cell_type": "code",
   "execution_count": 104,
   "metadata": {},
   "outputs": [
    {
     "name": "stdout",
     "output_type": "stream",
     "text": [
      "['Hi this is', 'ACT I. SCENE 1', 'and', 'SCENE 2', 'and this is', 'ACT II. SCENE 1', 'and', 'SCENE 2', 'and more']\n"
     ]
    }
   ],
   "source": [
    "inp = \"Hi this is ACT I. SCENE 1 and SCENE 2 and this is ACT II. SCENE 1 and SCENE 2 and more\"\n",
    "parts = re.findall(r'[A-Z]{2,}(?: [A-Z0-9.]+)*|(?![A-Z]{2})\\w+(?: (?![A-Z]{2})\\w+)*', inp)\n",
    "print(parts)"
   ]
  },
  {
   "cell_type": "code",
   "execution_count": 118,
   "metadata": {},
   "outputs": [
    {
     "name": "stdout",
     "output_type": "stream",
     "text": [
      "['UL']\n",
      "['UL']\n"
     ]
    }
   ],
   "source": [
    "test1 = '''dddf.index.php?test=1&list=UL'''\n",
    "test2 = '''index.php?L'''\n",
    "\n",
    "test = re.findall(r'[&?]list=([^&]*)', test1)\n",
    "test_ = re.findall(r'[&?]list=(.*?)(?=&|$)', test1)\n",
    "\n",
    "print(test)\n",
    "print(test_)"
   ]
  },
  {
   "cell_type": "code",
   "execution_count": 136,
   "metadata": {},
   "outputs": [
    {
     "data": {
      "text/plain": [
       "('cat ',)"
      ]
     },
     "execution_count": 136,
     "metadata": {},
     "output_type": "execute_result"
    }
   ],
   "source": [
    "re.match(r'me_start: ([\\s\\S]{1,}?)(?:end_1|end_2|end3)', 'me_start: cat end_1 dog end_2 ').groups()"
   ]
  },
  {
   "cell_type": "code",
   "execution_count": 142,
   "metadata": {},
   "outputs": [
    {
     "data": {
      "text/plain": [
       "['one', 'two', '3.4', '5,6', 'seven', 'eight', 'nine', 'ten']"
      ]
     },
     "execution_count": 142,
     "metadata": {},
     "output_type": "execute_result"
    }
   ],
   "source": [
    "s = \"one two 3.4 5,6 seven.eight nine,ten\"\n",
    "re.split('\\s|(?<!\\d)[,.]|[,.](?!\\d)', s)"
   ]
  },
  {
   "cell_type": "code",
   "execution_count": 146,
   "metadata": {},
   "outputs": [
    {
     "data": {
      "text/plain": [
       "'(1 & 0) & 0'"
      ]
     },
     "execution_count": 146,
     "metadata": {},
     "output_type": "execute_result"
    }
   ],
   "source": [
    "expression = '(1 & 2) & 3'\n",
    "d = {1: '1', 2: '0', 3: '0'} \n",
    "\n",
    "re.sub('(\\d+)', lambda x: d[int(x.group(1))], expression)"
   ]
  },
  {
   "cell_type": "code",
   "execution_count": 148,
   "metadata": {},
   "outputs": [
    {
     "data": {
      "text/plain": [
       "['2019', '2019']"
      ]
     },
     "execution_count": 148,
     "metadata": {},
     "output_type": "execute_result"
    }
   ],
   "source": [
    "s1 = '2019 2019A'\n",
    "re.findall(r'\\d+',s1)"
   ]
  },
  {
   "cell_type": "code",
   "execution_count": 150,
   "metadata": {},
   "outputs": [
    {
     "name": "stdout",
     "output_type": "stream",
     "text": [
      "(34, 58)\n"
     ]
    }
   ],
   "source": [
    "pattern = re.compile(r\"(\\d{1,4})\\D+(\\d{1,4})\")\n",
    "print (tuple([ int(x) for x in list(pattern.search('34, 58').groups()) ]))"
   ]
  },
  {
   "cell_type": "code",
   "execution_count": 6,
   "metadata": {},
   "outputs": [
    {
     "data": {
      "text/plain": [
       "['no sre kam']"
      ]
     },
     "execution_count": 6,
     "metadata": {},
     "output_type": "execute_result"
    }
   ],
   "source": [
    "s3 = 'ano sre kam'\n",
    "re.findall('[^aeiou].+',s3)"
   ]
  },
  {
   "cell_type": "code",
   "execution_count": 7,
   "metadata": {},
   "outputs": [
    {
     "data": {
      "text/plain": [
       "[]"
      ]
     },
     "execution_count": 7,
     "metadata": {},
     "output_type": "execute_result"
    }
   ],
   "source": [
    "re.findall(r'^(?!a*)',s3)"
   ]
  },
  {
   "cell_type": "code",
   "execution_count": 18,
   "metadata": {},
   "outputs": [
    {
     "data": {
      "text/plain": [
       "[' sre', ' kam', ' efg']"
      ]
     },
     "execution_count": 18,
     "metadata": {},
     "output_type": "execute_result"
    }
   ],
   "source": [
    "s4 = 'ano sre kam efg'\n",
    "re.findall(r'\\b[^aeiou]\\w+',s4)"
   ]
  },
  {
   "cell_type": "code",
   "execution_count": 25,
   "metadata": {},
   "outputs": [
    {
     "data": {
      "text/plain": [
       "['sre', 'kam']"
      ]
     },
     "execution_count": 25,
     "metadata": {},
     "output_type": "execute_result"
    }
   ],
   "source": [
    "s4 = 'ano sre kam efg'\n",
    "re.findall(r'\\b[^aeiou ]\\w+',s4)"
   ]
  },
  {
   "cell_type": "code",
   "execution_count": 32,
   "metadata": {},
   "outputs": [
    {
     "data": {
      "text/plain": [
       "['kam']"
      ]
     },
     "execution_count": 32,
     "metadata": {},
     "output_type": "execute_result"
    }
   ],
   "source": [
    "s4 = 'ano sre kam efg'\n",
    "re.findall(r'\\b[^aeiou ]\\w+[^aeiou ]\\b',s4)"
   ]
  },
  {
   "cell_type": "code",
   "execution_count": 33,
   "metadata": {},
   "outputs": [
    {
     "data": {
      "text/plain": [
       "['sre']"
      ]
     },
     "execution_count": 33,
     "metadata": {},
     "output_type": "execute_result"
    }
   ],
   "source": [
    "s4 = 'ano sre kam efg'\n",
    "re.findall(r'\\b[^aeiou ]\\w+[aeiou]\\b',s4)"
   ]
  },
  {
   "cell_type": "code",
   "execution_count": 34,
   "metadata": {},
   "outputs": [
    {
     "data": {
      "text/plain": [
       "['aa']"
      ]
     },
     "execution_count": 34,
     "metadata": {},
     "output_type": "execute_result"
    }
   ],
   "source": [
    "s5 = 'aaa'\n",
    "re.findall(r'aa',s5)"
   ]
  },
  {
   "cell_type": "code",
   "execution_count": 37,
   "metadata": {},
   "outputs": [
    {
     "data": {
      "text/plain": [
       "['car', 'car']"
      ]
     },
     "execution_count": 37,
     "metadata": {},
     "output_type": "execute_result"
    }
   ],
   "source": [
    "s6 = 'carpet and car'\n",
    "re.findall(r'car|carpet',s6)"
   ]
  },
  {
   "cell_type": "code",
   "execution_count": 51,
   "metadata": {},
   "outputs": [
    {
     "data": {
      "text/plain": [
       "['car', 'car']"
      ]
     },
     "execution_count": 51,
     "metadata": {},
     "output_type": "execute_result"
    }
   ],
   "source": [
    "s6 = 'carpet and car'\n",
    "re.findall(r'car|carpet',s6)"
   ]
  },
  {
   "cell_type": "code",
   "execution_count": 55,
   "metadata": {},
   "outputs": [
    {
     "data": {
      "text/plain": [
       "['carpet', 'car']"
      ]
     },
     "execution_count": 55,
     "metadata": {},
     "output_type": "execute_result"
    }
   ],
   "source": [
    "s7 = 'carpet and car'\n",
    "re.findall(r'car\\w*',s7)"
   ]
  },
  {
   "cell_type": "code",
   "execution_count": 61,
   "metadata": {},
   "outputs": [
    {
     "data": {
      "text/plain": [
       "['car', 'car']"
      ]
     },
     "execution_count": 61,
     "metadata": {},
     "output_type": "execute_result"
    }
   ],
   "source": [
    "s8 = 'carpet and car'\n",
    "re.findall(r'car|carpet',s8)"
   ]
  },
  {
   "cell_type": "code",
   "execution_count": 58,
   "metadata": {},
   "outputs": [
    {
     "data": {
      "text/plain": [
       "['carpet', 'car']"
      ]
     },
     "execution_count": 58,
     "metadata": {},
     "output_type": "execute_result"
    }
   ],
   "source": [
    "s9 = 'carpet and car'\n",
    "re.findall(r'\\bcar\\w*\\b',s7)"
   ]
  },
  {
   "cell_type": "code",
   "execution_count": 66,
   "metadata": {},
   "outputs": [
    {
     "data": {
      "text/plain": [
       "['carpet', 'car']"
      ]
     },
     "execution_count": 66,
     "metadata": {},
     "output_type": "execute_result"
    }
   ],
   "source": [
    "s10 = 'carpet and car'\n",
    "re.findall(r'\\b(?:car|carpet)\\b',s6)"
   ]
  },
  {
   "cell_type": "code",
   "execution_count": 67,
   "metadata": {},
   "outputs": [
    {
     "data": {
      "text/plain": [
       "['carpet', 'car']"
      ]
     },
     "execution_count": 67,
     "metadata": {},
     "output_type": "execute_result"
    }
   ],
   "source": [
    "re.findall(r'car(?:pet)?',s6)"
   ]
  },
  {
   "cell_type": "code",
   "execution_count": 70,
   "metadata": {},
   "outputs": [
    {
     "data": {
      "text/plain": [
       "['11', '34', '12']"
      ]
     },
     "execution_count": 70,
     "metadata": {},
     "output_type": "execute_result"
    }
   ],
   "source": [
    "s11 = 'carpet11 and34 car12 nn'\n",
    "re.findall(r'\\d+',s11)"
   ]
  },
  {
   "cell_type": "code",
   "execution_count": 95,
   "metadata": {},
   "outputs": [
    {
     "data": {
      "text/plain": [
       "['carpet', 'and', 'car', 'nn']"
      ]
     },
     "execution_count": 95,
     "metadata": {},
     "output_type": "execute_result"
    }
   ],
   "source": [
    "re.findall(r'[a-z]+[^0-9]',s11)"
   ]
  },
  {
   "cell_type": "code",
   "execution_count": 99,
   "metadata": {},
   "outputs": [
    {
     "data": {
      "text/plain": [
       "['carpet', 'and', 'car']"
      ]
     },
     "execution_count": 99,
     "metadata": {},
     "output_type": "execute_result"
    }
   ],
   "source": [
    "re.findall(r'([a-z]+)\\d+',s11)"
   ]
  },
  {
   "cell_type": "code",
   "execution_count": 100,
   "metadata": {},
   "outputs": [
    {
     "data": {
      "text/plain": [
       "[('carpet', '11'), ('and', '34'), ('car', '12')]"
      ]
     },
     "execution_count": 100,
     "metadata": {},
     "output_type": "execute_result"
    }
   ],
   "source": [
    "re.findall(r'([a-z]+)(\\d+)',s11)"
   ]
  },
  {
   "cell_type": "code",
   "execution_count": 101,
   "metadata": {},
   "outputs": [
    {
     "data": {
      "text/plain": [
       "['11', '34', '12']"
      ]
     },
     "execution_count": 101,
     "metadata": {},
     "output_type": "execute_result"
    }
   ],
   "source": [
    "re.findall(r'[a-z]+(\\d+)',s11)"
   ]
  },
  {
   "cell_type": "code",
   "execution_count": 116,
   "metadata": {},
   "outputs": [
    {
     "data": {
      "text/plain": [
       "[]"
      ]
     },
     "execution_count": 116,
     "metadata": {},
     "output_type": "execute_result"
    }
   ],
   "source": [
    "s12 = 'abc a4c 4bc ab4 123'\n",
    "re.findall(r'^([a-z]+)^\\d$',s12)"
   ]
  },
  {
   "cell_type": "code",
   "execution_count": 113,
   "metadata": {},
   "outputs": [
    {
     "data": {
      "text/plain": [
       "['abc a', 'c ', 'bc ab', ' ']"
      ]
     },
     "execution_count": 113,
     "metadata": {},
     "output_type": "execute_result"
    }
   ],
   "source": [
    "re.findall(r'\\D+',s12)"
   ]
  },
  {
   "cell_type": "code",
   "execution_count": 128,
   "metadata": {},
   "outputs": [
    {
     "data": {
      "text/plain": [
       "['4', '4', '4', '123']"
      ]
     },
     "execution_count": 128,
     "metadata": {},
     "output_type": "execute_result"
    }
   ],
   "source": [
    "s12 = 'abc a4c 4bc ab4 123'\n",
    "re.findall(r'\\d+',s12)"
   ]
  },
  {
   "cell_type": "code",
   "execution_count": 126,
   "metadata": {},
   "outputs": [
    {
     "data": {
      "text/plain": [
       "['abc', 'a', 'c', 'bc', 'ab']"
      ]
     },
     "execution_count": 126,
     "metadata": {},
     "output_type": "execute_result"
    }
   ],
   "source": [
    "s12 = 'abc a4c 4bc ab4 123'\n",
    "re.findall(r'([a-z]+)',s12)"
   ]
  },
  {
   "cell_type": "code",
   "execution_count": 142,
   "metadata": {},
   "outputs": [
    {
     "data": {
      "text/plain": [
       "['abc']"
      ]
     },
     "execution_count": 142,
     "metadata": {},
     "output_type": "execute_result"
    }
   ],
   "source": [
    "s12 = 'abc a4c 456 4bc ab4 123'\n",
    "re.findall(r'\\b([a-z]+)\\b',s12)"
   ]
  },
  {
   "cell_type": "code",
   "execution_count": 145,
   "metadata": {},
   "outputs": [
    {
     "data": {
      "text/plain": [
       "['abc a', 'c ', ' ', 'bc ab', ' ']"
      ]
     },
     "execution_count": 145,
     "metadata": {},
     "output_type": "execute_result"
    }
   ],
   "source": [
    "re.findall(r'[^0-9]+',s12)"
   ]
  },
  {
   "cell_type": "code",
   "execution_count": 150,
   "metadata": {},
   "outputs": [
    {
     "data": {
      "text/plain": [
       "['456', '123']"
      ]
     },
     "execution_count": 150,
     "metadata": {},
     "output_type": "execute_result"
    }
   ],
   "source": [
    "re.findall(r'\\b\\d+\\b',s12)"
   ]
  },
  {
   "cell_type": "code",
   "execution_count": 152,
   "metadata": {},
   "outputs": [
    {
     "name": "stdout",
     "output_type": "stream",
     "text": [
      "hello12324 True\n",
      "hello False\n",
      "hello1345252525 True\n",
      "goodbye False\n"
     ]
    }
   ],
   "source": [
    "for s in ['hello12324', 'hello', 'hello1345252525', 'goodbye']:\n",
    "      print (s, s[-1].isdigit())"
   ]
  },
  {
   "cell_type": "code",
   "execution_count": 169,
   "metadata": {},
   "outputs": [],
   "source": [
    "s1 = 'First 1234. Second 5678!'"
   ]
  },
  {
   "cell_type": "code",
   "execution_count": 170,
   "metadata": {},
   "outputs": [
    {
     "data": {
      "text/plain": [
       "['First 1234. Second 5678!']"
      ]
     },
     "execution_count": 170,
     "metadata": {},
     "output_type": "execute_result"
    }
   ],
   "source": [
    "re.findall(r'.+',s1)"
   ]
  },
  {
   "cell_type": "code",
   "execution_count": 171,
   "metadata": {},
   "outputs": [
    {
     "data": {
      "text/plain": [
       "['8']"
      ]
     },
     "execution_count": 171,
     "metadata": {},
     "output_type": "execute_result"
    }
   ],
   "source": [
    "re.findall(r'.+(\\d)+',s1)"
   ]
  },
  {
   "cell_type": "code",
   "execution_count": 172,
   "metadata": {},
   "outputs": [
    {
     "data": {
      "text/plain": [
       "['8']"
      ]
     },
     "execution_count": 172,
     "metadata": {},
     "output_type": "execute_result"
    }
   ],
   "source": [
    "re.findall(r'.+(\\d)+[.!]',s1)"
   ]
  },
  {
   "cell_type": "code",
   "execution_count": 207,
   "metadata": {},
   "outputs": [
    {
     "name": "stdout",
     "output_type": "stream",
     "text": [
      "[12.0, 89.0]\n"
     ]
    }
   ],
   "source": [
    "lines = \"hello 12 hi 89 33F\"\n",
    "import re\n",
    "output = []\n",
    "repl_str = re.compile('^\\d+$')\n",
    "#t = r'\\d+.?\\d*'\n",
    "line = lines.split()\n",
    "for word in line:\n",
    "        match = re.search(repl_str, word)\n",
    "        if match:\n",
    "            output.append(float(match.group(0)))\n",
    "print (output)"
   ]
  },
  {
   "cell_type": "code",
   "execution_count": 178,
   "metadata": {},
   "outputs": [
    {
     "name": "stdout",
     "output_type": "stream",
     "text": [
      "['hello', '12', 'hi', '89']\n"
     ]
    }
   ],
   "source": [
    "print (line)"
   ]
  },
  {
   "cell_type": "code",
   "execution_count": 215,
   "metadata": {},
   "outputs": [
    {
     "data": {
      "text/plain": [
       "['12', '89', '33', '777']"
      ]
     },
     "execution_count": 215,
     "metadata": {},
     "output_type": "execute_result"
    }
   ],
   "source": [
    "re.findall(r'\\d+(?!w+)', \"hello 12 hi 89 33F AC 777\")"
   ]
  },
  {
   "cell_type": "code",
   "execution_count": 224,
   "metadata": {},
   "outputs": [
    {
     "data": {
      "text/plain": [
       "['12', '89', '777']"
      ]
     },
     "execution_count": 224,
     "metadata": {},
     "output_type": "execute_result"
    }
   ],
   "source": [
    "re.findall(r'\\b\\d+\\b', \"hello 12 hi 89 33F AC 777\")"
   ]
  },
  {
   "cell_type": "code",
   "execution_count": null,
   "metadata": {},
   "outputs": [],
   "source": []
  }
 ],
 "metadata": {
  "kernelspec": {
   "display_name": "Python 3",
   "language": "python",
   "name": "python3"
  },
  "language_info": {
   "codemirror_mode": {
    "name": "ipython",
    "version": 3
   },
   "file_extension": ".py",
   "mimetype": "text/x-python",
   "name": "python",
   "nbconvert_exporter": "python",
   "pygments_lexer": "ipython3",
   "version": "3.7.3"
  }
 },
 "nbformat": 4,
 "nbformat_minor": 2
}
