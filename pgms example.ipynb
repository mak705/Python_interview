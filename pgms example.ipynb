{
 "cells": [
  {
   "cell_type": "code",
   "execution_count": 2,
   "metadata": {},
   "outputs": [
    {
     "name": "stdout",
     "output_type": "stream",
     "text": [
      "{1: 'a', 2: 'b'}\n"
     ]
    }
   ],
   "source": [
    "\n",
    "my_map = { 'a': 1, 'b':2 }\n",
    "\n",
    "inv_map = {v: k for k, v in my_map.items()}\n",
    "print (inv_map)"
   ]
  },
  {
   "cell_type": "code",
   "execution_count": 3,
   "metadata": {},
   "outputs": [
    {
     "name": "stdout",
     "output_type": "stream",
     "text": [
      "[5, 7, 9]\n"
     ]
    }
   ],
   "source": [
    "from __future__ import print_function\n",
    "numbers1 = [1, 2, 3]\n",
    "numbers2 = [4, 5, 6]\n",
    "\n",
    "result = (map(lambda x, y: x + y, numbers1, numbers2))\n",
    "print (list(result))"
   ]
  },
  {
   "cell_type": "code",
   "execution_count": 4,
   "metadata": {},
   "outputs": [
    {
     "name": "stdout",
     "output_type": "stream",
     "text": [
      "[x, 3, b]\n"
     ]
    }
   ],
   "source": [
    "mylist = ['x', 3, 'b']\n",
    "print('[%s]' % ', '.join(map(str, mylist)))"
   ]
  },
  {
   "cell_type": "code",
   "execution_count": 5,
   "metadata": {},
   "outputs": [
    {
     "name": "stdout",
     "output_type": "stream",
     "text": [
      "*\r\n",
      "**\r\n",
      "***\r\n",
      "****\r\n",
      "*****\r\n"
     ]
    }
   ],
   "source": [
    "def pypart(n):\n",
    "    for i in range(0, n):\n",
    "        for j in range(0, i+1):\n",
    "            print(\"*\",end=\"\")\n",
    "        print(\"\\r\")\n",
    " \n",
    "# Driver Code\n",
    "n = 5\n",
    "pypart(n)"
   ]
  },
  {
   "cell_type": "code",
   "execution_count": 41,
   "metadata": {},
   "outputs": [
    {
     "name": "stdout",
     "output_type": "stream",
     "text": [
      "  *\n",
      " ***\n",
      "*****\n"
     ]
    }
   ],
   "source": [
    "n = 3 \n",
    "for i in range(0,n):\n",
    "    print ((n-i-1)*' '+(2*i+1)*'*')\n",
    "    "
   ]
  },
  {
   "cell_type": "code",
   "execution_count": 6,
   "metadata": {},
   "outputs": [
    {
     "name": "stdout",
     "output_type": "stream",
     "text": [
      "*\n",
      "**\n",
      "***\n",
      "****\n",
      "*****\n"
     ]
    }
   ],
   "source": [
    "n = 5\n",
    "for i in range(1,n+1):\n",
    "    print (i*'*')"
   ]
  },
  {
   "cell_type": "code",
   "execution_count": 7,
   "metadata": {},
   "outputs": [
    {
     "name": "stdout",
     "output_type": "stream",
     "text": [
      "  *\n",
      " ***\n",
      "*****\n"
     ]
    }
   ],
   "source": [
    "def pyramid(rows):\n",
    "    for i in range(rows):\n",
    "        print (' '*(rows-i-1) + '*'*(2*i+1))\n",
    "\n",
    "pyramid(3)"
   ]
  },
  {
   "cell_type": "code",
   "execution_count": 8,
   "metadata": {},
   "outputs": [
    {
     "data": {
      "text/plain": [
       "'54321'"
      ]
     },
     "execution_count": 8,
     "metadata": {},
     "output_type": "execute_result"
    }
   ],
   "source": [
    "def rev(input):\n",
    "    return ''.join([input[i] for i in range(len(input) - 1, -1,-1)])\n",
    "rev('12345')"
   ]
  },
  {
   "cell_type": "code",
   "execution_count": 9,
   "metadata": {},
   "outputs": [
    {
     "name": "stdout",
     "output_type": "stream",
     "text": [
      "Total instance: 3\n"
     ]
    }
   ],
   "source": [
    "#count no of instance\n",
    "class A:\n",
    "    total = 0\n",
    "    def __init__(self, name):\n",
    "        self.name = name\n",
    "        A.total += 1\n",
    "        \n",
    "    @staticmethod\n",
    "    def status():\n",
    "        print ('Total instance:', A.total)    \n",
    "    \n",
    "a1 = A('d1')\n",
    "a1 = A('dw1')\n",
    "a1 = A('d1')\n",
    "\n",
    "A.status()"
   ]
  },
  {
   "cell_type": "code",
   "execution_count": 10,
   "metadata": {},
   "outputs": [
    {
     "name": "stdout",
     "output_type": "stream",
     "text": [
      "0 0\n",
      "1 1\n",
      "1 1\n",
      "2 2\n",
      "3 3\n",
      "5 5\n",
      "8 8\n",
      "13 13\n",
      "21 21\n",
      "34 34\n"
     ]
    }
   ],
   "source": [
    "def fibi(n):\n",
    "    a , b = 0,1\n",
    "    for i in range(0,n):\n",
    "        a,b = b, a+b\n",
    "    return a\n",
    "def F(n):\n",
    "    if n == 0: return 0\n",
    "    if n == 1: return 1\n",
    "    return F(n-1)+F(n-2)\n",
    "for i in range(10):\n",
    "    print (F(i), fibi(i))\n"
   ]
  },
  {
   "cell_type": "code",
   "execution_count": 11,
   "metadata": {},
   "outputs": [
    {
     "data": {
      "text/plain": [
       "120"
      ]
     },
     "execution_count": 11,
     "metadata": {},
     "output_type": "execute_result"
    }
   ],
   "source": [
    "def factorial(n):\n",
    "    if n == 0:\n",
    "        return 1\n",
    "    else:\n",
    "        return n * factorial(n-1)\n",
    "factorial(5)"
   ]
  },
  {
   "cell_type": "code",
   "execution_count": 12,
   "metadata": {},
   "outputs": [
    {
     "name": "stdout",
     "output_type": "stream",
     "text": [
      "0\n",
      "1\n",
      "1\n",
      "2\n",
      "3\n",
      "5\n",
      "8\n",
      "13\n",
      "21\n",
      "34\n"
     ]
    }
   ],
   "source": [
    "def F(n):\n",
    "    if n == 0: return 0\n",
    "    elif n == 1: return 1\n",
    "    else: return F(n-1)+F(n-2)\n",
    "for i in range(10):\n",
    "    print (F(i))"
   ]
  },
  {
   "cell_type": "code",
   "execution_count": 13,
   "metadata": {},
   "outputs": [
    {
     "name": "stdout",
     "output_type": "stream",
     "text": [
      "[14, 27, 41, 43, 45, 46, 21, 57, 70, 100]\n"
     ]
    }
   ],
   "source": [
    "def bubbleSort(nlist):\n",
    "    for passnum in range(0,len(nlist),1):\n",
    "        for i in range(passnum):\n",
    "            if nlist[i]>nlist[i+1]:\n",
    "                temp = nlist[i]\n",
    "                nlist[i] = nlist[i+1]\n",
    "                nlist[i+1] = temp\n",
    "\n",
    "nlist = [100,14,46,43,27,57,41,45,21,70]\n",
    "bubbleSort(nlist)\n",
    "print(nlist)\n"
   ]
  },
  {
   "cell_type": "code",
   "execution_count": 43,
   "metadata": {},
   "outputs": [
    {
     "name": "stdout",
     "output_type": "stream",
     "text": [
      "[14, 21, 27, 41, 43, 45, 46, 57, 70, 100]\n"
     ]
    }
   ],
   "source": [
    "def bubbleSort(nlist):\n",
    "    for passnum in range(len(nlist) -1, 0 ,-1):\n",
    "        #print (passnum)\n",
    "        for i in range(passnum):\n",
    "            if nlist[i]>nlist[i+1]:\n",
    "                temp = nlist[i]\n",
    "                nlist[i] = nlist[i+1]\n",
    "                nlist[i+1] = temp\n",
    "\n",
    "nlist = [100,14,46,43,27,57,41,45,21,70]\n",
    "bubbleSort(nlist)\n",
    "print(nlist)\n"
   ]
  },
  {
   "cell_type": "code",
   "execution_count": 15,
   "metadata": {},
   "outputs": [
    {
     "name": "stdout",
     "output_type": "stream",
     "text": [
      "{'g': 2, 'o': 3, 'l': 1, 'e': 1, '.': 1, 'c': 1, 'm': 1}\n"
     ]
    }
   ],
   "source": [
    "def char_frequency(str1):\n",
    "    dict = {}\n",
    "    for n in str1:\n",
    "        keys = dict.keys()\n",
    "        if n in keys:\n",
    "            dict[n] += 1\n",
    "        else:\n",
    "            dict[n] = 1\n",
    "    return dict\n",
    "print(char_frequency('google.com'))"
   ]
  },
  {
   "cell_type": "code",
   "execution_count": 16,
   "metadata": {},
   "outputs": [
    {
     "name": "stdout",
     "output_type": "stream",
     "text": [
      "Number of words in the string:\n",
      "2\n",
      "Number of characters in the string:\n",
      "6\n"
     ]
    }
   ],
   "source": [
    "string='hi dsd'\n",
    "char=0\n",
    "word=1\n",
    "for i in string:\n",
    "    char=char+1\n",
    "    if (i==' '):\n",
    "            word=word+1\n",
    "print(\"Number of words in the string:\")\n",
    "print(word)\n",
    "print(\"Number of characters in the string:\")\n",
    "print(char)"
   ]
  },
  {
   "cell_type": "code",
   "execution_count": 17,
   "metadata": {},
   "outputs": [
    {
     "data": {
      "text/plain": [
       "[None, None, None, 2]"
      ]
     },
     "execution_count": 17,
     "metadata": {},
     "output_type": "execute_result"
    }
   ],
   "source": [
    "def firstDuplicateSet(*a):\n",
    "    seen = set()\n",
    "    for i in a:\n",
    "        if i  in seen:\n",
    "            return i\n",
    "        seen.add(i)\n",
    "\n",
    "\n",
    "    return -1\n",
    "firstDuplicateSet(1,4,5,6,6)\n",
    "#firstDuplicateSet(1,4,5,6)\n",
    "a = [1,2,3,2]\n",
    "seen = set()\n",
    "[i if i in seen else seen.add(i) for i in a]"
   ]
  },
  {
   "cell_type": "code",
   "execution_count": 11,
   "metadata": {},
   "outputs": [
    {
     "data": {
      "text/plain": [
       "{2, 3}"
      ]
     },
     "execution_count": 11,
     "metadata": {},
     "output_type": "execute_result"
    }
   ],
   "source": [
    "l = [1,2,3,2,3,5]\n",
    "([x for x in l if l.count(x) == 1])\n",
    "set([x for x in l if l.count(x) > 1])\n"
   ]
  },
  {
   "cell_type": "code",
   "execution_count": null,
   "metadata": {},
   "outputs": [],
   "source": [
    "\n"
   ]
  },
  {
   "cell_type": "code",
   "execution_count": 28,
   "metadata": {},
   "outputs": [
    {
     "data": {
      "text/plain": [
       "2"
      ]
     },
     "execution_count": 28,
     "metadata": {},
     "output_type": "execute_result"
    }
   ],
   "source": [
    "def dup(*a):\n",
    "    seen = set()\n",
    "    for x in a:\n",
    "        if x in seen:\n",
    "            return x\n",
    "        seen.add(x)\n",
    "    print (seen)\n",
    "dup(4,2,2,1,2,3,2,4)"
   ]
  },
  {
   "cell_type": "code",
   "execution_count": 21,
   "metadata": {},
   "outputs": [
    {
     "data": {
      "text/plain": [
       "[2]"
      ]
     },
     "execution_count": 21,
     "metadata": {},
     "output_type": "execute_result"
    }
   ],
   "source": [
    "l=[1,2,3,2]\n",
    "s=set(l)\n",
    "d=[]\n",
    "for x in l:\n",
    "    if x in s:\n",
    "        s.remove(x)\n",
    "    else:\n",
    "        d.append(x)\n",
    "d"
   ]
  },
  {
   "cell_type": "code",
   "execution_count": 22,
   "metadata": {},
   "outputs": [
    {
     "name": "stdout",
     "output_type": "stream",
     "text": [
      "{'The': 1, 'man': 2, 'is': 2, 'awesome,': 1, 'What': 1, 'a': 1, 'he': 1}\n"
     ]
    }
   ],
   "source": [
    "def word_count(str):\n",
    "    counts = dict()\n",
    "    words = str.split()\n",
    "\n",
    "    for word in words:\n",
    "        if word in counts:\n",
    "            counts[word] += 1\n",
    "        else:\n",
    "            counts[word] = 1\n",
    "\n",
    "    return counts\n",
    "\n",
    "print( word_count('The man is awesome, What a man he is'))\n",
    "\n"
   ]
  },
  {
   "cell_type": "code",
   "execution_count": null,
   "metadata": {},
   "outputs": [],
   "source": []
  },
  {
   "cell_type": "code",
   "execution_count": null,
   "metadata": {},
   "outputs": [],
   "source": []
  },
  {
   "cell_type": "code",
   "execution_count": 138,
   "metadata": {},
   "outputs": [
    {
     "data": {
      "text/plain": [
       "{'.': 1, 'c': 1, 'e': 1, 'g': 2, 'l': 1, 'm': 1, 'o': 3}"
      ]
     },
     "execution_count": 138,
     "metadata": {},
     "output_type": "execute_result"
    }
   ],
   "source": [
    "def word_count1(str):\n",
    "    counts = dict()\n",
    "    words = list(str)\n",
    "    for word in words:\n",
    "        if word in counts:\n",
    "            counts[word] += 1\n",
    "        else:\n",
    "            counts[word] = 1\n",
    "\n",
    "    return counts\n",
    "word_count1('google.com')\n",
    "\n"
   ]
  },
  {
   "cell_type": "code",
   "execution_count": 140,
   "metadata": {},
   "outputs": [
    {
     "name": "stdout",
     "output_type": "stream",
     "text": [
      "{'g': 2, 'o': 3, 'l': 1, 'e': 1, '.': 1, 'c': 1, 'm': 1}\n"
     ]
    }
   ],
   "source": [
    "counts = dict()\n",
    "words = 'google.com'\n",
    "for word in words:\n",
    "    if word in counts:\n",
    "         counts[word] += 1\n",
    "    else:\n",
    "         counts[word] = 1\n",
    "print (counts)\n",
    "            \n",
    "        "
   ]
  },
  {
   "cell_type": "code",
   "execution_count": 78,
   "metadata": {},
   "outputs": [],
   "source": []
  },
  {
   "cell_type": "code",
   "execution_count": 32,
   "metadata": {},
   "outputs": [
    {
     "name": "stdout",
     "output_type": "stream",
     "text": [
      "   \n",
      "  * \n",
      " * * \n",
      "* * * \n"
     ]
    }
   ],
   "source": [
    "n =3\n",
    "for i in range(0, n+1):\n",
    "        print(' '*(n-i) + '* '*(i))\n",
    "        #print ((n-i)*' '+i*'* ')\n",
    "\n"
   ]
  },
  {
   "cell_type": "code",
   "execution_count": 132,
   "metadata": {},
   "outputs": [
    {
     "name": "stdout",
     "output_type": "stream",
     "text": [
      "*\n",
      "**\n",
      "***\n"
     ]
    }
   ],
   "source": [
    "n = 3 \n",
    "for i in range(1,n+1):\n",
    "    print ((i)*'*')\n",
    "    "
   ]
  },
  {
   "cell_type": "code",
   "execution_count": 130,
   "metadata": {},
   "outputs": [
    {
     "name": "stdout",
     "output_type": "stream",
     "text": [
      "*\r\n",
      "**\r\n",
      "***\r\n"
     ]
    }
   ],
   "source": [
    "def pypart(n):\n",
    "    for i in range(0, n):\n",
    "        for j in range(0, i+1):\n",
    "            print(\"*\",end=\"\")\n",
    "        print(\"\\r\")\n",
    " \n",
    "# Driver Code\n",
    "n = 3\n",
    "pypart(n)"
   ]
  },
  {
   "cell_type": "code",
   "execution_count": 128,
   "metadata": {},
   "outputs": [
    {
     "name": "stdout",
     "output_type": "stream",
     "text": [
      "          * * * * * * * * * * \n",
      "           * * * * * * * * * \n",
      "            * * * * * * * * \n",
      "             * * * * * * * \n",
      "              * * * * * * \n",
      "               * * * * * \n",
      "                * * * * \n",
      "                 * * * \n",
      "                  * * \n",
      "                   * \n"
     ]
    }
   ],
   "source": [
    "n =10\n",
    "for i in range(0,n):\n",
    "    print((n+i)*' '+(n-i)*'* ')"
   ]
  },
  {
   "cell_type": "code",
   "execution_count": 248,
   "metadata": {},
   "outputs": [
    {
     "name": "stdout",
     "output_type": "stream",
     "text": [
      "User Abbas has been added with id  0\n",
      "User associated with id 0 is  Abbas\n"
     ]
    }
   ],
   "source": [
    "class Person:\n",
    "    name = []\n",
    "\n",
    "    def set_name(self, user_name):\n",
    "        self.name.append(user_name)\n",
    "        return len(self.name) - 1\n",
    "\n",
    "    def get_name(self, user_id):\n",
    "        if user_id >= len(self.name):\n",
    "            return 'There is no such user'\n",
    "        else:\n",
    "            return self.name[user_id]\n",
    "\n",
    "\n",
    "if __name__ == '__main__':\n",
    "    person = Person()\n",
    "    print('User Abbas has been added with id ', person.set_name('Abbas'))\n",
    "    print('User associated with id 0 is ', person.get_name(0))"
   ]
  },
  {
   "cell_type": "code",
   "execution_count": 249,
   "metadata": {},
   "outputs": [
    {
     "data": {
      "text/plain": [
       "True"
      ]
     },
     "execution_count": 249,
     "metadata": {},
     "output_type": "execute_result"
    }
   ],
   "source": [
    "from os.path import isfile\n",
    "isfile('/home/mak/fib.py')\n",
    "import os\n",
    "print(os.path.isdir(\"/home/el\"))\n",
    "print(os.path.exists(\"/home/el/myfile.txt\"))"
   ]
  },
  {
   "cell_type": "code",
   "execution_count": 250,
   "metadata": {},
   "outputs": [
    {
     "name": "stdout",
     "output_type": "stream",
     "text": [
      "/home/mak/fib.y this file not found\n"
     ]
    }
   ],
   "source": [
    "from os.path import isfile\n",
    "filename = '/home/mak/fib.y'\n",
    "if isfile(filename):\n",
    "    f= open(filename)\n",
    "    print ('fileprocessed')\n",
    "    f.close()\n",
    "else:\n",
    "    print (filename, 'this file not found')"
   ]
  },
  {
   "cell_type": "code",
   "execution_count": 45,
   "metadata": {},
   "outputs": [
    {
     "name": "stdout",
     "output_type": "stream",
     "text": [
      "fileprocessed\n"
     ]
    }
   ],
   "source": [
    "from os.path import isfile\n",
    "filename = '/home/mak/sql_qu'\n",
    "try :\n",
    "    f= open(filename)\n",
    "    print ('fileprocessed')\n",
    "    f.close()\n",
    "except:\n",
    "    print (filename, 'this file not found')\n",
    "    \n"
   ]
  },
  {
   "cell_type": "code",
   "execution_count": 161,
   "metadata": {},
   "outputs": [
    {
     "data": {
      "text/plain": [
       "0"
      ]
     },
     "execution_count": 161,
     "metadata": {},
     "output_type": "execute_result"
    }
   ],
   "source": [
    "import os\n",
    "os.system(\"date\")"
   ]
  },
  {
   "cell_type": "code",
   "execution_count": 47,
   "metadata": {},
   "outputs": [
    {
     "name": "stdout",
     "output_type": "stream",
     "text": [
      "Today is  Wed Jul 18 08:45:04 IST 2018\n",
      "\n"
     ]
    }
   ],
   "source": [
    "import os\n",
    "f = os.popen('date')\n",
    "now = f.read()\n",
    "print (\"Today is \", now)"
   ]
  },
  {
   "cell_type": "code",
   "execution_count": 185,
   "metadata": {},
   "outputs": [
    {
     "name": "stdout",
     "output_type": "stream",
     "text": [
      "Today is b'Fri Jul 13 11:32:26 IST 2018\\n'\n"
     ]
    }
   ],
   "source": [
    "import subprocess\n",
    "p = subprocess.Popen(\"date\", stdout=subprocess.PIPE, shell=True)\n",
    "(output, err) = p.communicate()\n",
    "print (\"Today is\", output)\n"
   ]
  },
  {
   "cell_type": "code",
   "execution_count": 10,
   "metadata": {},
   "outputs": [
    {
     "name": "stdout",
     "output_type": "stream",
     "text": [
      "('shop1', 388.6)\n",
      "('shop1', 388.6)\n",
      "('shoshop2', 100.0)\n",
      "('shoshop2', 100.0)\n",
      "('shoshop2', 122.0)\n",
      "('shoshop2', 122.0)\n",
      "('shop2', 392.4)\n",
      "('shop2', 392.4)\n",
      "('shop1', 200.0)\n",
      "('shop1', 200.0)\n"
     ]
    }
   ],
   "source": [
    "from collections import defaultdict\n",
    "shops = [(u'shop1', [u'500', u'70', u'86', u'987', u'300']),\n",
    "         (u'shoshop2', [u'100']), (u'shop3', [u'50', u'90', u'150', u'108', u'200', u'134']), \n",
    "         (u'shop2', [u'700', u'55', u'107', u'800', u'300']), (u'p1', [u'200'])]\n",
    "shop_dict = defaultdict(lambda: defaultdict(int))\n",
    "for s in shops:\n",
    "    \n",
    "    for e in s[1]:\n",
    "        shop_dict[s[0]]['sum'] += int(e)\n",
    "        shop_dict[s[0]]['e'] += 1\n",
    "    for i in range(len(s)):\n",
    "        j = 0\n",
    "        print ((list(set(shop_dict.keys()))[j],shop_dict[s[j]]['sum']/shop_dict[s[j]]['e']))\n",
    "        j+=1\n",
    "    #print (list(shop_dict.keys())[1],shop_dict[s[0]]['sum']/shop_dict[s[0]]['e'])\n",
    "   # i += 1\n",
    "        #print (shop_dict[s[0]]['sum']/shop_dict[s[0]]['e'])\n",
    "        #print (shop_dict[s[0]])\n",
    "\n",
    "    \n",
    "       \n",
    "#for s in shops:\n",
    "    #print (shop_dict[s[0]]['sum']/shop_dict[s[0]]['e'])\n",
    "\n"
   ]
  },
  {
   "cell_type": "code",
   "execution_count": 62,
   "metadata": {},
   "outputs": [
    {
     "data": {
      "text/plain": [
       "['key1', 'key2']"
      ]
     },
     "execution_count": 62,
     "metadata": {},
     "output_type": "execute_result"
    }
   ],
   "source": [
    " dic = {'key1': [\"value1\",  \"value2\"],\n",
    "        'key2': [\"value4\", \"value5\"] }\n",
    "\n",
    "[k for k,v in dic.items() ]"
   ]
  },
  {
   "cell_type": "code",
   "execution_count": 79,
   "metadata": {},
   "outputs": [
    {
     "name": "stdout",
     "output_type": "stream",
     "text": [
      "2\n",
      "3\n"
     ]
    }
   ],
   "source": [
    "a = {\"a\":2,\"b\":3}\n",
    "\n",
    "j = 0\n",
    "for i in a:\n",
    "    print (a[list(a)[int(j)]]) # the first element is here\n",
    "    j += 1\n",
    "    "
   ]
  },
  {
   "cell_type": "code",
   "execution_count": 82,
   "metadata": {},
   "outputs": [
    {
     "data": {
      "text/plain": [
       "['a', 'b']"
      ]
     },
     "execution_count": 82,
     "metadata": {},
     "output_type": "execute_result"
    }
   ],
   "source": [
    "a = {\"a\":2,\"b\":3}\n",
    "[i for i in a]"
   ]
  },
  {
   "cell_type": "code",
   "execution_count": 26,
   "metadata": {},
   "outputs": [
    {
     "data": {
      "text/plain": [
       "'C'"
      ]
     },
     "execution_count": 26,
     "metadata": {},
     "output_type": "execute_result"
    }
   ],
   "source": [
    "my_dict = {\"a\":1, \"b\": 2,\"C\": 2}\n",
    "list(my_dict.keys())[2]"
   ]
  },
  {
   "cell_type": "code",
   "execution_count": 11,
   "metadata": {},
   "outputs": [
    {
     "name": "stdout",
     "output_type": "stream",
     "text": [
      "key2\n",
      "key1\n",
      "a\n",
      "b\n"
     ]
    }
   ],
   "source": [
    "s = {\"a\":1, \"b\": 2, 'key1': [\"value1\",  \"value2\"], 'key2': [\"value4\", \"value5\"]}\n",
    "j = 0\n",
    "for i in s:\n",
    "    print (list(set(s.keys()))[j])\n",
    "    j+=1"
   ]
  },
  {
   "cell_type": "code",
   "execution_count": 48,
   "metadata": {},
   "outputs": [
    {
     "name": "stdout",
     "output_type": "stream",
     "text": [
      "shop1 [500, 70, 86, 987, 300]\n",
      "shoshop2 [100]\n",
      "shop3 [50, 90, 150, 108, 200, 134]\n",
      "shop2 [700, 55, 107, 800, 300]\n",
      "p1 [200]\n",
      "dict_items([('shop1', ['500', '70', '86', '987', '300']), ('shoshop2', ['100']), ('shop3', ['50', '90', '150', '108', '200', '134']), ('shop2', ['700', '55', '107', '800', '300']), ('p1', ['200'])])\n"
     ]
    }
   ],
   "source": [
    "\n",
    "s = [(u'shop1', [u'500', u'70', u'86', u'987', u'300']),\n",
    "         (u'shoshop2', [u'100']), (u'shop3', [u'50', u'90', u'150', u'108', u'200', u'134']), \n",
    "         (u'shop2', [u'700', u'55', u'107', u'800', u'300']), (u'p1', [u'200'])]\n",
    "y = dict (s)\n",
    "#T2 = [list(map(int, x)) for x in y.values()]\n",
    "for k,v in y.items():\n",
    "    #print (k, v)\n",
    "    s = ('[%s]' % ', '.join(map(str, v)))\n",
    "    print (k,s)\n",
    "print (y.items())\n",
    "\n",
    "    \n",
    "    "
   ]
  },
  {
   "cell_type": "code",
   "execution_count": 44,
   "metadata": {},
   "outputs": [],
   "source": [
    "t1 = (('13', '17', '18', '21', '32'),\n",
    "      ('07', '11', '13', '14', '28'),\n",
    "      ('01', '05', '06', '08', '15', '16'))\n",
    "t2 = [list(map(int, list(l)) for l in t1)]\n"
   ]
  },
  {
   "cell_type": "code",
   "execution_count": 55,
   "metadata": {},
   "outputs": [
    {
     "data": {
      "text/plain": [
       "[{'a': 1, 'b': 2, 'c': 3}, {'d': 4, 'e': 5, 'f': 6}]"
      ]
     },
     "execution_count": 55,
     "metadata": {},
     "output_type": "execute_result"
    }
   ],
   "source": [
    "list = [ { 'a':'1' , 'b':'2' , 'c':'3' }, { 'd':'4' , 'e':'5' , 'f':'6' } ]\n",
    "[dict([a, int(x)] for a, x in b.items()) for b in list]\n"
   ]
  },
  {
   "cell_type": "code",
   "execution_count": 58,
   "metadata": {},
   "outputs": [
    {
     "name": "stdout",
     "output_type": "stream",
     "text": [
      "HI\n"
     ]
    }
   ],
   "source": [
    "str = \"this is string example....wow!!!\";\n",
    "\n",
    "if str.endswith('!'):\n",
    "    print ('HI')\n"
   ]
  },
  {
   "cell_type": "code",
   "execution_count": 60,
   "metadata": {},
   "outputs": [
    {
     "name": "stdout",
     "output_type": "stream",
     "text": [
      "cisco\n",
      "\n"
     ]
    }
   ],
   "source": [
    "myfile = open('/home/mak/routers.txt', 'r')\n",
    "#myfile.mode\n",
    "myfile.seek(0)\n",
    "#myfile.read(5)\n",
    "#myfile.tell()\n",
    "#myfile.readlines()\n",
    "#myfile.readline()\n",
    "for line in myfile.readlines():\n",
    "    if line.startswith(\"c\"):\n",
    "        print (line)"
   ]
  },
  {
   "cell_type": "code",
   "execution_count": 109,
   "metadata": {},
   "outputs": [
    {
     "data": {
      "text/plain": [
       "'cisco\\n'"
      ]
     },
     "execution_count": 109,
     "metadata": {},
     "output_type": "execute_result"
    }
   ],
   "source": [
    "myfile.seek(0)\n",
    "\n",
    "myfile.readline()"
   ]
  },
  {
   "cell_type": "code",
   "execution_count": 114,
   "metadata": {},
   "outputs": [
    {
     "name": "stdout",
     "output_type": "stream",
     "text": [
      "Sum = 15\n"
     ]
    }
   ],
   "source": [
    "program = 'a = 5\\nb=10\\nprint(\"Sum =\", a+b)'\n",
    "exec(program)"
   ]
  },
  {
   "cell_type": "code",
   "execution_count": 117,
   "metadata": {},
   "outputs": [
    {
     "name": "stdout",
     "output_type": "stream",
     "text": [
      "Called with 42\n",
      "Called with 42\n"
     ]
    },
    {
     "data": {
      "text/plain": [
       "84"
      ]
     },
     "execution_count": 117,
     "metadata": {},
     "output_type": "execute_result"
    }
   ],
   "source": [
    "def my_func(arg):\n",
    "    print(\"Called with %d\" % arg)\n",
    "    return arg * 2\n",
    "exec('my_func(42)')\n",
    "eval('my_func(42)')\n"
   ]
  },
  {
   "cell_type": "code",
   "execution_count": 118,
   "metadata": {},
   "outputs": [
    {
     "name": "stdout",
     "output_type": "stream",
     "text": [
      "5\n"
     ]
    }
   ],
   "source": [
    "exec('print(5)')           # prints 5.\n"
   ]
  },
  {
   "cell_type": "code",
   "execution_count": 119,
   "metadata": {},
   "outputs": [
    {
     "name": "stdout",
     "output_type": "stream",
     "text": [
      "Before modification: Adam\n",
      "After modification: John\n"
     ]
    }
   ],
   "source": [
    "#setattr\n",
    "class Person:\n",
    "    name = 'Adam'\n",
    "    \n",
    "p = Person()\n",
    "print('Before modification:', p.name)\n",
    "\n",
    "# setting name to 'John'\n",
    "setattr(p, 'name', 'John')\n",
    "\n",
    "print('After modification:', p.name)"
   ]
  },
  {
   "cell_type": "code",
   "execution_count": 120,
   "metadata": {},
   "outputs": [
    {
     "name": "stdout",
     "output_type": "stream",
     "text": [
      "Name is: None\n",
      "Age is: 23\n"
     ]
    }
   ],
   "source": [
    "#setattr\n",
    "class Person:\n",
    "    name = 'Adam'\n",
    "    \n",
    "p = Person()\n",
    "\n",
    "# setting attribute name to None\n",
    "setattr(p, 'name', None)\n",
    "print('Name is:', p.name)\n",
    "\n",
    "# setting an attribute not present\n",
    "# in Person\n",
    "setattr(p, 'age', 23)\n",
    "print('Age is:', p.age)"
   ]
  },
  {
   "cell_type": "code",
   "execution_count": 121,
   "metadata": {},
   "outputs": [
    {
     "name": "stdout",
     "output_type": "stream",
     "text": [
      "Person has age?: True\n",
      "Person has salary?: False\n"
     ]
    }
   ],
   "source": [
    "#hasattr\n",
    "class Person:\n",
    "    age = 23\n",
    "    name = 'Adam'\n",
    "\n",
    "person = Person()\n",
    "\n",
    "print('Person has age?:', hasattr(person, 'age'))\n",
    "print('Person has salary?:', hasattr(person, 'salary'))"
   ]
  },
  {
   "cell_type": "code",
   "execution_count": 122,
   "metadata": {},
   "outputs": [
    {
     "name": "stdout",
     "output_type": "stream",
     "text": [
      "The age is: 23\n",
      "The age is: 23\n"
     ]
    }
   ],
   "source": [
    "#getattr\n",
    "class Person:\n",
    "    age = 23\n",
    "    name = \"Adam\"\n",
    "\n",
    "person = Person()\n",
    "print('The age is:', getattr(person, \"age\"))\n",
    "print('The age is:', person.age)"
   ]
  },
  {
   "cell_type": "code",
   "execution_count": 63,
   "metadata": {},
   "outputs": [
    {
     "name": "stdout",
     "output_type": "stream",
     "text": [
      "The sex is: Male\n"
     ]
    }
   ],
   "source": [
    "#getattr when named attribute is not found\n",
    "class Person:\n",
    "    age = 23\n",
    "    name = \"Adam\"\n",
    "\n",
    "person = Person()\n",
    "\n",
    "# when default value is provided\n",
    "print('The sex is:', getattr(person, 'sex', 'Male'))\n",
    "\n",
    "# when no default value is provided\n",
    "#print('The sex is:', getattr(person, 'sex'))"
   ]
  },
  {
   "cell_type": "code",
   "execution_count": 126,
   "metadata": {},
   "outputs": [
    {
     "name": "stdout",
     "output_type": "stream",
     "text": [
      "x =  10\n",
      "y =  -5\n",
      "z =  0\n",
      "--After deleting z attribute--\n",
      "x =  10\n",
      "y =  -5\n"
     ]
    },
    {
     "ename": "AttributeError",
     "evalue": "'Coordinate' object has no attribute 'z'",
     "output_type": "error",
     "traceback": [
      "\u001b[0;31m---------------------------------------------------------------------------\u001b[0m",
      "\u001b[0;31mAttributeError\u001b[0m                            Traceback (most recent call last)",
      "\u001b[0;32m<ipython-input-126-db67e37af596>\u001b[0m in \u001b[0;36m<module>\u001b[0;34m()\u001b[0m\n\u001b[1;32m     18\u001b[0m \u001b[0;34m\u001b[0m\u001b[0m\n\u001b[1;32m     19\u001b[0m \u001b[0;31m# Raises Error\u001b[0m\u001b[0;34m\u001b[0m\u001b[0;34m\u001b[0m\u001b[0m\n\u001b[0;32m---> 20\u001b[0;31m \u001b[0mprint\u001b[0m\u001b[0;34m(\u001b[0m\u001b[0;34m'z = '\u001b[0m\u001b[0;34m,\u001b[0m\u001b[0mpoint1\u001b[0m\u001b[0;34m.\u001b[0m\u001b[0mz\u001b[0m\u001b[0;34m)\u001b[0m\u001b[0;34m\u001b[0m\u001b[0m\n\u001b[0m",
      "\u001b[0;31mAttributeError\u001b[0m: 'Coordinate' object has no attribute 'z'"
     ]
    }
   ],
   "source": [
    "#delattr\n",
    "class Coordinate:\n",
    "  x = 10\n",
    "  y = -5\n",
    "  z = 0\n",
    "\n",
    "point1 = Coordinate() \n",
    "\n",
    "print('x = ',point1.x)\n",
    "print('y = ',point1.y)\n",
    "print('z = ',point1.z)\n",
    "\n",
    "delattr(Coordinate, 'z')\n",
    "\n",
    "print('--After deleting z attribute--')\n",
    "print('x = ',point1.x)\n",
    "print('y = ',point1.y)\n",
    "\n",
    "# Raises Error\n",
    "print('z = ',point1.z)"
   ]
  },
  {
   "cell_type": "code",
   "execution_count": 127,
   "metadata": {},
   "outputs": [],
   "source": [
    "#How can you verify if Class2 is the child of Class1?\n",
    "#issubclass(class2, class1)\n"
   ]
  },
  {
   "cell_type": "code",
   "execution_count": 131,
   "metadata": {},
   "outputs": [
    {
     "data": {
      "text/plain": [
       "5"
      ]
     },
     "execution_count": 131,
     "metadata": {},
     "output_type": "execute_result"
    }
   ],
   "source": [
    "a = 9\n",
    "i = 5 if a > 7 else 0\n",
    "i"
   ]
  },
  {
   "cell_type": "code",
   "execution_count": 133,
   "metadata": {},
   "outputs": [
    {
     "name": "stdout",
     "output_type": "stream",
     "text": [
      "kid\n",
      "teenager\n"
     ]
    }
   ],
   "source": [
    "age = 15\n",
    "print('kid' if age < 18 else 'adult')\n",
    "print('kid' if age < 13 else 'teenager' if age < 18 else 'adult')"
   ]
  },
  {
   "cell_type": "code",
   "execution_count": 136,
   "metadata": {},
   "outputs": [
    {
     "data": {
      "text/plain": [
       "{0: 0, 1: 1, 2: 4, 3: 9, 4: 16}"
      ]
     },
     "execution_count": 136,
     "metadata": {},
     "output_type": "execute_result"
    }
   ],
   "source": [
    "dict = {x:x**2 for x in range(5) }\n",
    "dict"
   ]
  },
  {
   "cell_type": "code",
   "execution_count": 142,
   "metadata": {},
   "outputs": [
    {
     "name": "stdout",
     "output_type": "stream",
     "text": [
      "[20, 22, 24, 30]\n"
     ]
    }
   ],
   "source": [
    "[i % 3 for i in [10, 11, 12, 15, 17, 19, 20] if i < 16]\n"
   ]
  },
  {
   "cell_type": "code",
   "execution_count": 143,
   "metadata": {},
   "outputs": [
    {
     "name": "stdout",
     "output_type": "stream",
     "text": [
      "[20, 22, 24, 30]\n"
     ]
    }
   ],
   "source": [
    "a = []\n",
    "\n",
    "for i in [10, 11, 12, 15, 17, 19, 20]:\n",
    "\n",
    "    if i < 16:\n",
    "\n",
    "        a.append(i * 2)\n",
    "\n",
    "print (a)"
   ]
  },
  {
   "cell_type": "code",
   "execution_count": 146,
   "metadata": {},
   "outputs": [
    {
     "data": {
      "text/plain": [
       "[20, 22, 24, 30]"
      ]
     },
     "execution_count": 146,
     "metadata": {},
     "output_type": "execute_result"
    }
   ],
   "source": [
    "[i * 2 for i in [10, 11, 12, 15, 17, 19, 20] if i < 16]"
   ]
  },
  {
   "cell_type": "code",
   "execution_count": 144,
   "metadata": {},
   "outputs": [
    {
     "data": {
      "text/plain": [
       "12"
      ]
     },
     "execution_count": 144,
     "metadata": {},
     "output_type": "execute_result"
    }
   ],
   "source": [
    "a = lambda x,y :x *y\n",
    "a(3,4)"
   ]
  },
  {
   "cell_type": "code",
   "execution_count": 145,
   "metadata": {},
   "outputs": [
    {
     "data": {
      "text/plain": [
       "44.0"
      ]
     },
     "execution_count": 145,
     "metadata": {},
     "output_type": "execute_result"
    }
   ],
   "source": [
    "n = 10\n",
    "\n",
    "my_lambda = lambda m, n: m * n / 2\n",
    "\n",
    "my_lambda(22, 4)"
   ]
  },
  {
   "cell_type": "code",
   "execution_count": 247,
   "metadata": {},
   "outputs": [
    {
     "name": "stdout",
     "output_type": "stream",
     "text": [
      "{'red': 2, 'blue': 3, 'green': 1}\n"
     ]
    }
   ],
   "source": [
    "testList = ['red', 'blue', 'red', 'green', 'blue', 'blue']\n",
    "\n",
    "testListDict = {}\n",
    "\n",
    "for item in testList:\n",
    "  try:\n",
    "    testListDict[item] += 1\n",
    "  except:\n",
    "    testListDict[item] = 1\n",
    "\n",
    "print (testListDict)"
   ]
  },
  {
   "cell_type": "code",
   "execution_count": 64,
   "metadata": {},
   "outputs": [
    {
     "name": "stdout",
     "output_type": "stream",
     "text": [
      "mak mak.com\n"
     ]
    }
   ],
   "source": [
    "email ='mak@mak.com'\n",
    "user = email[:email.index(\"@\")]\n",
    "domain = email[email.index(\"@\") + 1 :]\n",
    "print (user,domain)"
   ]
  },
  {
   "cell_type": "code",
   "execution_count": 70,
   "metadata": {},
   "outputs": [
    {
     "name": "stdout",
     "output_type": "stream",
     "text": [
      "2\n"
     ]
    },
    {
     "data": {
      "text/plain": [
       "'mak_hus_2.jpg'"
      ]
     },
     "execution_count": 70,
     "metadata": {},
     "output_type": "execute_result"
    }
   ],
   "source": [
    "def CropImage(imgfilename):\n",
    "    defectid=os.path.basename(imgfilename).split('_')[2]\n",
    "    defectid1=int(defectid.split('.')[0])\n",
    "    filename = os.path.basename(imgfilename)\n",
    "    print (defectid1)\n",
    "    return filename\n",
    "CropImage('/home/mak/mak_hus_2.jpg')\n",
    "    "
   ]
  },
  {
   "cell_type": "code",
   "execution_count": 71,
   "metadata": {},
   "outputs": [
    {
     "name": "stdout",
     "output_type": "stream",
     "text": [
      "[5, 2, 3]\n",
      "[5, 2, 3]\n",
      "[5, 2, 3]\n"
     ]
    }
   ],
   "source": [
    "a = [1,2,3]\n",
    "\n",
    "def f1():\n",
    "    a[0] = 5\n",
    "\n",
    "    print(a)\n",
    "\n",
    "def f2():\n",
    "    print(a)\n",
    "\n",
    "f1()\n",
    "f2()\n",
    "print(a)\n"
   ]
  },
  {
   "cell_type": "code",
   "execution_count": null,
   "metadata": {},
   "outputs": [],
   "source": []
  },
  {
   "cell_type": "code",
   "execution_count": 49,
   "metadata": {},
   "outputs": [
    {
     "ename": "TypeError",
     "evalue": "Can't instantiate abstract class Concrete with abstract methods bar",
     "output_type": "error",
     "traceback": [
      "\u001b[0;31m---------------------------------------------------------------------------\u001b[0m",
      "\u001b[0;31mTypeError\u001b[0m                                 Traceback (most recent call last)",
      "\u001b[0;32m<ipython-input-49-b79cfddb6496>\u001b[0m in \u001b[0;36m<module>\u001b[0;34m()\u001b[0m\n\u001b[1;32m     13\u001b[0m     \u001b[0;32mdef\u001b[0m \u001b[0mfoo\u001b[0m\u001b[0;34m(\u001b[0m\u001b[0mself\u001b[0m\u001b[0;34m)\u001b[0m\u001b[0;34m:\u001b[0m\u001b[0;34m\u001b[0m\u001b[0m\n\u001b[1;32m     14\u001b[0m         \u001b[0;32mpass\u001b[0m\u001b[0;34m\u001b[0m\u001b[0m\n\u001b[0;32m---> 15\u001b[0;31m \u001b[0mc\u001b[0m \u001b[0;34m=\u001b[0m \u001b[0mConcrete\u001b[0m\u001b[0;34m(\u001b[0m\u001b[0;34m)\u001b[0m\u001b[0;34m\u001b[0m\u001b[0m\n\u001b[0m",
      "\u001b[0;31mTypeError\u001b[0m: Can't instantiate abstract class Concrete with abstract methods bar"
     ]
    }
   ],
   "source": [
    "from abc import ABCMeta, abstractmethod\n",
    "\n",
    "class Base(metaclass=ABCMeta):\n",
    "    @abstractmethod\n",
    "    def foo(self):\n",
    "        pass\n",
    "\n",
    "    @abstractmethod\n",
    "    def bar(self):\n",
    "        pass\n",
    "\n",
    "class Concrete(Base):\n",
    "    def foo(self):\n",
    "        pass\n",
    "c = Concrete()"
   ]
  },
  {
   "cell_type": "markdown",
   "metadata": {},
   "source": []
  },
  {
   "cell_type": "code",
   "execution_count": 26,
   "metadata": {},
   "outputs": [
    {
     "data": {
      "text/plain": [
       "'foo() called'"
      ]
     },
     "execution_count": 26,
     "metadata": {},
     "output_type": "execute_result"
    }
   ],
   "source": [
    "class Base:\n",
    "    def foo(self):\n",
    "        raise NotImplementedError()\n",
    "\n",
    "    def bar(self):\n",
    "        raise NotImplementedError()\n",
    "\n",
    "class Concrete(Base):\n",
    "    def foo(self):\n",
    "        return 'foo() called'\n",
    "    \n",
    "c = Concrete()\n",
    "c.foo()"
   ]
  },
  {
   "cell_type": "code",
   "execution_count": 54,
   "metadata": {},
   "outputs": [
    {
     "data": {
      "text/plain": [
       "'methodone() is called'"
      ]
     },
     "execution_count": 54,
     "metadata": {},
     "output_type": "execute_result"
    }
   ],
   "source": [
    "#Python 3\n",
    "class Parent:\n",
    "    def methodone(self):\n",
    "        raise NotImplementedError()\n",
    "\n",
    "    def methodtwo(self):\n",
    "        raise NotImplementedError()\n",
    "\n",
    "class Son(Parent):\n",
    "    def methodone(self):\n",
    "        return 'methodone() is called'\n",
    "    \n",
    "c = Son()\n",
    "c.methodone()\n",
    "c.methodtwo()"
   ]
  },
  {
   "cell_type": "code",
   "execution_count": 58,
   "metadata": {},
   "outputs": [
    {
     "data": {
      "text/plain": [
       "'methodone() is called'"
      ]
     },
     "execution_count": 58,
     "metadata": {},
     "output_type": "execute_result"
    }
   ],
   "source": [
    "from abc import ABCMeta, abstractmethod\n",
    "\n",
    "class Parent(metaclass=ABCMeta):\n",
    "    @abstractmethod\n",
    "    def methodone(self):\n",
    "        raise NotImplementedError()\n",
    "    @abstractmethod\n",
    "    def methodtwo(self):\n",
    "        raise NotImplementedError()\n",
    "\n",
    "class Son(Parent):\n",
    "    def methodone(self):\n",
    "        return 'methodone() is called'\n",
    "    def methodtwo(self):\n",
    "        return 'methodtwo() is called'\n",
    "    \n",
    "c = Son()\n",
    "c.methodone()\n"
   ]
  },
  {
   "cell_type": "code",
   "execution_count": null,
   "metadata": {},
   "outputs": [],
   "source": []
  }
 ],
 "metadata": {
  "kernelspec": {
   "display_name": "Python 3",
   "language": "python",
   "name": "python3"
  }
 },
 "nbformat": 4,
 "nbformat_minor": 2
}
