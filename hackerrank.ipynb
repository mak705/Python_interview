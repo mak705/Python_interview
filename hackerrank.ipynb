{
 "cells": [
  {
   "cell_type": "code",
   "execution_count": 1,
   "metadata": {},
   "outputs": [],
   "source": [
    "import pandas as pd\n",
    "df_inp = pd.DataFrame({\"col1\":[\"438 673.4841918945312 1552924050927 ; 666 709.5 1552924050911 ;\", \"438 673.4841918945312 1552924050927 ; 666 709.5 1552924050911 ;\",\"343 775.5 1552924084000 ; 460.4154052734375 669 1552924084020 ;\"]})"
   ]
  },
  {
   "cell_type": "code",
   "execution_count": 2,
   "metadata": {},
   "outputs": [
    {
     "data": {
      "text/html": [
       "<div>\n",
       "<style scoped>\n",
       "    .dataframe tbody tr th:only-of-type {\n",
       "        vertical-align: middle;\n",
       "    }\n",
       "\n",
       "    .dataframe tbody tr th {\n",
       "        vertical-align: top;\n",
       "    }\n",
       "\n",
       "    .dataframe thead th {\n",
       "        text-align: right;\n",
       "    }\n",
       "</style>\n",
       "<table border=\"1\" class=\"dataframe\">\n",
       "  <thead>\n",
       "    <tr style=\"text-align: right;\">\n",
       "      <th></th>\n",
       "      <th>col1</th>\n",
       "    </tr>\n",
       "  </thead>\n",
       "  <tbody>\n",
       "    <tr>\n",
       "      <th>0</th>\n",
       "      <td>438 673.4841918945312 1552924050927 ; 666 709....</td>\n",
       "    </tr>\n",
       "    <tr>\n",
       "      <th>1</th>\n",
       "      <td>438 673.4841918945312 1552924050927 ; 666 709....</td>\n",
       "    </tr>\n",
       "    <tr>\n",
       "      <th>2</th>\n",
       "      <td>343 775.5 1552924084000 ; 460.4154052734375 66...</td>\n",
       "    </tr>\n",
       "  </tbody>\n",
       "</table>\n",
       "</div>"
      ],
      "text/plain": [
       "                                                col1\n",
       "0  438 673.4841918945312 1552924050927 ; 666 709....\n",
       "1  438 673.4841918945312 1552924050927 ; 666 709....\n",
       "2  343 775.5 1552924084000 ; 460.4154052734375 66..."
      ]
     },
     "execution_count": 2,
     "metadata": {},
     "output_type": "execute_result"
    }
   ],
   "source": [
    "df_inp"
   ]
  },
  {
   "cell_type": "code",
   "execution_count": 5,
   "metadata": {},
   "outputs": [
    {
     "data": {
      "text/html": [
       "<div>\n",
       "<style scoped>\n",
       "    .dataframe tbody tr th:only-of-type {\n",
       "        vertical-align: middle;\n",
       "    }\n",
       "\n",
       "    .dataframe tbody tr th {\n",
       "        vertical-align: top;\n",
       "    }\n",
       "\n",
       "    .dataframe thead th {\n",
       "        text-align: right;\n",
       "    }\n",
       "</style>\n",
       "<table border=\"1\" class=\"dataframe\">\n",
       "  <thead>\n",
       "    <tr style=\"text-align: right;\">\n",
       "      <th></th>\n",
       "      <th>x</th>\n",
       "      <th>y</th>\n",
       "      <th>z</th>\n",
       "    </tr>\n",
       "  </thead>\n",
       "  <tbody>\n",
       "    <tr>\n",
       "      <th>0</th>\n",
       "      <td>438</td>\n",
       "      <td>673.4841918945312</td>\n",
       "      <td>1552924050927</td>\n",
       "    </tr>\n",
       "    <tr>\n",
       "      <th>1</th>\n",
       "      <td>666</td>\n",
       "      <td>709.5</td>\n",
       "      <td>1552924050911</td>\n",
       "    </tr>\n",
       "    <tr>\n",
       "      <th>2</th>\n",
       "      <td>438</td>\n",
       "      <td>673.4841918945312</td>\n",
       "      <td>1552924050927</td>\n",
       "    </tr>\n",
       "    <tr>\n",
       "      <th>3</th>\n",
       "      <td>666</td>\n",
       "      <td>709.5</td>\n",
       "      <td>1552924050911</td>\n",
       "    </tr>\n",
       "    <tr>\n",
       "      <th>4</th>\n",
       "      <td>343</td>\n",
       "      <td>775.5</td>\n",
       "      <td>1552924084000</td>\n",
       "    </tr>\n",
       "    <tr>\n",
       "      <th>5</th>\n",
       "      <td>460.4154052734375</td>\n",
       "      <td>669</td>\n",
       "      <td>1552924084020</td>\n",
       "    </tr>\n",
       "  </tbody>\n",
       "</table>\n",
       "</div>"
      ],
      "text/plain": [
       "                   x                  y              z\n",
       "0                438  673.4841918945312  1552924050927\n",
       "1                666              709.5  1552924050911\n",
       "2                438  673.4841918945312  1552924050927\n",
       "3                666              709.5  1552924050911\n",
       "4                343              775.5  1552924084000\n",
       "5  460.4154052734375                669  1552924084020"
      ]
     },
     "execution_count": 5,
     "metadata": {},
     "output_type": "execute_result"
    }
   ],
   "source": [
    "def expand_input(inp):\n",
    "    return [x.strip().split(\" \") for x in inp.split(\";\")]\n",
    "\n",
    "pd.DataFrame([\n",
    "    list_vars for x in df_inp[\"col1\"].apply(expand_input).iteritems() for list_vars in x[1] if list_vars[0]\n",
    "],  columns=[\"x\",\"y\",\"z\"])"
   ]
  },
  {
   "cell_type": "code",
   "execution_count": 44,
   "metadata": {},
   "outputs": [
    {
     "name": "stdout",
     "output_type": "stream",
     "text": [
      "[2, 4]\n"
     ]
    }
   ],
   "source": [
    "source = [4,2]\n",
    "for i in range(len(source)):\n",
    "    mini = min(source[i:]) #find minimum element\n",
    "    min_index = source[i:].index(mini) #find index of minimum element\n",
    "    #print (min_index)\n",
    "    source[i + min_index] = source[i] #replace element at min_index with first element\n",
    "    source[i] = mini   #replace first element with min element\n",
    "print (source)"
   ]
  },
  {
   "cell_type": "code",
   "execution_count": 45,
   "metadata": {},
   "outputs": [
    {
     "name": "stdout",
     "output_type": "stream",
     "text": [
      "[4, 5, 3, 1, 6, 8, 10, 9]\n",
      "[3, 5, 4, 1, 6, 8, 10, 9]\n",
      "[1, 5, 4, 3, 6, 8, 10, 9]\n",
      "[1, 4, 5, 3, 6, 8, 10, 9]\n",
      "[1, 3, 5, 4, 6, 8, 10, 9]\n",
      "[1, 3, 4, 5, 6, 8, 10, 9]\n",
      "[1, 3, 4, 5, 6, 8, 9, 10]\n"
     ]
    }
   ],
   "source": [
    "arr = [5,4,3,1,6,8,10,9] # array not sorted\n",
    "\n",
    "for i in range(len(arr)):\n",
    "    for j in range(i, len(arr)):\n",
    "        if(arr[i] > arr[j]):\n",
    "            arr[i], arr[j] = arr[j], arr[i]\n",
    "\n",
    "            print (arr)"
   ]
  },
  {
   "cell_type": "code",
   "execution_count": 56,
   "metadata": {},
   "outputs": [
    {
     "name": "stdout",
     "output_type": "stream",
     "text": [
      "[1, 2, 4, 10, 5, 3, 100]\n",
      "[1, 2, 4, 10, 5, 3, 100]\n",
      "[1, 2, 3, 10, 5, 4, 100]\n",
      "[1, 2, 3, 4, 5, 10, 100]\n",
      "[1, 2, 3, 4, 5, 10, 100]\n",
      "[1, 2, 3, 4, 5, 10, 100]\n"
     ]
    }
   ],
   "source": [
    "#nums = [5,4,3,1,6,8,10,9]\n",
    "#nums = [5,4,3,1,6,8]\n",
    "nums = [4,2,1,10,5,3,100]\n",
    "def sort(nums):\n",
    "    for i in range(len(nums)-1):\n",
    "        miniposition = i\n",
    "        for j in range(i,len(nums)):\n",
    "            if nums[j] < nums[miniposition]:\n",
    "                miniposition = j\n",
    "        temp = nums[i]\n",
    "        nums[i] = nums[miniposition]\n",
    "        nums[miniposition] = temp\n",
    "        print (nums)\n",
    "sort(nums)\n",
    "#print (nums)"
   ]
  },
  {
   "cell_type": "code",
   "execution_count": 83,
   "metadata": {},
   "outputs": [
    {
     "data": {
      "text/plain": [
       "['i', 'love', 'dogs', 'John']"
      ]
     },
     "execution_count": 83,
     "metadata": {},
     "output_type": "execute_result"
    }
   ],
   "source": [
    "def word_split(phrase,list_of_words, output = None):\n",
    "    if output is None:\n",
    "        output = []\n",
    "    for word in list_of_words:\n",
    "        if phrase.startswith(word):\n",
    "            output.append(word)\n",
    "            return word_split(phrase[len(word):],list_of_words,output)\n",
    "    return output\n",
    "word_split('ilovedogsJohn',['am','i','dogs','love','John'])\n"
   ]
  },
  {
   "cell_type": "code",
   "execution_count": 90,
   "metadata": {},
   "outputs": [
    {
     "data": {
      "text/plain": [
       "'d oleh'"
      ]
     },
     "execution_count": 90,
     "metadata": {},
     "output_type": "execute_result"
    }
   ],
   "source": [
    "def backward(text):\n",
    "    if text == \"\":\n",
    "        return text\n",
    "    else:\n",
    "        return  text[-1] + backward(text[:-1])\n",
    "backward('helo d')"
   ]
  },
  {
   "cell_type": "code",
   "execution_count": 92,
   "metadata": {},
   "outputs": [
    {
     "name": "stdout",
     "output_type": "stream",
     "text": [
      "{'local': ['9134567890', '9134567890'], 'global': ['0134567890'], 'others': ['9034567890', '9034590']}\n"
     ]
    }
   ],
   "source": [
    "from collections import defaultdict\n",
    "import re\n",
    "\n",
    "d = [\n",
    "    {'name': 'a', 'num': '9134567890','num2':'912311111'},\n",
    "    {'name': 'd', 'num': '9134567890','num2':'5151'},\n",
    "    {'name': 'b', 'num': '0134567890','num2':'51'},\n",
    "    {'name': 'c', 'num': '9034567890','num2':'12'},\n",
    "    {'name': 'm', 'num': '9034590','num2':'13'}\n",
    "]\n",
    "\n",
    "# regular expression\n",
    "rx = re.compile(r'^(?=\\d{10}$)(?P<local>91.+)|(?P<global>01.+)|(?P<others>.+)')\n",
    "\n",
    "# output dict\n",
    "output = defaultdict(list)\n",
    "\n",
    "# list comprehension\n",
    "_ = [output[key].append(m[key])\n",
    "     for item in d\n",
    "     for m in [rx.search(item[\"num\"])] if m\n",
    "     for key in m.groupdict() if m[key]]\n",
    "\n",
    "print(dict(output))"
   ]
  },
  {
   "cell_type": "code",
   "execution_count": 98,
   "metadata": {},
   "outputs": [
    {
     "name": "stdout",
     "output_type": "stream",
     "text": [
      "3 2 3\n",
      "1 2 3\n",
      "0\n",
      "1\n",
      "2\n",
      "2\n",
      "3\n",
      "1\n"
     ]
    }
   ],
   "source": [
    "ls = [int(x) for x in input().split()]\n",
    "n = ls[0]\n",
    "k = ls[1]\n",
    "queries = ls[2]\n",
    "array = [int(x) for x in input().split()]\n",
    "result = []\n",
    "for q in range(queries):\n",
    "    q = int(input())\n",
    "    result.append(array[q-k % n])\n",
    "for e in result:\n",
    "    print(e)"
   ]
  },
  {
   "cell_type": "code",
   "execution_count": 97,
   "metadata": {},
   "outputs": [],
   "source": [
    "def circularArrayRotation(a, k, queries):\n",
    "    a = a[-k:] + a[:-k]\n",
    "    return [a[i] for i in queries]"
   ]
  },
  {
   "cell_type": "code",
   "execution_count": 102,
   "metadata": {},
   "outputs": [
    {
     "data": {
      "text/plain": [
       "['abc', 'acb', 'bac', 'bca', 'cab', 'cba']"
      ]
     },
     "execution_count": 102,
     "metadata": {},
     "output_type": "execute_result"
    }
   ],
   "source": [
    "from itertools import permutations\n",
    "perms = [''.join(p) for p in permutations('abc')]\n",
    "perms"
   ]
  },
  {
   "cell_type": "code",
   "execution_count": 115,
   "metadata": {},
   "outputs": [
    {
     "name": "stdout",
     "output_type": "stream",
     "text": [
      "['a', 'b', 'c']\n",
      "['c', 'a', 'b']\n",
      "['a', 'b', 'c']\n"
     ]
    }
   ],
   "source": [
    "s = 'abc'\n",
    "lst = list(s)\n",
    "for x in range(0,len(lst)):\n",
    "    lst =  lst[-x:] + lst[:-x]\n",
    "    print (lst)"
   ]
  },
  {
   "cell_type": "code",
   "execution_count": 1,
   "metadata": {},
   "outputs": [],
   "source": [
    "import collections \n",
    "  \n",
    "# Declaring namedtuple() \n",
    "Student = collections.namedtuple('Student',['name','age','DOB']) \n",
    "  \n",
    "# Adding values \n",
    "S = Student('Nandini','19','2541997') \n",
    "  \n",
    "# initializing iterable  \n",
    "li = ['Manjeet', '19', '411997' ] \n",
    "  \n",
    "# initializing dict \n",
    "di = { 'name' : \"Nikhil\", 'age' : 19 , 'DOB' : '1391997' } "
   ]
  },
  {
   "cell_type": "code",
   "execution_count": 3,
   "metadata": {},
   "outputs": [
    {
     "name": "stdout",
     "output_type": "stream",
     "text": [
      "The namedtuple instance using iterable is  : \n",
      "Student(name='Manjeet', age='19', DOB='411997')\n",
      "The OrderedDict instance using namedtuple is  : \n",
      "OrderedDict([('name', 'Nandini'), ('age', '19'), ('DOB', '2541997')])\n",
      "The namedtuple instance from dict is  : \n",
      "Student(name='Nikhil', age=19, DOB='1391997')\n"
     ]
    }
   ],
   "source": [
    "# using _make() to return namedtuple() \n",
    "print (\"The namedtuple instance using iterable is  : \") \n",
    "print (Student._make(li)) \n",
    "  \n",
    "# using _asdict() to return an OrderedDict() \n",
    "print (\"The OrderedDict instance using namedtuple is  : \") \n",
    "print (S._asdict()) \n",
    "  \n",
    "# using ** operator to return namedtuple from dictionary \n",
    "print (\"The namedtuple instance from dict is  : \") \n",
    "print (Student(**di)) \n"
   ]
  },
  {
   "cell_type": "code",
   "execution_count": 11,
   "metadata": {},
   "outputs": [
    {
     "name": "stdout",
     "output_type": "stream",
     "text": [
      "Nikhil\n"
     ]
    }
   ],
   "source": [
    "my = {'Sudent':{ 'name' : \"Nikhil\", 'age' : 30 , 'DOB' : '1391989' } }\n",
    "for i,j in my.items():\n",
    "    print (j['name'])"
   ]
  },
  {
   "cell_type": "code",
   "execution_count": 16,
   "metadata": {},
   "outputs": [
    {
     "name": "stdout",
     "output_type": "stream",
     "text": [
      "['boy', 'girl']\n"
     ]
    }
   ],
   "source": [
    "import re\n",
    "\n",
    "s = 'A boy is 31 and girl is 22.'\n",
    "print(re.findall(r'\\S+(?=\\s+is\\b)', s))"
   ]
  },
  {
   "cell_type": "code",
   "execution_count": 27,
   "metadata": {},
   "outputs": [
    {
     "data": {
      "text/plain": [
       "[('boy', '31'), ('girl', '22')]"
      ]
     },
     "execution_count": 27,
     "metadata": {},
     "output_type": "execute_result"
    }
   ],
   "source": [
    "list_ = re.findall(r'(\\S+)\\s+is\\s+(\\d+)', s)\n",
    "list_"
   ]
  },
  {
   "cell_type": "code",
   "execution_count": 36,
   "metadata": {},
   "outputs": [
    {
     "data": {
      "text/plain": [
       "{'boy': '31', 'girl': '22'}"
      ]
     },
     "execution_count": 36,
     "metadata": {},
     "output_type": "execute_result"
    }
   ],
   "source": [
    "dict((x, y) for x, y in list_)"
   ]
  },
  {
   "cell_type": "code",
   "execution_count": 40,
   "metadata": {},
   "outputs": [
    {
     "name": "stdout",
     "output_type": "stream",
     "text": [
      "[12, 89]\n"
     ]
    }
   ],
   "source": [
    "lines = \"hello 12 hi 89\"\n",
    "import re\n",
    "output = []\n",
    "line = lines.split()\n",
    "for word in line:\n",
    "        match = re.search(r'\\d+', word)\n",
    "        if match:\n",
    "            output.append(int(match.group()))\n",
    "print (output)"
   ]
  },
  {
   "cell_type": "code",
   "execution_count": 41,
   "metadata": {},
   "outputs": [
    {
     "name": "stdout",
     "output_type": "stream",
     "text": [
      "foofoofoo\n"
     ]
    }
   ],
   "source": [
    "print ('foo' * 3)"
   ]
  },
  {
   "cell_type": "code",
   "execution_count": 62,
   "metadata": {},
   "outputs": [
    {
     "name": "stdout",
     "output_type": "stream",
     "text": [
      "15\n",
      "1\n",
      "2\n",
      "Fizz\n",
      "4\n",
      "Buzz\n",
      "Fizz\n",
      "7\n",
      "8\n",
      "Fizz\n",
      "Buzz\n",
      "11\n",
      "Fizz\n",
      "13\n",
      "14\n",
      "FizzBuzz\n"
     ]
    }
   ],
   "source": [
    "def fizzBuzz(n):\n",
    "    # Write your code here\n",
    "    for i in range(1,n+1):\n",
    "        if i % 3 == 0 and i % 5 != 0:\n",
    "            print ('Fizz')\n",
    "        elif i % 5 != 0 and i % 3 != 0:\n",
    "            print (i)\n",
    "        elif i % 5 == 0 and i % 3 != 0:\n",
    "            print ('Buzz') \n",
    "        else:# i % 3 == 0 and i % 5 == 0:\n",
    "            print ('FizzBuzz')\n",
    "        \n",
    "if __name__ == '__main__':\n",
    "    n = int(input().strip())\n",
    "    fizzBuzz(n)"
   ]
  },
  {
   "cell_type": "code",
   "execution_count": 64,
   "metadata": {},
   "outputs": [
    {
     "name": "stdout",
     "output_type": "stream",
     "text": [
      "0\n",
      "1\n",
      "8\n",
      "27\n",
      "64\n"
     ]
    }
   ],
   "source": [
    "def foo(n):\n",
    "    for x in range(n):\n",
    "        yield x**3\n",
    "\n",
    "for x in foo(5):\n",
    "    print (x,)"
   ]
  },
  {
   "cell_type": "code",
   "execution_count": 65,
   "metadata": {},
   "outputs": [
    {
     "name": "stdout",
     "output_type": "stream",
     "text": [
      "[0, 3, 6, 9]\n"
     ]
    }
   ],
   "source": [
    "b = [0,1,2,3,4,5,6,7,8,9]\n",
    "print(b[::3])"
   ]
  },
  {
   "cell_type": "code",
   "execution_count": 67,
   "metadata": {},
   "outputs": [
    {
     "data": {
      "text/plain": [
       "25"
      ]
     },
     "execution_count": 67,
     "metadata": {},
     "output_type": "execute_result"
    }
   ],
   "source": [
    "a = 0\n",
    "for b in range(0,10,2):\n",
    "    a += b +1\n",
    "a"
   ]
  },
  {
   "cell_type": "code",
   "execution_count": 1,
   "metadata": {},
   "outputs": [],
   "source": [
    "import pandas as pd"
   ]
  },
  {
   "cell_type": "code",
   "execution_count": 2,
   "metadata": {},
   "outputs": [],
   "source": [
    "students = [('jack', 34, 'Sydeny'),\n",
    "            ('Riti', 30, 'Delhi'),\n",
    "            ('Aadi', 16, 'New York'),\n",
    "            ('Riti', 30, 'Delhi'),\n",
    "            ('Riti', 30, 'Delhi'),\n",
    "            ('Riti', 30, 'Mumbai'),\n",
    "            ('Aadi', 40, 'London'),\n",
    "            ('Sachin', 30, 'Delhi')\n",
    "            ]\n",
    " \n",
    "# Create a DataFrame object\n",
    "dfObj = pd.DataFrame(students, columns=['Name', 'Age', 'City'])"
   ]
  },
  {
   "cell_type": "code",
   "execution_count": 3,
   "metadata": {},
   "outputs": [
    {
     "data": {
      "text/html": [
       "<div>\n",
       "<style scoped>\n",
       "    .dataframe tbody tr th:only-of-type {\n",
       "        vertical-align: middle;\n",
       "    }\n",
       "\n",
       "    .dataframe tbody tr th {\n",
       "        vertical-align: top;\n",
       "    }\n",
       "\n",
       "    .dataframe thead th {\n",
       "        text-align: right;\n",
       "    }\n",
       "</style>\n",
       "<table border=\"1\" class=\"dataframe\">\n",
       "  <thead>\n",
       "    <tr style=\"text-align: right;\">\n",
       "      <th></th>\n",
       "      <th>Name</th>\n",
       "      <th>Age</th>\n",
       "      <th>City</th>\n",
       "    </tr>\n",
       "  </thead>\n",
       "  <tbody>\n",
       "    <tr>\n",
       "      <th>0</th>\n",
       "      <td>jack</td>\n",
       "      <td>34</td>\n",
       "      <td>Sydeny</td>\n",
       "    </tr>\n",
       "    <tr>\n",
       "      <th>1</th>\n",
       "      <td>Riti</td>\n",
       "      <td>30</td>\n",
       "      <td>Delhi</td>\n",
       "    </tr>\n",
       "    <tr>\n",
       "      <th>2</th>\n",
       "      <td>Aadi</td>\n",
       "      <td>16</td>\n",
       "      <td>New York</td>\n",
       "    </tr>\n",
       "    <tr>\n",
       "      <th>3</th>\n",
       "      <td>Riti</td>\n",
       "      <td>30</td>\n",
       "      <td>Delhi</td>\n",
       "    </tr>\n",
       "    <tr>\n",
       "      <th>4</th>\n",
       "      <td>Riti</td>\n",
       "      <td>30</td>\n",
       "      <td>Delhi</td>\n",
       "    </tr>\n",
       "    <tr>\n",
       "      <th>5</th>\n",
       "      <td>Riti</td>\n",
       "      <td>30</td>\n",
       "      <td>Mumbai</td>\n",
       "    </tr>\n",
       "    <tr>\n",
       "      <th>6</th>\n",
       "      <td>Aadi</td>\n",
       "      <td>40</td>\n",
       "      <td>London</td>\n",
       "    </tr>\n",
       "    <tr>\n",
       "      <th>7</th>\n",
       "      <td>Sachin</td>\n",
       "      <td>30</td>\n",
       "      <td>Delhi</td>\n",
       "    </tr>\n",
       "  </tbody>\n",
       "</table>\n",
       "</div>"
      ],
      "text/plain": [
       "     Name  Age      City\n",
       "0    jack   34    Sydeny\n",
       "1    Riti   30     Delhi\n",
       "2    Aadi   16  New York\n",
       "3    Riti   30     Delhi\n",
       "4    Riti   30     Delhi\n",
       "5    Riti   30    Mumbai\n",
       "6    Aadi   40    London\n",
       "7  Sachin   30     Delhi"
      ]
     },
     "execution_count": 3,
     "metadata": {},
     "output_type": "execute_result"
    }
   ],
   "source": [
    "dfObj"
   ]
  },
  {
   "cell_type": "code",
   "execution_count": 4,
   "metadata": {},
   "outputs": [],
   "source": [
    "duplicateRowsDF = dfObj[dfObj.duplicated()]"
   ]
  },
  {
   "cell_type": "code",
   "execution_count": 5,
   "metadata": {},
   "outputs": [
    {
     "data": {
      "text/html": [
       "<div>\n",
       "<style scoped>\n",
       "    .dataframe tbody tr th:only-of-type {\n",
       "        vertical-align: middle;\n",
       "    }\n",
       "\n",
       "    .dataframe tbody tr th {\n",
       "        vertical-align: top;\n",
       "    }\n",
       "\n",
       "    .dataframe thead th {\n",
       "        text-align: right;\n",
       "    }\n",
       "</style>\n",
       "<table border=\"1\" class=\"dataframe\">\n",
       "  <thead>\n",
       "    <tr style=\"text-align: right;\">\n",
       "      <th></th>\n",
       "      <th>Name</th>\n",
       "      <th>Age</th>\n",
       "      <th>City</th>\n",
       "    </tr>\n",
       "  </thead>\n",
       "  <tbody>\n",
       "    <tr>\n",
       "      <th>3</th>\n",
       "      <td>Riti</td>\n",
       "      <td>30</td>\n",
       "      <td>Delhi</td>\n",
       "    </tr>\n",
       "    <tr>\n",
       "      <th>4</th>\n",
       "      <td>Riti</td>\n",
       "      <td>30</td>\n",
       "      <td>Delhi</td>\n",
       "    </tr>\n",
       "  </tbody>\n",
       "</table>\n",
       "</div>"
      ],
      "text/plain": [
       "   Name  Age   City\n",
       "3  Riti   30  Delhi\n",
       "4  Riti   30  Delhi"
      ]
     },
     "execution_count": 5,
     "metadata": {},
     "output_type": "execute_result"
    }
   ],
   "source": [
    "duplicateRowsDF"
   ]
  },
  {
   "cell_type": "code",
   "execution_count": 11,
   "metadata": {},
   "outputs": [],
   "source": [
    "IP = [('192.168.1.1'),\n",
    "      ('192.168.1.1'),\n",
    "      ('192.168.1.2'),\n",
    "      ('192.168.1.3')]"
   ]
  },
  {
   "cell_type": "code",
   "execution_count": 12,
   "metadata": {},
   "outputs": [],
   "source": [
    "dfIP = pd.DataFrame(IP, columns=['IP'])"
   ]
  },
  {
   "cell_type": "code",
   "execution_count": 13,
   "metadata": {},
   "outputs": [
    {
     "data": {
      "text/html": [
       "<div>\n",
       "<style scoped>\n",
       "    .dataframe tbody tr th:only-of-type {\n",
       "        vertical-align: middle;\n",
       "    }\n",
       "\n",
       "    .dataframe tbody tr th {\n",
       "        vertical-align: top;\n",
       "    }\n",
       "\n",
       "    .dataframe thead th {\n",
       "        text-align: right;\n",
       "    }\n",
       "</style>\n",
       "<table border=\"1\" class=\"dataframe\">\n",
       "  <thead>\n",
       "    <tr style=\"text-align: right;\">\n",
       "      <th></th>\n",
       "      <th>IP</th>\n",
       "    </tr>\n",
       "  </thead>\n",
       "  <tbody>\n",
       "    <tr>\n",
       "      <th>0</th>\n",
       "      <td>192.168.1.1</td>\n",
       "    </tr>\n",
       "    <tr>\n",
       "      <th>1</th>\n",
       "      <td>192.168.1.1</td>\n",
       "    </tr>\n",
       "    <tr>\n",
       "      <th>2</th>\n",
       "      <td>192.168.1.2</td>\n",
       "    </tr>\n",
       "    <tr>\n",
       "      <th>3</th>\n",
       "      <td>192.168.1.3</td>\n",
       "    </tr>\n",
       "  </tbody>\n",
       "</table>\n",
       "</div>"
      ],
      "text/plain": [
       "            IP\n",
       "0  192.168.1.1\n",
       "1  192.168.1.1\n",
       "2  192.168.1.2\n",
       "3  192.168.1.3"
      ]
     },
     "execution_count": 13,
     "metadata": {},
     "output_type": "execute_result"
    }
   ],
   "source": [
    "dfIP"
   ]
  },
  {
   "cell_type": "code",
   "execution_count": 16,
   "metadata": {},
   "outputs": [],
   "source": [
    "dfIPdup = dfIP[dfIP.duplicated()]"
   ]
  },
  {
   "cell_type": "code",
   "execution_count": 17,
   "metadata": {},
   "outputs": [
    {
     "data": {
      "text/html": [
       "<div>\n",
       "<style scoped>\n",
       "    .dataframe tbody tr th:only-of-type {\n",
       "        vertical-align: middle;\n",
       "    }\n",
       "\n",
       "    .dataframe tbody tr th {\n",
       "        vertical-align: top;\n",
       "    }\n",
       "\n",
       "    .dataframe thead th {\n",
       "        text-align: right;\n",
       "    }\n",
       "</style>\n",
       "<table border=\"1\" class=\"dataframe\">\n",
       "  <thead>\n",
       "    <tr style=\"text-align: right;\">\n",
       "      <th></th>\n",
       "      <th>IP</th>\n",
       "    </tr>\n",
       "  </thead>\n",
       "  <tbody>\n",
       "    <tr>\n",
       "      <th>1</th>\n",
       "      <td>192.168.1.1</td>\n",
       "    </tr>\n",
       "  </tbody>\n",
       "</table>\n",
       "</div>"
      ],
      "text/plain": [
       "            IP\n",
       "1  192.168.1.1"
      ]
     },
     "execution_count": 17,
     "metadata": {},
     "output_type": "execute_result"
    }
   ],
   "source": [
    "dfIPdup"
   ]
  },
  {
   "cell_type": "code",
   "execution_count": 19,
   "metadata": {},
   "outputs": [
    {
     "name": "stdout",
     "output_type": "stream",
     "text": [
      "            IP     un_dup\n",
      "0  192.168.1.1  duplicate\n",
      "1  192.168.1.1  duplicate\n",
      "2  192.168.1.2     unique\n",
      "3  192.168.1.3     unique\n"
     ]
    }
   ],
   "source": [
    "import pandas as pd\n",
    "import numpy as np\n",
    "\n",
    "df = dfIP#pd.read_csv('input.csv')\n",
    "df['un_dup'] = np.where(df['IP'].duplicated(keep=False),'duplicate', 'unique')\n",
    "\n",
    "print(df)"
   ]
  },
  {
   "cell_type": "code",
   "execution_count": 27,
   "metadata": {},
   "outputs": [
    {
     "data": {
      "text/html": [
       "<div>\n",
       "<style scoped>\n",
       "    .dataframe tbody tr th:only-of-type {\n",
       "        vertical-align: middle;\n",
       "    }\n",
       "\n",
       "    .dataframe tbody tr th {\n",
       "        vertical-align: top;\n",
       "    }\n",
       "\n",
       "    .dataframe thead th {\n",
       "        text-align: right;\n",
       "    }\n",
       "</style>\n",
       "<table border=\"1\" class=\"dataframe\">\n",
       "  <thead>\n",
       "    <tr style=\"text-align: right;\">\n",
       "      <th></th>\n",
       "      <th>Name</th>\n",
       "    </tr>\n",
       "  </thead>\n",
       "  <tbody>\n",
       "    <tr>\n",
       "      <th>0</th>\n",
       "      <td>Hello</td>\n",
       "    </tr>\n",
       "    <tr>\n",
       "      <th>1</th>\n",
       "      <td>Spider</td>\n",
       "    </tr>\n",
       "    <tr>\n",
       "      <th>2</th>\n",
       "      <td>Captain</td>\n",
       "    </tr>\n",
       "    <tr>\n",
       "      <th>3</th>\n",
       "      <td>Superman</td>\n",
       "    </tr>\n",
       "    <tr>\n",
       "      <th>4</th>\n",
       "      <td>Hello</td>\n",
       "    </tr>\n",
       "    <tr>\n",
       "      <th>5</th>\n",
       "      <td>Superman</td>\n",
       "    </tr>\n",
       "  </tbody>\n",
       "</table>\n",
       "</div>"
      ],
      "text/plain": [
       "       Name\n",
       "0     Hello\n",
       "1    Spider\n",
       "2   Captain\n",
       "3  Superman\n",
       "4     Hello\n",
       "5  Superman"
      ]
     },
     "execution_count": 27,
     "metadata": {},
     "output_type": "execute_result"
    }
   ],
   "source": [
    "Name = [('Hello'),\n",
    "      ('Spider'),\n",
    "      ('Captain'),\n",
    "      ('Superman'),\n",
    "       ('Hello'),\n",
    "       ('Superman')]\n",
    "dfName = pd.DataFrame(Name, columns=['Name'])\n",
    "dfNamedup = dfName[dfName.duplicated()]\n",
    "dfName"
   ]
  },
  {
   "cell_type": "code",
   "execution_count": 38,
   "metadata": {},
   "outputs": [
    {
     "data": {
      "text/html": [
       "<div>\n",
       "<style scoped>\n",
       "    .dataframe tbody tr th:only-of-type {\n",
       "        vertical-align: middle;\n",
       "    }\n",
       "\n",
       "    .dataframe tbody tr th {\n",
       "        vertical-align: top;\n",
       "    }\n",
       "\n",
       "    .dataframe thead th {\n",
       "        text-align: right;\n",
       "    }\n",
       "</style>\n",
       "<table border=\"1\" class=\"dataframe\">\n",
       "  <thead>\n",
       "    <tr style=\"text-align: right;\">\n",
       "      <th></th>\n",
       "      <th>Name</th>\n",
       "      <th>un_dup_hel</th>\n",
       "      <th>bool</th>\n",
       "    </tr>\n",
       "  </thead>\n",
       "  <tbody>\n",
       "    <tr>\n",
       "      <th>0</th>\n",
       "      <td>Hello</td>\n",
       "      <td>unique</td>\n",
       "      <td>0</td>\n",
       "    </tr>\n",
       "    <tr>\n",
       "      <th>1</th>\n",
       "      <td>Spider</td>\n",
       "      <td>unique</td>\n",
       "      <td>1</td>\n",
       "    </tr>\n",
       "    <tr>\n",
       "      <th>2</th>\n",
       "      <td>Captain</td>\n",
       "      <td>unique</td>\n",
       "      <td>1</td>\n",
       "    </tr>\n",
       "    <tr>\n",
       "      <th>3</th>\n",
       "      <td>Superman</td>\n",
       "      <td>unique</td>\n",
       "      <td>0</td>\n",
       "    </tr>\n",
       "    <tr>\n",
       "      <th>4</th>\n",
       "      <td>Hello</td>\n",
       "      <td>duplicate</td>\n",
       "      <td>0</td>\n",
       "    </tr>\n",
       "    <tr>\n",
       "      <th>5</th>\n",
       "      <td>Superman</td>\n",
       "      <td>duplicate</td>\n",
       "      <td>0</td>\n",
       "    </tr>\n",
       "  </tbody>\n",
       "</table>\n",
       "</div>"
      ],
      "text/plain": [
       "       Name un_dup_hel  bool\n",
       "0     Hello     unique     0\n",
       "1    Spider     unique     1\n",
       "2   Captain     unique     1\n",
       "3  Superman     unique     0\n",
       "4     Hello  duplicate     0\n",
       "5  Superman  duplicate     0"
      ]
     },
     "execution_count": 38,
     "metadata": {},
     "output_type": "execute_result"
    }
   ],
   "source": [
    "dfName['un_dup_hel'] = np.where(dfName['Name'].duplicated(keep='first'),'duplicate', 'unique')\n",
    "dfName"
   ]
  },
  {
   "cell_type": "code",
   "execution_count": 34,
   "metadata": {},
   "outputs": [],
   "source": [
    "def boole(x):\n",
    "    if x == 'duplicate':\n",
    "        return 0\n",
    "    return 1"
   ]
  },
  {
   "cell_type": "code",
   "execution_count": 36,
   "metadata": {},
   "outputs": [
    {
     "data": {
      "text/html": [
       "<div>\n",
       "<style scoped>\n",
       "    .dataframe tbody tr th:only-of-type {\n",
       "        vertical-align: middle;\n",
       "    }\n",
       "\n",
       "    .dataframe tbody tr th {\n",
       "        vertical-align: top;\n",
       "    }\n",
       "\n",
       "    .dataframe thead th {\n",
       "        text-align: right;\n",
       "    }\n",
       "</style>\n",
       "<table border=\"1\" class=\"dataframe\">\n",
       "  <thead>\n",
       "    <tr style=\"text-align: right;\">\n",
       "      <th></th>\n",
       "      <th>Name</th>\n",
       "      <th>un_dup_hel</th>\n",
       "      <th>bool</th>\n",
       "    </tr>\n",
       "  </thead>\n",
       "  <tbody>\n",
       "    <tr>\n",
       "      <th>0</th>\n",
       "      <td>Hello</td>\n",
       "      <td>duplicate</td>\n",
       "      <td>0</td>\n",
       "    </tr>\n",
       "    <tr>\n",
       "      <th>1</th>\n",
       "      <td>Spider</td>\n",
       "      <td>unique</td>\n",
       "      <td>1</td>\n",
       "    </tr>\n",
       "    <tr>\n",
       "      <th>2</th>\n",
       "      <td>Captain</td>\n",
       "      <td>unique</td>\n",
       "      <td>1</td>\n",
       "    </tr>\n",
       "    <tr>\n",
       "      <th>3</th>\n",
       "      <td>Superman</td>\n",
       "      <td>duplicate</td>\n",
       "      <td>0</td>\n",
       "    </tr>\n",
       "    <tr>\n",
       "      <th>4</th>\n",
       "      <td>Hello</td>\n",
       "      <td>duplicate</td>\n",
       "      <td>0</td>\n",
       "    </tr>\n",
       "    <tr>\n",
       "      <th>5</th>\n",
       "      <td>Superman</td>\n",
       "      <td>duplicate</td>\n",
       "      <td>0</td>\n",
       "    </tr>\n",
       "  </tbody>\n",
       "</table>\n",
       "</div>"
      ],
      "text/plain": [
       "       Name un_dup_hel  bool\n",
       "0     Hello  duplicate     0\n",
       "1    Spider     unique     1\n",
       "2   Captain     unique     1\n",
       "3  Superman  duplicate     0\n",
       "4     Hello  duplicate     0\n",
       "5  Superman  duplicate     0"
      ]
     },
     "execution_count": 36,
     "metadata": {},
     "output_type": "execute_result"
    }
   ],
   "source": [
    "dfName['bool'] = dfName['un_dup_hel'].apply(boole)\n",
    "dfName"
   ]
  },
  {
   "cell_type": "code",
   "execution_count": 39,
   "metadata": {},
   "outputs": [],
   "source": [
    "list1 = ['a','b','c_1','d_1']\n",
    "s = '''d2234 d45564 d223098 d50923 PETY_354_d3456 d76533\n",
    "d2635 PETY_354 d88593 d324623 HUI_6478_d3553d35626'''"
   ]
  },
  {
   "cell_type": "code",
   "execution_count": 41,
   "metadata": {},
   "outputs": [],
   "source": [
    "d = s.split(' ')"
   ]
  },
  {
   "cell_type": "code",
   "execution_count": 43,
   "metadata": {},
   "outputs": [
    {
     "name": "stdout",
     "output_type": "stream",
     "text": [
      "['d2234']\n",
      "['d45564']\n",
      "['d223098']\n",
      "['d50923']\n",
      "['PETY', '354', 'd3456']\n",
      "['d76533\\nd2635']\n",
      "['PETY', '354']\n",
      "['d88593']\n",
      "['d324623']\n",
      "['HUI', '6478', 'd3553d35626']\n"
     ]
    }
   ],
   "source": [
    "for i in d:\n",
    "    s = i.split('_')\n",
    "    print (s)"
   ]
  },
  {
   "cell_type": "code",
   "execution_count": 50,
   "metadata": {},
   "outputs": [
    {
     "name": "stdout",
     "output_type": "stream",
     "text": [
      "<re.Match object; span=(5, 7), match='hi'>\n",
      "<re.Match object; span=(28, 30), match='of'>\n",
      "None\n"
     ]
    }
   ],
   "source": [
    "import re\n",
    "file = r'C:\\Users\\makka\\Desktop\\file.txt'\n",
    "list1 = ['hi','of','wonderw']\n",
    "pattern = r''\n",
    "for i in list1:\n",
    "    pattern = re.compile(i, re.IGNORECASE)\n",
    "    with open(file,'r') as f:\n",
    "        content = f.read()\n",
    "        test= re.search(pattern,content)\n",
    "        print (test)"
   ]
  },
  {
   "cell_type": "code",
   "execution_count": 52,
   "metadata": {},
   "outputs": [],
   "source": [
    "content = ''\n",
    "lst =  ['hi','world','of']\n",
    "\n",
    "with open(file, 'r') as file_handler:\n",
    "    content = file_handler.read()\n",
    "\n",
    "result = re.findall('|'.join(lst), content)"
   ]
  },
  {
   "cell_type": "code",
   "execution_count": 53,
   "metadata": {},
   "outputs": [
    {
     "data": {
      "text/plain": [
       "['hi', 'world', 'of']"
      ]
     },
     "execution_count": 53,
     "metadata": {},
     "output_type": "execute_result"
    }
   ],
   "source": [
    "result"
   ]
  },
  {
   "cell_type": "code",
   "execution_count": 74,
   "metadata": {},
   "outputs": [
    {
     "data": {
      "text/plain": [
       "['192.168.1.1', '192.168.1.1', '192.168.1.2', '192.168.1.3']"
      ]
     },
     "execution_count": 74,
     "metadata": {},
     "output_type": "execute_result"
    }
   ],
   "source": [
    "import csv\n",
    "\n",
    "with open(r'C:\\Users\\makka\\Desktop\\file.csv', \"r\", encoding='utf-8') as f:\n",
    "    reader = csv.reader(f)\n",
    "    your_list = [e[0].strip().split(\",\")[0] for e in reader if e]\n",
    "your_list[1:]"
   ]
  },
  {
   "cell_type": "code",
   "execution_count": 75,
   "metadata": {},
   "outputs": [
    {
     "data": {
      "text/plain": [
       "['LOI_3456', 'HUI_6478', 'PETY_3564Bacteria1']"
      ]
     },
     "execution_count": 75,
     "metadata": {},
     "output_type": "execute_result"
    }
   ],
   "source": [
    "import csv\n",
    "\n",
    "with open(r'C:\\Users\\makka\\Desktop\\file1.csv', \"r\", encoding='utf-8') as f:\n",
    "    reader = csv.reader(f)\n",
    "    your_list = [e[0].strip().split(\",\")[0] for e in reader if e]\n",
    "your_list[1:]"
   ]
  },
  {
   "cell_type": "code",
   "execution_count": 102,
   "metadata": {},
   "outputs": [
    {
     "data": {
      "text/plain": [
       "'d2234d45564d223098d50923PETY_354_d3456d76533\\nd2635PETY_354d88593d324623HUI_6478_d3553d35626'"
      ]
     },
     "execution_count": 102,
     "metadata": {},
     "output_type": "execute_result"
    }
   ],
   "source": [
    "s = '''d2234 d45564 d223098 d50923 PETY_354_d3456 d76533\n",
    "d2635 PETY_354 d88593 d324623 HUI_6478_d3553d35626'''\n",
    "s.replace(' ','')"
   ]
  },
  {
   "cell_type": "code",
   "execution_count": 79,
   "metadata": {},
   "outputs": [
    {
     "data": {
      "text/plain": [
       "'d2234d45564d223098d50923PETY_354_d3456d76533d2635PETY_354d88593d324623HUI_6478_d3553d35626'"
      ]
     },
     "execution_count": 79,
     "metadata": {},
     "output_type": "execute_result"
    }
   ],
   "source": [
    "import string\n",
    "s.translate({ord(c): None for c in string.whitespace})"
   ]
  },
  {
   "cell_type": "code",
   "execution_count": 80,
   "metadata": {},
   "outputs": [],
   "source": [
    "result = re.findall('|'.join(your_list[1:]), s.translate({ord(c): None for c in string.whitespace}))"
   ]
  },
  {
   "cell_type": "code",
   "execution_count": 81,
   "metadata": {},
   "outputs": [
    {
     "data": {
      "text/plain": [
       "['HUI_6478']"
      ]
     },
     "execution_count": 81,
     "metadata": {},
     "output_type": "execute_result"
    }
   ],
   "source": [
    "result"
   ]
  },
  {
   "cell_type": "code",
   "execution_count": 83,
   "metadata": {},
   "outputs": [
    {
     "name": "stdout",
     "output_type": "stream",
     "text": [
      "arr :  [1, 2, 3, 4, 5]\n",
      "var of arr :  2.0\n",
      "\n",
      "var of arr :  2.0\n",
      "\n",
      "var of arr :  2.0\n"
     ]
    }
   ],
   "source": [
    "import numpy as np  \n",
    "      \n",
    "# 1D array  \n",
    "arr = [1,2,3,4,5]  \n",
    "  \n",
    "print(\"arr : \", arr)  \n",
    "print(\"var of arr : \", np.var(arr))  \n",
    "  \n",
    "print(\"\\nvar of arr : \", np.var(arr, dtype = np.float32))  \n",
    "print(\"\\nvar of arr : \", np.var(arr, dtype = np.float64)) "
   ]
  },
  {
   "cell_type": "code",
   "execution_count": 110,
   "metadata": {},
   "outputs": [
    {
     "name": "stdout",
     "output_type": "stream",
     "text": [
      "Remove all spaces using RegEx:\n",
      "HelloWorldHi\n"
     ]
    }
   ],
   "source": [
    "s = '''  Hello  World \n",
    "\\t\\n\\r\\tHi '''\n",
    "\n",
    "print('Remove all spaces using RegEx:\\n', re.sub(r\"\\s+\", \"\", s), sep='')  # \\s matches all white spaces\n",
    "# print('Remove leading spaces using RegEx:\\n', re.sub(r\"^\\s+\", \"\", s), sep='')  # ^ matches start\n",
    "# print('Remove trailing spaces using RegEx:\\n', re.sub(r\"\\s+$\", \"\", s), sep='')  # $ matches end\n",
    "#print('Remove leading and trailing spaces using RegEx:\\n', re.sub(r\"^\\s+|\\s+$\", \"\", s), sep='')  # | for OR condition\n"
   ]
  },
  {
   "cell_type": "code",
   "execution_count": 111,
   "metadata": {},
   "outputs": [
    {
     "data": {
      "text/plain": [
       "'  Hello  World \\n\\t\\n\\r\\tHi '"
      ]
     },
     "execution_count": 111,
     "metadata": {},
     "output_type": "execute_result"
    }
   ],
   "source": [
    "s"
   ]
  },
  {
   "cell_type": "code",
   "execution_count": 115,
   "metadata": {},
   "outputs": [
    {
     "data": {
      "text/plain": [
       "'  Hello  World Hi '"
      ]
     },
     "execution_count": 115,
     "metadata": {},
     "output_type": "execute_result"
    }
   ],
   "source": [
    "s.replace('\\n', '').replace('\\t','').replace('\\r','')"
   ]
  },
  {
   "cell_type": "code",
   "execution_count": 117,
   "metadata": {},
   "outputs": [
    {
     "data": {
      "text/plain": [
       "'  Hello  World Hi '"
      ]
     },
     "execution_count": 117,
     "metadata": {},
     "output_type": "execute_result"
    }
   ],
   "source": [
    "regex = re.compile(r'[\\n\\r\\t]')\n",
    "regex.sub(\"\", s)"
   ]
  },
  {
   "cell_type": "code",
   "execution_count": 124,
   "metadata": {},
   "outputs": [],
   "source": [
    "import string"
   ]
  },
  {
   "cell_type": "code",
   "execution_count": 125,
   "metadata": {},
   "outputs": [
    {
     "name": "stdout",
     "output_type": "stream",
     "text": [
      "{97: '123', 98: '456', 99: '789'}\n"
     ]
    }
   ],
   "source": [
    "dict = {\"a\": \"123\", \"b\": \"456\", \"c\": \"789\"}\n",
    "string = \"abc\"\n",
    "print(string.maketrans(dict))"
   ]
  },
  {
   "cell_type": "code",
   "execution_count": 145,
   "metadata": {},
   "outputs": [],
   "source": [
    "d1 = {'product': '8', 'order': '8', 'tracking': '3'}\n",
    "d2 = {'order': 1, 'product': 1,'customer':'5'}\n",
    "dict3 = { k: [ d1[k], d2[k] ] if k in d2 else [d1[k]] for k in d1 }"
   ]
  },
  {
   "cell_type": "code",
   "execution_count": 146,
   "metadata": {},
   "outputs": [
    {
     "data": {
      "text/plain": [
       "{'product': ['8', 1], 'order': ['8', 1], 'tracking': ['3']}"
      ]
     },
     "execution_count": 146,
     "metadata": {},
     "output_type": "execute_result"
    }
   ],
   "source": [
    "dict3"
   ]
  },
  {
   "cell_type": "code",
   "execution_count": 153,
   "metadata": {},
   "outputs": [
    {
     "data": {
      "text/plain": [
       "{'product': ['8', 1], 'tracking': ['3'], 'order': ['8', 1], 'customer': ['5']}"
      ]
     },
     "execution_count": 153,
     "metadata": {},
     "output_type": "execute_result"
    }
   ],
   "source": [
    "{k: [d[k] for d in (d1, d2) if k in d] for k in set(d1) | set(d2)}"
   ]
  },
  {
   "cell_type": "code",
   "execution_count": 163,
   "metadata": {},
   "outputs": [
    {
     "name": "stdout",
     "output_type": "stream",
     "text": [
      "{'product': '8', 'order': '8', 'tracking': '3'}\n",
      "{'order': 1, 'product': 1, 'customer': '5'}\n"
     ]
    }
   ],
   "source": [
    "for d in (d1,d2):\n",
    "    print (d)"
   ]
  },
  {
   "cell_type": "code",
   "execution_count": 165,
   "metadata": {},
   "outputs": [
    {
     "data": {
      "text/plain": [
       "defaultdict(list,\n",
       "            {'product': ['8', 1],\n",
       "             'order': ['8', 1],\n",
       "             'tracking': ['3'],\n",
       "             'customer': ['5']})"
      ]
     },
     "execution_count": 165,
     "metadata": {},
     "output_type": "execute_result"
    }
   ],
   "source": [
    "from collections import defaultdict\n",
    "res = defaultdict(list)\n",
    "for key, value in d1.items():\n",
    "    res[key].append(value)\n",
    "\n",
    "for key, value in d2.items():\n",
    "    res[key].append(value)\n",
    "res"
   ]
  },
  {
   "cell_type": "code",
   "execution_count": 166,
   "metadata": {},
   "outputs": [
    {
     "name": "stdout",
     "output_type": "stream",
     "text": [
      "product\n",
      "order\n",
      "tracking\n",
      "order\n",
      "product\n",
      "customer\n"
     ]
    }
   ],
   "source": [
    "for k in list(d1.keys()) + list(d2.keys()):\n",
    "    print (k)"
   ]
  },
  {
   "cell_type": "code",
   "execution_count": 171,
   "metadata": {},
   "outputs": [
    {
     "data": {
      "text/plain": [
       "{'product': ['8', 1], 'tracking': ['3'], 'order': ['8', 1], 'customer': ['5']}"
      ]
     },
     "execution_count": 171,
     "metadata": {},
     "output_type": "execute_result"
    }
   ],
   "source": [
    "d3 = {\n",
    "    k: [d1[k], d2[k]]\n",
    "    if (k in d1 and k in d2)\n",
    "    else [d1[k]]\n",
    "    if k in d1\n",
    "    else [d2[k]]\n",
    "    for k in set(d1) | set(d2)\n",
    "}\n",
    "d3"
   ]
  },
  {
   "cell_type": "code",
   "execution_count": 174,
   "metadata": {},
   "outputs": [
    {
     "data": {
      "text/plain": [
       "defaultdict(list, {1: [2, 3], 2: [3]})"
      ]
     },
     "execution_count": 174,
     "metadata": {},
     "output_type": "execute_result"
    }
   ],
   "source": [
    "tuples = (1, 2), (1, 3), (2, 3)  \n",
    "from collections import defaultdict\n",
    "dic = defaultdict(list)\n",
    "for i, j in tuples:\n",
    "    dic[i].append(j)\n",
    "dic"
   ]
  },
  {
   "cell_type": "code",
   "execution_count": 179,
   "metadata": {},
   "outputs": [
    {
     "data": {
      "text/plain": [
       "defaultdict(list, {1: [2, 3, 4], 2: [3], 3: [1]})"
      ]
     },
     "execution_count": 179,
     "metadata": {},
     "output_type": "execute_result"
    }
   ],
   "source": [
    "a, b = {1:[2, 3], 2:[3]}, {1:[4], 3:[1]}\n",
    "de = defaultdict(list,a)\n",
    "for i, j in b.items():\n",
    "    de[i].extend(j)\n",
    "de"
   ]
  },
  {
   "cell_type": "code",
   "execution_count": 180,
   "metadata": {},
   "outputs": [
    {
     "data": {
      "text/plain": [
       "[{'product': '8', 'order': '8', 'tracking': '3'},\n",
       " {'order': 1, 'product': 1, 'customer': '5'}]"
      ]
     },
     "execution_count": 180,
     "metadata": {},
     "output_type": "execute_result"
    }
   ],
   "source": [
    "lis = [d1,d2]\n",
    "lis"
   ]
  },
  {
   "cell_type": "code",
   "execution_count": 191,
   "metadata": {},
   "outputs": [
    {
     "data": {
      "text/plain": [
       "{'product': ['8', 1], 'order': ['8', 1], 'tracking': ['3'], 'customer': ['5']}"
      ]
     },
     "execution_count": 191,
     "metadata": {},
     "output_type": "execute_result"
    }
   ],
   "source": [
    "dict3 = {k: [d1[k], d2[k]] if k in d1 and k in d2 else [d1[k]] if k in d1 else [d2[k]] for i in [d1,d2] for k in i }\n",
    "dict3"
   ]
  },
  {
   "cell_type": "code",
   "execution_count": 205,
   "metadata": {},
   "outputs": [
    {
     "data": {
      "text/plain": [
       "[{'product': '8', 'order': '8', 'tracking': '3'},\n",
       " {'order': 1, 'product': 1, 'customer': '5'}]"
      ]
     },
     "execution_count": 205,
     "metadata": {},
     "output_type": "execute_result"
    }
   ],
   "source": [
    "list_ = []\n",
    "for i in [d1, d2]:\n",
    "    list_.append(i)\n",
    "#     for k in i:\n",
    "#         print (k)\n",
    "list_\n"
   ]
  },
  {
   "cell_type": "code",
   "execution_count": 208,
   "metadata": {},
   "outputs": [
    {
     "data": {
      "text/plain": [
       "{'product': ['8', 1], 'order': ['8', 1], 'tracking': ['3'], 'customer': ['5']}"
      ]
     },
     "execution_count": 208,
     "metadata": {},
     "output_type": "execute_result"
    }
   ],
   "source": [
    "dict_={}\n",
    "for d in list_:\n",
    "    for k,v in d.items():\n",
    "        dict_.setdefault(k,[]).append(v)\n",
    "dict_"
   ]
  },
  {
   "cell_type": "code",
   "execution_count": 212,
   "metadata": {},
   "outputs": [
    {
     "data": {
      "text/plain": [
       "{'customer', 'order', 'product', 'tracking'}"
      ]
     },
     "execution_count": 212,
     "metadata": {},
     "output_type": "execute_result"
    }
   ],
   "source": [
    "combined_key = {key for d in list_ for key in d}\n",
    "combined_key"
   ]
  },
  {
   "cell_type": "code",
   "execution_count": 216,
   "metadata": {},
   "outputs": [
    {
     "data": {
      "text/plain": [
       "{'customer': ['5'], 'tracking': ['3'], 'order': ['8', 1], 'product': ['8', 1]}"
      ]
     },
     "execution_count": 216,
     "metadata": {},
     "output_type": "execute_result"
    }
   ],
   "source": [
    "super_dict = {key:[d[key] for d in list_ if key in d] for key in combined_key}\n",
    "super_dict"
   ]
  },
  {
   "cell_type": "code",
   "execution_count": 201,
   "metadata": {},
   "outputs": [
    {
     "name": "stdout",
     "output_type": "stream",
     "text": [
      "key2\n",
      "key1\n"
     ]
    }
   ],
   "source": [
    "dictio =[{'key1':'value1'}, {'key1':'value2'}, {'key1':'value3'}, {'key2':'value4'}, {'key2':'value5'}]\n",
    "for k in set().union(*dictio):\n",
    "    print (k)"
   ]
  },
  {
   "cell_type": "code",
   "execution_count": 210,
   "metadata": {},
   "outputs": [
    {
     "data": {
      "text/plain": [
       "{'key2': ['value4', 'value5'], 'key1': ['value1', 'value2', 'value3']}"
      ]
     },
     "execution_count": 210,
     "metadata": {},
     "output_type": "execute_result"
    }
   ],
   "source": [
    "combined_key_set= {key for d in dictio for key in d}\n",
    "su_di = {key : [d[key] for d in dictio if key in d] for key in combined_key_set}\n",
    "su_di\n"
   ]
  },
  {
   "cell_type": "code",
   "execution_count": 217,
   "metadata": {},
   "outputs": [
    {
     "data": {
      "text/plain": [
       "[{'product': '8', 'order': '8', 'tracking': '3'},\n",
       " {'order': 1, 'product': 1, 'customer': '5'}]"
      ]
     },
     "execution_count": 217,
     "metadata": {},
     "output_type": "execute_result"
    }
   ],
   "source": [
    "list_"
   ]
  },
  {
   "cell_type": "code",
   "execution_count": 221,
   "metadata": {},
   "outputs": [
    {
     "data": {
      "text/plain": [
       "{'key1': ['value1', 'value2', 'value3'], 'key2': ['value4', 'value5']}"
      ]
     },
     "execution_count": 221,
     "metadata": {},
     "output_type": "execute_result"
    }
   ],
   "source": [
    "{key : [d[key] for d in dictio if key in d] for key in  [key for d in dictio for key in d]}"
   ]
  },
  {
   "cell_type": "code",
   "execution_count": 245,
   "metadata": {},
   "outputs": [
    {
     "name": "stdout",
     "output_type": "stream",
     "text": [
      "Overwriting ex15.py\n"
     ]
    }
   ],
   "source": [
    "%%file ex15.py\n",
    "from sys import argv\n",
    "script, user_name = argv\n",
    "prompt = '> '\n",
    "print (\"Hi %s, I'm the %s script.\" % (user_name, script))\n",
    "print (\"I'd like to ask you a few questions.\")\n",
    "print (\"Do you like me %s?\" % user_name)\n",
    "likes = (input(prompt))\n",
    "print (\"Where do you live %s?\" % user_name)\n",
    "lives = input(prompt)\n",
    "print (\"What kind of computer do you have?\")\n",
    "computer = input(prompt)"
   ]
  },
  {
   "cell_type": "code",
   "execution_count": 246,
   "metadata": {},
   "outputs": [
    {
     "data": {
      "text/plain": [
       "[\"Hi mak, I'm the ex15.py script.\",\n",
       " \"I'd like to ask you a few questions.\",\n",
       " 'Do you like me mak?',\n",
       " '> Traceback (most recent call last):',\n",
       " '  File \"ex15.py\", line 7, in <module>',\n",
       " '    likes = (input(prompt))',\n",
       " 'EOFError: EOF when reading a line']"
      ]
     },
     "execution_count": 246,
     "metadata": {},
     "output_type": "execute_result"
    }
   ],
   "source": [
    "%%!\n",
    "python ex15.py mak"
   ]
  },
  {
   "cell_type": "code",
   "execution_count": 253,
   "metadata": {},
   "outputs": [
    {
     "data": {
      "text/plain": [
       "45"
      ]
     },
     "execution_count": 253,
     "metadata": {},
     "output_type": "execute_result"
    }
   ],
   "source": [
    "#max_val with out inbuilt function\n",
    "def max_l(l):\n",
    "    max_val = l[0]\n",
    "    for i in l:\n",
    "        if (i > max_val):\n",
    "            max_val = i\n",
    "    return max_val\n",
    "l = [1,2,3,44,2,44,45]\n",
    "x = max_l(l)\n",
    "x"
   ]
  },
  {
   "cell_type": "code",
   "execution_count": 254,
   "metadata": {},
   "outputs": [
    {
     "name": "stdout",
     "output_type": "stream",
     "text": [
      "2019\n"
     ]
    }
   ],
   "source": [
    "class Person:\n",
    "  def __init__(self, fname, lname):\n",
    "    self.firstname = fname\n",
    "    self.lastname = lname\n",
    "\n",
    "  def printname(self):\n",
    "    print(self.firstname, self.lastname)\n",
    "\n",
    "class Student(Person):\n",
    "  def __init__(self, fname, lname, year):\n",
    "    Person.__init__(self, fname, lname)\n",
    "    self.graduationyear = year\n",
    "\n",
    "x = Student(\"Mike\", \"Olsen\", 2019)\n",
    "print(x.graduationyear)"
   ]
  },
  {
   "cell_type": "code",
   "execution_count": 257,
   "metadata": {},
   "outputs": [
    {
     "data": {
      "text/plain": [
       "['abc', '123', '!@#']"
      ]
     },
     "execution_count": 257,
     "metadata": {},
     "output_type": "execute_result"
    }
   ],
   "source": [
    "items_ = ['abc', '123', '!@#']\n",
    "items = map(lambda x: x + '\\n', items_)\n",
    "items_"
   ]
  },
  {
   "cell_type": "code",
   "execution_count": 258,
   "metadata": {},
   "outputs": [
    {
     "name": "stdout",
     "output_type": "stream",
     "text": [
      "1\n",
      "-1\n"
     ]
    },
    {
     "data": {
      "text/plain": [
       "('0.000000', '1.000000', '0.000000')"
      ]
     },
     "execution_count": 258,
     "metadata": {},
     "output_type": "execute_result"
    }
   ],
   "source": [
    "def plusMinus():\n",
    "    n = float(input())\n",
    "    lst = [int(x) for x in input().split()]\n",
    "    return (format(len([x for x in lst if x > 0])/n, \".6f\")), (format(len([x for x in lst if x < 0])/n, \".6f\")), (format(len([x for x in lst if x == 0])/n, \".6f\"))\n",
    "plusMinus()"
   ]
  },
  {
   "cell_type": "code",
   "execution_count": 264,
   "metadata": {},
   "outputs": [
    {
     "name": "stdout",
     "output_type": "stream",
     "text": [
      "3\n",
      "0 0 0\n",
      "positve % 0.000000\n",
      "negative % 0.000000\n",
      "zero % 1.000000\n"
     ]
    }
   ],
   "source": [
    "n = float(input())\n",
    "lst = [int(x) for x in input().split()]\n",
    "print ('positve %', format(len([x for x in lst if x > 0])/n, \".6f\"))\n",
    "print ('negative %',format(len([x for x in lst if x < 0])/n, \".6f\"))\n",
    "print ('zero %',format(len([x for x in lst if x == 0])/n, \".6f\"))"
   ]
  },
  {
   "cell_type": "code",
   "execution_count": 268,
   "metadata": {},
   "outputs": [
    {
     "name": "stdout",
     "output_type": "stream",
     "text": [
      "1\n",
      "2\n",
      "2\n"
     ]
    }
   ],
   "source": [
    "A= [-2,1,2]\n",
    "for i in range(len(A)-1):\n",
    "    for j in range(i+1, len(A)):\n",
    "        print (j)"
   ]
  },
  {
   "cell_type": "code",
   "execution_count": null,
   "metadata": {},
   "outputs": [],
   "source": []
  },
  {
   "cell_type": "code",
   "execution_count": null,
   "metadata": {},
   "outputs": [],
   "source": []
  }
 ],
 "metadata": {
  "kernelspec": {
   "display_name": "Python 3",
   "language": "python",
   "name": "python3"
  },
  "language_info": {
   "codemirror_mode": {
    "name": "ipython",
    "version": 3
   },
   "file_extension": ".py",
   "mimetype": "text/x-python",
   "name": "python",
   "nbconvert_exporter": "python",
   "pygments_lexer": "ipython3",
   "version": "3.7.3"
  }
 },
 "nbformat": 4,
 "nbformat_minor": 2
}
