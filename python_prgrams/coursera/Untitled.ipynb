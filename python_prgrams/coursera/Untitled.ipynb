{
 "cells": [
  {
   "cell_type": "code",
   "execution_count": 10,
   "metadata": {
    "collapsed": false
   },
   "outputs": [
    {
     "name": "stdout",
     "output_type": "stream",
     "text": [
      "Hi\n"
     ]
    }
   ],
   "source": [
    "def outer_function(): #outer function doesnt take any params\n",
    "    message = 'Hi'  # Locat variable\n",
    "    def inner_function(): #Inner function will print the result\n",
    "        print message\n",
    "    return inner_function()  ##\n",
    "outer_function()\n"
   ]
  },
  {
   "cell_type": "code",
   "execution_count": 12,
   "metadata": {
    "collapsed": false
   },
   "outputs": [
    {
     "name": "stdout",
     "output_type": "stream",
     "text": [
      "Hi\n"
     ]
    }
   ],
   "source": [
    "def outer_function(): #outer function doesnt take any params\n",
    "    message = 'Hi'  # Locat variable\n",
    "    def inner_function(): #Inner function will print the result\n",
    "        print message\n",
    "    return inner_function\n",
    "my_func = outer_function()\n",
    "my_func()"
   ]
  },
  {
   "cell_type": "code",
   "execution_count": 15,
   "metadata": {
    "collapsed": false
   },
   "outputs": [
    {
     "name": "stdout",
     "output_type": "stream",
     "text": [
      "Hi\n",
      "Bye\n"
     ]
    }
   ],
   "source": [
    "def outer_function(msg):\n",
    "    message = msg # Locat variable\n",
    "    def inner_function(): #Inner function will print the result\n",
    "        print message\n",
    "    return inner_function\n",
    "hi_func = outer_function('Hi')\n",
    "bye_func = outer_function('Bye')\n",
    "hi_func()\n",
    "bye_func()"
   ]
  },
  {
   "cell_type": "code",
   "execution_count": 16,
   "metadata": {
    "collapsed": false
   },
   "outputs": [
    {
     "name": "stdout",
     "output_type": "stream",
     "text": [
      "Hi\n",
      "Bye\n"
     ]
    }
   ],
   "source": [
    "def outer_function(msg):\n",
    "    def inner_function(): #Inner function will print the result\n",
    "        print msg\n",
    "    return inner_function\n",
    "hi_func = outer_function('Hi')\n",
    "bye_func = outer_function('Bye')\n",
    "hi_func()\n",
    "bye_func()"
   ]
  },
  {
   "cell_type": "code",
   "execution_count": 17,
   "metadata": {
    "collapsed": false
   },
   "outputs": [
    {
     "name": "stdout",
     "output_type": "stream",
     "text": [
      "Hi\n",
      "Bye\n"
     ]
    }
   ],
   "source": [
    "#decorator > taking other function as argument\n",
    "def decorator_function(messsage):\n",
    "    def wrapper_function(): #Inner function will print the result\n",
    "        print messsage\n",
    "    return wrapper_function\n",
    "hi_func = outer_function('Hi')\n",
    "bye_func = outer_function('Bye')\n",
    "hi_func()\n",
    "bye_func()\n"
   ]
  },
  {
   "cell_type": "code",
   "execution_count": 19,
   "metadata": {
    "collapsed": false
   },
   "outputs": [
    {
     "name": "stdout",
     "output_type": "stream",
     "text": [
      "display function ran\n"
     ]
    }
   ],
   "source": [
    "#DECORATOER\n",
    "#decorator > taking other function as argument\n",
    "def decorator_function(orginal_function):\n",
    "    def wrapper_function(): #Inner function will print the result\n",
    "        return orginal_function()\n",
    "    return wrapper_function\n",
    "def display():\n",
    "    print 'display function ran'\n",
    "decorated_dispaly = decorator_function(display) #dispaly function = orginal function with no decorator and return \n",
    "#the orginal function in this case its dislay function\n",
    "#decorator function waiting wrapper function to be executed will\n",
    "#return the orginal function\n",
    "decorated_dispaly() #actuallly executing  wrapper function  which then execting display function and print\n",
    "#display function ran "
   ]
  },
  {
   "cell_type": "code",
   "execution_count": 22,
   "metadata": {
    "collapsed": false
   },
   "outputs": [
    {
     "name": "stdout",
     "output_type": "stream",
     "text": [
      "wrapper executed this before display\n",
      "display function ran\n"
     ]
    }
   ],
   "source": [
    "#decorator will help to add functionality to our existing functions, by adding functionallty inside the wrapper\n",
    "def decorator_function(orginal_function):\n",
    "    def wrapper_function(): \n",
    "        print ('wrapper executed this before {}'.format(orginal_function.__name__))#We can see this message\n",
    "#print first before the orginal function\n",
    "        return orginal_function()\n",
    "    return wrapper_function\n",
    "def display():\n",
    "    print 'display function ran'\n",
    "decorated_dispaly = decorator_function(display)\n",
    "decorated_dispaly()"
   ]
  },
  {
   "cell_type": "code",
   "execution_count": 24,
   "metadata": {
    "collapsed": false
   },
   "outputs": [
    {
     "name": "stdout",
     "output_type": "stream",
     "text": [
      "wrapper executed this before display\n",
      "display function ran\n"
     ]
    }
   ],
   "source": [
    "#decorator will help to add functionality to our existing functions, by adding functionallty inside the wrapper\n",
    "def decorator_function(orginal_function):\n",
    "    def wrapper_function(): \n",
    "        print ('wrapper executed this before {}'.format(orginal_function.__name__))#We can see this message\n",
    "#print first before the orginal function\n",
    "        return orginal_function()\n",
    "    return wrapper_function\n",
    "@decorator_function\n",
    "def display():\n",
    "    print 'display function ran'\n",
    "decorated_dispaly = decorator_function(display)\n",
    "display()\n",
    "\n",
    "#@decorator_function => display = decorator_function(display) \n",
    "#decorated_dispaly()"
   ]
  },
  {
   "cell_type": "code",
   "execution_count": 94,
   "metadata": {
    "collapsed": false
   },
   "outputs": [
    {
     "name": "stdout",
     "output_type": "stream",
     "text": [
      "display info ran with the args(mak,28)\n",
      "wrapper executed this before display\n",
      "display function ran\n"
     ]
    }
   ],
   "source": [
    "def decorator_function(orginal_function):\n",
    "    def wrapper_function(): \n",
    "        print ('wrapper executed this before {}'.format(orginal_function.__name__))#We can see this message\n",
    "#print first before the orginal function\n",
    "        return orginal_function()\n",
    "    return wrapper_function\n",
    "@decorator_function\n",
    "def display():\n",
    "    print 'display function ran'\n",
    "decorated_dispaly = decorator_function(display)\n",
    "def display_info(name,age):\n",
    "    print ('display info ran with the args({},{})'.format(name,age))\n",
    "display_info('mak',28)\n",
    "display()"
   ]
  },
  {
   "cell_type": "code",
   "execution_count": 35,
   "metadata": {
    "collapsed": false
   },
   "outputs": [
    {
     "name": "stdout",
     "output_type": "stream",
     "text": [
      "wrapper executed this before display_info\n",
      "display info ran with the args(mak,28)\n",
      "wrapper executed this before display\n",
      "display function ran\n"
     ]
    }
   ],
   "source": [
    "def decorator_function(orginal_function):\n",
    "    def wrapper_function(*args,**kwargs): \n",
    "        print ('wrapper executed this before {}'.format(orginal_function.__name__))#We can see this message\n",
    "#print first before the orginal function\n",
    "        return orginal_function(*args,**kwargs)\n",
    "    return wrapper_function\n",
    "@decorator_function\n",
    "def display():\n",
    "    print 'display function ran'\n",
    "decorated_dispaly = decorator_function(display)\n",
    "@decorator_function\n",
    "def display_info(name,age):\n",
    "    print ('display info ran with the args({},{})'.format(name,age))\n",
    "display_info('mak',28)  # if we dont give *args and **kwargs it will throw error as argument 2 given \n",
    "display()"
   ]
  },
  {
   "cell_type": "code",
   "execution_count": 47,
   "metadata": {
    "collapsed": false
   },
   "outputs": [
    {
     "name": "stdout",
     "output_type": "stream",
     "text": [
      "Call executed this before display_info\n",
      "display info ran with the args(mak,28)\n",
      "Call executed this before display\n",
      "display function ran\n"
     ]
    }
   ],
   "source": [
    "def decorator_function(orginal_function):\n",
    "    def wrapper_function(*args,**kwargs): \n",
    "        print ('wrapper executed this before {}'.format(orginal_function.__name__))#We can see this message\n",
    "#print first before the orginal function\n",
    "        return orginal_function(*args,**kwargs)\n",
    "    return wrapper_function\n",
    "\n",
    "class decorator_class(object):\n",
    "    def __init__(self,orginal_function):\n",
    "        self.orginal_function = orginal_function\n",
    "    def __call__(self, *args,**kwargs):\n",
    "        print ('Call executed this before {}'.format(self.orginal_function.__name__))\n",
    "        return self.orginal_function(*args,**kwargs)\n",
    "\n",
    "@decorator_class\n",
    "def display():\n",
    "    print 'display function ran'\n",
    "decorated_dispaly = decorator_function(display)\n",
    "@decorator_class\n",
    "def display_info(name,age):\n",
    "    print ('display info ran with the args({},{})'.format(name,age))\n",
    "display_info('mak',28)\n",
    "display()"
   ]
  },
  {
   "cell_type": "code",
   "execution_count": 49,
   "metadata": {
    "collapsed": false
   },
   "outputs": [
    {
     "name": "stdout",
     "output_type": "stream",
     "text": [
      "wrapper executed this before display_info\n",
      "display info ran with the args(mak,28)\n",
      "wrapper executed this before display\n",
      "display function ran\n"
     ]
    }
   ],
   "source": [
    "def decorator_function(orginal_function):\n",
    "    def wrapper_function(*args,**kwargs): \n",
    "        print ('wrapper executed this before {}'.format(orginal_function.__name__))#We can see this message\n",
    "#print first before the orginal function\n",
    "        return orginal_function(*args,**kwargs)\n",
    "    return wrapper_function\n",
    "@decorator_function\n",
    "def display():\n",
    "    print 'display function ran'\n",
    "decorated_dispaly = decorator_function(display)\n",
    "@decorator_function\n",
    "def display_info(name,age):\n",
    "    print ('display info ran with the args({},{})'.format(name,age))\n",
    "display_info('mak',28)  # if we dont give *args and **kwargs it will throw error as argument 2 given \n",
    "display()"
   ]
  },
  {
   "cell_type": "code",
   "execution_count": 95,
   "metadata": {
    "collapsed": false
   },
   "outputs": [
    {
     "name": "stdout",
     "output_type": "stream",
     "text": [
      "display info ran with 2 argument (mak,28)\n"
     ]
    }
   ],
   "source": [
    "def my_logger(orig_func):\n",
    "    import logging\n",
    "    logging.basicConfig(filename='{}.log'.format(orig_func.__name__), level=logging.INFO)\n",
    "    def wrapper(*args, **kwargs):\n",
    "        logging.info('Rans with args:{}, and kwargs {}'.format(args,kwargs))\n",
    "        return orig_func(*args, **kwargs)\n",
    "    return wrapper\n",
    "@my_logger\n",
    "def display_info(name,age):\n",
    "    print 'display info ran with 2 argument ({},{})'.format(name,age)\n",
    "display_info('mak',28)\n",
    "#run as python file , you will login report as display_info.log"
   ]
  },
  {
   "cell_type": "code",
   "execution_count": 99,
   "metadata": {
    "collapsed": false
   },
   "outputs": [
    {
     "name": "stdout",
     "output_type": "stream",
     "text": [
      "display info ran with 2 argument (mak,28)\n"
     ]
    }
   ],
   "source": [
    "def my_logger(orig_func):\n",
    "    import logging\n",
    "    logging.basicConfig(filename='{}.log'.format(orig_func.__name__), level=logging.INFO)\n",
    "    def wrapper(*args, **kwargs):\n",
    "        logging.info('Ran with args:{}, kwargs:{}'.format(args,kwargs))\n",
    "        return orig_func(*args, **kwargs)\n",
    "    return wrapper\n",
    "@my_logger\n",
    "def display_info(name,age):\n",
    "    print 'display info ran with 2 argument ({},{})'.format(name,age)\n",
    "display_info('mak', 28)\n",
    "                     "
   ]
  },
  {
   "cell_type": "code",
   "execution_count": 100,
   "metadata": {
    "collapsed": false
   },
   "outputs": [
    {
     "name": "stdout",
     "output_type": "stream",
     "text": [
      "display info ran with 2 argument (mak,28)\n",
      "display_info ran in : 1.00041294098 sec\n"
     ]
    }
   ],
   "source": [
    "def my_logger(orig_func):\n",
    "    import logging\n",
    "    logging.basicConfig(filename='{}.log'.format(orig_func.__name__), level=logging.INFO)\n",
    "    def wrapper(*args, **kwargs):\n",
    "        logging.info('Ran with args:{}, kwargs:{}'.format(args,kwargs))\n",
    "        return orig_func(*args, **kwargs)\n",
    "    return wrapper\n",
    "def my_timer(orig_func):\n",
    "    import time\n",
    "    def wrapper(*args, **kwargs):\n",
    "        t1 = time.time()\n",
    "        result = orig_func(*args, **kwargs)\n",
    "        t2 = time.time() -t1\n",
    "        print ('{} ran in : {} sec'.format(orig_func.__name__,t2))\n",
    "        return result\n",
    "    return wrapper\n",
    "import time\n",
    "    \n",
    "@my_timer\n",
    "def display_info(name,age):\n",
    "    time.sleep(1)\n",
    "    print 'display info ran with 2 argument ({},{})'.format(name,age)\n",
    "display_info('mak', 28)\n",
    "                     "
   ]
  },
  {
   "cell_type": "code",
   "execution_count": 82,
   "metadata": {
    "collapsed": false
   },
   "outputs": [
    {
     "name": "stdout",
     "output_type": "stream",
     "text": [
      "display info ran with 2 argument (mak,28)\n",
      "wrapper ran in : 1.00123000145 sec\n"
     ]
    }
   ],
   "source": [
    "def my_logger(orig_func):\n",
    "    import logging\n",
    "    logging.basicConfig(filename='{}.log'.format(orig_func.__name__), level=logging.INFO)\n",
    "    def wrapper(*args, **kwargs):\n",
    "        logging.info('Ran with args:{}, kwargs:{}'.format(args,kwargs))\n",
    "        return orig_func(*args, **kwargs)\n",
    "    return wrapper\n",
    "def my_timer(orig_func):\n",
    "    import time\n",
    "    def wrapper(*args, **kwargs):\n",
    "        t1 = time.time()\n",
    "        result = orig_func(*args, **kwargs)\n",
    "        t2 = time.time() -t1\n",
    "        print ('{} ran in : {} sec'.format(orig_func.__name__,t2))\n",
    "        return result\n",
    "    return wrapper\n",
    "import time\n",
    "    \n",
    "@my_timer\n",
    "@my_logger\n",
    "def display_info(name,age):\n",
    "    time.sleep(1)\n",
    "    print 'display info ran with 2 argument ({},{})'.format(name,age)\n",
    "display_info('mak', 28) #Some random output which we dont want, we want display in ran 1.0 sec in the \n",
    "#log file output wont added"
   ]
  },
  {
   "cell_type": "code",
   "execution_count": 108,
   "metadata": {
    "collapsed": false
   },
   "outputs": [
    {
     "name": "stdout",
     "output_type": "stream",
     "text": [
      "display info ran with 2 argument (mak,28)\n",
      "display_info ran in : 1.00116610527 sec\n",
      "wrapper\n"
     ]
    }
   ],
   "source": [
    " def my_logger(orig_func):\n",
    "    import logging\n",
    "    logging.basicConfig(filename='{}.log'.format(orig_func.__name__), level=logging.INFO)\n",
    "    def wrapper(*args, **kwargs):\n",
    "        logging.info('Ran with args:{}, kwargs:{}'.format(args,kwargs))\n",
    "        return orig_func(*args, **kwargs)\n",
    "    return wrapper\n",
    "def my_timer(orig_func):\n",
    "    import time\n",
    "    def wrapper(*args, **kwargs):\n",
    "        t1 = time.time()\n",
    "        result = orig_func(*args, **kwargs)\n",
    "        t2 = time.time() -t1\n",
    "        print ('{} ran in : {} sec'.format(orig_func.__name__,t2))\n",
    "        return result\n",
    "    return wrapper\n",
    "import time\n",
    "\n",
    "@my_logger\n",
    "@my_timer\n",
    "def display_info(name,age):\n",
    "    time.sleep(1)\n",
    "    print 'display info ran with 2 argument ({},{})'.format(name,age)\n",
    "display_info('mak', 28) #Some random output which we dont want, we want display in ran 1.0 sec in the \n",
    "#log file output wont added\n",
    "print (display_info.__name__)\n"
   ]
  },
  {
   "cell_type": "code",
   "execution_count": 113,
   "metadata": {
    "collapsed": false
   },
   "outputs": [
    {
     "name": "stdout",
     "output_type": "stream",
     "text": [
      "display info ran with 2 argument (mak,28)\n",
      "display_info ran in : 1.0012140274 sec\n",
      "wrapper ran in : 1.00131797791 sec\n",
      "wrapper\n"
     ]
    }
   ],
   "source": [
    " def my_logger(orig_func):\n",
    "    import logging\n",
    "    logging.basicConfig(filename='{}.log'.format(orig_func.__name__), level=logging.INFO)\n",
    "    def wrapper(*args, **kwargs):\n",
    "        logging.info('Ran with args:{}, kwargs:{}'.format(args,kwargs))\n",
    "        return orig_func(*args, **kwargs)\n",
    "    return wrapper\n",
    "def my_timer(orig_func):\n",
    "    import time\n",
    "    def wrapper(*args, **kwargs):\n",
    "        t1 = time.time()\n",
    "        result = orig_func(*args, **kwargs)\n",
    "        t2 = time.time() -t1\n",
    "        print ('{} ran in : {} sec'.format(orig_func.__name__,t2))\n",
    "        return result\n",
    "    return wrapper\n",
    "import time\n",
    "\n",
    "@my_logger\n",
    "\n",
    "@my_timer\n",
    "def display_info(name,age):\n",
    "    time.sleep(1)\n",
    "    print 'display info ran with 2 argument ({},{})'.format(name,age)\n",
    "display_info = my_logger(my_timer(display_info))\n",
    "display_info('mak', 28) \n",
    "print (display_info.__name__)\n"
   ]
  },
  {
   "cell_type": "code",
   "execution_count": 110,
   "metadata": {
    "collapsed": false
   },
   "outputs": [
    {
     "name": "stdout",
     "output_type": "stream",
     "text": [
      "display info ran with 2 argument (mak,28)\n",
      "display_info ran in : 1.00119590759 sec\n",
      "wrapper\n"
     ]
    }
   ],
   "source": [
    "def my_logger(orig_func):\n",
    "    import logging\n",
    "    logging.basicConfig(filename='{}.log'.format(orig_func.__name__), level=logging.INFO)\n",
    "    def wrapper(*args, **kwargs):\n",
    "        logging.info('Ran with args:{}, kwargs:{}'.format(args,kwargs))\n",
    "        return orig_func(*args, **kwargs)\n",
    "    return wrapper\n",
    "def my_timer(orig_func):\n",
    "    import time\n",
    "    def wrapper(*args, **kwargs):\n",
    "        t1 = time.time()\n",
    "        result = orig_func(*args, **kwargs)\n",
    "        t2 = time.time() -t1\n",
    "        print ('{} ran in : {} sec'.format(orig_func.__name__,t2))\n",
    "        return result\n",
    "    return wrapper\n",
    "import time\n",
    "\n",
    "#@my_logger\n",
    "#@my_timer\n",
    "def display_info(name,age):\n",
    "    time.sleep(1)\n",
    "    print 'display info ran with 2 argument ({},{})'.format(name,age)\n",
    "display_info = my_timer(display_info)\n",
    "display_info('mak',28)\n",
    "\n",
    "print (display_info.__name__)\n"
   ]
  },
  {
   "cell_type": "code",
   "execution_count": 93,
   "metadata": {
    "collapsed": false
   },
   "outputs": [
    {
     "name": "stdout",
     "output_type": "stream",
     "text": [
      "display_info\n",
      "display info ran with 2 argument (mak,28)\n",
      "display_info ran in : 1.00178098679 sec\n"
     ]
    }
   ],
   "source": [
    "from functools import wraps \n",
    "def my_logger(orig_func):\n",
    "    import logging\n",
    "    logging.basicConfig(filename='{}.log'.format(orig_func.__name__), level=logging.INFO)\n",
    "    @wraps(orig_func)\n",
    "    def wrapper(*args, **kwargs):\n",
    "        logging.info('Ran with args:{}, kwargs:{}'.format(args,kwargs))\n",
    "        return orig_func(*args, **kwargs)\n",
    "    return wrapper\n",
    "def my_timer(orig_func):\n",
    "    import time\n",
    "    @wraps(orig_func)\n",
    "    def wrapper(*args, **kwargs):\n",
    "        t1 = time.time()\n",
    "        result = orig_func(*args, **kwargs)\n",
    "        t2 = time.time() -t1\n",
    "        print ('{} ran in : {} sec'.format(orig_func.__name__,t2))\n",
    "        return result\n",
    "    return wrapper\n",
    "import time\n",
    "\n",
    "#@my_logger\n",
    "#@my_timer\n",
    "def display_info(name,age):\n",
    "    time.sleep(1)\n",
    "    print 'display info ran with 2 argument ({},{})'.format(name,age)\n",
    "display_info = my_timer(display_info)\n",
    "\n",
    "print (display_info.__name__)\n",
    "\n",
    "display_info('mak',28)"
   ]
  },
  {
   "cell_type": "code",
   "execution_count": 107,
   "metadata": {
    "collapsed": false
   },
   "outputs": [
    {
     "name": "stdout",
     "output_type": "stream",
     "text": [
      "display info ran with 2 argument (mak,28)\n",
      "display_info ran in : 1.0013051033 sec\n"
     ]
    }
   ],
   "source": [
    "def my_logger(orig_func):\n",
    "    import logging\n",
    "    logging.basicConfig(filename='{}.log'.format(orig_func.__name__), level=logging.INFO)\n",
    "    def wrapper(*args, **kwargs):\n",
    "        logging.info('Ran with args:{}, kwargs:{}'.format(args,kwargs))\n",
    "        return orig_func(*args, **kwargs)\n",
    "    return wrapper\n",
    "def my_timer(orig_func):\n",
    "    import time\n",
    "    def wrapper(*args, **kwargs):\n",
    "        t1 = time.time()\n",
    "        result = orig_func(*args, **kwargs)\n",
    "        t2 = time.time() -t1\n",
    "        print ('{} ran in : {} sec'.format(orig_func.__name__,t2))\n",
    "        return result\n",
    "    return wrapper\n",
    "import time\n",
    "    \n",
    "@my_logger\n",
    "@my_timer \n",
    "\n",
    "def display_info(name,age):\n",
    "    time.sleep(1)\n",
    "    print 'display info ran with 2 argument ({},{})'.format(name,age)\n",
    "display_info('mak', 28) #Some random output which we dont want, we want display in ran 1.0 sec in the \n",
    "#log file output wont added"
   ]
  },
  {
   "cell_type": "code",
   "execution_count": null,
   "metadata": {
    "collapsed": true
   },
   "outputs": [],
   "source": []
  }
 ],
 "metadata": {
  "kernelspec": {
   "display_name": "Python 2",
   "language": "python",
   "name": "python2"
  },
  "language_info": {
   "codemirror_mode": {
    "name": "ipython",
    "version": 2
   },
   "file_extension": ".py",
   "mimetype": "text/x-python",
   "name": "python",
   "nbconvert_exporter": "python",
   "pygments_lexer": "ipython2",
   "version": "2.7.13"
  }
 },
 "nbformat": 4,
 "nbformat_minor": 0
}
