{
 "cells": [
  {
   "cell_type": "code",
   "execution_count": 1,
   "metadata": {},
   "outputs": [],
   "source": [
    "s = '''*** Test Cases ***\n",
    "Validate testcase1_dmz-interface-tunnel\n",
    "${ping_fl_rl_sat}= Run Process python testcases/testcase1_dmz-interface-tunnel.py shell=True stdout=${TEMPDIR}/HC/HC_01_stdout.txt stderr=${TEMPDIR}/HC/HC_01_stderr.txt\n",
    "Log ${ping_fl_rl_sat} console=${True}\n",
    "Should Be Equal As Integers ${ping_fl_rl_sat.rc} 0\n",
    "Should Contain ${ping_fl_rl_sat.stdout} failed=0\n",
    "Should Contain ${ping_fl_rl_sat.stdout} unreachable=0\n",
    "\n",
    "'''\n",
    "list_python_files = ['mak.py','man.py']\n",
    "\n",
    "def repeat_to_length(s):\n",
    "    for i in list_python_files:\n",
    "        s1 = s.replace('testcase1_dmz-interface-tunnel.py',i)\n",
    "        print  (s1 * 3)"
   ]
  },
  {
   "cell_type": "code",
   "execution_count": 2,
   "metadata": {},
   "outputs": [
    {
     "name": "stdout",
     "output_type": "stream",
     "text": [
      "*** Test Cases ***\n",
      "Validate testcase1_dmz-interface-tunnel\n",
      "${ping_fl_rl_sat}= Run Process python testcases/mak.py shell=True stdout=${TEMPDIR}/HC/HC_01_stdout.txt stderr=${TEMPDIR}/HC/HC_01_stderr.txt\n",
      "Log ${ping_fl_rl_sat} console=${True}\n",
      "Should Be Equal As Integers ${ping_fl_rl_sat.rc} 0\n",
      "Should Contain ${ping_fl_rl_sat.stdout} failed=0\n",
      "Should Contain ${ping_fl_rl_sat.stdout} unreachable=0\n",
      "\n",
      "*** Test Cases ***\n",
      "Validate testcase1_dmz-interface-tunnel\n",
      "${ping_fl_rl_sat}= Run Process python testcases/mak.py shell=True stdout=${TEMPDIR}/HC/HC_01_stdout.txt stderr=${TEMPDIR}/HC/HC_01_stderr.txt\n",
      "Log ${ping_fl_rl_sat} console=${True}\n",
      "Should Be Equal As Integers ${ping_fl_rl_sat.rc} 0\n",
      "Should Contain ${ping_fl_rl_sat.stdout} failed=0\n",
      "Should Contain ${ping_fl_rl_sat.stdout} unreachable=0\n",
      "\n",
      "*** Test Cases ***\n",
      "Validate testcase1_dmz-interface-tunnel\n",
      "${ping_fl_rl_sat}= Run Process python testcases/mak.py shell=True stdout=${TEMPDIR}/HC/HC_01_stdout.txt stderr=${TEMPDIR}/HC/HC_01_stderr.txt\n",
      "Log ${ping_fl_rl_sat} console=${True}\n",
      "Should Be Equal As Integers ${ping_fl_rl_sat.rc} 0\n",
      "Should Contain ${ping_fl_rl_sat.stdout} failed=0\n",
      "Should Contain ${ping_fl_rl_sat.stdout} unreachable=0\n",
      "\n",
      "\n",
      "*** Test Cases ***\n",
      "Validate testcase1_dmz-interface-tunnel\n",
      "${ping_fl_rl_sat}= Run Process python testcases/man.py shell=True stdout=${TEMPDIR}/HC/HC_01_stdout.txt stderr=${TEMPDIR}/HC/HC_01_stderr.txt\n",
      "Log ${ping_fl_rl_sat} console=${True}\n",
      "Should Be Equal As Integers ${ping_fl_rl_sat.rc} 0\n",
      "Should Contain ${ping_fl_rl_sat.stdout} failed=0\n",
      "Should Contain ${ping_fl_rl_sat.stdout} unreachable=0\n",
      "\n",
      "*** Test Cases ***\n",
      "Validate testcase1_dmz-interface-tunnel\n",
      "${ping_fl_rl_sat}= Run Process python testcases/man.py shell=True stdout=${TEMPDIR}/HC/HC_01_stdout.txt stderr=${TEMPDIR}/HC/HC_01_stderr.txt\n",
      "Log ${ping_fl_rl_sat} console=${True}\n",
      "Should Be Equal As Integers ${ping_fl_rl_sat.rc} 0\n",
      "Should Contain ${ping_fl_rl_sat.stdout} failed=0\n",
      "Should Contain ${ping_fl_rl_sat.stdout} unreachable=0\n",
      "\n",
      "*** Test Cases ***\n",
      "Validate testcase1_dmz-interface-tunnel\n",
      "${ping_fl_rl_sat}= Run Process python testcases/man.py shell=True stdout=${TEMPDIR}/HC/HC_01_stdout.txt stderr=${TEMPDIR}/HC/HC_01_stderr.txt\n",
      "Log ${ping_fl_rl_sat} console=${True}\n",
      "Should Be Equal As Integers ${ping_fl_rl_sat.rc} 0\n",
      "Should Contain ${ping_fl_rl_sat.stdout} failed=0\n",
      "Should Contain ${ping_fl_rl_sat.stdout} unreachable=0\n",
      "\n",
      "\n"
     ]
    }
   ],
   "source": [
    "repeat_to_length(s)"
   ]
  },
  {
   "cell_type": "code",
   "execution_count": 19,
   "metadata": {},
   "outputs": [
    {
     "name": "stdout",
     "output_type": "stream",
     "text": [
      "hi mak.py\n",
      "hi man.py\n"
     ]
    }
   ],
   "source": [
    "test_str = '''hi hello'''\n",
    "list_python_files = ['mak.py','man.py']\n",
    "for i in list_python_files:\n",
    "        s1 = test_str.replace('hello',i)\n",
    "        print (s1)"
   ]
  },
  {
   "cell_type": "code",
   "execution_count": 26,
   "metadata": {},
   "outputs": [
    {
     "data": {
      "text/plain": [
       "'line 1\\nline 2\\nline 3'"
      ]
     },
     "execution_count": 26,
     "metadata": {},
     "output_type": "execute_result"
    }
   ],
   "source": [
    "args = (1,2,3)\n",
    "'''line {0}\n",
    "line {1}\n",
    "line {2}'''.format(*args)"
   ]
  },
  {
   "cell_type": "code",
   "execution_count": 383,
   "metadata": {},
   "outputs": [
    {
     "name": "stdout",
     "output_type": "stream",
     "text": [
      "hi mak.py\n",
      "hi man.py\n"
     ]
    }
   ],
   "source": [
    "test_str = 'hi hello'\n",
    "list_python_files = ['mak.py','man.py']\n",
    "for i in list_python_files:\n",
    "        s1 = test_str.replace('hello',i)\n",
    "        print (s1)"
   ]
  },
  {
   "cell_type": "code",
   "execution_count": 2,
   "metadata": {},
   "outputs": [],
   "source": [
    "from collections import Counter\n",
    "# Complete the checkMagazine function below.\n",
    "def checkMagazine(magazine, note):\n",
    "    \n",
    "    if len(magazine) < len(note):\n",
    "        return False\n",
    "    magazine_counter = Counter(magazine)\n",
    "    ransom_counter = Counter(note)\n",
    "    for word, count in ransom_counter.items():\n",
    "        if word not in magazine_counter or magazine_counter.get(word) < count:\n",
    "            #return False\n",
    "            return ('No')\n",
    "    #return True\n",
    "    return ('Yes')"
   ]
  },
  {
   "cell_type": "code",
   "execution_count": 4,
   "metadata": {},
   "outputs": [
    {
     "data": {
      "text/plain": [
       "'No'"
      ]
     },
     "execution_count": 4,
     "metadata": {},
     "output_type": "execute_result"
    }
   ],
   "source": [
    "checkMagazine('two times three is not four', 'two times two is four')"
   ]
  },
  {
   "cell_type": "code",
   "execution_count": 5,
   "metadata": {},
   "outputs": [],
   "source": [
    "def ransom_note(magazine, rasom):\n",
    "    return (Counter(rasom) - Counter(magazine)) == {}"
   ]
  },
  {
   "cell_type": "code",
   "execution_count": 7,
   "metadata": {},
   "outputs": [
    {
     "data": {
      "text/plain": [
       "True"
      ]
     },
     "execution_count": 7,
     "metadata": {},
     "output_type": "execute_result"
    }
   ],
   "source": [
    "ransom_note('two times three is not four', 'two times  is four')"
   ]
  },
  {
   "cell_type": "code",
   "execution_count": 8,
   "metadata": {},
   "outputs": [],
   "source": [
    "def twoStrings(s1, s2):\n",
    "    return 'YES' if any(i in s2 for i in s1 ) else 'NO'\n",
    "# s1 = 'rtyub'\n",
    "# s2= 'abcd'\n",
    "# any(i in s2 for i in s1 ) will evaluate each s1 element as follows:\n",
    "# 'r' in 'abcd' ===> False\n",
    "# 't' in 'abcd' ===> False\n",
    "# 'y' in 'abcd' ===> False\n",
    "# 'u' in 'abcd' ===> False\n",
    "# 'b' in 'abcd' ===> True"
   ]
  },
  {
   "cell_type": "code",
   "execution_count": 9,
   "metadata": {},
   "outputs": [],
   "source": [
    "def twoStrings(s1, s2): return 'YES' if set(s1) & set(s2) else 'NO'"
   ]
  },
  {
   "cell_type": "code",
   "execution_count": 16,
   "metadata": {},
   "outputs": [
    {
     "data": {
      "text/plain": [
       "'NO'"
      ]
     },
     "execution_count": 16,
     "metadata": {},
     "output_type": "execute_result"
    }
   ],
   "source": [
    "def twostring(a,b):\n",
    "    found = 'NO'\n",
    "    for i in s1:\n",
    "        if i in s2:\n",
    "            found = 'YES'\n",
    "            break\n",
    "    return found\n",
    "s1= 'rtyu'\n",
    "s2= 'abcd'\n",
    "twostring(s1,s2)"
   ]
  },
  {
   "cell_type": "code",
   "execution_count": 20,
   "metadata": {},
   "outputs": [
    {
     "name": "stdout",
     "output_type": "stream",
     "text": [
      "[-2, -6, 7, 8]\n",
      "[2, 5, 2, -1]\n"
     ]
    }
   ],
   "source": [
    "matrix = [[-2,  5,  3,  2],\n",
    "          [ 9, -6,  5,  1],\n",
    "          [ 3,  2,  7,  3],\n",
    "          [-1,  8, -4,  8]]\n",
    "l = len(matrix[0])\n",
    "print ([matrix[i][i] for i in range(l)]  )            # [-2, -6, 7,  8]\n",
    "print( [matrix[l-1-i][i] for i in range(l-1,-1,-1)] )"
   ]
  },
  {
   "cell_type": "code",
   "execution_count": 25,
   "metadata": {},
   "outputs": [
    {
     "data": {
      "text/plain": [
       "'PM'"
      ]
     },
     "execution_count": 25,
     "metadata": {},
     "output_type": "execute_result"
    }
   ],
   "source": [
    "time = '07:05:45PM'\n",
    "h, m, s = map(int, time[:-2].split(':'))\n",
    "p = time[-2:]\n",
    "p"
   ]
  },
  {
   "cell_type": "code",
   "execution_count": 29,
   "metadata": {},
   "outputs": [],
   "source": [
    "test = 'google\\\\nfirefox'"
   ]
  },
  {
   "cell_type": "code",
   "execution_count": 27,
   "metadata": {},
   "outputs": [],
   "source": [
    "import pprint"
   ]
  },
  {
   "cell_type": "code",
   "execution_count": 32,
   "metadata": {},
   "outputs": [
    {
     "data": {
      "text/plain": [
       "\"'google\\\\\\\\nfirefox'\""
      ]
     },
     "execution_count": 32,
     "metadata": {},
     "output_type": "execute_result"
    }
   ],
   "source": [
    "pprint.pformat(test,indent =2)"
   ]
  },
  {
   "cell_type": "code",
   "execution_count": 30,
   "metadata": {},
   "outputs": [
    {
     "name": "stdout",
     "output_type": "stream",
     "text": [
      "google\\nfirefox\n"
     ]
    }
   ],
   "source": [
    "print (test)"
   ]
  },
  {
   "cell_type": "code",
   "execution_count": 34,
   "metadata": {},
   "outputs": [
    {
     "data": {
      "text/plain": [
       "'a b v'"
      ]
     },
     "execution_count": 34,
     "metadata": {},
     "output_type": "execute_result"
    }
   ],
   "source": [
    "string = \"a\\nb\\rv\"\n",
    "new_string = \" \".join(string.splitlines())\n",
    "new_string"
   ]
  },
  {
   "cell_type": "code",
   "execution_count": 37,
   "metadata": {},
   "outputs": [
    {
     "data": {
      "text/plain": [
       "'google\\\\nfirefox'"
      ]
     },
     "execution_count": 37,
     "metadata": {},
     "output_type": "execute_result"
    }
   ],
   "source": [
    "test = 'google\\\\nfirefox'\n",
    "import pprint\n",
    "eval(pprint.pformat(test)) # google\\\\nfirefox\n"
   ]
  },
  {
   "cell_type": "code",
   "execution_count": 42,
   "metadata": {},
   "outputs": [
    {
     "data": {
      "text/plain": [
       "\"'google\\\\nfirefox'\""
      ]
     },
     "execution_count": 42,
     "metadata": {},
     "output_type": "execute_result"
    }
   ],
   "source": [
    "test = 'google\\\\nfirefox'\n",
    "pprint.pformat(test).split(\"\\\\\")[0] + \"\\\\\" + pprint.pformat(test).split(\"\\\\\")[2]"
   ]
  },
  {
   "cell_type": "code",
   "execution_count": 43,
   "metadata": {},
   "outputs": [],
   "source": [
    "cars = {'1': [{'createurl': 'http://localhost:8080/api', 'deleteurl': 'http://localhost:8080/api/running/dmz/services/interface-tunnel/Headend,Remote0/', 'device_running_config_cmd': 'enable\\\\nshow running-config', 'devicename': 'iso0', 'devicepassword': 'admin', 'deviceusername': 'admin', 'islsa': False, 'nsoipaddress': '127.0.0.1', 'nsopassword': 'admin', 'nsosshport': 2026, 'nsousername': 'admin', 'requestmethod': 'POST'}], '2-add-vlan-to-router-tp': [{'createurl': 'http://localhost:8080/api/running/dmz/services', 'deleteurl': 'http://localhost:8080/api/running/dmz/services/interface-tunnel/Headend,Remote0/', 'device_running_config_cmd': 'enable\\\\nshow running-config', 'devicename': 'iso0', 'devicepassword': 'admin', 'deviceusername': 'admin', 'islsa': False, 'nsoipaddress': '127.0.0.1', 'nsopassword': 'admin', 'nsosshport': 2026, 'nsousername': 'admin', 'requestmethod': 'POST'}], '3-add-vlan-to-switch-aruba': [{'createurl': 'http://localhost:8080/api/running/dmz/services', 'deleteurl': 'http://localhost:8080/api/running/dmz/services/interface-tunnel/Headend,Remote0/', 'device_running_config_cmd': 'enable\\\\nshow running-config', 'devicename': 'iso0', 'devicepassword': 'admin', 'deviceusername': 'admin', 'islsa': False, 'nsoipaddress': '127.0.0.1', 'nsopassword': 'admin', 'nsosshport': 2026, 'nsousername': 'admin', 'requestmethod': 'POST'}], '4-add-vlan-to-switch-tp': [{'createurl': 'http://localhost:8080/api/running/dmz/services', 'deleteurl': 'http://localhost:8080/api/running/dmz/services/interface-tunnel/Headend,Remote0/', 'device_running_config_cmd': 'enable\\\\nshow running-config', 'devicename': 'iso0', 'devicepassword': 'admin', 'deviceusername': 'admin', 'islsa': False, 'nsoipaddress': '127.0.0.1', 'nsopassword': 'admin', 'nsosshport': 2026, 'nsousername': 'admin', 'requestmethod': 'POST'}], '5-config-switchport': [{'createurl': 'http://localhost:8080/api/running/dmz/services', 'deleteurl': 'http://localhost:8080/api/running/dmz/services/interface-tunnel/Headend,Remote0/', 'device_running_config_cmd': 'enable\\\\nshow running-config', 'devicename': 'iso0', 'devicepassword': 'admin', 'deviceusername': 'admin', 'islsa': False, 'nsoipaddress': '127.0.0.1', 'nsopassword': 'admin', 'nsosshport': 2026, 'nsousername': 'admin', 'requestmethod': 'POST'}]}"
   ]
  },
  {
   "cell_type": "code",
   "execution_count": 49,
   "metadata": {},
   "outputs": [],
   "source": [
    "test = {'db1': [{'url': 'http://localhost:8080/api', 'cmd': 'test\\\\nshow databases ', 'request': 'POST'}], 'db2': [{'url': 'http://localhost:8080/api', 'cmd': 'test\\\\nshow databases ', 'request': 'POST'}]}"
   ]
  },
  {
   "cell_type": "code",
   "execution_count": 50,
   "metadata": {},
   "outputs": [
    {
     "name": "stdout",
     "output_type": "stream",
     "text": [
      "{\"db1\": [{\"url\": \"http://localhost:8080/api\", \"cmd\": \"test\\\\nshow databases \", \"request\": \"POST\"}], \"db2\": [{\"url\": \"http://localhost:8080/api\", \"cmd\": \"test\\\\nshow databases \", \"request\": \"POST\"}]}\n"
     ]
    }
   ],
   "source": [
    "import json\n",
    "print (json.dumps(test))"
   ]
  },
  {
   "cell_type": "code",
   "execution_count": 51,
   "metadata": {},
   "outputs": [
    {
     "name": "stdout",
     "output_type": "stream",
     "text": [
      "{'db1': [{'url': 'http://localhost:8080/api', 'cmd': 'test\\\\nshow databases ', 'request': 'POST'}], 'db2': [{'url': 'http://localhost:8080/api', 'cmd': 'test\\\\nshow databases ', 'request': 'POST'}]}\n"
     ]
    }
   ],
   "source": [
    "print (test)"
   ]
  },
  {
   "cell_type": "code",
   "execution_count": 54,
   "metadata": {},
   "outputs": [
    {
     "data": {
      "text/plain": [
       "['Author: nicoalabdou',\n",
       " 'Tags: wakatanka productions court métrage kino session humour cantat bertrand noir désir sombres héros mer medine marie trintignant femme droit des femmes nicoalabdou pute soumise',\n",
       " 'Posted: 06 June 2009']"
      ]
     },
     "execution_count": 54,
     "metadata": {},
     "output_type": "execute_result"
    }
   ],
   "source": [
    "import re\n",
    "my_str = u'ucourt métrage pour kino session volume 18\\nThème: O sombres héros\\nContraintes: sous titrés\\nAuthor: nicoalabdou\\nTags: wakatanka productions court métrage kino session humour cantat bertrand noir désir sombres héros mer medine marie trintignant femme droit des femmes nicoalabdou pute soumise\\nPosted: 06 June 2009\\nRating: 1.3\\nVotes: 3'\n",
    "\n",
    "my_tags = ['\\S+'] # gets all tags\n",
    "my_tags = ['Tags','Author','Posted'] # selected tags\n",
    "regex = re.compile(r'''\n",
    "    \\n                     # all key-value pairs are on separate lines\n",
    "    (                      # start group to return\n",
    "       (?:{0}):            # placeholder for tags to detect '\\S+' == all\n",
    "        \\s                 # the space between ':' and value\n",
    "       .*                  # the value\n",
    "    )                      # end group to return\n",
    "    '''.format('|'.join(my_tags)), re.VERBOSE)\n",
    "\n",
    "\n",
    "regex.sub('',my_str) # return my_str without matching key-vaue lines\n",
    "regex.findall(my_str) # return matched key-value lines"
   ]
  },
  {
   "cell_type": "code",
   "execution_count": 13,
   "metadata": {},
   "outputs": [
    {
     "name": "stdout",
     "output_type": "stream",
     "text": [
      "C:\\Users\\makka\\Videos\n"
     ]
    }
   ],
   "source": [
    "#15.1  File names and paths\n",
    "import os\n",
    "cwd = os.getcwd()\n",
    "print (cwd)"
   ]
  },
  {
   "cell_type": "code",
   "execution_count": 14,
   "metadata": {},
   "outputs": [
    {
     "data": {
      "text/plain": [
       "'C:\\\\Users\\\\makka\\\\Videos\\\\memo.txt'"
      ]
     },
     "execution_count": 14,
     "metadata": {},
     "output_type": "execute_result"
    }
   ],
   "source": [
    "os.path.abspath('memo.txt')"
   ]
  },
  {
   "cell_type": "code",
   "execution_count": 15,
   "metadata": {},
   "outputs": [
    {
     "data": {
      "text/plain": [
       "False"
      ]
     },
     "execution_count": 15,
     "metadata": {},
     "output_type": "execute_result"
    }
   ],
   "source": [
    "os.path.exists('memo.txt')"
   ]
  },
  {
   "cell_type": "code",
   "execution_count": 16,
   "metadata": {},
   "outputs": [
    {
     "data": {
      "text/plain": [
       "False"
      ]
     },
     "execution_count": 16,
     "metadata": {},
     "output_type": "execute_result"
    }
   ],
   "source": [
    "os.path.isdir('memo.txt')"
   ]
  },
  {
   "cell_type": "code",
   "execution_count": 17,
   "metadata": {},
   "outputs": [
    {
     "data": {
      "text/plain": [
       "['Captures', 'desktop.ini']"
      ]
     },
     "execution_count": 17,
     "metadata": {},
     "output_type": "execute_result"
    }
   ],
   "source": [
    "os.listdir(cwd)"
   ]
  },
  {
   "cell_type": "code",
   "execution_count": 23,
   "metadata": {},
   "outputs": [],
   "source": [
    "import os"
   ]
  },
  {
   "cell_type": "code",
   "execution_count": 25,
   "metadata": {},
   "outputs": [
    {
     "name": "stdout",
     "output_type": "stream",
     "text": [
      "desktop.ini\n",
      "a.txt\n",
      "b.txt\n",
      "c.txt\n",
      "d.txt\n",
      "s.txt\n"
     ]
    }
   ],
   "source": [
    "#I wanted to go through these files and figure out which of the text files \n",
    "# were really captions and which were junk and then delete the bad files.\n",
    "# The first thing to do was to get a simple inventory of how many text \n",
    "# files I had in of the sub-folders using the following program:\n",
    "count = 0\n",
    "for (dirname,dirs,files) in os.walk('.'):\n",
    "    for filename in files:\n",
    "        print (filename)"
   ]
  },
  {
   "cell_type": "code",
   "execution_count": 132,
   "metadata": {},
   "outputs": [
    {
     "name": "stdout",
     "output_type": "stream",
     "text": [
      "22 .\\Captures\\a.txt\n",
      "22 .\\Captures\\b.txt\n",
      "23 .\\Captures\\c.txt\n",
      "23 .\\Captures\\d.txt\n",
      "0 .\\Captures\\s.txt\n"
     ]
    }
   ],
   "source": [
    "# how many files end with ``.txt'', the next thing to do is try to automatically\n",
    "# determine in Python which files are bad and which files are good. \n",
    "# So we write a simple program to print out the files and the size of each file:\n",
    "for (dirname,dirs,files) in os.walk('.'):\n",
    "    for filename in files:\n",
    "        if filename.endswith('.txt'):\n",
    "            thefile = os.path.join(dirname,filename)\n",
    "            #print (thefile)\n",
    "            print (os.path.getsize(thefile),thefile)\n"
   ]
  },
  {
   "cell_type": "code",
   "execution_count": 125,
   "metadata": {},
   "outputs": [
    {
     "name": "stdout",
     "output_type": "stream",
     "text": [
      "2 .\\Captures\\a.txt\n",
      "['mobile horse rider\\n', '\\n']\n",
      "2 .\\Captures\\b.txt\n",
      "['Testing test 1234.\\n', '\\n']\n",
      "3 .\\Captures\\c.txt\n",
      "['\\n', '\\n', 'Sent from my iPhone']\n",
      "3 .\\Captures\\d.txt\n",
      "['\\n', '\\n', 'Sent from my iPhone']\n"
     ]
    }
   ],
   "source": [
    "# Scanning the output, we notice that some files are pretty short and a lot of the files are pretty \n",
    "# large and the same size (2578 and 2565). When we take a look at a few of these larger files by hand, \n",
    "#it looks like the large files are nothing but a\n",
    "# generic bit of identical HTML that came in from mail sent to my system from my T-Mobile phone:\n",
    "# <html>\n",
    "#         <head>\n",
    "#                 <title>T-Mobile</title>\n",
    "# ...\n",
    "# Skimming through the file, it looks like there is no good information in these files so we can probably delete them.\n",
    "# But before we delete the files, we will write a program to look for files that are more than \n",
    "# one line long and show the contents of the file. We will not bother showing ourselves those files that are exactly\n",
    "# 2578 or 2565 characters long since we know that these files have no useful information.\n",
    "\n",
    "for (dirname,dirs,files) in os.walk('.'):\n",
    "    for filename in files:\n",
    "        if filename.endswith('.txt'):\n",
    "            thefile = os.path.join(dirname,filename)\n",
    "            size =  (os.path.getsize(thefile),thefile)\n",
    "            if size == 22 or size == 23:\n",
    "                continue\n",
    "            fhand = open(thefile,'r')\n",
    "            lines = list()\n",
    "            for line in fhand:\n",
    "                lines.append(line)\n",
    "                #print (line)\n",
    "            fhand.close()\n",
    "            #print (lines)\n",
    "            \n",
    "            if len(lines) > 1:\n",
    "                print (len(lines), thefile)\n",
    "                print (lines[:4])"
   ]
  },
  {
   "cell_type": "code",
   "execution_count": 126,
   "metadata": {},
   "outputs": [
    {
     "name": "stdout",
     "output_type": "stream",
     "text": [
      "2 .\\Captures\\a.txt\n",
      "['mobile horse rider\\n', '\\n']\n",
      "2 .\\Captures\\b.txt\n",
      "['Testing test 1234.\\n', '\\n']\n"
     ]
    }
   ],
   "source": [
    "#If i dont want the line which starts from \\n need to avoid those lines\n",
    "for (dirname,dirs,files) in os.walk('.'):\n",
    "    for filename in files:\n",
    "        if filename.endswith('.txt'):\n",
    "            thefile = os.path.join(dirname,filename)\n",
    "            size =  (os.path.getsize(thefile),thefile)\n",
    "            if size == 22 or size == 23:\n",
    "                continue\n",
    "            fhand = open(thefile,'r')\n",
    "            lines = list()\n",
    "            for line in fhand:\n",
    "                lines.append(line)\n",
    "                #print (line)\n",
    "            fhand.close()\n",
    "            #print (lines)\n",
    "            if len(lines) == 3 and lines[2].startswith('Sent from my iPhone'):\n",
    "                continue\n",
    "            if len(lines) > 1:\n",
    "                print (len(lines), thefile)\n",
    "                print (lines[:4])"
   ]
  },
  {
   "cell_type": "code",
   "execution_count": 127,
   "metadata": {},
   "outputs": [
    {
     "name": "stdout",
     "output_type": "stream",
     "text": [
      "T-Mobile: .\\Captures\\a.txt\n",
      "T-Mobile: .\\Captures\\b.txt\n",
      "iPhone: .\\Captures\\c.txt\n",
      "iPhone: .\\Captures\\d.txt\n"
     ]
    }
   ],
   "source": [
    "for (dirname,dirs,files) in os.walk('.'):\n",
    "    for filename in files:\n",
    "        if filename.endswith('.txt'):\n",
    "            thefile = os.path.join(dirname,filename)\n",
    "            size =  (os.path.getsize(thefile),thefile)\n",
    "            #if size[0] == 22 or size[0] == 23:\n",
    "            if size[0] == 22 :\n",
    "                print ('T-Mobile:',thefile)\n",
    "                #os.remove(thefile)\n",
    "                continue\n",
    "            fhand = open(thefile,'r')\n",
    "            lines = list()\n",
    "            for line in fhand:\n",
    "                lines.append(line)\n",
    "                #print (lines)\n",
    "            fhand.close()\n",
    "            if len(lines) == 3 and lines[2].startswith('Sent from my iPhone'):\n",
    "                print ('iPhone:', thefile)\n",
    "                #os.remove(thefile)\n",
    "                continue\n",
    "                "
   ]
  },
  {
   "cell_type": "code",
   "execution_count": 111,
   "metadata": {},
   "outputs": [
    {
     "name": "stdout",
     "output_type": "stream",
     "text": [
      "T-Mobile: .\\Captures\\a.txt\n",
      "T-Mobile: .\\Captures\\b.txt\n",
      "iPhone: .\\Captures\\c.txt\n",
      "iPhone: .\\Captures\\d.txt\n"
     ]
    }
   ],
   "source": [
    "result ={'T-Mobile':[],'iPhone':[]}\n",
    "size = {22:[], 23:[]}\n",
    "for (dirname,dirs,files) in os.walk('.'):\n",
    "    for filename in files:\n",
    "        if filename.endswith('.txt'):\n",
    "            thefile = os.path.join(dirname,filename)\n",
    "            size =  (os.path.getsize(thefile),thefile)\n",
    "            if size[0] == 22 :\n",
    "                print ('T-Mobile:',thefile)\n",
    "                result['T-Mobile'].append(thefile)\n",
    "                continue\n",
    "            if size[0] == 23 :\n",
    "                print ('iPhone:', thefile)\n",
    "                result['iPhone'].append(thefile)\n",
    "                continue\n",
    "                "
   ]
  },
  {
   "cell_type": "code",
   "execution_count": 112,
   "metadata": {},
   "outputs": [
    {
     "data": {
      "text/plain": [
       "{'T-Mobile': ['.\\\\Captures\\\\a.txt', '.\\\\Captures\\\\b.txt'],\n",
       " 'iPhone': ['.\\\\Captures\\\\c.txt', '.\\\\Captures\\\\d.txt']}"
      ]
     },
     "execution_count": 112,
     "metadata": {},
     "output_type": "execute_result"
    }
   ],
   "source": [
    "result"
   ]
  },
  {
   "cell_type": "code",
   "execution_count": 122,
   "metadata": {},
   "outputs": [
    {
     "data": {
      "text/plain": [
       "['.\\\\Captures\\\\a.txt', '.\\\\Captures\\\\b.txt']"
      ]
     },
     "execution_count": 122,
     "metadata": {},
     "output_type": "execute_result"
    }
   ],
   "source": [
    "import os\n",
    "T_Mobile = []\n",
    "iPhone = []\n",
    "for (dirname,dirs,files) in os.walk('.'):\n",
    "    for filename in files:\n",
    "        if filename.endswith('.txt'):\n",
    "            thefile = os.path.join(dirname,filename)\n",
    "            size =  (os.path.getsize(thefile),thefile)\n",
    "            if size[0] == 22 :\n",
    "                #print ('T-Mobile:',thefile)\n",
    "                T_Mobile.append(thefile);\n",
    "                continue\n",
    "            if size[0] == 23 :\n",
    "                #print ('iPhone:', thefile)\n",
    "                iPhone.append(thefile);\n",
    "                continue\n",
    "T_Mobile"
   ]
  },
  {
   "cell_type": "code",
   "execution_count": 133,
   "metadata": {},
   "outputs": [
    {
     "name": "stdout",
     "output_type": "stream",
     "text": [
      "iPhone:  .\\Captures\\d.txt\n"
     ]
    }
   ],
   "source": [
    "import os\n",
    "import re\n",
    "\n",
    "for (dirname, dirs, files) in os.walk('.'):\n",
    "    for filename in files:\n",
    "        if filename.endswith('.txt'):\n",
    "            thefile = os.path.join(dirname, filename)\n",
    "            #print (thefile)\n",
    "            with open(thefile, 'r') as fhand:  # open the file using with formula is preferred\n",
    "                # this block is for classifying the files\n",
    "                for line in fhand:\n",
    "                    if re.match('t[ .-]?mobile', line.lower()):\n",
    "                        print('T-Mobile: ', thefile)\n",
    "                        break\n",
    "                    elif re.match('iphone', line.lower()):\n",
    "                        print('iPhone: ', thefile)\n",
    "                        break"
   ]
  },
  {
   "cell_type": "code",
   "execution_count": 141,
   "metadata": {},
   "outputs": [
    {
     "data": {
      "text/plain": [
       "[{'pid': 1244, 'name': 'firefox.exe'},\n",
       " {'pid': 3184, 'name': 'firefox.exe'},\n",
       " {'pid': 5428, 'name': 'firefox.exe'},\n",
       " {'pid': 6272, 'name': 'firefox.exe'},\n",
       " {'pid': 8336, 'name': 'firefox.exe'},\n",
       " {'pid': 11224, 'name': 'firefox.exe'},\n",
       " {'pid': 14032, 'name': 'firefox.exe'},\n",
       " {'pid': 14920, 'name': 'firefox.exe'},\n",
       " {'pid': 17068, 'name': 'firefox.exe'},\n",
       " {'pid': 19760, 'name': 'firefox.exe'},\n",
       " {'pid': 23192, 'name': 'firefox.exe'}]"
      ]
     },
     "execution_count": 141,
     "metadata": {},
     "output_type": "execute_result"
    }
   ],
   "source": [
    "import psutil\n",
    "[p.info for p in psutil.process_iter(attrs=['pid', 'name']) if 'firefox' in p.info['name']]"
   ]
  },
  {
   "cell_type": "code",
   "execution_count": 139,
   "metadata": {},
   "outputs": [
    {
     "data": {
      "text/plain": [
       "11"
      ]
     },
     "execution_count": 139,
     "metadata": {},
     "output_type": "execute_result"
    }
   ],
   "source": [
    "len([p.info for p in psutil.process_iter(attrs=['pid', 'name']) if 'firefox' in p.info['name']])"
   ]
  },
  {
   "cell_type": "code",
   "execution_count": 142,
   "metadata": {},
   "outputs": [
    {
     "name": "stdout",
     "output_type": "stream",
     "text": [
      "Collecting pymongo\n",
      "  Downloading https://files.pythonhosted.org/packages/57/b0/acf286a558e19dc0992354181c8650dffc79fced47a4555e49ca70acf426/pymongo-3.8.0-cp37-cp37m-win_amd64.whl (317kB)\n",
      "Installing collected packages: pymongo\n",
      "Successfully installed pymongo-3.8.0\n"
     ]
    }
   ],
   "source": [
    "!pip install pymongo"
   ]
  },
  {
   "cell_type": "code",
   "execution_count": 352,
   "metadata": {},
   "outputs": [],
   "source": [
    "from pymongo import MongoClient"
   ]
  },
  {
   "cell_type": "code",
   "execution_count": 353,
   "metadata": {},
   "outputs": [],
   "source": [
    "client = MongoClient()"
   ]
  },
  {
   "cell_type": "code",
   "execution_count": 354,
   "metadata": {},
   "outputs": [
    {
     "name": "stdout",
     "output_type": "stream",
     "text": [
      "MongoClient(host=['localhost:27017'], document_class=dict, tz_aware=False, connect=True)\n"
     ]
    }
   ],
   "source": [
    "print (client)"
   ]
  },
  {
   "cell_type": "code",
   "execution_count": 355,
   "metadata": {},
   "outputs": [],
   "source": [
    "#client = MongoClient('localhost', '27017')"
   ]
  },
  {
   "cell_type": "code",
   "execution_count": 356,
   "metadata": {},
   "outputs": [],
   "source": [
    "client = MongoClient('mongodb://localhost:27017')"
   ]
  },
  {
   "cell_type": "code",
   "execution_count": 357,
   "metadata": {},
   "outputs": [],
   "source": [
    "db  = client['test-database']"
   ]
  },
  {
   "cell_type": "code",
   "execution_count": 358,
   "metadata": {},
   "outputs": [
    {
     "name": "stdout",
     "output_type": "stream",
     "text": [
      "Database(MongoClient(host=['localhost:27017'], document_class=dict, tz_aware=False, connect=True), 'test-database')\n"
     ]
    }
   ],
   "source": [
    "print (db)"
   ]
  },
  {
   "cell_type": "code",
   "execution_count": 371,
   "metadata": {},
   "outputs": [
    {
     "name": "stdout",
     "output_type": "stream",
     "text": [
      "Collection(Database(MongoClient(host=['localhost:27017'], document_class=dict, tz_aware=False, connect=True), 'test-database'), 'courses')\n"
     ]
    }
   ],
   "source": [
    "##New collection #courses = db['course']\n",
    "courses = db.courses\n",
    "print (courses)"
   ]
  },
  {
   "cell_type": "code",
   "execution_count": 372,
   "metadata": {},
   "outputs": [],
   "source": [
    "#insert new document# create a new dict\n",
    "course = {\n",
    "    'author':'Mak',\n",
    "    'course':'Data',\n",
    "    'price': 100,\n",
    "    'rating':5\n",
    "    }\n",
    "#course"
   ]
  },
  {
   "cell_type": "code",
   "execution_count": 373,
   "metadata": {},
   "outputs": [],
   "source": [
    "#insert\n",
    "result = courses.insert_one(course)"
   ]
  },
  {
   "cell_type": "code",
   "execution_count": 374,
   "metadata": {},
   "outputs": [
    {
     "name": "stdout",
     "output_type": "stream",
     "text": [
      "<pymongo.results.InsertOneResult object at 0x0000020CB6B60708>\n"
     ]
    }
   ],
   "source": [
    "print (result)"
   ]
  },
  {
   "cell_type": "code",
   "execution_count": 375,
   "metadata": {},
   "outputs": [
    {
     "name": "stdout",
     "output_type": "stream",
     "text": [
      "course added course id is 5d52d8b5c231b7b8def842f5\n"
     ]
    }
   ],
   "source": [
    "#check whether doc is inserted\n",
    "if result.acknowledged:\n",
    "    print (\"course added course id is\", str(result.inserted_id))"
   ]
  },
  {
   "cell_type": "code",
   "execution_count": 376,
   "metadata": {},
   "outputs": [],
   "source": [
    "#how to insert many doc\n",
    "arr_courses =  [ {\n",
    "    'author':'Hus',\n",
    "    'course':'Data',\n",
    "    'price': 100,\n",
    "    'rating':5},\n",
    "{\n",
    "    'author':'simi',\n",
    "    'course':'Data',\n",
    "    'price': 100,\n",
    "    'rating':3.5}\n",
    "]\n",
    "\n",
    "    "
   ]
  },
  {
   "cell_type": "code",
   "execution_count": 377,
   "metadata": {},
   "outputs": [],
   "source": [
    "result = courses.insert_many(arr_courses)"
   ]
  },
  {
   "cell_type": "code",
   "execution_count": 378,
   "metadata": {},
   "outputs": [
    {
     "name": "stdout",
     "output_type": "stream",
     "text": [
      "course added course id is 5d52d8b8c231b7b8def842f6\n",
      "course added course id is 5d52d8b8c231b7b8def842f7\n"
     ]
    }
   ],
   "source": [
    "for object_id in result.inserted_ids:\n",
    "    print (\"course added course id is\", object_id)"
   ]
  },
  {
   "cell_type": "code",
   "execution_count": 367,
   "metadata": {},
   "outputs": [
    {
     "name": "stdout",
     "output_type": "stream",
     "text": [
      "{'author': 'Mak', 'course': 'Data', 'price': 100, 'rating': 5, '_id': ObjectId('5d52d616c231b7b8def842f2')}\n"
     ]
    }
   ],
   "source": [
    "courses.find_one()\n",
    "print (course)"
   ]
  },
  {
   "cell_type": "code",
   "execution_count": 368,
   "metadata": {},
   "outputs": [
    {
     "name": "stdout",
     "output_type": "stream",
     "text": [
      "{'_id': ObjectId('5d5257f2c231b7b8def842cf'),\n",
      " 'author': 'Mak',\n",
      " 'course': 'Data',\n",
      " 'price': 100,\n",
      " 'rating': 5}\n",
      "{'_id': ObjectId('5d52a5cbc231b7b8def842d0'),\n",
      " 'author': 'Hus',\n",
      " 'course': 'Data',\n",
      " 'price': 100,\n",
      " 'rating': 5}\n",
      "{'_id': ObjectId('5d52a5cbc231b7b8def842d1'),\n",
      " 'author': 'simi',\n",
      " 'course': 'Data',\n",
      " 'price': 100,\n",
      " 'rating': 3.5}\n",
      "{'_id': ObjectId('5d52b3a5c231b7b8def842d2'),\n",
      " 'author': 'Hus',\n",
      " 'course': 'Data',\n",
      " 'price': 100,\n",
      " 'rating': 5}\n",
      "{'_id': ObjectId('5d52b3a5c231b7b8def842d3'),\n",
      " 'author': 'simi',\n",
      " 'course': 'Data',\n",
      " 'price': 100,\n",
      " 'rating': 3.5}\n",
      "{'_id': ObjectId('5d52d425c231b7b8def842d6'),\n",
      " 'author': 'Mak',\n",
      " 'course': 'Data',\n",
      " 'price': 100,\n",
      " 'rating': 5}\n",
      "{'_id': ObjectId('5d52d428c231b7b8def842d7'),\n",
      " 'author': 'Hus',\n",
      " 'course': 'Data',\n",
      " 'price': 100,\n",
      " 'rating': 5}\n",
      "{'_id': ObjectId('5d52d428c231b7b8def842d8'),\n",
      " 'author': 'simi',\n",
      " 'course': 'Data',\n",
      " 'price': 100,\n",
      " 'rating': 3.5}\n",
      "{'_id': ObjectId('5d52d43ec231b7b8def842db'),\n",
      " 'author': 'Mak',\n",
      " 'course': 'Data',\n",
      " 'price': 100,\n",
      " 'rating': 5}\n",
      "{'_id': ObjectId('5d52d441c231b7b8def842dc'),\n",
      " 'author': 'Hus',\n",
      " 'course': 'Data',\n",
      " 'price': 100,\n",
      " 'rating': 5}\n",
      "{'_id': ObjectId('5d52d441c231b7b8def842dd'),\n",
      " 'author': 'simi',\n",
      " 'course': 'Data',\n",
      " 'price': 100,\n",
      " 'rating': 3.5}\n",
      "{'_id': ObjectId('5d52d475c231b7b8def842e0'),\n",
      " 'author': 'Mak',\n",
      " 'course': 'Data',\n",
      " 'price': 100,\n",
      " 'rating': 5}\n",
      "{'_id': ObjectId('5d52d478c231b7b8def842e1'),\n",
      " 'author': 'Hus',\n",
      " 'course': 'Data',\n",
      " 'price': 100,\n",
      " 'rating': 5}\n",
      "{'_id': ObjectId('5d52d478c231b7b8def842e2'),\n",
      " 'author': 'simi',\n",
      " 'course': 'Data',\n",
      " 'price': 100,\n",
      " 'rating': 3.5}\n",
      "{'_id': ObjectId('5d52d4a1c231b7b8def842e5'),\n",
      " 'author': 'Mak',\n",
      " 'course': 'Data',\n",
      " 'price': 100,\n",
      " 'rating': 5}\n",
      "{'_id': ObjectId('5d52d4a4c231b7b8def842e6'),\n",
      " 'author': 'Hus',\n",
      " 'course': 'Data',\n",
      " 'price': 100,\n",
      " 'rating': 5}\n",
      "{'_id': ObjectId('5d52d4a4c231b7b8def842e7'),\n",
      " 'author': 'simi',\n",
      " 'course': 'Data',\n",
      " 'price': 100,\n",
      " 'rating': 3.5}\n",
      "{'_id': ObjectId('5d52d4c9c231b7b8def842e9'),\n",
      " 'author': 'Mak',\n",
      " 'course': 'Data',\n",
      " 'price': 100,\n",
      " 'rating': 5}\n",
      "{'_id': ObjectId('5d52d4cbc231b7b8def842ea'),\n",
      " 'author': 'Hus',\n",
      " 'course': 'Data',\n",
      " 'price': 100,\n",
      " 'rating': 5}\n",
      "{'_id': ObjectId('5d52d4cbc231b7b8def842eb'),\n",
      " 'author': 'simi',\n",
      " 'course': 'Data',\n",
      " 'price': 100,\n",
      " 'rating': 3.5}\n",
      "{'_id': ObjectId('5d52d502c231b7b8def842ed'),\n",
      " 'author': 'Mak',\n",
      " 'course': 'Data',\n",
      " 'price': 100,\n",
      " 'rating': 5}\n",
      "{'_id': ObjectId('5d52d503c231b7b8def842ee'),\n",
      " 'author': 'Hus',\n",
      " 'course': 'Data',\n",
      " 'price': 100,\n",
      " 'rating': 5}\n",
      "{'_id': ObjectId('5d52d503c231b7b8def842ef'),\n",
      " 'author': 'simi',\n",
      " 'course': 'Data',\n",
      " 'price': 100,\n",
      " 'rating': 3.5}\n",
      "{'_id': ObjectId('5d52d616c231b7b8def842f2'),\n",
      " 'author': 'Mak',\n",
      " 'course': 'Data',\n",
      " 'price': 100,\n",
      " 'rating': 5}\n",
      "{'_id': ObjectId('5d52d61cc231b7b8def842f3'),\n",
      " 'author': 'Hus',\n",
      " 'course': 'Data',\n",
      " 'price': 100,\n",
      " 'rating': 5}\n",
      "{'_id': ObjectId('5d52d61cc231b7b8def842f4'),\n",
      " 'author': 'simi',\n",
      " 'course': 'Data',\n",
      " 'price': 100,\n",
      " 'rating': 3.5}\n"
     ]
    }
   ],
   "source": [
    "courses = courses.find()\n",
    "for course in courses:\n",
    "    pprint.pprint(course)"
   ]
  },
  {
   "cell_type": "code",
   "execution_count": 330,
   "metadata": {},
   "outputs": [],
   "source": [
    "import pprint"
   ]
  },
  {
   "cell_type": "code",
   "execution_count": 379,
   "metadata": {},
   "outputs": [
    {
     "name": "stdout",
     "output_type": "stream",
     "text": [
      "{'_id': ObjectId('5d5257f2c231b7b8def842cf'),\n",
      " 'author': 'Mak',\n",
      " 'course': 'Data',\n",
      " 'price': 100,\n",
      " 'rating': 5}\n",
      "{'_id': ObjectId('5d52d425c231b7b8def842d6'),\n",
      " 'author': 'Mak',\n",
      " 'course': 'Data',\n",
      " 'price': 100,\n",
      " 'rating': 5}\n",
      "{'_id': ObjectId('5d52d43ec231b7b8def842db'),\n",
      " 'author': 'Mak',\n",
      " 'course': 'Data',\n",
      " 'price': 100,\n",
      " 'rating': 5}\n",
      "{'_id': ObjectId('5d52d475c231b7b8def842e0'),\n",
      " 'author': 'Mak',\n",
      " 'course': 'Data',\n",
      " 'price': 100,\n",
      " 'rating': 5}\n",
      "{'_id': ObjectId('5d52d4a1c231b7b8def842e5'),\n",
      " 'author': 'Mak',\n",
      " 'course': 'Data',\n",
      " 'price': 100,\n",
      " 'rating': 5}\n",
      "{'_id': ObjectId('5d52d4c9c231b7b8def842e9'),\n",
      " 'author': 'Mak',\n",
      " 'course': 'Data',\n",
      " 'price': 100,\n",
      " 'rating': 5}\n",
      "{'_id': ObjectId('5d52d502c231b7b8def842ed'),\n",
      " 'author': 'Mak',\n",
      " 'course': 'Data',\n",
      " 'price': 100,\n",
      " 'rating': 5}\n",
      "{'_id': ObjectId('5d52d616c231b7b8def842f2'),\n",
      " 'author': 'Mak',\n",
      " 'course': 'Data',\n",
      " 'price': 100,\n",
      " 'rating': 5}\n",
      "{'_id': ObjectId('5d52d8b5c231b7b8def842f5'),\n",
      " 'author': 'Mak',\n",
      " 'course': 'Data',\n",
      " 'price': 100,\n",
      " 'rating': 5}\n"
     ]
    }
   ],
   "source": [
    "#conditional filter\n",
    "courses = courses.find({'author':'Mak'})\n",
    "for course in courses:\n",
    "    pprint.pprint(course)"
   ]
  },
  {
   "cell_type": "code",
   "execution_count": 380,
   "metadata": {},
   "outputs": [],
   "source": [
    "#update,delete/aggregat. create index, skip"
   ]
  },
  {
   "cell_type": "code",
   "execution_count": null,
   "metadata": {},
   "outputs": [],
   "source": []
  }
 ],
 "metadata": {
  "kernelspec": {
   "display_name": "Python 3",
   "language": "python",
   "name": "python3"
  },
  "language_info": {
   "codemirror_mode": {
    "name": "ipython",
    "version": 3
   },
   "file_extension": ".py",
   "mimetype": "text/x-python",
   "name": "python",
   "nbconvert_exporter": "python",
   "pygments_lexer": "ipython3",
   "version": "3.7.3"
  }
 },
 "nbformat": 4,
 "nbformat_minor": 2
}
