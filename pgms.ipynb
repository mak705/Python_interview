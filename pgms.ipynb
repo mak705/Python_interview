{
 "cells": [
  {
   "cell_type": "code",
   "execution_count": 19,
   "metadata": {},
   "outputs": [
    {
     "name": "stdout",
     "output_type": "stream",
     "text": [
      "['Tony', 'Rocket', 'Scott', 'Steve', 'Natasha']\n"
     ]
    }
   ],
   "source": [
    "GoT = ['Tony', 'Rocket', 'Scott', 'Steve', 'Rocket', 'Natasha', 'Tony']\n",
    "mylist = list(dict.fromkeys(GoT))\n",
    "print(mylist)"
   ]
  },
  {
   "cell_type": "code",
   "execution_count": 24,
   "metadata": {},
   "outputs": [
    {
     "name": "stdout",
     "output_type": "stream",
     "text": [
      "cat\n",
      "mouse\n"
     ]
    }
   ],
   "source": [
    "di = {'elk': [{'url_1': 'http://localhost:8080/api/running',\n",
    "                                 'url_2': 'http://localhost:8080/api/',\n",
    "                                 'name': 'cat',\n",
    "                                 'method': 'GET'}],\n",
    " 'a': [{'url_1': 'http://localhost:8080/api/running',\n",
    "                              'url_2': 'http://localhost:8080/api/',\n",
    "                              'name': 'mouse',\n",
    "                              'method': 'GET'}]}\n",
    " \n",
    "\n",
    "for k,v in di.items():\n",
    "    print (v[0]['name'])"
   ]
  },
  {
   "cell_type": "code",
   "execution_count": 56,
   "metadata": {},
   "outputs": [],
   "source": [
    "import re\n",
    "m = re.search(r'.', d)"
   ]
  },
  {
   "cell_type": "code",
   "execution_count": 62,
   "metadata": {},
   "outputs": [
    {
     "name": "stdout",
     "output_type": "stream",
     "text": [
      "b\n"
     ]
    }
   ],
   "source": [
    "print (m.group(0))"
   ]
  },
  {
   "cell_type": "code",
   "execution_count": 1,
   "metadata": {},
   "outputs": [],
   "source": [
    "s = ['language', 'Python', 'rocks']\n",
    "some_text = \"There is a %s called %s which %s.\"\n",
    "x = some_text % tuple(s)\n",
    "x = '{} {}'.format(*s)\n"
   ]
  },
  {
   "cell_type": "code",
   "execution_count": 2,
   "metadata": {},
   "outputs": [
    {
     "data": {
      "text/plain": [
       "'language Python'"
      ]
     },
     "execution_count": 2,
     "metadata": {},
     "output_type": "execute_result"
    }
   ],
   "source": [
    "x"
   ]
  },
  {
   "cell_type": "code",
   "execution_count": 4,
   "metadata": {},
   "outputs": [
    {
     "data": {
      "text/plain": [
       "'really'"
      ]
     },
     "execution_count": 4,
     "metadata": {},
     "output_type": "execute_result"
    }
   ],
   "source": [
    "s = {'first':['python','really'], 'second':'rocks'}\n",
    "value=s['first'][1]\n",
    "value"
   ]
  },
  {
   "cell_type": "code",
   "execution_count": 5,
   "metadata": {},
   "outputs": [],
   "source": [
    "d = ['language', 'Python', 'rocks']\n",
    "v = d"
   ]
  },
  {
   "cell_type": "code",
   "execution_count": 35,
   "metadata": {},
   "outputs": [
    {
     "data": {
      "text/plain": [
       "[3, 4, 5, 6, 7]"
      ]
     },
     "execution_count": 35,
     "metadata": {},
     "output_type": "execute_result"
    }
   ],
   "source": [
    "used = []\n",
    "b = [3,4,5,5,6,6,7,7]\n",
    "unique = [used.append(x) for x in b if x not in used]\n",
    "used"
   ]
  },
  {
   "cell_type": "code",
   "execution_count": 64,
   "metadata": {},
   "outputs": [
    {
     "data": {
      "text/plain": [
       "{3: 1, 4: 1, 5: 2, 6: 3, 7: 2}"
      ]
     },
     "execution_count": 64,
     "metadata": {},
     "output_type": "execute_result"
    }
   ],
   "source": [
    "a = [3,4,5,5,6,6,6,7,7]\n",
    "c = set(a)\n",
    "counts = {}\n",
    "for i in a:\n",
    "    if i in counts:\n",
    "        counts[i] += 1\n",
    "    else:\n",
    "        counts[i] =1\n",
    "counts"
   ]
  },
  {
   "cell_type": "code",
   "execution_count": 65,
   "metadata": {},
   "outputs": [
    {
     "data": {
      "text/plain": [
       "[3, 4, 10, 18, 14]"
      ]
     },
     "execution_count": 65,
     "metadata": {},
     "output_type": "execute_result"
    }
   ],
   "source": [
    "t = [k*v for k,v in counts.items()]\n",
    "t"
   ]
  },
  {
   "cell_type": "code",
   "execution_count": 66,
   "metadata": {},
   "outputs": [
    {
     "data": {
      "text/plain": [
       "3"
      ]
     },
     "execution_count": 66,
     "metadata": {},
     "output_type": "execute_result"
    }
   ],
   "source": [
    "max_index = t.index(max(t))\n",
    "max_index"
   ]
  },
  {
   "cell_type": "code",
   "execution_count": 69,
   "metadata": {},
   "outputs": [
    {
     "data": {
      "text/plain": [
       "6"
      ]
     },
     "execution_count": 69,
     "metadata": {},
     "output_type": "execute_result"
    }
   ],
   "source": [
    "list(c)[max_index]"
   ]
  },
  {
   "cell_type": "code",
   "execution_count": 70,
   "metadata": {},
   "outputs": [
    {
     "data": {
      "text/plain": [
       "(6, 3)"
      ]
     },
     "execution_count": 70,
     "metadata": {},
     "output_type": "execute_result"
    }
   ],
   "source": [
    "key, value = max(counts.items(), key=lambda x:x[1])\n",
    "key, value"
   ]
  },
  {
   "cell_type": "code",
   "execution_count": 57,
   "metadata": {},
   "outputs": [],
   "source": [
    "from collections import Counter\n",
    "\n",
    "a = [3,4,5,5,6,6,6,7,7]\n",
    "e = Counter(a)"
   ]
  },
  {
   "cell_type": "code",
   "execution_count": 59,
   "metadata": {},
   "outputs": [
    {
     "data": {
      "text/plain": [
       "[(6, 3), (7, 2), (5, 2), (4, 1), (3, 1)]"
      ]
     },
     "execution_count": 59,
     "metadata": {},
     "output_type": "execute_result"
    }
   ],
   "source": [
    "m = sorted(e.items(),key= lambda x: x[0]*x[1], reverse = True)\n",
    "m"
   ]
  },
  {
   "cell_type": "code",
   "execution_count": 63,
   "metadata": {},
   "outputs": [
    {
     "data": {
      "text/plain": [
       "6"
      ]
     },
     "execution_count": 63,
     "metadata": {},
     "output_type": "execute_result"
    }
   ],
   "source": [
    "m[0][0]"
   ]
  },
  {
   "cell_type": "code",
   "execution_count": 76,
   "metadata": {},
   "outputs": [
    {
     "data": {
      "text/plain": [
       "'OBRUT'"
      ]
     },
     "execution_count": 76,
     "metadata": {},
     "output_type": "execute_result"
    }
   ],
   "source": [
    "def reverse_string3(s):\n",
    "    \"\"\"Return a reversed copy of `s`\"\"\"\n",
    "    chars = list(s)\n",
    "    for i in range(len(s) // 2):\n",
    "        tmp = chars[i]\n",
    "        chars[i] = chars[len(s) - i - 1]\n",
    "        chars[len(s) - i - 1] = tmp\n",
    "    return ''.join(chars)\n",
    "\n",
    "reverse_string3('TURBO')"
   ]
  },
  {
   "cell_type": "code",
   "execution_count": 85,
   "metadata": {},
   "outputs": [],
   "source": [
    "def checkMagazine(magazine, note):\n",
    "    \n",
    "    if len(magazine) < len(note):\n",
    "        return False\n",
    "    magazine_counter = Counter(magazine)\n",
    "    ransom_counter = Counter(note)\n",
    "    for word, count in ransom_counter.items():\n",
    "        if word not in magazine_counter or magazine_counter.get(word) < count:\n",
    "            #return False\n",
    "            return ('No')\n",
    "    #return True\n",
    "    return ('Yes')"
   ]
  },
  {
   "cell_type": "code",
   "execution_count": 86,
   "metadata": {},
   "outputs": [
    {
     "data": {
      "text/plain": [
       "'No'"
      ]
     },
     "execution_count": 86,
     "metadata": {},
     "output_type": "execute_result"
    }
   ],
   "source": [
    "checkMagazine('magazine', 'note')"
   ]
  },
  {
   "cell_type": "code",
   "execution_count": 1,
   "metadata": {},
   "outputs": [],
   "source": [
    "from collections import Counter\n",
    "# Complete the checkMagazine function below.\n",
    "def checkMagazine(magazine, note):\n",
    "    \n",
    "    if len(magazine) < len(note):\n",
    "        return False\n",
    "    magazine_counter = Counter(magazine)\n",
    "    ransom_counter = Counter(note)\n",
    "    for word, count in ransom_counter.items():\n",
    "        if word not in magazine_counter or magazine_counter.get(word) < count:\n",
    "            #return False\n",
    "            return ('No')\n",
    "    #return True\n",
    "    return ('Yes')\n",
    "\n",
    "\n",
    "def checkMagazine(magazine, note):\n",
    "    d = {}\n",
    "    for word in magazine:\n",
    "        d.setdefault(word, 0)\n",
    "        d[word] += 1\n",
    "    \n",
    "    for word in note:\n",
    "        if word in d:\n",
    "            d[word] -= 1\n",
    "        else:\n",
    "            return False\n",
    "    \n",
    "    return all([x >= 0 for x in d.values()])"
   ]
  },
  {
   "cell_type": "code",
   "execution_count": 71,
   "metadata": {},
   "outputs": [
    {
     "name": "stdout",
     "output_type": "stream",
     "text": [
      "No\n"
     ]
    }
   ],
   "source": [
    "def checkMagazine(magazine, note):\n",
    "    \n",
    "        l1 = len(note)\n",
    "        l2 = len(magazine)\n",
    "        #magazine.sort()\n",
    "        #note.sort()\n",
    "        i = 0\n",
    "        j = 0\n",
    "        count = 0\n",
    "        while i<l1 and j<l2:\n",
    "                if note[i] == magazine[j]:\n",
    "                        count += 1\n",
    "                        i += 1\n",
    "                j += 1\n",
    "        if count == l1:\n",
    "                print ('Yes')\n",
    "        else:\n",
    "                print('No')\n",
    "checkMagazine('two times three is not four', 'two times two is four')"
   ]
  },
  {
   "cell_type": "code",
   "execution_count": 91,
   "metadata": {},
   "outputs": [
    {
     "data": {
      "text/plain": [
       "30"
      ]
     },
     "execution_count": 91,
     "metadata": {},
     "output_type": "execute_result"
    }
   ],
   "source": [
    "def aVeryBigSum(ar):\n",
    "    res = 0\n",
    "    for i in range(len(ar)):\n",
    "        res += ar[i]\n",
    "    return res \n",
    "aVeryBigSum([10,10,10])"
   ]
  },
  {
   "cell_type": "code",
   "execution_count": 95,
   "metadata": {},
   "outputs": [
    {
     "data": {
      "text/plain": [
       "30"
      ]
     },
     "execution_count": 95,
     "metadata": {},
     "output_type": "execute_result"
    }
   ],
   "source": [
    "def diagonalDifference(arr):\n",
    "    # Write your code here\n",
    "    l = len(arr[0])\n",
    "    first_diagonal = sum([arr[i][i] for i in range(l)])\n",
    "    second_diagonal = sum([arr[l-1-i][i] for i in range(l)])\n",
    "    return (abs(first_diagonal - second_diagonal) )\n",
    "###############\n",
    "matrix_size = int(input())\n",
    "\n",
    "current_x_one = 0\n",
    "current_x_two = matrix_size - 1\n",
    "\n",
    "sum_one = 0\n",
    "sum_two = 0\n",
    "\n",
    "for line in range(matrix_size):\n",
    "    input_string = input().split(\" \")\n",
    "    sum_one = sum_one + int(input_string[current_x_one])\n",
    "    sum_two = sum_two + int(input_string[current_x_two])\n",
    "\n",
    "    current_x_one += 1\n",
    "    current_x_two -= 1\n",
    "\n",
    "print(abs(sum_one - sum_two))\n",
    "###\n",
    "n = int(input().strip())\n",
    "dSumLeft = 0\n",
    "dSumRight = 0\n",
    "for i in range(n):\n",
    "    matrixRow = input().split()\n",
    "    dSumLeft += int(matrixRow[i])\n",
    "    dSumRight += int(matrixRow[-(i + 1)])\n",
    "##\n",
    "n = int(input().strip())\n",
    "dSumLeft  = 0\n",
    "dSumRight  = 0\n",
    "for i in range(n):\n",
    "    matrixRow = list(map(int,input().strip().split(' ')))\n",
    "    dSumLeft += int(matrixRow[i])\n",
    "    dSumRight += int(matrixRow[n-i-1])\n",
    "print(abs(dSumLeft - dSumRight))\n",
    "#\n",
    "print(abs(sum((lambda arr: int(arr[x]) - int(arr[len(arr) - x - 1]))(input().split()) for x in range(int(input())))))"
   ]
  },
  {
   "cell_type": "code",
   "execution_count": 10,
   "metadata": {},
   "outputs": [],
   "source": [
    "import numpy as np\n"
   ]
  },
  {
   "cell_type": "code",
   "execution_count": 99,
   "metadata": {},
   "outputs": [
    {
     "data": {
      "text/plain": [
       "[array([-2]),\n",
       " array([9, 5]),\n",
       " array([ 3, -6,  3]),\n",
       " array([-1,  2,  5,  2]),\n",
       " array([8, 7, 1]),\n",
       " array([-4,  3]),\n",
       " array([8])]"
      ]
     },
     "execution_count": 99,
     "metadata": {},
     "output_type": "execute_result"
    }
   ],
   "source": [
    "\n",
    "matrix = np.array(\n",
    "         [[-2,  5,  3,  2],\n",
    "          [ 9, -6,  5,  1],\n",
    "          [ 3,  2,  7,  3],\n",
    "          [-1,  8, -4,  8]])\n",
    "\n",
    "diags = [matrix[::-1,:].diagonal(i) for i in range(-3,4)]\n",
    "diags"
   ]
  },
  {
   "cell_type": "code",
   "execution_count": null,
   "metadata": {},
   "outputs": [],
   "source": []
  },
  {
   "cell_type": "code",
   "execution_count": 154,
   "metadata": {},
   "outputs": [
    {
     "name": "stdout",
     "output_type": "stream",
     "text": [
      "-3\n",
      "-2\n",
      "-1\n",
      "0\n",
      "1\n",
      "2\n",
      "3\n"
     ]
    }
   ],
   "source": [
    "for j in range(-3,4):\n",
    "    print (j)\n",
    "    #print (matrix.diagonal(j))"
   ]
  },
  {
   "cell_type": "code",
   "execution_count": 151,
   "metadata": {},
   "outputs": [],
   "source": [
    "X = np.arange(100).reshape(10,10)\n",
    "X2 = X[2:9,3:4]"
   ]
  },
  {
   "cell_type": "code",
   "execution_count": 152,
   "metadata": {},
   "outputs": [
    {
     "data": {
      "text/plain": [
       "array([[23],\n",
       "       [33],\n",
       "       [43],\n",
       "       [53],\n",
       "       [63],\n",
       "       [73],\n",
       "       [83]])"
      ]
     },
     "execution_count": 152,
     "metadata": {},
     "output_type": "execute_result"
    }
   ],
   "source": [
    "X2"
   ]
  },
  {
   "cell_type": "code",
   "execution_count": 155,
   "metadata": {},
   "outputs": [],
   "source": [
    "mat = [[1, 2, 3, 4], [5, 6, 7, 8], [9, 10, 11, 12], [13, 14, 15, 16]]\n",
    "width, height = len(mat[0]), len(mat)"
   ]
  },
  {
   "cell_type": "code",
   "execution_count": 157,
   "metadata": {},
   "outputs": [
    {
     "data": {
      "text/plain": [
       "4"
      ]
     },
     "execution_count": 157,
     "metadata": {},
     "output_type": "execute_result"
    }
   ],
   "source": [
    "height"
   ]
  },
  {
   "cell_type": "code",
   "execution_count": 162,
   "metadata": {},
   "outputs": [],
   "source": []
  },
  {
   "cell_type": "code",
   "execution_count": 171,
   "metadata": {},
   "outputs": [
    {
     "data": {
      "text/plain": [
       "(0.5, 0.3333333333333333, 0.16666666666666666)"
      ]
     },
     "execution_count": 171,
     "metadata": {},
     "output_type": "execute_result"
    }
   ],
   "source": [
    "m = len(l)\n",
    "\n",
    "l =[ -4, 3, -9, 0, 4, 1 ] \n",
    "def plusMinus(arr):\n",
    "    po = 0\n",
    "    ne = 0\n",
    "    ze = 0\n",
    "    for i in l:\n",
    "        if i > 0:\n",
    "            po += 1\n",
    "        if i < 0:\n",
    "            ne += 1\n",
    "        if i == 0:\n",
    "            ze += 1\n",
    "    return (po/m, ne/m, ze/m)\n",
    "plusMinus([ -4, 3, -9, 0, 4, 1 ])"
   ]
  },
  {
   "cell_type": "code",
   "execution_count": 174,
   "metadata": {},
   "outputs": [
    {
     "name": "stdout",
     "output_type": "stream",
     "text": [
      "5\n",
      "123456\n",
      "0.200000\n",
      "0.000000\n",
      "0.000000\n"
     ]
    }
   ],
   "source": [
    "n = float(input())\n",
    "lst = [int(x) for x in input().split()]\n",
    "print (format(len([x for x in lst if x > 0])/n, \".6f\"))\n",
    "print (format(len([x for x in lst if x < 0])/n, \".6f\"))\n",
    "print (format(len([x for x in lst if x == 0])/n, \".6f\"))"
   ]
  },
  {
   "cell_type": "code",
   "execution_count": 175,
   "metadata": {},
   "outputs": [
    {
     "ename": "SyntaxError",
     "evalue": "invalid syntax (<ipython-input-175-5f3ee95083c5>, line 1)",
     "output_type": "error",
     "traceback": [
      "\u001b[1;36m  File \u001b[1;32m\"<ipython-input-175-5f3ee95083c5>\"\u001b[1;36m, line \u001b[1;32m1\u001b[0m\n\u001b[1;33m    a = [x for x in numbers if x >= 0: break]\u001b[0m\n\u001b[1;37m                                     ^\u001b[0m\n\u001b[1;31mSyntaxError\u001b[0m\u001b[1;31m:\u001b[0m invalid syntax\n"
     ]
    }
   ],
   "source": [
    "a = [x for x in numbers if x >= 0: break]\n"
   ]
  },
  {
   "cell_type": "code",
   "execution_count": null,
   "metadata": {},
   "outputs": [],
   "source": [
    "def plusMinus():\n",
    "    n = float(input())\n",
    "    lst = [int(x) for x in input().split()]\n",
    "    return (format(len([x for x in lst if x > 0])/n, \".6f\")), (format(len([x for x in lst if x < 0])/n, \".6f\")), (format(len([x for x in lst if x == 0])/n, \".6f\"))"
   ]
  },
  {
   "cell_type": "code",
   "execution_count": null,
   "metadata": {},
   "outputs": [],
   "source": [
    "plusMinus()"
   ]
  },
  {
   "cell_type": "code",
   "execution_count": null,
   "metadata": {},
   "outputs": [],
   "source": [
    "n = float(input())\n",
    "lst = [int(x) for x in input().split()]\n",
    "def plusMinus(arr):\n",
    "\n",
    "    return (format(len([x for x in lst if x > 0])/n, \".6f\")), (format(len([x for x in lst if x < 0])/n, \".6f\")), (format(len([x for x in lst if x == 0])/n, \".6f\"))"
   ]
  },
  {
   "cell_type": "code",
   "execution_count": null,
   "metadata": {},
   "outputs": [],
   "source": [
    "print ('hi')"
   ]
  },
  {
   "cell_type": "code",
   "execution_count": 5,
   "metadata": {},
   "outputs": [
    {
     "name": "stdout",
     "output_type": "stream",
     "text": [
      "1 2 4 7 5 3 6 8 9 "
     ]
    }
   ],
   "source": [
    "def printMatrixDiagonal(mat, n): \n",
    "    # Initialize indexes of element to be printed next \n",
    "    i = 0\n",
    "    j = 0\n",
    "    k = 0\n",
    "    # Direction is initially from down to up \n",
    "    isUp = True\n",
    "  \n",
    "     # Traverse the matrix till all elements get traversed \n",
    "    while k<n * n: \n",
    "         # If isUp = True then traverse from downward \n",
    "         # to upward \n",
    "        if isUp: \n",
    "            while i >= 0 and j<n : \n",
    "                print(str(mat[i][j]), end = \" \") \n",
    "                k += 1\n",
    "                j += 1\n",
    "                i -= 1\n",
    "  \n",
    "              # Set i and j according to direction \n",
    "            if i < 0 and j <= n - 1: \n",
    "                i = 0\n",
    "            if j == n: \n",
    "                i = i + 2\n",
    "                j -= 1\n",
    "  \n",
    "         # If isUp = 0 then traverse up to down \n",
    "        else: \n",
    "            while j >= 0 and i<n : \n",
    "                print(mat[i][j], end = \" \") \n",
    "                k += 1\n",
    "                i += 1\n",
    "                j -= 1\n",
    "  \n",
    "              # Set i and j according to direction \n",
    "            if j < 0 and i <= n - 1: \n",
    "                j = 0\n",
    "            if i == n: \n",
    "                j = j + 2\n",
    "                i -= 1\n",
    "  \n",
    "         # Revert the isUp to change the direction \n",
    "        isUp = not isUp \n",
    "  \n",
    "# Driver program \n",
    "if __name__ == \"__main__\": \n",
    "    mat = [[1, 2, 3], \n",
    "        [4, 5, 6], \n",
    "        [7, 8, 9] ] \n",
    "  \n",
    "n = 3\n",
    "printMatrixDiagonal(mat, n) "
   ]
  },
  {
   "cell_type": "code",
   "execution_count": 31,
   "metadata": {},
   "outputs": [
    {
     "name": "stdout",
     "output_type": "stream",
     "text": [
      "[1][4 2][7 5 3][8 6][9]"
     ]
    }
   ],
   "source": [
    "mat = np.array([[1, 2, 3], \n",
    "        [4, 5, 6], \n",
    "        [7, 8, 9] ])\n",
    "diags = [mat[::-1,:].diagonal(i) for i in range(-2,3)]\n",
    "#diags.extend(mat.diagonal(i) for i in range(3,-4,-1))\n",
    "\n",
    "for i in diags:\n",
    "    print (i, end = '')"
   ]
  },
  {
   "cell_type": "code",
   "execution_count": 1,
   "metadata": {},
   "outputs": [],
   "source": [
    "import sys"
   ]
  },
  {
   "cell_type": "code",
   "execution_count": 32,
   "metadata": {},
   "outputs": [
    {
     "data": {
      "text/plain": [
       "[array([1]), array([4, 2]), array([7, 5, 3]), array([8, 6]), array([9])]"
      ]
     },
     "execution_count": 32,
     "metadata": {},
     "output_type": "execute_result"
    }
   ],
   "source": [
    "diags"
   ]
  },
  {
   "cell_type": "code",
   "execution_count": null,
   "metadata": {},
   "outputs": [],
   "source": [
    "Matrix = [[1, 2, 3, 4], \n",
    "          [5, 6, 7, 8], \n",
    "          [9, 10, 11, 12],\n",
    "          [13, 14, 15, 16]]\n",
    "\n",
    "def print_diags(Matrix):\n",
    "    m, n = len(Matrix), len(Matrix[0])\n",
    "    for offset in range(min(m,n)):\n",
    "        diag_upper = [row[i + offset]\n",
    "                      for i, row in enumerate(Matrix)\n",
    "                      if 0 <= i + offset < n]\n",
    "        if offset != 0:\n",
    "            diag_lower = [row[i - offset]\n",
    "                      for i, row in enumerate(Matrix)\n",
    "                      if 0 <= i - offset < m]\n",
    "            print(diag_upper, diag_lower)\n",
    "        else:\n",
    "            print(diag_upper)\n",
    "print_diags(Matrix)"
   ]
  },
  {
   "cell_type": "code",
   "execution_count": null,
   "metadata": {},
   "outputs": [],
   "source": [
    "np_m = np.array([[1, 2, 3, 4], \n",
    "                 [5, 6, 7, 8], \n",
    "                 [9, 10, 11, 12],\n",
    "                 [13, 14, 15, 16]])\n",
    "\n",
    "diags = [np_m[::-1,:].diagonal(i) for i in range(-np_m.shape[0]+1,np_m.shape[1])]\n",
    "for i in diags:\n",
    "    print (i, end = '')"
   ]
  },
  {
   "cell_type": "code",
   "execution_count": null,
   "metadata": {},
   "outputs": [],
   "source": [
    "str = 'Makbul is 30 and Saw is 29 and Man is 30'\n",
    "digit = [int(s) for s in str.split() if s.isdigit()]\n",
    "string = [(s) for s in str.split() if s.isalpha()]\n",
    "names = string[0::3]\n",
    "dict(zip(names,digit))\n",
    "#import re\n",
    "#names1 = re.findall(r'(\\w+(?=\\s*is[^/]))', str)\n",
    "#names1\n",
    "#igit1 = re.findall(r'(\\d+)', str)\n",
    "#igit1"
   ]
  },
  {
   "cell_type": "code",
   "execution_count": 3,
   "metadata": {},
   "outputs": [
    {
     "name": "stdout",
     "output_type": "stream",
     "text": [
      "{avglen: 4.419354838709677\n",
      "count:: 93\n",
      "mosts:: your\n",
      "longs:: ['stretched']\n",
      "shorts:: ['i', 'a']}\n"
     ]
    }
   ],
   "source": [
    "test = {'avglen': 4.419354838709677, 'count:': 93, 'mosts:': 'your', 'longs:': ['stretched'], 'shorts:': ['i', 'a'],}\n",
    "print(\"{\" + \"\\n\".join(\"{}: {}\".format(k, v) for k, v in test.items()) + \"}\")\n"
   ]
  },
  {
   "cell_type": "code",
   "execution_count": 4,
   "metadata": {},
   "outputs": [
    {
     "name": "stdout",
     "output_type": "stream",
     "text": [
      "AAA\n",
      "value2\n",
      "CCC\n"
     ]
    }
   ],
   "source": [
    "dictionary1 = {'key1': 'value1', 'key2': 'value2', 'key3': 'value3'}\n",
    "dictionary2 = {'value1': 'AAA', 'value3': 'CCC'}\n",
    "for k, v in dictionary1.items():\n",
    "    print (dictionary2.get(v, v))"
   ]
  },
  {
   "cell_type": "code",
   "execution_count": 136,
   "metadata": {},
   "outputs": [],
   "source": [
    "d1 = {'db1': [{'url': 'http://localhost:8080/api', 'cmd': 'test\\\\nshow databases ', 'request': 'POST'}], 'db2': [{'url': 'http://localhost:8080/api', 'cmd': 'test\\\\nshow databases ', 'request': 'POST'}]}"
   ]
  },
  {
   "cell_type": "code",
   "execution_count": 137,
   "metadata": {},
   "outputs": [],
   "source": [
    "d2 = {'cmd': 'test'}"
   ]
  },
  {
   "cell_type": "code",
   "execution_count": 138,
   "metadata": {},
   "outputs": [],
   "source": [
    "#{k: d2.get(k, v) for k, v in d1.items()}"
   ]
  },
  {
   "cell_type": "code",
   "execution_count": 139,
   "metadata": {},
   "outputs": [
    {
     "data": {
      "text/plain": [
       "{'db1': {'url': 'http://localhost:8080/api', 'cmd': 'test', 'request': 'POST'},\n",
       " 'db2': {'url': 'http://localhost:8080/api', 'cmd': 'test', 'request': 'POST'}}"
      ]
     },
     "execution_count": 139,
     "metadata": {},
     "output_type": "execute_result"
    }
   ],
   "source": [
    "{k1:{**v1[0], **d2} for k1,v1 in d1.items()}\n"
   ]
  },
  {
   "cell_type": "code",
   "execution_count": 133,
   "metadata": {},
   "outputs": [
    {
     "data": {
      "text/plain": [
       "{None}"
      ]
     },
     "execution_count": 133,
     "metadata": {},
     "output_type": "execute_result"
    }
   ],
   "source": [
    "d3"
   ]
  },
  {
   "cell_type": "code",
   "execution_count": 159,
   "metadata": {},
   "outputs": [],
   "source": [
    "dictionary2  = {'device_running_config_cmd': 'makku'}\n",
    "#result = {k1:{**v1[0], **dictionary2} for k1,v1 in dictionary1.items()}\n",
    "for k1,v1 in test.items():\n",
    "    result = ({k1:{**v1[0], **dictionary2}})\n",
    "    #print (result)"
   ]
  },
  {
   "cell_type": "code",
   "execution_count": 2,
   "metadata": {},
   "outputs": [
    {
     "name": "stdout",
     "output_type": "stream",
     "text": [
      "Maximum contiguous sum is 7\n"
     ]
    }
   ],
   "source": [
    "\n",
    "def maxSubArraySum(a,size): \n",
    "      \n",
    "    max_so_far =a[0] \n",
    "    curr_max = a[0] \n",
    "      \n",
    "    for i in range(1,size): \n",
    "        curr_max = max(a[i], curr_max + a[i]) \n",
    "        max_so_far = max(max_so_far,curr_max) \n",
    "          \n",
    "    return max_so_far \n",
    "  \n",
    "# Driver function to check the above function  \n",
    "a = [-2, -3, 4, -1, -2, 1, 5, -3] \n",
    "print(\"Maximum contiguous sum is\" , maxSubArraySum(a,len(a)) )"
   ]
  },
  {
   "cell_type": "code",
   "execution_count": 9,
   "metadata": {},
   "outputs": [
    {
     "name": "stdout",
     "output_type": "stream",
     "text": [
      "Maximum contiguous sum is 7\n",
      "Starting Index 2\n",
      "Ending Index 6\n"
     ]
    }
   ],
   "source": [
    "from sys import maxsize \n",
    "def maxSubArraySum(a,size): \n",
    "  \n",
    "    max_so_far = -maxsize - 1\n",
    "    max_ending_here = 0\n",
    "    start = 0\n",
    "    end = 0\n",
    "    s = 0\n",
    "  \n",
    "    for i in range(0,size): \n",
    "  \n",
    "        max_ending_here += a[i] \n",
    "  \n",
    "        if max_so_far < max_ending_here: \n",
    "            max_so_far = max_ending_here \n",
    "            start = s \n",
    "            end = i \n",
    "  \n",
    "        if max_ending_here < 0: \n",
    "            max_ending_here = 0\n",
    "            s = i+1\n",
    "  \n",
    "    print (\"Maximum contiguous sum is %d\"%(max_so_far)) \n",
    "    print (\"Starting Index %d\"%(start)) \n",
    "    print (\"Ending Index %d\"%(end)) \n",
    "a = [-2, -3, 4, -1, -2, 1, 5, -3] \n",
    "maxSubArraySum(a,len(a)) "
   ]
  },
  {
   "cell_type": "code",
   "execution_count": 11,
   "metadata": {},
   "outputs": [
    {
     "name": "stdout",
     "output_type": "stream",
     "text": [
      "00:00:00,130 --> 00:00:01,640\n",
      "00:00:01,640 --> 00:00:03,414\n"
     ]
    }
   ],
   "source": [
    "import re\n",
    "multiline_text=\\\n",
    "\"\"\"\n",
    "\n",
    "1 00:00:00,130 --> 00:00:01,640\n",
    "\n",
    "where you there when it happened?\n",
    "\n",
    "Who else saw you?\n",
    "\n",
    "2 00:00:01,640 --> 00:00:03,414\n",
    "\n",
    "This might be your last chance to\n",
    "\n",
    "come clean. Take it or leave it.\n",
    "\"\"\"\n",
    "\n",
    "lines = multiline_text.split('\\n')\n",
    "#print (lines)\n",
    "dict = {}\n",
    "current_key = None;\n",
    "\n",
    "for line in lines:\n",
    "    #print (line)\n",
    "    is_key_match_obj = re.search('([\\d\\:\\,]{12})(\\s-->\\s)([\\d\\:\\,]{12})', line)\n",
    "    if is_key_match_obj:\n",
    "        current_key = is_key_match_obj.group()\n",
    "        print (current_key)\n",
    "    \n"
   ]
  },
  {
   "cell_type": "code",
   "execution_count": null,
   "metadata": {},
   "outputs": [
    {
     "name": "stdout",
     "output_type": "stream",
     "text": [
      "Which filim would like to watch: rak\n",
      "What is your age: 21\n",
      "Enjoy! the filim\n",
      "Which filim would like to watch: rak\n",
      "What is your age: 9\n",
      "Sorry we dont have that filim\n"
     ]
    }
   ],
   "source": [
    "filims={'rak':[20,2],'val':[15,5],'prak':[20,8]}\n",
    "while True:\n",
    "    choice=input('Which filim would like to watch: ').strip().lower()\n",
    "    if choice in filims:\n",
    "        age=int(input('What is your age: ').strip())\n",
    "        if age >= filims[choice][0]:\n",
    "            num_seats=filims[choice][1]\n",
    "            if num_seats>0:\n",
    "                print(\"Enjoy! the filim\")\n",
    "                num_seats=filims[choice][1]-1\n",
    "            else:\n",
    "                print(\"Sorry sold out\")\n",
    "        else:\n",
    "            print('Sorry we dont have that filim')"
   ]
  },
  {
   "cell_type": "code",
   "execution_count": null,
   "metadata": {},
   "outputs": [
    {
     "name": "stdout",
     "output_type": "stream",
     "text": [
      "Hellow my name is abu\n",
      "namemusthu\n",
      "Hi musthu welcome to python world\n",
      "y/ny\n",
      "Here the new list: \n",
      "['mahir', 'khader']\n",
      "Hellow my name is abu\n"
     ]
    }
   ],
   "source": [
    "import pdb\n",
    "names=['musthu','mahir','khader']\n",
    "while True:\n",
    "    #pdb.set_trace()\n",
    "    print('Hellow my name is abu')\n",
    "    a=input('name').strip().lower()\n",
    "    if a in names:\n",
    "        print('Hi {} welcome to python world'.format(a))\n",
    "        z=input('y/n').strip().lower()\n",
    "        if z== 'y':\n",
    "            names.remove(a)\n",
    "            print('Here the new list: ')\n",
    "            print(names)\n"
   ]
  },
  {
   "cell_type": "code",
   "execution_count": 5,
   "metadata": {},
   "outputs": [
    {
     "ename": "NameError",
     "evalue": "name 'value' is not defined",
     "output_type": "error",
     "traceback": [
      "\u001b[1;31m---------------------------------------------------------------------------\u001b[0m",
      "\u001b[1;31mNameError\u001b[0m                                 Traceback (most recent call last)",
      "\u001b[1;32m<ipython-input-5-372e0d965d67>\u001b[0m in \u001b[0;36m<module>\u001b[1;34m\u001b[0m\n\u001b[0;32m      3\u001b[0m   \u001b[1;34m'b'\u001b[0m\u001b[1;33m:\u001b[0m \u001b[1;32mlambda\u001b[0m \u001b[0mx\u001b[0m\u001b[1;33m:\u001b[0m \u001b[0mx\u001b[0m \u001b[1;33m+\u001b[0m \u001b[1;36m7\u001b[0m\u001b[1;33m,\u001b[0m\u001b[1;33m\u001b[0m\u001b[1;33m\u001b[0m\u001b[0m\n\u001b[0;32m      4\u001b[0m   \u001b[1;34m'c'\u001b[0m\u001b[1;33m:\u001b[0m \u001b[1;32mlambda\u001b[0m \u001b[0mx\u001b[0m\u001b[1;33m:\u001b[0m \u001b[0mx\u001b[0m \u001b[1;33m-\u001b[0m \u001b[1;36m2\u001b[0m\u001b[1;33m\u001b[0m\u001b[1;33m\u001b[0m\u001b[0m\n\u001b[1;32m----> 5\u001b[1;33m }[value](x)\n\u001b[0m",
      "\u001b[1;31mNameError\u001b[0m: name 'value' is not defined"
     ]
    }
   ],
   "source": [
    "result = {\n",
    "  'a': lambda x: x * 5,\n",
    "  'b': lambda x: x + 7,\n",
    "  'c': lambda x: x - 2\n",
    "}[value](x)"
   ]
  },
  {
   "cell_type": "code",
   "execution_count": 6,
   "metadata": {},
   "outputs": [
    {
     "ename": "SyntaxError",
     "evalue": "invalid syntax (<ipython-input-6-746217ecc42e>, line 5)",
     "output_type": "error",
     "traceback": [
      "\u001b[1;36m  File \u001b[1;32m\"<ipython-input-6-746217ecc42e>\"\u001b[1;36m, line \u001b[1;32m5\u001b[0m\n\u001b[1;33m    input >> 10 20 20 10 10 30 50 10 20\u001b[0m\n\u001b[1;37m                 ^\u001b[0m\n\u001b[1;31mSyntaxError\u001b[0m\u001b[1;31m:\u001b[0m invalid syntax\n"
     ]
    }
   ],
   "source": [
    "dictio =[{'key1':'value1'}, {'key1':'value2'}]\n",
    "{'key1': ['value1', 'value2']}\n",
    "input > {'A':[1,2,3,4], 'B':[5,6], 'C':[7,8,9], 'D':[10]}\n",
    "Output >> {'A': [1, 2], 'B': [5, 6], 'C': [7, 8], 'D': [10]}\n",
    "input >> 10 20 20 10 10 30 50 10 20\n",
    "out put-2 '1,2,3 4 5 6 7 8 9 10'\n",
    "dict = {\"a\" : [1,2,3,4] ,\"b\":[34,45,4567],\"c\":[34]}\n",
    "\n",
    "newDict = {}\n",
    "for key,value in dict.items():\n",
    "    newDict[key]= value[0:2]\n",
    "\n",
    "\n",
    "print (newDict)\n",
    "\n",
    "\n",
    "out put- {'a': [1, 2], 'b': [34, 45], 'c': [34]}\n",
    "\n",
    "\n",
    "\n",
    "\n",
    "dict = {\"a\" : [1,2,3,4] ,\"b\":[34,45,4567],\"c\":[34]}\n",
    "\n",
    "newDict = {}\n",
    "for key,value in dict.items():\n",
    "    newDict[key]= value[0:2]\n",
    "\n",
    "\n",
    "print (newDict)\n",
    "\n",
    "\n",
    "out put- {'a': [1, 2], 'b': [34, 45], 'c': [34]}\n",
    "\n",
    "\n",
    "\n",
    "2-dict = {\"a\" : [1,2,3,4] ,\"b\":[34,45,4567],\"c\":[34]}\n",
    "\n",
    "newDict = {}\n",
    "for key,value in dict.items():\n",
    "    newDict[key]= value[0:2]\n",
    "\n",
    "\n",
    "print (newDict)\n",
    "\n",
    "\n",
    "out put- {'a': [1, 2], 'b': [34, 45], 'c': [34]}\n",
    "\n",
    "\n",
    "dict = {\"key1\":\"value1\",\"key2\":\"value2\"}\n",
    "newDict= {}\n",
    "newDict[\"key1\"]=list(dict.values())\n",
    "print (newDict)\n",
    "\n",
    "\n",
    "\n",
    "\n",
    "\n",
    "{'key1': ['value1', 'value2']}\n",
    "\n"
   ]
  },
  {
   "cell_type": "code",
   "execution_count": 12,
   "metadata": {},
   "outputs": [
    {
     "name": "stdout",
     "output_type": "stream",
     "text": [
      "{'A': [1, 2], 'B': [5, 6], 'C': [7, 8], 'D': [10]}\n"
     ]
    }
   ],
   "source": [
    "dictio =[{'A':[1,2,3,4], 'B':[5,6,77,92], 'C':[7,8,9], 'D':[10]}]\n",
    "newDict = {}\n",
    "for d in dictio:\n",
    "    for key,value in d.items():\n",
    "        newDict[key]= value[0:2]\n",
    "print (newDict)\n"
   ]
  },
  {
   "cell_type": "code",
   "execution_count": 8,
   "metadata": {},
   "outputs": [
    {
     "data": {
      "text/plain": [
       "True"
      ]
     },
     "execution_count": 8,
     "metadata": {},
     "output_type": "execute_result"
    }
   ],
   "source": [
    "dic = {'key1': [\"value1\", \"value2\"],'key2': [\"value77\", \"something\"] }\n",
    "keys = list(dic.values())\n",
    "flaten_list = []\n",
    "for key in keys:\n",
    "    if isinstance(key, list):\n",
    "        flaten_list.extend(key)\n",
    "    else:\n",
    "        flaten_list.append(key)\n",
    "\n",
    "'value77' in flaten_list"
   ]
  },
  {
   "cell_type": "code",
   "execution_count": 9,
   "metadata": {},
   "outputs": [
    {
     "data": {
      "text/plain": [
       "['value1', 'value2', 'value77', 'something']"
      ]
     },
     "execution_count": 9,
     "metadata": {},
     "output_type": "execute_result"
    }
   ],
   "source": [
    "flaten_list"
   ]
  },
  {
   "cell_type": "code",
   "execution_count": 12,
   "metadata": {},
   "outputs": [
    {
     "data": {
      "text/html": [
       "<div>\n",
       "<style scoped>\n",
       "    .dataframe tbody tr th:only-of-type {\n",
       "        vertical-align: middle;\n",
       "    }\n",
       "\n",
       "    .dataframe tbody tr th {\n",
       "        vertical-align: top;\n",
       "    }\n",
       "\n",
       "    .dataframe thead th {\n",
       "        text-align: right;\n",
       "    }\n",
       "</style>\n",
       "<table border=\"1\" class=\"dataframe\">\n",
       "  <thead>\n",
       "    <tr style=\"text-align: right;\">\n",
       "      <th></th>\n",
       "      <th>IP</th>\n",
       "      <th>DELETE</th>\n",
       "      <th>POST</th>\n",
       "      <th>PUT</th>\n",
       "      <th>GET</th>\n",
       "    </tr>\n",
       "  </thead>\n",
       "  <tbody>\n",
       "    <tr>\n",
       "      <th>0</th>\n",
       "      <td>10.30.24.3</td>\n",
       "      <td>1</td>\n",
       "      <td>1</td>\n",
       "      <td>3</td>\n",
       "      <td>5</td>\n",
       "    </tr>\n",
       "    <tr>\n",
       "      <th>1</th>\n",
       "      <td>192.168.10.20</td>\n",
       "      <td>1</td>\n",
       "      <td>3</td>\n",
       "      <td>3</td>\n",
       "      <td>6</td>\n",
       "    </tr>\n",
       "    <tr>\n",
       "      <th>2</th>\n",
       "      <td>98.5.45.3</td>\n",
       "      <td>2</td>\n",
       "      <td>2</td>\n",
       "      <td>2</td>\n",
       "      <td>6</td>\n",
       "    </tr>\n",
       "  </tbody>\n",
       "</table>\n",
       "</div>"
      ],
      "text/plain": [
       "              IP  DELETE  POST  PUT  GET\n",
       "0     10.30.24.3       1     1    3    5\n",
       "1  192.168.10.20       1     3    3    6\n",
       "2      98.5.45.3       2     2    2    6"
      ]
     },
     "execution_count": 12,
     "metadata": {},
     "output_type": "execute_result"
    }
   ],
   "source": [
    "out =    {'10.30.24.3': {'DELETE': 1,\n",
    "                'GET': 5,\n",
    "                'POST': 1,\n",
    "                'PUT': 3},\n",
    " '192.168.10.20': {'DELETE': 1,\n",
    "                   'GET': 6,\n",
    "                   'POST': 3,\n",
    "                   'PUT': 3},\n",
    " '98.5.45.3': {'DELETE': 2,\n",
    "               'GET': 6,\n",
    "               'POST': 2,\n",
    "               'PUT': 2}}\n",
    "import pandas as pd\n",
    "df = pd.DataFrame([out])\n",
    "df.head()\n",
    "\n",
    "\n",
    "cols = ['IP', 'DELETE', 'POST', 'PUT','GET']\n",
    "pd.DataFrame(out).T.reset_index().rename(columns={'index':'IP'})[cols]"
   ]
  },
  {
   "cell_type": "code",
   "execution_count": null,
   "metadata": {},
   "outputs": [],
   "source": []
  }
 ],
 "metadata": {
  "kernelspec": {
   "display_name": "Python 3",
   "language": "python",
   "name": "python3"
  },
  "language_info": {
   "codemirror_mode": {
    "name": "ipython",
    "version": 3
   },
   "file_extension": ".py",
   "mimetype": "text/x-python",
   "name": "python",
   "nbconvert_exporter": "python",
   "pygments_lexer": "ipython3",
   "version": "3.7.3"
  }
 },
 "nbformat": 4,
 "nbformat_minor": 2
}
