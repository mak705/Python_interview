{
 "cells": [
  {
   "cell_type": "code",
   "execution_count": 1,
   "metadata": {},
   "outputs": [
    {
     "name": "stdout",
     "output_type": "stream",
     "text": [
      "{'10.30.24.3': {'DELETE': 1,\n",
      "                'GET': 5,\n",
      "                'POST': 1,\n",
      "                'PUT': 3},\n",
      " '192.168.10.20': {'DELETE': 1,\n",
      "                   'GET': 6,\n",
      "                   'POST': 3,\n",
      "                   'PUT': 3},\n",
      " '34.5.66.7': {'DELETE': 0,\n",
      "               'GET': 6,\n",
      "               'POST': 2,\n",
      "               'PUT': 1},\n",
      " '43.56.76.4': {'DELETE': 1,\n",
      "                'GET': 5,\n",
      "                'POST': 0,\n",
      "                'PUT': 8},\n",
      " '74.5.6.5': {'DELETE': 1,\n",
      "              'GET': 6,\n",
      "              'POST': 2,\n",
      "              'PUT': 4},\n",
      " '94.5.6.3': {'DELETE': 1,\n",
      "              'GET': 8,\n",
      "              'POST': 4,\n",
      "              'PUT': 2},\n",
      " '94.5.77.98': {'DELETE': 1,\n",
      "                'GET': 9,\n",
      "                'POST': 2,\n",
      "                'PUT': 2},\n",
      " '98.5.45.3': {'DELETE': 2,\n",
      "               'GET': 6,\n",
      "               'POST': 2,\n",
      "               'PUT': 2}}\n"
     ]
    }
   ],
   "source": [
    "#FInd the number of Get,POST, Delete using regular exp\n",
    "with open (r'C:\\Users\\makka\\Desktop\\Tests\\apache_log.log', 'r') as fr:\n",
    "    line = fr.read()\n",
    "    \n",
    "import re\n",
    "data = [line.strip() for line in line.splitlines() if line.strip()]\n",
    "out = {}\n",
    "for i in data:\n",
    "    g = re.findall(r'([\\d.]+).*?(GET|POST|PUT|DELETE)', i)\n",
    "    ip_address, method = g[0]\n",
    "    out.setdefault(ip_address, {})\n",
    "    out[ip_address].setdefault('GET', 0)\n",
    "    out[ip_address].setdefault('POST', 0)\n",
    "    out[ip_address].setdefault('PUT', 0)\n",
    "    out[ip_address].setdefault('DELETE', 0)\n",
    "    out[ip_address][method] += 1\n",
    "    \n",
    "\n",
    "from pprint import pprint\n",
    "pprint(out, width=30)"
   ]
  },
  {
   "cell_type": "code",
   "execution_count": 2,
   "metadata": {},
   "outputs": [],
   "source": [
    "import pandas as pd"
   ]
  },
  {
   "cell_type": "code",
   "execution_count": 3,
   "metadata": {},
   "outputs": [
    {
     "data": {
      "text/html": [
       "<div>\n",
       "<style scoped>\n",
       "    .dataframe tbody tr th:only-of-type {\n",
       "        vertical-align: middle;\n",
       "    }\n",
       "\n",
       "    .dataframe tbody tr th {\n",
       "        vertical-align: top;\n",
       "    }\n",
       "\n",
       "    .dataframe thead th {\n",
       "        text-align: right;\n",
       "    }\n",
       "</style>\n",
       "<table border=\"1\" class=\"dataframe\">\n",
       "  <thead>\n",
       "    <tr style=\"text-align: right;\">\n",
       "      <th></th>\n",
       "      <th>10.30.24.3</th>\n",
       "      <th>192.168.10.20</th>\n",
       "      <th>34.5.66.7</th>\n",
       "      <th>43.56.76.4</th>\n",
       "      <th>74.5.6.5</th>\n",
       "      <th>94.5.6.3</th>\n",
       "      <th>94.5.77.98</th>\n",
       "      <th>98.5.45.3</th>\n",
       "    </tr>\n",
       "  </thead>\n",
       "  <tbody>\n",
       "    <tr>\n",
       "      <th>0</th>\n",
       "      <td>{'GET': 5, 'POST': 1, 'PUT': 3, 'DELETE': 1}</td>\n",
       "      <td>{'GET': 6, 'POST': 3, 'PUT': 3, 'DELETE': 1}</td>\n",
       "      <td>{'GET': 6, 'POST': 2, 'PUT': 1, 'DELETE': 0}</td>\n",
       "      <td>{'GET': 5, 'POST': 0, 'PUT': 8, 'DELETE': 1}</td>\n",
       "      <td>{'GET': 6, 'POST': 2, 'PUT': 4, 'DELETE': 1}</td>\n",
       "      <td>{'GET': 8, 'POST': 4, 'PUT': 2, 'DELETE': 1}</td>\n",
       "      <td>{'GET': 9, 'POST': 2, 'PUT': 2, 'DELETE': 1}</td>\n",
       "      <td>{'GET': 6, 'POST': 2, 'PUT': 2, 'DELETE': 2}</td>\n",
       "    </tr>\n",
       "  </tbody>\n",
       "</table>\n",
       "</div>"
      ],
      "text/plain": [
       "                                     10.30.24.3  \\\n",
       "0  {'GET': 5, 'POST': 1, 'PUT': 3, 'DELETE': 1}   \n",
       "\n",
       "                                  192.168.10.20  \\\n",
       "0  {'GET': 6, 'POST': 3, 'PUT': 3, 'DELETE': 1}   \n",
       "\n",
       "                                      34.5.66.7  \\\n",
       "0  {'GET': 6, 'POST': 2, 'PUT': 1, 'DELETE': 0}   \n",
       "\n",
       "                                     43.56.76.4  \\\n",
       "0  {'GET': 5, 'POST': 0, 'PUT': 8, 'DELETE': 1}   \n",
       "\n",
       "                                       74.5.6.5  \\\n",
       "0  {'GET': 6, 'POST': 2, 'PUT': 4, 'DELETE': 1}   \n",
       "\n",
       "                                       94.5.6.3  \\\n",
       "0  {'GET': 8, 'POST': 4, 'PUT': 2, 'DELETE': 1}   \n",
       "\n",
       "                                     94.5.77.98  \\\n",
       "0  {'GET': 9, 'POST': 2, 'PUT': 2, 'DELETE': 1}   \n",
       "\n",
       "                                      98.5.45.3  \n",
       "0  {'GET': 6, 'POST': 2, 'PUT': 2, 'DELETE': 2}  "
      ]
     },
     "execution_count": 3,
     "metadata": {},
     "output_type": "execute_result"
    }
   ],
   "source": [
    "df = pd.DataFrame([out])\n",
    "df.head()"
   ]
  },
  {
   "cell_type": "code",
   "execution_count": 7,
   "metadata": {},
   "outputs": [],
   "source": [
    "df = pd.DataFrame(columns=['DELETE', 'POST', 'PUT'])\n",
    "for item in out:\n",
    "    list_dict = []\n",
    "    list_dict.append({'DELETE':out[item]['DELETE'], 'POST':out[item]['POST'], 'PUT':out[item]['PUT'],'GET':out[item]['GET']})\n",
    "    df= df.append(list_dict)"
   ]
  },
  {
   "cell_type": "code",
   "execution_count": 8,
   "metadata": {},
   "outputs": [
    {
     "data": {
      "text/html": [
       "<div>\n",
       "<style scoped>\n",
       "    .dataframe tbody tr th:only-of-type {\n",
       "        vertical-align: middle;\n",
       "    }\n",
       "\n",
       "    .dataframe tbody tr th {\n",
       "        vertical-align: top;\n",
       "    }\n",
       "\n",
       "    .dataframe thead th {\n",
       "        text-align: right;\n",
       "    }\n",
       "</style>\n",
       "<table border=\"1\" class=\"dataframe\">\n",
       "  <thead>\n",
       "    <tr style=\"text-align: right;\">\n",
       "      <th></th>\n",
       "      <th>DELETE</th>\n",
       "      <th>GET</th>\n",
       "      <th>POST</th>\n",
       "      <th>PUT</th>\n",
       "    </tr>\n",
       "  </thead>\n",
       "  <tbody>\n",
       "    <tr>\n",
       "      <th>0</th>\n",
       "      <td>1</td>\n",
       "      <td>6.0</td>\n",
       "      <td>3</td>\n",
       "      <td>3</td>\n",
       "    </tr>\n",
       "    <tr>\n",
       "      <th>0</th>\n",
       "      <td>1</td>\n",
       "      <td>5.0</td>\n",
       "      <td>1</td>\n",
       "      <td>3</td>\n",
       "    </tr>\n",
       "    <tr>\n",
       "      <th>0</th>\n",
       "      <td>2</td>\n",
       "      <td>6.0</td>\n",
       "      <td>2</td>\n",
       "      <td>2</td>\n",
       "    </tr>\n",
       "    <tr>\n",
       "      <th>0</th>\n",
       "      <td>1</td>\n",
       "      <td>8.0</td>\n",
       "      <td>4</td>\n",
       "      <td>2</td>\n",
       "    </tr>\n",
       "    <tr>\n",
       "      <th>0</th>\n",
       "      <td>0</td>\n",
       "      <td>6.0</td>\n",
       "      <td>2</td>\n",
       "      <td>1</td>\n",
       "    </tr>\n",
       "    <tr>\n",
       "      <th>0</th>\n",
       "      <td>1</td>\n",
       "      <td>5.0</td>\n",
       "      <td>0</td>\n",
       "      <td>8</td>\n",
       "    </tr>\n",
       "    <tr>\n",
       "      <th>0</th>\n",
       "      <td>1</td>\n",
       "      <td>9.0</td>\n",
       "      <td>2</td>\n",
       "      <td>2</td>\n",
       "    </tr>\n",
       "    <tr>\n",
       "      <th>0</th>\n",
       "      <td>1</td>\n",
       "      <td>6.0</td>\n",
       "      <td>2</td>\n",
       "      <td>4</td>\n",
       "    </tr>\n",
       "  </tbody>\n",
       "</table>\n",
       "</div>"
      ],
      "text/plain": [
       "  DELETE  GET POST PUT\n",
       "0      1  6.0    3   3\n",
       "0      1  5.0    1   3\n",
       "0      2  6.0    2   2\n",
       "0      1  8.0    4   2\n",
       "0      0  6.0    2   1\n",
       "0      1  5.0    0   8\n",
       "0      1  9.0    2   2\n",
       "0      1  6.0    2   4"
      ]
     },
     "execution_count": 8,
     "metadata": {},
     "output_type": "execute_result"
    }
   ],
   "source": [
    "df\n",
    "#df['IP']=[3]*len(df)"
   ]
  },
  {
   "cell_type": "code",
   "execution_count": 9,
   "metadata": {},
   "outputs": [
    {
     "data": {
      "text/html": [
       "<div>\n",
       "<style scoped>\n",
       "    .dataframe tbody tr th:only-of-type {\n",
       "        vertical-align: middle;\n",
       "    }\n",
       "\n",
       "    .dataframe tbody tr th {\n",
       "        vertical-align: top;\n",
       "    }\n",
       "\n",
       "    .dataframe thead th {\n",
       "        text-align: right;\n",
       "    }\n",
       "</style>\n",
       "<table border=\"1\" class=\"dataframe\">\n",
       "  <thead>\n",
       "    <tr style=\"text-align: right;\">\n",
       "      <th></th>\n",
       "      <th>IP</th>\n",
       "      <th>DELETE</th>\n",
       "      <th>POST</th>\n",
       "      <th>PUT</th>\n",
       "    </tr>\n",
       "  </thead>\n",
       "  <tbody>\n",
       "    <tr>\n",
       "      <th>0</th>\n",
       "      <td>192.168.10.20</td>\n",
       "      <td>1</td>\n",
       "      <td>3</td>\n",
       "      <td>3</td>\n",
       "    </tr>\n",
       "    <tr>\n",
       "      <th>1</th>\n",
       "      <td>10.30.24.3</td>\n",
       "      <td>1</td>\n",
       "      <td>1</td>\n",
       "      <td>3</td>\n",
       "    </tr>\n",
       "    <tr>\n",
       "      <th>2</th>\n",
       "      <td>98.5.45.3</td>\n",
       "      <td>2</td>\n",
       "      <td>2</td>\n",
       "      <td>2</td>\n",
       "    </tr>\n",
       "    <tr>\n",
       "      <th>3</th>\n",
       "      <td>94.5.6.3</td>\n",
       "      <td>1</td>\n",
       "      <td>4</td>\n",
       "      <td>2</td>\n",
       "    </tr>\n",
       "    <tr>\n",
       "      <th>4</th>\n",
       "      <td>34.5.66.7</td>\n",
       "      <td>0</td>\n",
       "      <td>2</td>\n",
       "      <td>1</td>\n",
       "    </tr>\n",
       "    <tr>\n",
       "      <th>5</th>\n",
       "      <td>43.56.76.4</td>\n",
       "      <td>1</td>\n",
       "      <td>0</td>\n",
       "      <td>8</td>\n",
       "    </tr>\n",
       "    <tr>\n",
       "      <th>6</th>\n",
       "      <td>94.5.77.98</td>\n",
       "      <td>1</td>\n",
       "      <td>2</td>\n",
       "      <td>2</td>\n",
       "    </tr>\n",
       "    <tr>\n",
       "      <th>7</th>\n",
       "      <td>74.5.6.5</td>\n",
       "      <td>1</td>\n",
       "      <td>2</td>\n",
       "      <td>4</td>\n",
       "    </tr>\n",
       "  </tbody>\n",
       "</table>\n",
       "</div>"
      ],
      "text/plain": [
       "              IP  DELETE  POST  PUT\n",
       "0  192.168.10.20       1     3    3\n",
       "1     10.30.24.3       1     1    3\n",
       "2      98.5.45.3       2     2    2\n",
       "3       94.5.6.3       1     4    2\n",
       "4      34.5.66.7       0     2    1\n",
       "5     43.56.76.4       1     0    8\n",
       "6     94.5.77.98       1     2    2\n",
       "7       74.5.6.5       1     2    4"
      ]
     },
     "execution_count": 9,
     "metadata": {},
     "output_type": "execute_result"
    }
   ],
   "source": [
    "cols = ['IP', 'DELETE', 'POST', 'PUT']\n",
    "pd.DataFrame(out).T.reset_index().rename(columns={'index':'IP'})[cols]"
   ]
  },
  {
   "cell_type": "code",
   "execution_count": 115,
   "metadata": {},
   "outputs": [
    {
     "name": "stdout",
     "output_type": "stream",
     "text": [
      "['120.115.144.240', '120.115.145.240']\n"
     ]
    }
   ],
   "source": [
    "#Get the Ip after 2 GET method\n",
    "#regex = r\"GET.*?GET.*?\\s{2,}(\\d{1,3}\\.\\d{1,3}\\.\\d{1,3}\\.\\d{1,3})\"\n",
    "regex = r\"GET.*?GET.*?(\\d{1,3}\\.\\d{1,3}\\.\\d{1,3}\\.\\d{1,3})\"\n",
    "\n",
    "test_str = \"\"\"\n",
    "\n",
    "12.115.14.240 - - [29/Aug/2017:04:40:03 -0400] \"GET /apng/assembler-2.0/assembler2.php HTTP/1.1\" 403 231 \"http://littlesvr.ca/apng/history.html\" \"Mozilla/5.0 (Macintosh; Intel Mac OS X 10_12_0) AppleWebKit/537.36 (KHTML, like Gecko) Chrome/60.0.3112.101 Safari/537.36\"\n",
    "\n",
    "202.167.250.99 - - [29/Aug/2017:04:41:10 -0400] \"GET /apng/images/o_sample.png?1424751982?1424776117 HTTP/1.1\" 403 115656 \"http://bbs.mydigit.cn/read.php?tid=2186780&fpage=3\" \"Mozilla/5.0 (Windows NT 6.3; WOW64) AppleWebKit/537.36 (KHTML, like Gecko) Chrome/59.0.3071.115 Safari/537.36\"\n",
    "\n",
    "120.115.144.240 - - [29/Aug/2017:04:40:03 -0400] \"DELETE /apng/assembler-2.0/assembler2.php HTTP/1.1\" 200 231 \"http://littlesvr.ca/apng/history.html\" \"Mozilla/5.0 (Macintosh; Intel Mac OS X 10_12_0) AppleWebKit/537.36 (KHTML, like Gecko) Chrome/60.0.3112.101 Safari/537.36\"\n",
    "\n",
    "12.115.14.240 - - [29/Aug/2017:04:40:03 -0400] \"GET /apng/assembler-2.0/assembler2.php HTTP/1.1\" 403 231 \"http://littlesvr.ca/apng/history.html\" \"Mozilla/5.0 (Macintosh; Intel Mac OS X 10_12_0) AppleWebKit/537.36 (KHTML, like Gecko) Chrome/60.0.3112.101 Safari/537.36\"\n",
    "\n",
    "202.167.250.99 - - [29/Aug/2017:04:41:10 -0400] \"GET /apng/images/o_sample.png?1424751982?1424776117 HTTP/1.1\" 403 115656 \"http://bbs.mydigit.cn/read.php?tid=2186780&fpage=3\" \"Mozilla/5.0 (Windows NT 6.3; WOW64) AppleWebKit/537.36 (KHTML, like Gecko) Chrome/59.0.3071.115 Safari/537.36\"\n",
    "\n",
    "120.115.145.240 - - [29/Aug/2017:04:40:03 -0400] \"DELETE /apng/assembler-2.0/assembler2.php HTTP/1.1\" 200 231 \"http://littlesvr.ca/apng/history.html\" \"Mozilla/5.0 (Macintosh; Intel Mac OS X 10_12_0) AppleWebKit/537.36 (KHTML, like Gecko) Chrome/60.0.3112.101 Safari/537.36\"\n",
    "\n",
    "\n",
    "\"\"\"\n",
    "\n",
    "print(re.findall(regex, test_str, re.DOTALL))"
   ]
  },
  {
   "cell_type": "code",
   "execution_count": 147,
   "metadata": {},
   "outputs": [
    {
     "name": "stdout",
     "output_type": "stream",
     "text": [
      "{'192.168.10.20': 13, '10.30.24.3': 10, '98.5.45.3': 12, '94.5.6.3': 15, '34.5.66.7': 9, '43.56.76.4': 14, '94.5.77.98': 14, '74.5.6.5': 13}\n"
     ]
    }
   ],
   "source": [
    "#count the Ip address\n",
    "result ={}\n",
    "with open (r'C:/Users/makka/Desktop/Tests/apache_log.log', 'r') as fr1:\n",
    "    line1 = fr1.read()\n",
    "\n",
    "rx = r\"^\\d{1,3}(?:\\.\\d{1,3}){3}\\b\"\n",
    "listofip = re.findall(rx, line1, re.M)\n",
    "result ={}\n",
    "for ip in listofip:\n",
    "    if ip in result:\n",
    "        result[ip] += 1\n",
    "    else:\n",
    "        result[ip] = 1\n",
    "print(result)"
   ]
  },
  {
   "cell_type": "code",
   "execution_count": 89,
   "metadata": {},
   "outputs": [
    {
     "name": "stdout",
     "output_type": "stream",
     "text": [
      "{'192.168.10.20': 13, '10.30.24.3': 10, '98.5.45.3': 12, '94.5.6.3': 15, '34.5.66.7': 9, '43.56.76.4': 14, '94.5.77.98': 14, '74.5.6.5': 13}\n"
     ]
    }
   ],
   "source": [
    "#COunt the Ip address\n",
    "result ={}\n",
    "with open (r'C:/Users/makka/Desktop/Tests/apache_log.log', 'r') as fr1:\n",
    "    for line in fr1:\n",
    "        ip = line.split()[0]\n",
    "        if ip in result:\n",
    "            result[ip] += 1\n",
    "        else:\n",
    "            result[ip] = 1\n",
    "print(result)"
   ]
  },
  {
   "cell_type": "code",
   "execution_count": 96,
   "metadata": {},
   "outputs": [
    {
     "data": {
      "text/plain": [
       "{'192.168.10.20': 13,\n",
       " '10.30.24.3': 10,\n",
       " '98.5.45.3': 12,\n",
       " '94.5.6.3': 15,\n",
       " '34.5.66.7': 9,\n",
       " '43.56.76.4': 14,\n",
       " '94.5.77.98': 14,\n",
       " '74.5.6.5': 13}"
      ]
     },
     "execution_count": 96,
     "metadata": {},
     "output_type": "execute_result"
    }
   ],
   "source": [
    "#count all the ip address\n",
    "import csv\n",
    "\n",
    "with open(r'C:/Users/makka/Desktop/Tests/apache_log.log', encoding='utf8') as logfile:\n",
    "    reader = csv.reader(logfile, delimiter=' ')\n",
    "    resultcsv = {}\n",
    "    for row in reader:\n",
    "        #print(row[0])\n",
    "        if row[0] in resultcsv:\n",
    "            resultcsv[row[0]] += 1\n",
    "        else:\n",
    "            resultcsv[row[0]] = 1\n",
    "resultcsv       "
   ]
  },
  {
   "cell_type": "code",
   "execution_count": 106,
   "metadata": {},
   "outputs": [
    {
     "name": "stdout",
     "output_type": "stream",
     "text": [
      "{'192.168.10.20': 13, '10.30.24.3': 10, '98.5.45.3': 12, '94.5.6.3': 15, '34.5.66.7': 9, '43.56.76.4': 14, '94.5.77.98': 14, '74.5.6.5': 13}\n"
     ]
    }
   ],
   "source": [
    "#COunt the Ip address\n",
    "from collections import Counter\n",
    "with open (r'C:/Users/makka/Desktop/Tests/apache_log.log', 'r') as fr1:\n",
    "    linecounter = fr1.read()\n",
    "reg = r'^\\d{1,3}\\.\\d{1,3}\\.\\d{1,3}\\.\\d{1,3}'\n",
    "matche = re.findall(reg, linecounter, flags=re.MULTILINE)\n",
    "\n",
    "print(dict(Counter(matche)))"
   ]
  },
  {
   "cell_type": "code",
   "execution_count": 107,
   "metadata": {},
   "outputs": [
    {
     "name": "stdout",
     "output_type": "stream",
     "text": [
      "34.5.66.7 Counter({'GET': 51, 'PUT': 25, 'POST': 16, 'DELETE': 8})\n",
      "192.168.10.20 Counter({'GET': 51, 'PUT': 25, 'POST': 16, 'DELETE': 8})\n",
      "43.56.76.4 Counter({'GET': 51, 'PUT': 25, 'POST': 16, 'DELETE': 8})\n",
      "94.5.77.98 Counter({'GET': 51, 'PUT': 25, 'POST': 16, 'DELETE': 8})\n",
      "10.30.24.3 Counter({'GET': 51, 'PUT': 25, 'POST': 16, 'DELETE': 8})\n",
      "74.5.6.5 Counter({'GET': 51, 'PUT': 25, 'POST': 16, 'DELETE': 8})\n",
      "94.5.6.3 Counter({'GET': 51, 'PUT': 25, 'POST': 16, 'DELETE': 8})\n",
      "98.5.45.3 Counter({'GET': 51, 'PUT': 25, 'POST': 16, 'DELETE': 8})\n"
     ]
    }
   ],
   "source": [
    "#cOUnt each PUT, DELETE, GET from log\n",
    "#FInd the number of Get,POST, Delete using regular exp\n",
    "from collections import Counter\n",
    "with open (r'C:\\Users\\makka\\Desktop\\Tests\\apache_log.log', 'r') as fr:\n",
    "    line = fr.read()\n",
    "    \n",
    "import re\n",
    "data = [line.strip() for line in line.splitlines() if line.strip()]\n",
    "results = []\n",
    "for line in data:\n",
    "    g = re.findall(r'([\\d.]+).*?(GET|POST|PUT|DELETE)', line)\n",
    "    results.append(g[0])\n",
    "#results       \n",
    "ip_list = set(result[0] for result in results)\n",
    "#ip_list\n",
    "for ip in ip_list:\n",
    "     print(ip, Counter(result[1] for result in results))\n"
   ]
  },
  {
   "cell_type": "code",
   "execution_count": 108,
   "metadata": {},
   "outputs": [
    {
     "name": "stdout",
     "output_type": "stream",
     "text": [
      "192.168.10.20 DELETE = 1 GET = 6 POST = 3 PUT = 3\n",
      "10.30.24.3 DELETE = 1 GET = 5 POST = 1 PUT = 3\n",
      "98.5.45.3 DELETE = 2 GET = 6 POST = 2 PUT = 2\n",
      "94.5.6.3 DELETE = 1 GET = 8 POST = 4 PUT = 2\n",
      "34.5.66.7 GET = 6 POST = 2 PUT = 1\n",
      "43.56.76.4 DELETE = 1 GET = 5 PUT = 8\n",
      "94.5.77.98 DELETE = 1 GET = 9 POST = 2 PUT = 2\n",
      "74.5.6.5 DELETE = 1 GET = 6 POST = 2 PUT = 4\n"
     ]
    }
   ],
   "source": [
    "#cOUnt each PUT, DELETE, GET from log\n",
    "#FInd the number of Get,POST, Delete using regular exp\n",
    "from collections import defaultdict\n",
    "with open (r'C:\\Users\\makka\\Desktop\\Tests\\apache_log.log', 'r') as fr:\n",
    "    line = fr.read()\n",
    "data = [line.strip() for line in line.splitlines() if line.strip()]\n",
    "\n",
    "result = defaultdict(list)\n",
    "for line in data:\n",
    "    for ip, method in re.findall(r'([\\d.]+).*?(GET|POST|PUT|DELETE)', line):\n",
    "        result[ip].append(method)\n",
    "#print (result)\n",
    "for k, v in result.items():\n",
    "    temp = \"\"\n",
    "    for i in set(v):\n",
    "        temp += \" {} = {}\".format(i, v.count(i))\n",
    "    print(\"{}{}\".format(k, temp))"
   ]
  },
  {
   "cell_type": "code",
   "execution_count": 149,
   "metadata": {},
   "outputs": [
    {
     "name": "stdout",
     "output_type": "stream",
     "text": [
      "['192.168.10.20', '192.168.10.20', '34.5.66.7', '192.168.10.20']\n"
     ]
    }
   ],
   "source": [
    "#FInd the IP after 2 DELETE\n",
    "import re\n",
    "\n",
    "s =  open(r'C:/Users/makka/Desktop/Tests/apache_log.log').read()\n",
    "\n",
    "expr = r'DELETE.*?DELETE[^\\n]*\\n(\\d{1,3}\\.\\d{1,3}\\.\\d{1,3}\\.\\d{1,3})'\n",
    "print(re.findall(expr, s, re.DOTALL))\n"
   ]
  },
  {
   "cell_type": "code",
   "execution_count": 154,
   "metadata": {},
   "outputs": [
    {
     "name": "stdout",
     "output_type": "stream",
     "text": [
      "['192.168.10.20', '192.168.10.20', '34.5.66.7', '192.168.10.20']\n"
     ]
    }
   ],
   "source": [
    "#FInd the IP after 2 DELETE\n",
    "# \\s{1,} = \\s+ matches any 1 or more whitespaces, it does not guarantee to match newline chars only.\n",
    "import re\n",
    "\n",
    "s1 =  open(r'C:/Users/makka/Desktop/Tests/apache_log.log').read()\n",
    "\n",
    "regex1 = r\"DELETE.*?DELETE.*?\\s{1,}(\\d{1,3}\\.\\d{1,3}\\.\\d{1,3}\\.\\d{1,3})\"\n",
    "print(re.findall(regex1, s1, re.DOTALL))"
   ]
  },
  {
   "cell_type": "code",
   "execution_count": 153,
   "metadata": {},
   "outputs": [
    {
     "name": "stdout",
     "output_type": "stream",
     "text": [
      "8\n"
     ]
    }
   ],
   "source": [
    "#Total number of DELETE\n",
    "import re\n",
    "with open (r'C:\\Users\\makka\\Desktop\\Tests\\apache_log.log', 'r') as fr:\n",
    "    log = fr.read()\n",
    "    #sp = log.split('\\n')\n",
    "    #print (log)\n",
    "result = re.findall(r'DELETE', log)\n",
    "print (len(result))\n"
   ]
  },
  {
   "cell_type": "code",
   "execution_count": 155,
   "metadata": {},
   "outputs": [
    {
     "data": {
      "text/plain": [
       "100"
      ]
     },
     "execution_count": 155,
     "metadata": {},
     "output_type": "execute_result"
    }
   ],
   "source": [
    "#Total numbr of lines\n",
    "num_lines = sum(1 for line in open(r'C:\\Users\\makka\\Desktop\\Tests\\apache_log.log'))\n",
    "num_lines"
   ]
  },
  {
   "cell_type": "code",
   "execution_count": null,
   "metadata": {},
   "outputs": [],
   "source": [
    "# # Use python3 in this test\n",
    "\n",
    "\n",
    "# ========================================================================================================\n",
    "# Questing 1:\n",
    "# Attached apache access log(apache_log.log), this has IP address and the request type. \n",
    "# Write a python program to print each ip address with number of GET /PUT /POST /DELETE request\n",
    "\n",
    "# Output should be something like below,\n",
    "\n",
    "# 192.168.10.20: GET=6,POST=3,PUT=3,DELETE=1\n",
    "# 43.56.76.4: GET=4,POST=3,PUT=1,DELETE=3\n",
    "\n",
    "\n",
    "# with open ('apache_log.log', 'r') as fr:\n",
    "#     line = fr.read()\n",
    "    \n",
    "# import re\n",
    "# data = [line.strip() for line in line.splitlines() if line.strip()]\n",
    "# dictionary = {}\n",
    "# for line in data:\n",
    "#     regex = re.findall(r'([\\d.]+).*?(GET|POST|PUT|DELETE)', line)\n",
    "#     ip_address, get_put_post_delete = regex[0]\n",
    "#     dictionary.setdefault(ip_address, {})\n",
    "#     dictionary[ip_address].setdefault('GET', 0)\n",
    "#     dictionary[ip_address].setdefault('POST', 0)\n",
    "#     dictionary[ip_address].setdefault('PUT', 0)\n",
    "#     dictionary[ip_address].setdefault('DELETE', 0)\n",
    "#     dictionary[ip_address][get_put_post_delete] += 1\n",
    "    \n",
    "\n",
    "# from pprint import pprint\n",
    "# pprint(dictionary, width=15)\n",
    "\n",
    "# import pandas as pd\n",
    "# cols = ['IP', 'DELETE', 'PUT']\n",
    "# pd.DataFrame(out).T.reset_index().rename(columns={'index':'IP'})[cols]\n",
    "\n",
    "# ===========================================================================================================\n",
    "\n",
    "# Question 2:  \n",
    "# Write a program to generate a log similar to output pattern below ('i.e' Simulating web server logs)\n",
    "\n",
    "# Input from user expected:\n",
    "# 1) Number of lines to generate\n",
    "# 2) output to file or console \n",
    "# 3) Provide a help when no arguments to the program is given. \n",
    "# 4) Ensure that number of lines generated by the program is the number entered by the user of this program. (Think large numbers)\n",
    "\n",
    "# Note:\n",
    "# 1) It should support help which provides options to user how to provide input / run the program\n",
    "# 2) Do not use any external library \n",
    "\n",
    "# eg:\n",
    "# python3 test.py --help   (it should display help options)\n",
    "# python3 test.py -n 200  -type console  (it should print the log in console)\n",
    "# python3 test.py -n 100  -type log -name abc.log  (it should print the log in a file)\n",
    "\n",
    "# Output pattern as below: (print it eaither in file or console as per user input)\n",
    "\n",
    "# 192.168.10.20 - - Thu Jan 31 11:56:22 UTC 2019 PUT /api/v1.1/search/tag/list HTTP/1.0\" 200\n",
    "# 10.30.24.3 - - Thu Jan 31 11:57:33 UTC 2019 POST /api/v1.1/create/user/ HTTP/1.0\" 500 \n",
    "# 10.30.24.3 - - Thu Jan 31 11:58:21 UTC 2019 GET /api/v1.1/search/user/ HTTP/1.0\" 401 \n",
    "# 10.30.25.3 - - Thu Jan 31 11:58:21 UTC 2019 GET /api/v1.1/list/user/ HTTP/1.0\" 200 \n",
    "\n",
    "\n",
    "# import sys\n",
    "# from itertools import islice\n",
    "\n",
    "# args = sys.argv\n",
    "# print (args)\n",
    "# #['file.py', 'datafile', '-N', '10']\n",
    "# if args[1] == '-h':\n",
    "#     print (\"-N for printing the number of lines: python file.py datafile -N 10\")\n",
    "\n",
    "# if args[2] == '-N':\n",
    "#     datafile = args[1]\n",
    "#     number = int(args[3])\n",
    "#     with open(datafile) as myfile:\n",
    "#         head = list(islice(myfile, number))\n",
    "#         head = [item.strip() for item in head]\n",
    "\n",
    "#         print (head)\n",
    "#         print ('\\n'.join(head))\n",
    "# try:\n",
    "#     if args[4] == '-type':\n",
    "#         datafile = args[1]\n",
    "#         newfile = args[-1]\n",
    "#         number = int(args[3])\n",
    "#         with open(datafile) as myfile:\n",
    "#             head = list(islice(myfile, number))\n",
    "#             head1 = [item.strip() for item in head]\n",
    "#             head2 = ('\\n'.join(head1))\n",
    "#             with open(newfile,'w+') as fw:\n",
    "#                 fw.write(str(head2))\n",
    "# except Exception as e:\n",
    "#     pass\n",
    "\n",
    "\n",
    "# Usage :  To print in console\n",
    "# (base) makka@makka-VirtualBox:~/test/24_7$ python file.py  datafile -N 10 \n",
    "\n",
    "# To print in the log\n",
    "# (base) makka@makka-VirtualBox:~/test/24_7$ python file.py  datafile -N 10 -type log.abc\n",
    "\n",
    "\n",
    "\n",
    "# ======================================================================================================\n",
    "\n",
    "# Question 3: \n",
    "# Find all the IP address of DELETE after two consecutive GET requests. \n",
    "\n",
    "# For example: \n",
    "\n",
    "# x.y.a.x  [18/Jul/2017:09:57:05 +0000] \"GET .....\"\n",
    "# x.y.b.x  [18/Jul/2017:09:58:01 +0000] \"GET .....\"\n",
    "# x.a.b.c  [18/Jul/2017:09:59:04 +0000] \"DELETE .....\"\n",
    "\n",
    "# Get x.a.b.c \n",
    "\n",
    "\n",
    "# import re\n",
    "# regex = r\"GET.*?GET.*?\\s{2,}(\\d{1,3}\\.\\d{1,3}\\.\\d{1,3}\\.\\d{1,3})\""
   ]
  }
 ],
 "metadata": {
  "kernelspec": {
   "display_name": "Python 3",
   "language": "python",
   "name": "python3"
  },
  "language_info": {
   "codemirror_mode": {
    "name": "ipython",
    "version": 3
   },
   "file_extension": ".py",
   "mimetype": "text/x-python",
   "name": "python",
   "nbconvert_exporter": "python",
   "pygments_lexer": "ipython3",
   "version": "3.7.3"
  }
 },
 "nbformat": 4,
 "nbformat_minor": 2
}
