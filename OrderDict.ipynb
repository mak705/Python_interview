{
 "cells": [
  {
   "cell_type": "code",
   "execution_count": 2,
   "metadata": {},
   "outputs": [
    {
     "name": "stdout",
     "output_type": "stream",
     "text": [
      "3\n",
      "abc\n",
      "def\n",
      "abc\n",
      "2\n",
      "2 1\n",
      "OrderedDict([('abc', 2), ('def', 1)])\n"
     ]
    }
   ],
   "source": [
    "from collections import OrderedDict\n",
    "#define empty ordered dictionary, which counts occurences\n",
    "dict = OrderedDict()\n",
    "\n",
    "for i in range(int(input())):\n",
    "    #If input not in the dictionary, then add it\n",
    "    #else increment the counter\n",
    "    key = input()\n",
    "    if not key in dict.keys():\n",
    "        dict.update({key : 1})\n",
    "        continue\n",
    "    dict[key] += 1\n",
    "\n",
    "print(len(dict.keys()))\n",
    "print(*dict.values())\n",
    "print(dict)"
   ]
  },
  {
   "cell_type": "code",
   "execution_count": 1,
   "metadata": {},
   "outputs": [
    {
     "name": "stdout",
     "output_type": "stream",
     "text": [
      "2\n",
      "abc\n",
      "def\n",
      "2\n",
      "1 1\n"
     ]
    }
   ],
   "source": [
    "from collections import OrderedDict\n",
    "words = OrderedDict()\n",
    "\n",
    "for _ in range(int(input())):\n",
    "    word = input()\n",
    "    words.setdefault(word, 0)\n",
    "    words[word] += 1\n",
    "   \n",
    "print(len(words))\n",
    "print(*words.values())"
   ]
  },
  {
   "cell_type": "code",
   "execution_count": 4,
   "metadata": {},
   "outputs": [
    {
     "data": {
      "text/plain": [
       "OrderedDict([('abc', 1), ('def', 1)])"
      ]
     },
     "execution_count": 4,
     "metadata": {},
     "output_type": "execute_result"
    }
   ],
   "source": [
    "words"
   ]
  },
  {
   "cell_type": "code",
   "execution_count": 5,
   "metadata": {},
   "outputs": [
    {
     "name": "stdout",
     "output_type": "stream",
     "text": [
      "3\n",
      "abc\n",
      "abc\n",
      "def\n",
      "2\n",
      "2 1\n",
      "OrderedCounter({'abc': 2, 'def': 1})\n"
     ]
    }
   ],
   "source": [
    "from collections import Counter, OrderedDict\n",
    "class OrderedCounter(Counter, OrderedDict):\n",
    "    pass\n",
    "d = OrderedCounter(input() for _ in range(int(input())))\n",
    "print(len(d))\n",
    "print(*d.values())\n",
    "print(d)"
   ]
  },
  {
   "cell_type": "code",
   "execution_count": 7,
   "metadata": {},
   "outputs": [
    {
     "name": "stdout",
     "output_type": "stream",
     "text": [
      "2\n",
      "bannana 3\n",
      "red apple 1\n",
      "bannana 3\n",
      "red apple 1\n"
     ]
    }
   ],
   "source": [
    "# Task\n",
    "\n",
    "# You are the manager of a supermarket.\n",
    "# You have a list of  items together with their prices that consumers bought\n",
    "#on a particular day.\n",
    "# Your task is to print each item_name and net_price in order of its first occurrence.\n",
    "\n",
    "# item_name = Name of the item.\n",
    "# net_price = Quantity of the item sold multiplied by the price of each item.\n",
    "\n",
    "# Input Format\n",
    "\n",
    "# The first line contains the number of items, .\n",
    "# The next  lines contains the item's name and price, separated by a space.\n",
    "from collections import OrderedDict\n",
    "d = OrderedDict()\n",
    "for _ in range(int(input())):\n",
    "    item, space, quantity = input().rpartition(' ')\n",
    "    d[item] = d.get(item, 0) + int(quantity)\n",
    "# for item, quantity in d.items():\n",
    "#     print(item, quantity)\n",
    "print(*[\" \".join([item, str(price)]) for item, price in d.items()], sep=\"\\n\")"
   ]
  },
  {
   "cell_type": "code",
   "execution_count": 8,
   "metadata": {},
   "outputs": [
    {
     "name": "stdout",
     "output_type": "stream",
     "text": [
      "BANANA\n",
      "Stuart 12\n"
     ]
    }
   ],
   "source": [
    "# Kevin and Stuart want to play the 'The Minion Game'.\n",
    "\n",
    "# Game Rules\n",
    "\n",
    "# Both players are given the same string, .\n",
    "# Both players have to make substrings using the letters of the string .\n",
    "# Stuart has to make words starting with consonants.\n",
    "# Kevin has to make words starting with vowels.\n",
    "# The game ends when both players have made all possible substrings.\n",
    "\n",
    "# Scoring\n",
    "# A player gets +1 point for each occurrence of the substring in the string .\n",
    "\n",
    "# For Example:\n",
    "# String  = BANANA\n",
    "# Kevin's vowel beginning word = ANA\n",
    "# Here, ANA occurs twice in BANANA. Hence, Kevin will get 2 Points.\n",
    "\n",
    "# For better understanding, see the image below:\n",
    "\n",
    "# banana.png\n",
    "\n",
    "# Your task is to determine the winner of the game and their score.\n",
    "\n",
    "# Input Format\n",
    "\n",
    "# A single line of input containing the string .\n",
    "# Note: The string  will contain only uppercase letters: .\n",
    "\n",
    "# Constraints\n",
    "\n",
    "\n",
    "\n",
    "# Output Format\n",
    "\n",
    "# Print one line: the name of the winner and their score separated by a space.\n",
    "\n",
    "# If the game is a draw, print Draw.\n",
    "\n",
    "# Sample Input\n",
    "\n",
    "# BANANA\n",
    "# Sample Output\n",
    "\n",
    "# Stuart 12\n",
    "\n",
    "def minion_game(s):\n",
    "    # your code goes here\n",
    "    #s = input()\n",
    "\n",
    "    vowels = 'AEIOU'\n",
    "\n",
    "    kevsc = 0\n",
    "    stusc = 0\n",
    "    for i in range(len(s)):\n",
    "        if s[i] in vowels:\n",
    "            kevsc += (len(s)-i)\n",
    "        else:\n",
    "            stusc += (len(s)-i)\n",
    "\n",
    "    if kevsc > stusc:\n",
    "        print (\"Kevin\", kevsc)\n",
    "    elif kevsc < stusc:\n",
    "        print (\"Stuart\", stusc)\n",
    "    else:\n",
    "        print (\"Draw\")\n",
    "\n",
    "if __name__ == '__main__':\n",
    "    s = input()\n",
    "    minion_game(s)"
   ]
  },
  {
   "cell_type": "code",
   "execution_count": null,
   "metadata": {},
   "outputs": [],
   "source": []
  }
 ],
 "metadata": {
  "kernelspec": {
   "display_name": "Python 3",
   "language": "python",
   "name": "python3"
  },
  "language_info": {
   "codemirror_mode": {
    "name": "ipython",
    "version": 3
   },
   "file_extension": ".py",
   "mimetype": "text/x-python",
   "name": "python",
   "nbconvert_exporter": "python",
   "pygments_lexer": "ipython3",
   "version": "3.7.3"
  }
 },
 "nbformat": 4,
 "nbformat_minor": 2
}
