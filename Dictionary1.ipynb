{
 "cells": [
  {
   "cell_type": "code",
   "execution_count": 17,
   "metadata": {},
   "outputs": [
    {
     "name": "stdout",
     "output_type": "stream",
     "text": [
      "a: 1 is present in both aa and bb\n",
      "b: 2 is present in both aa and bb\n"
     ]
    }
   ],
   "source": [
    "#ython dictionary match key values in two dictionaries\n",
    "aa = {'a': 1, 'c': 3, 'b': 2}\n",
    "bb = {'a': 1, 'b': 2}\n",
    "for (key, value) in set(aa.items()) & set(bb.items()):\n",
    "    print ('%s: %s is present in both aa and bb' % (key, value))"
   ]
  },
  {
   "cell_type": "code",
   "execution_count": 22,
   "metadata": {},
   "outputs": [
    {
     "data": {
      "text/plain": [
       "['a', 'b']"
      ]
     },
     "execution_count": 22,
     "metadata": {},
     "output_type": "execute_result"
    }
   ],
   "source": [
    "[k for k,v in aa.items() if k in bb]"
   ]
  },
  {
   "cell_type": "code",
   "execution_count": 13,
   "metadata": {},
   "outputs": [],
   "source": [
    "a = {1:1, 2:2, 3:3,4:4, 5:1}\n",
    "x = [[key,value] for key, value in a.items() if value == 1]"
   ]
  },
  {
   "cell_type": "code",
   "execution_count": 14,
   "metadata": {},
   "outputs": [
    {
     "data": {
      "text/plain": [
       "[[1, 1], [5, 1]]"
      ]
     },
     "execution_count": 14,
     "metadata": {},
     "output_type": "execute_result"
    }
   ],
   "source": [
    "x"
   ]
  },
  {
   "cell_type": "code",
   "execution_count": 15,
   "metadata": {},
   "outputs": [],
   "source": [
    "y = {(key,value) for key, value in a.items() if key in (1,2)}"
   ]
  },
  {
   "cell_type": "code",
   "execution_count": 16,
   "metadata": {},
   "outputs": [
    {
     "data": {
      "text/plain": [
       "{(1, 1), (2, 2)}"
      ]
     },
     "execution_count": 16,
     "metadata": {},
     "output_type": "execute_result"
    }
   ],
   "source": [
    "y"
   ]
  },
  {
   "cell_type": "code",
   "execution_count": 3,
   "metadata": {},
   "outputs": [
    {
     "data": {
      "text/plain": [
       "{'age', 'name'}"
      ]
     },
     "execution_count": 3,
     "metadata": {},
     "output_type": "execute_result"
    }
   ],
   "source": [
    "myl = [\n",
    "{\"name\": \"Tom\", \"age\": 10},\n",
    "{\"name\": \"Mark\", \"age\": 5},\n",
    "{\"name\": \"Pam\", \"age\": 7}\n",
    "]\n",
    "all_keys = set().union(*(d.keys() for d in myl))\n",
    "all_keys"
   ]
  },
  {
   "cell_type": "code",
   "execution_count": 7,
   "metadata": {},
   "outputs": [
    {
     "data": {
      "text/plain": [
       "{'age', 'name'}"
      ]
     },
     "execution_count": 7,
     "metadata": {},
     "output_type": "execute_result"
    }
   ],
   "source": [
    "{k for d in myl for k in d.keys()}\n",
    "#[d for d in myl]"
   ]
  },
  {
   "cell_type": "code",
   "execution_count": 35,
   "metadata": {},
   "outputs": [
    {
     "name": "stdout",
     "output_type": "stream",
     "text": [
      "Enter something: 1 2\n",
      "[-3, -2]\n"
     ]
    }
   ],
   "source": [
    "number_map = { 1: -3, 2: -2, 3: -1, 4: 1, 5: 2, 6: 3 }\n",
    "input_str = input(\"Enter something: \")\n",
    "strikes = [number_map[int(x)] for x in input_str.split()]\n",
    "print (strikes)"
   ]
  },
  {
   "cell_type": "code",
   "execution_count": 27,
   "metadata": {},
   "outputs": [
    {
     "data": {
      "text/plain": [
       "{'age', 'height', 'name', 'weight'}"
      ]
     },
     "execution_count": 27,
     "metadata": {},
     "output_type": "execute_result"
    }
   ],
   "source": [
    "lis=[\n",
    "{\"name\": \"Tom\", \"age\": 10},\n",
    "{\"name\": \"Mark\", \"age\": 5, \"height\":4},\n",
    "{\"name\": \"Pam\", \"age\": 7, \"weight\":90}\n",
    "]\n",
    "{z for y in (x.keys() for x in lis) for z in y}"
   ]
  },
  {
   "cell_type": "code",
   "execution_count": 39,
   "metadata": {},
   "outputs": [
    {
     "data": {
      "text/plain": [
       "{'age', 'height', 'name', 'weight'}"
      ]
     },
     "execution_count": 39,
     "metadata": {},
     "output_type": "execute_result"
    }
   ],
   "source": [
    "set([z for y in (x.keys() for x in lis) for z in y])"
   ]
  },
  {
   "cell_type": "code",
   "execution_count": 40,
   "metadata": {},
   "outputs": [
    {
     "name": "stdout",
     "output_type": "stream",
     "text": [
      "['debug=on', 'title=SampleWidget', 'name=main_window', 'width=500', 'height=500', 'src=Images/Sun.png', 'name=sun1', 'hOffset=250', 'vOffset=250', 'alignment=center', 'data=Click Here', 'size=36', 'style=bold', 'name=text1', 'hOffset=250', 'vOffset=100', 'alignment=center', 'onMouseUp=sun1.opacity = (sun1.opacity / 100) * 90;']\n"
     ]
    }
   ],
   "source": [
    "data = {\"widget\": { \"debug\": \"on\", \"window\": { \"title\": \"SampleWidget\", \"name\": \"main_window\", \"width\": 500, \"height\": 500 }, \"image\": { \"src\": \"Images/Sun.png\", \"name\": \"sun1\", \"hOffset\": 250, \"vOffset\": 250, \"alignment\": \"center\" }, \"text\": { \"data\": \"Click Here\", \"size\": 36, \"style\": \"bold\", \"name\": \"text1\", \"hOffset\": 250, \"vOffset\": 100, \"alignment\": \"center\", \"onMouseUp\": \"sun1.opacity = (sun1.opacity / 100) * 90;\" } }} \n",
    "def pairs(d):\n",
    "    for k, v in d.items():\n",
    "        if isinstance(v, dict):\n",
    "            yield from pairs(v)\n",
    "        else:\n",
    "            yield '{}={}'.format(k, v)\n",
    "\n",
    "print(list(pairs(data)))"
   ]
  },
  {
   "cell_type": "code",
   "execution_count": 42,
   "metadata": {},
   "outputs": [
    {
     "name": "stdout",
     "output_type": "stream",
     "text": [
      "c : 1\n",
      "d : 2\n",
      "f : 3\n",
      "g : 4\n",
      "i : 5\n",
      "j : 6\n"
     ]
    }
   ],
   "source": [
    "di = {'a':{'b':{'c':1, 'd':2}, \n",
    "                            'e':{'f':3, 'g':4}}, \n",
    "                       'h':{'i':5, 'j':6}}\n",
    "def myprint(d):\n",
    "  for k, v in d.items():\n",
    "    if isinstance(v, dict):\n",
    "      myprint(v)\n",
    "    else:\n",
    "      print(\"{0} : {1}\".format(k, v))\n",
    "myprint(di)"
   ]
  },
  {
   "cell_type": "code",
   "execution_count": 56,
   "metadata": {},
   "outputs": [
    {
     "name": "stdout",
     "output_type": "stream",
     "text": [
      "{'c': 1, 'd': 2, 'f': 3, 'g': 4, 'i': 5, 'j': 6}\n"
     ]
    }
   ],
   "source": [
    "import collections\n",
    "def nested_dict_iter(nested):\n",
    "    for key, value in nested.items():\n",
    "        if isinstance(value, collections.Mapping):\n",
    "            for inner_key, inner_value in nested_dict_iter(value):\n",
    "                yield inner_key, inner_value\n",
    "        else:\n",
    "            yield key, value\n",
    "c = dict(nested_dict_iter({'a':{'b':{'c':1, 'd':2}, \n",
    "                            'e':{'f':3, 'g':4}}, \n",
    "                       'h':{'i':5, 'j':6}}))\n",
    "print (c)"
   ]
  },
  {
   "cell_type": "code",
   "execution_count": 59,
   "metadata": {},
   "outputs": [
    {
     "name": "stdout",
     "output_type": "stream",
     "text": [
      "dict_keys(['c', 'd', 'f', 'g', 'i', 'j'])\n"
     ]
    }
   ],
   "source": [
    "print (c.keys())"
   ]
  },
  {
   "cell_type": "code",
   "execution_count": 9,
   "metadata": {},
   "outputs": [],
   "source": [
    "class brick:\n",
    "    def __init__(self):\n",
    "        self.x = 10\n",
    "    def add(self,value):\n",
    "        return (self.x + value)\n",
    "    def sub(value):\n",
    "        return (self.x - value)"
   ]
  },
  {
   "cell_type": "code",
   "execution_count": 11,
   "metadata": {},
   "outputs": [],
   "source": [
    "a = brick()"
   ]
  },
  {
   "cell_type": "code",
   "execution_count": 12,
   "metadata": {},
   "outputs": [
    {
     "data": {
      "text/plain": [
       "14"
      ]
     },
     "execution_count": 12,
     "metadata": {},
     "output_type": "execute_result"
    }
   ],
   "source": [
    "a.add(4)"
   ]
  },
  {
   "cell_type": "code",
   "execution_count": 35,
   "metadata": {},
   "outputs": [
    {
     "data": {
      "text/plain": [
       "[15, 9, 16]"
      ]
     },
     "execution_count": 35,
     "metadata": {},
     "output_type": "execute_result"
    }
   ],
   "source": [
    "qs = [{u'a': 15, u'b': 9, u'c': 16}]\n",
    "result_list = [int(v) for k,v in qs[0].items()]\n",
    "result_list"
   ]
  },
  {
   "cell_type": "code",
   "execution_count": 44,
   "metadata": {},
   "outputs": [
    {
     "data": {
      "text/plain": [
       "12"
      ]
     },
     "execution_count": 44,
     "metadata": {},
     "output_type": "execute_result"
    }
   ],
   "source": [
    "class Brick(object):\n",
    "    x = 10\n",
    "    def add(self,data):\n",
    "        return (Brick.x + data)\n",
    "B=Brick()\n",
    "B.add(2)"
   ]
  },
  {
   "cell_type": "code",
   "execution_count": 19,
   "metadata": {},
   "outputs": [],
   "source": [
    "import pandas as pd\n",
    "import numpy as np\n",
    "from pandas import DataFrame\n",
    "\n",
    "df = DataFrame({'key1' : ['a','a','b','b','a'],'key2' : ['one','two','one','two','one'],\n",
    "                'data1' : np.random.randn(5),'data2' : np.random.randn(5)})\n",
    "\n",
    "grouped = df['data1'].groupby(df['key1'])\n",
    "#means = df['data1'].groupby(df['key1'],df['key2']).mean()\n",
    "means = df['data1'].groupby([df['key1'],df['key2']]).mean()"
   ]
  },
  {
   "cell_type": "code",
   "execution_count": 21,
   "metadata": {},
   "outputs": [
    {
     "data": {
      "text/html": [
       "<div>\n",
       "<style scoped>\n",
       "    .dataframe tbody tr th:only-of-type {\n",
       "        vertical-align: middle;\n",
       "    }\n",
       "\n",
       "    .dataframe tbody tr th {\n",
       "        vertical-align: top;\n",
       "    }\n",
       "\n",
       "    .dataframe thead th {\n",
       "        text-align: right;\n",
       "    }\n",
       "</style>\n",
       "<table border=\"1\" class=\"dataframe\">\n",
       "  <thead>\n",
       "    <tr style=\"text-align: right;\">\n",
       "      <th></th>\n",
       "      <th>key1</th>\n",
       "      <th>key2</th>\n",
       "      <th>data1</th>\n",
       "      <th>data2</th>\n",
       "    </tr>\n",
       "  </thead>\n",
       "  <tbody>\n",
       "    <tr>\n",
       "      <th>0</th>\n",
       "      <td>a</td>\n",
       "      <td>one</td>\n",
       "      <td>0.976894</td>\n",
       "      <td>0.417324</td>\n",
       "    </tr>\n",
       "    <tr>\n",
       "      <th>1</th>\n",
       "      <td>a</td>\n",
       "      <td>two</td>\n",
       "      <td>-1.514740</td>\n",
       "      <td>0.979564</td>\n",
       "    </tr>\n",
       "    <tr>\n",
       "      <th>2</th>\n",
       "      <td>b</td>\n",
       "      <td>one</td>\n",
       "      <td>-0.822990</td>\n",
       "      <td>1.344435</td>\n",
       "    </tr>\n",
       "    <tr>\n",
       "      <th>3</th>\n",
       "      <td>b</td>\n",
       "      <td>two</td>\n",
       "      <td>-0.400810</td>\n",
       "      <td>0.535818</td>\n",
       "    </tr>\n",
       "    <tr>\n",
       "      <th>4</th>\n",
       "      <td>a</td>\n",
       "      <td>one</td>\n",
       "      <td>-0.554141</td>\n",
       "      <td>0.774278</td>\n",
       "    </tr>\n",
       "  </tbody>\n",
       "</table>\n",
       "</div>"
      ],
      "text/plain": [
       "  key1 key2     data1     data2\n",
       "0    a  one  0.976894  0.417324\n",
       "1    a  two -1.514740  0.979564\n",
       "2    b  one -0.822990  1.344435\n",
       "3    b  two -0.400810  0.535818\n",
       "4    a  one -0.554141  0.774278"
      ]
     },
     "execution_count": 21,
     "metadata": {},
     "output_type": "execute_result"
    }
   ],
   "source": [
    "df"
   ]
  },
  {
   "cell_type": "code",
   "execution_count": 22,
   "metadata": {},
   "outputs": [
    {
     "name": "stdout",
     "output_type": "stream",
     "text": [
      "[['geeks', 'for', 'geeks', 'like', 'geeky'], ['nerdy', 'geek', 'love', 'questions', 'words'], ['life']]\n"
     ]
    }
   ],
   "source": [
    "my_l = ['geeks', 'for', 'geeks', 'like', \n",
    "           'geeky','nerdy', 'geek', 'love', \n",
    "               'questions','words', 'life'] \n",
    "  \n",
    "# Yield successive n-sized \n",
    "# chunks from l. \n",
    "def divide_chunks(l, n): \n",
    "      \n",
    "    # looping till length l \n",
    "    for i in range(0, len(l), n):  \n",
    "        yield l[i:i + n] \n",
    "  \n",
    "# How many elements each \n",
    "# list should have \n",
    "n = 5\n",
    "  \n",
    "x = list(divide_chunks(my_l, n)) \n",
    "print (x) "
   ]
  },
  {
   "cell_type": "code",
   "execution_count": 31,
   "metadata": {},
   "outputs": [
    {
     "name": "stdout",
     "output_type": "stream",
     "text": [
      "None\n"
     ]
    }
   ],
   "source": [
    "myDict = {'A': [('Yes!', '8'), ('Ok!', '0')], 'B': [('No!', '2')]}\n",
    "\n",
    "class my_dict(dict):\n",
    "    def remove_key(self,mydict, key):\n",
    "        del mydict[key]\n",
    "dict_obj = my_dict()\n",
    "\n",
    "dict_obj = dict_obj.remove_key(myDict,'A')\n",
    "print(dict_obj)  \n",
    "    "
   ]
  },
  {
   "cell_type": "code",
   "execution_count": 9,
   "metadata": {},
   "outputs": [
    {
     "name": "stdout",
     "output_type": "stream",
     "text": [
      "{'A': [('Yes!', '8')], 'B': [('No!', '2')]}\n"
     ]
    }
   ],
   "source": [
    "myDict = {'A': [('Yes!', '8'), ('Ok!', '0')], 'B': [('No!', '2')]}\n",
    "for v in myDict.values():\n",
    "    if ('Ok!', '0') in v:\n",
    "        v.remove(('Ok!', '0'))\n",
    "print(myDict)"
   ]
  },
  {
   "cell_type": "code",
   "execution_count": 35,
   "metadata": {},
   "outputs": [
    {
     "name": "stdout",
     "output_type": "stream",
     "text": [
      "{'B': [('No!', '2')]}\n"
     ]
    }
   ],
   "source": [
    "myDict = {'A': [('Yes!', '8'), ('Ok!', '0')], 'B': [('No!', '2')]}\n",
    "\n",
    "class my_dict(dict):\n",
    "    def remove_key(self,myD, key):\n",
    "        del myD[key]\n",
    "        return myD # <-- change here\n",
    "dict_obj = my_dict()\n",
    "dict_obj = dict_obj.remove_key(myDict,'A') # <-- change here\n",
    "print(dict_obj)  \n",
    "    "
   ]
  },
  {
   "cell_type": "code",
   "execution_count": 36,
   "metadata": {},
   "outputs": [
    {
     "name": "stdout",
     "output_type": "stream",
     "text": [
      "{}\n",
      "{'B': [('No!', '2')]}\n"
     ]
    }
   ],
   "source": [
    "# the variable to change\n",
    "myDict = {'A': [('Yes!', '8'), ('Ok!', '0')], 'B': [('No!', '2')]}\n",
    "\n",
    "class my_dict(dict):\n",
    "    def remove_key(self,myD, key):\n",
    "        myD.pop(key) # <-- change the parameter passed\n",
    "# a separate instance of the class (separate from var to change)\n",
    "dict_obj = my_dict() #<-- this instance has nothing/ empty dictionary\n",
    "dict_obj.remove_key(myDict,'A') \n",
    "print(dict_obj)  #<-- you will get an empty dictionary here\n",
    "print(myDict) #<-- myDict has changed"
   ]
  },
  {
   "cell_type": "code",
   "execution_count": 82,
   "metadata": {},
   "outputs": [
    {
     "name": "stdout",
     "output_type": "stream",
     "text": [
      "Not Prime\n"
     ]
    }
   ],
   "source": [
    "n = 15\n",
    "x = n \n",
    "  \n",
    "# Initialising counter to 0 \n",
    "count = 0\n",
    "while x != 0: \n",
    "    p, q = divmod(n, x) \n",
    "    x-= 1\n",
    "    if q == 0: \n",
    "        count+= 1\n",
    "if count>2: \n",
    "    print('Not Prime') \n",
    "else: \n",
    "    print('Prime') \n",
    "    \n"
   ]
  },
  {
   "cell_type": "code",
   "execution_count": 15,
   "metadata": {},
   "outputs": [
    {
     "name": "stdout",
     "output_type": "stream",
     "text": [
      "7\n",
      "13\n",
      "1 5\n",
      "[1, 1, 2, 3]\n"
     ]
    }
   ],
   "source": [
    "def Fibonnaci(n):\n",
    "    if n == 0:\n",
    "        return 0\n",
    "    if n == 1:\n",
    "        return 1\n",
    "    else:\n",
    "        return (Fibonnaci(n-1)+ Fibonnaci(n-2))\n",
    "\n",
    "n = int(input())\n",
    "print(Fibonnaci(n))\n",
    "start,end = [int(s) for s in input().split()]\n",
    "print (list(map(Fibonnaci,range(start,end))))"
   ]
  },
  {
   "cell_type": "code",
   "execution_count": 18,
   "metadata": {},
   "outputs": [
    {
     "name": "stdout",
     "output_type": "stream",
     "text": [
      "0\n",
      "1\n",
      "1\n",
      "2\n",
      "3\n",
      "5\n",
      "8\n",
      "13\n",
      "21\n",
      "34\n"
     ]
    }
   ],
   "source": [
    "def fib(n):\n",
    "\tfirst,second=0,1\n",
    "\tif n<=0:\n",
    "\t\tprint(\"pass valid input!\")\n",
    "\telif n==1:\n",
    "\t\tprint(first)\n",
    "\telse:\n",
    "\t\tprint(first)\n",
    "\t\tprint(second)\n",
    "\t\tfor x in range(2,n):\n",
    "\t\t\t sum=first+second\n",
    "\t\t\t print(sum)\n",
    "\t\t\t first,second=second,sum\n",
    "fib(10)"
   ]
  },
  {
   "cell_type": "code",
   "execution_count": 16,
   "metadata": {},
   "outputs": [
    {
     "name": "stdout",
     "output_type": "stream",
     "text": [
      "[0, 1, 1, 2, 3, 5, 8, 13, 21, 34]\n"
     ]
    }
   ],
   "source": [
    "def fibonacci():\n",
    "    \"\"\"Ein Fibonacci-Zahlen-Generator\"\"\"\n",
    "    a, b = 0, 1\n",
    "    while True:\n",
    "        yield a\n",
    "        a, b = b, a + b\n",
    "\n",
    "def firstn(g, n):\n",
    "\tfor i in range(n):\n",
    "\t\tyield g.__next__()\n",
    "\n",
    "print (list(firstn(fibonacci(), 10))) "
   ]
  },
  {
   "cell_type": "code",
   "execution_count": 4,
   "metadata": {},
   "outputs": [
    {
     "name": "stdout",
     "output_type": "stream",
     "text": [
      "0,1,1,2,3,5,8,13,21,34,55,"
     ]
    }
   ],
   "source": [
    "def fibonacci():\n",
    "    \"\"\"Fibonacci numbers generator\"\"\"\n",
    "    a, b = 0, 1\n",
    "    while True:\n",
    "        yield a\n",
    "        a, b = b, a + b\n",
    "\n",
    "f = fibonacci()\n",
    "\n",
    "counter = 0\n",
    "for x in f:\n",
    "    print (x,end=',')\n",
    "    counter += 1\n",
    "\n",
    "    if (counter > 10): break "
   ]
  },
  {
   "cell_type": "code",
   "execution_count": 11,
   "metadata": {},
   "outputs": [
    {
     "name": "stdout",
     "output_type": "stream",
     "text": [
      "Fibonacci number generator.\n",
      "How high do you want to go? If you want to go forever, put n.30\n",
      "1\n",
      "1\n",
      "2\n",
      "3\n",
      "5\n",
      "8\n",
      "13\n",
      "21\n"
     ]
    }
   ],
   "source": [
    "a=0\n",
    "b=1\n",
    "print(\"Fibonacci number generator.\")\n",
    "stopNumber=input(\"How high do you want to go? If you want to go forever, put n.\")\n",
    "print(1)\n",
    "while stopNumber==\"n\" or int(stopNumber) > a+b:\n",
    "    a, b = b, a+b\n",
    "    print(b)"
   ]
  },
  {
   "cell_type": "code",
   "execution_count": 17,
   "metadata": {},
   "outputs": [
    {
     "data": {
      "text/plain": [
       "[0, 1, 1, 2, 3, 5, 8, 13, 21, 34]"
      ]
     },
     "execution_count": 17,
     "metadata": {},
     "output_type": "execute_result"
    }
   ],
   "source": [
    "def fib(n):\n",
    "     count = 0\n",
    "     a, b = 0, 1\n",
    "     while count < n:\n",
    "             yield a\n",
    "             a, b = b, a + b\n",
    "             count += 1\n",
    "[i for i in fib(10)]\n"
   ]
  },
  {
   "cell_type": "code",
   "execution_count": 22,
   "metadata": {},
   "outputs": [
    {
     "name": "stdout",
     "output_type": "stream",
     "text": [
      "5\n",
      "1 2 2 3 3\n",
      "[1, 2, 2]\n",
      "None\n"
     ]
    }
   ],
   "source": [
    "#!/bin/python3\n",
    "\n",
    "import math\n",
    "import os\n",
    "import random\n",
    "import re\n",
    "import sys\n",
    "\n",
    "#\n",
    "# Complete the 'alphaBeta' function below.\n",
    "#\n",
    "# The function is expected to return an INTEGER.\n",
    "# The function accepts INTEGER_ARRAY pile as parameter.\n",
    "#\n",
    "\n",
    "def alphaBeta(pile):\n",
    "    pileMax = max(pile)\n",
    "    newPile = [i for i in pile if i != pileMax]\n",
    "    print (newPile)\n",
    "    if len(newPile) > 0:\n",
    "        return max(newPile)\n",
    "    return 0\n",
    "if __name__ == '__main__':\n",
    "    n = int(input().strip())\n",
    "    pile = list(map(int, input().rstrip().split()))\n",
    "    result = alphaBeta(pile)\n",
    "    print (result)\n",
    "\n"
   ]
  },
  {
   "cell_type": "code",
   "execution_count": 56,
   "metadata": {},
   "outputs": [
    {
     "data": {
      "text/plain": [
       "4"
      ]
     },
     "execution_count": 56,
     "metadata": {},
     "output_type": "execute_result"
    }
   ],
   "source": [
    "def high(arr = []):\n",
    "    for i in range(len(arr)):\n",
    "        arr = list(set(arr))\n",
    "        #print (arr)\n",
    "        arr[arr.index(max(arr))] = 0\n",
    "        return max(arr)\n",
    "high([1,2,3,4,5,5])"
   ]
  },
  {
   "cell_type": "code",
   "execution_count": 1,
   "metadata": {},
   "outputs": [
    {
     "name": "stdout",
     "output_type": "stream",
     "text": [
      "2 3\n",
      "a\n",
      "a\n",
      "b\n",
      "a\n",
      "b\n"
     ]
    }
   ],
   "source": [
    "from collections import defaultdict\n",
    "\n",
    "# Inputs\n",
    "# ------\n",
    "n, m = map(int, input().split(' '))\n",
    "\n",
    "# Let's get the groups as lists\n",
    "# -----------------------------\n",
    "#input1 = ['a', 'a', 'b', 'a', 'b']\n",
    "#input2 = ['a', 'b']\n",
    "input1 = list()\n",
    "for i in range(n):\n",
    "    input1.append(input())\n",
    "\n",
    "input2 = list()\n",
    "for i in range(m):\n",
    "    input2.append(input())\n",
    "\n",
    "# Calculate Output\n",
    "# ----------------\n",
    "d = defaultdict(list)\n",
    "\n",
    "# Fill d with input1 values\n",
    "for i in range(n):\n",
    "    d[input1[i]].append(i+1)\n",
    "#print(d) --> defaultdict(<class 'list'>, {'a': [1, 2, 4], 'b': [3, 5]})\n",
    "\n",
    "# Apply the logic for printing\n",
    "for i in input2:    \n",
    "    if i in d:\n",
    "        print(*d[i])\n",
    "    else:\n",
    "        print(-1)\n",
    "# 5 2\n",
    "# a\n",
    "# a\n",
    "# b\n",
    "# a\n",
    "# b\n",
    "# a\n",
    "# b"
   ]
  },
  {
   "cell_type": "code",
   "execution_count": 2,
   "metadata": {},
   "outputs": [
    {
     "data": {
      "text/plain": [
       "defaultdict(list, {'a': [1, 2]})"
      ]
     },
     "execution_count": 2,
     "metadata": {},
     "output_type": "execute_result"
    }
   ],
   "source": [
    "da"
   ]
  },
  {
   "cell_type": "code",
   "execution_count": 9,
   "metadata": {},
   "outputs": [
    {
     "name": "stdout",
     "output_type": "stream",
     "text": [
      "2 3\n",
      "a\n",
      "a\n",
      "b\n",
      "-1\n",
      "a\n",
      "1 2\n",
      "a\n",
      "1 2\n"
     ]
    }
   ],
   "source": [
    "from collections import defaultdict\n",
    "d, n = defaultdict(list), list(map(int, input().split()))\n",
    "\n",
    "for i in range(n[0]):\n",
    "    d[input()].append(i + 1)\n",
    "\n",
    "for i in range(n[1]):\n",
    "    print(' '.join(map(str, d[input()])) or -1)"
   ]
  },
  {
   "cell_type": "code",
   "execution_count": 10,
   "metadata": {},
   "outputs": [
    {
     "data": {
      "text/plain": [
       "defaultdict(list, {'a': [1, 2], 'b': []})"
      ]
     },
     "execution_count": 10,
     "metadata": {},
     "output_type": "execute_result"
    }
   ],
   "source": [
    "from collections import defaultdict\n",
    "da = defaultdict(list)\n",
    "n,m = [int(v) for v in input().strip().split()]\n",
    "\n",
    "for i in range (n):\n",
    "    da[input()].append(i+1)\n",
    "\n",
    "for _ in range(m):\n",
    "    b = input()\n",
    "    print(*da.get(b,[-1]), sep=' ')"
   ]
  },
  {
   "cell_type": "code",
   "execution_count": null,
   "metadata": {},
   "outputs": [],
   "source": [
    "from collections import namedtuple\n",
    "\n",
    "(n, categories) = (int(input()), input().split())\n",
    "Grade = namedtuple('Grade', categories)\n",
    "marks = [int(Grade._make(input().split()).MARKS) for _ in range(n)]\n",
    "print((sum(marks) / len(marks)))\n",
    "# 5\n",
    "# ID MARKS NAME CLASS\n",
    "# 1 97 Raymond 7\n",
    "# 2 50 Steven 4\n",
    "# 3 91 Adrian 9\n",
    "# 4 72 Stewart 5\n",
    "# 5 80 Peter 6"
   ]
  },
  {
   "cell_type": "code",
   "execution_count": null,
   "metadata": {},
   "outputs": [],
   "source": [
    "from collections import namedtuple\n",
    "\n",
    "n,arrangement = int(input()),input()\n",
    "\n",
    "Student = namedtuple('Student',arrangement)\n",
    "\n",
    "print(sum( [int(Student._make(input().split()).MARKS) for _ in range(n)])/n)"
   ]
  },
  {
   "cell_type": "code",
   "execution_count": 25,
   "metadata": {},
   "outputs": [
    {
     "name": "stdout",
     "output_type": "stream",
     "text": [
      "1\n",
      "b 3\n",
      "b 3\n"
     ]
    }
   ],
   "source": [
    "from collections import OrderedDict\n",
    "d = OrderedDict()\n",
    "for _ in range(int(input())):\n",
    "    item, space, quantity = input().rpartition(' ')\n",
    "    d[item] = d.get(item, 0) + int(quantity)\n",
    "# for item, quantity in d.items():\n",
    "#     print(item, quantity)\n",
    "    print(*[\" \".join([item, str(price)]) for item, price in d.items()], sep=\"\\n\")"
   ]
  },
  {
   "cell_type": "code",
   "execution_count": 50,
   "metadata": {},
   "outputs": [
    {
     "name": "stdout",
     "output_type": "stream",
     "text": [
      "2\n",
      "append 1\n",
      "append 2\n",
      "1 2 "
     ]
    },
    {
     "data": {
      "text/plain": [
       "[None, None]"
      ]
     },
     "execution_count": 50,
     "metadata": {},
     "output_type": "execute_result"
    }
   ],
   "source": [
    "from collections import deque\n",
    "d = deque()\n",
    "for _ in range(int(input())):\n",
    "    cmd, *args = input().split()\n",
    "    #getattr(d, cmd)(*args)\n",
    "    getattr(d, command)(*map(int, args))\n",
    "    print(*d)\n",
    "#[print(x, end=' ') for x in d]"
   ]
  },
  {
   "cell_type": "code",
   "execution_count": 51,
   "metadata": {},
   "outputs": [
    {
     "data": {
      "text/plain": [
       "deque(['1', '2'])"
      ]
     },
     "execution_count": 51,
     "metadata": {},
     "output_type": "execute_result"
    }
   ],
   "source": [
    "d"
   ]
  },
  {
   "cell_type": "code",
   "execution_count": null,
   "metadata": {},
   "outputs": [],
   "source": [
    "# P valid postal code P have to fullfil both below requirements:\n",
    "\n",
    "# p must be a number in the range 100000 from 999999 to  inclusive.\n",
    "# p must not contain more than one alternating repetitive digit pair.\n",
    "# Alternating repetitive digits are digits which repeat immediately\n",
    "#after the next digit. In other words, an alternating repetitive digit \n",
    "#pair is formed by two equal digits that have just a single digit between them.\n",
    "\n",
    "# For example:\n",
    "\n",
    "# 121426 # Here, 1 is an alternating repetitive digit.\n",
    "# 523563 # Here, NO digit is an alternating repetitive digit.\n",
    "# 552523 # Here, both 2 and 5 are alternating repetitive digits.\n",
    "# Your task is to provide two regular expressions regex_integer_in_range\n",
    "#and regex_alternating_repetitive_digit_pair. Where:\n",
    "\n",
    "# regex_integer_in_range should match only integers range 100000 from 999999\n",
    "\n",
    "# regex_alternating_repetitive_digit_pair should find alternating repetitive\n",
    "#digits pairs in a given string.\n",
    "\n",
    "# Both these regular expressions will be used by the provided code template\n",
    "#to check if the input string  is a valid postal code using the following expression:\n",
    "\n",
    "# (bool(re.match(regex_integer_in_range, P)) \n",
    "# and len(re.findall(regex_alternating_repetitive_digit_pair, P)) < 2)\n",
    "# Input Format\n",
    "\n",
    "# Locked stub code in the editor reads a single string denoting  from \n",
    "#stdin and uses provided expression and your regular expressions to \n",
    "#validate if  is a valid postal code.\n",
    "\n",
    "# Output Format\n",
    "\n",
    "# You are not responsible for printing anything to stdout. \n",
    "#Locked stub code in the editor does that.\n",
    "\n",
    "# Sample Input 0\n",
    "\n",
    "# 110000\n",
    "# Sample Output 0\n",
    "\n",
    "# False\n",
    "# Explanation 0\n",
    "\n",
    "# 1 1 0000 : (0, 0) and (0, 0) are two alternating digit pairs. \n",
    "#Hence, it is an invalid postal code.\n",
    "\n",
    "# Note:\n",
    "# A score of  will be awarded for using 'if' conditions in your code.\n",
    "# You have to pass all the testcases to get a positive score.\n",
    "\n",
    "regex_integer_in_range = r\"^[1-9]\\d{5}$\"\n",
    "regex_alternating_repetitive_digit_pair = r\"(.)(?=.\\1)\""
   ]
  },
  {
   "cell_type": "code",
   "execution_count": 52,
   "metadata": {},
   "outputs": [],
   "source": [
    "from operator import add\n",
    "from functools import reduce\n",
    "\n",
    "A = [[1, 2, 4],\n",
    "     [3, 5, 6],\n",
    "     [7,8,9]]\n",
    "\n",
    "addlists = lambda l: reduce(add, l)"
   ]
  },
  {
   "cell_type": "code",
   "execution_count": 76,
   "metadata": {},
   "outputs": [
    {
     "data": {
      "text/plain": [
       "[9, 8, 7]"
      ]
     },
     "execution_count": 76,
     "metadata": {},
     "output_type": "execute_result"
    }
   ],
   "source": [
    "addlists = lambda l: reduce(add, l)\n",
    "list_A = addlists(A)\n",
    "list_A\n",
    "result = [list_A.pop(list_A.index(max(list_A))) for _ in range(3)]\n",
    "result"
   ]
  },
  {
   "cell_type": "code",
   "execution_count": 1,
   "metadata": {},
   "outputs": [
    {
     "name": "stdout",
     "output_type": "stream",
     "text": [
      "{'local': ['9134567890', '9134567890'], 'global': ['0134567890'], 'others': ['9034567890', '9034590']}\n"
     ]
    }
   ],
   "source": [
    "from collections import defaultdict\n",
    "import re\n",
    "\n",
    "d = [\n",
    "    {'name': 'a', 'num': '9134567890','num2':'912311111'},\n",
    "    {'name': 'd', 'num': '9134567890','num2':'5151'},\n",
    "    {'name': 'b', 'num': '0134567890','num2':'51'},\n",
    "    {'name': 'c', 'num': '9034567890','num2':'12'},\n",
    "    {'name': 'm', 'num': '9034590','num2':'13'}\n",
    "]\n",
    "\n",
    "# regular expression\n",
    "rx = re.compile(r'^(?=\\d{10}$)(?P<local>91.+)|(?P<global>01.+)|(?P<others>.+)')\n",
    "\n",
    "# output dict\n",
    "output = defaultdict(list)\n",
    "\n",
    "# list comprehension\n",
    "_ = [output[key].append(m[key])\n",
    "     for item in d\n",
    "     for m in [rx.search(item[\"num\"])] if m\n",
    "     for key in m.groupdict() if m[key]]\n",
    "\n",
    "print(dict(output))"
   ]
  },
  {
   "cell_type": "code",
   "execution_count": 1,
   "metadata": {},
   "outputs": [
    {
     "data": {
      "text/plain": [
       "{1: ['b', 'e'], 2: ['b', 'e'], 3: ['b', 'e']}"
      ]
     },
     "execution_count": 1,
     "metadata": {},
     "output_type": "execute_result"
    }
   ],
   "source": [
    "dict1 = {1: 'a', 2:'b', 3:'c'}\n",
    "dict2 = {1:'d',2:'e'}\n",
    " \n",
    "{i:list(j) for i in dict1.keys() for j in zip(dict1.values(),dict2.values())}\n"
   ]
  },
  {
   "cell_type": "code",
   "execution_count": 2,
   "metadata": {},
   "outputs": [
    {
     "data": {
      "text/plain": [
       "{('a', 'd'), ('b', 'e')}"
      ]
     },
     "execution_count": 2,
     "metadata": {},
     "output_type": "execute_result"
    }
   ],
   "source": [
    "{j for j in zip(dict1.values(),dict2.values())}"
   ]
  },
  {
   "cell_type": "code",
   "execution_count": 3,
   "metadata": {},
   "outputs": [
    {
     "data": {
      "text/plain": [
       "{'a': 1, 'b': 12, 'c': 11}"
      ]
     },
     "execution_count": 3,
     "metadata": {},
     "output_type": "execute_result"
    }
   ],
   "source": [
    "from collections import Counter\n",
    "dict1 = {'a':1, 'b': 2}\n",
    "dict2 = {'b':10, 'c': 11}\n",
    "result = dict(Counter(dict1) + Counter(dict2))\n",
    "result"
   ]
  },
  {
   "cell_type": "code",
   "execution_count": 4,
   "metadata": {},
   "outputs": [
    {
     "name": "stdout",
     "output_type": "stream",
     "text": [
      "defaultdict(<class 'list'>, {'a': [1], 'b': [2, 10], 'c': [11]})\n"
     ]
    }
   ],
   "source": [
    "from collections import defaultdict\n",
    "dd = defaultdict(list)\n",
    " \n",
    "for d in (dict1, dict2): # you can list as many input dicts as you want here\n",
    "    for key, value in d.items():\n",
    "        dd[key].append(value)\n",
    " \n",
    "print(dd)"
   ]
  },
  {
   "cell_type": "code",
   "execution_count": 5,
   "metadata": {},
   "outputs": [
    {
     "name": "stdout",
     "output_type": "stream",
     "text": [
      "Hello, World!\n"
     ]
    }
   ],
   "source": [
    "dictionary = {\"message\": \"Hello, World!\"}\n",
    "\n",
    "data = \"\"\n",
    "\n",
    "if \"message\" in dictionary:\n",
    "    data = dictionary[\"message\"]\n",
    "\n",
    "print(data)  # Hello, World!"
   ]
  },
  {
   "cell_type": "code",
   "execution_count": 7,
   "metadata": {},
   "outputs": [
    {
     "data": {
      "text/plain": [
       "[1, 200, 3, 400, 5, 600, 7, 800, 9]"
      ]
     },
     "execution_count": 7,
     "metadata": {},
     "output_type": "execute_result"
    }
   ],
   "source": [
    "myList = [ x if x%2 else x*100 for x in range(1, 10) ]\n",
    "myList"
   ]
  },
  {
   "cell_type": "code",
   "execution_count": 8,
   "metadata": {},
   "outputs": [
    {
     "name": "stdout",
     "output_type": "stream",
     "text": [
      "((5, 3), (6, 6), (7, 10))\n"
     ]
    }
   ],
   "source": [
    "a = [5,6,7]\n",
    "b = [3,6,10]\n",
    "print (tuple(zip(a,b)))"
   ]
  },
  {
   "cell_type": "code",
   "execution_count": 9,
   "metadata": {},
   "outputs": [
    {
     "name": "stdout",
     "output_type": "stream",
     "text": [
      "2 11\n",
      "True\n",
      "2 11\n",
      "True\n",
      "2 11\n",
      "True\n"
     ]
    }
   ],
   "source": [
    "# YouTube Video: https://www.youtube.com/watch?v=gCin6Qz-eJQ\n",
    "# Given an array of integers, return the two numbers such that they add up to\n",
    "# a specific target. You may assume that each input would have exactly one\n",
    "# solution, and you may not use the same element twice.\n",
    "\n",
    "A = [-2, 1, 2, 4, 7, 11]\n",
    "target = 13\n",
    "\n",
    "# Time Complexity: O(n^2)\n",
    "# Space Complexity: O(1)\n",
    "def two_sum_brute_force(A, target):\n",
    "    for i in range(len(A)-1):\n",
    "        for j in range(i+1, len(A)):\n",
    "            if A[i] + A[j] == target:\n",
    "                print(A[i], A[j])\n",
    "                return True\n",
    "    return False\n",
    "\n",
    "\n",
    "# Time Complexity: O(n)\n",
    "# Space Complexity: O(n)\n",
    "def two_sum_hash_table(A, target):\n",
    "    ht = dict()\n",
    "    for i in range(len(A)):\n",
    "        if A[i] in ht:\n",
    "            print(ht[A[i]], A[i])\n",
    "            return True\n",
    "        else:\n",
    "            ht[target - A[i]] = A[i]\n",
    "    return False\n",
    "\n",
    "\n",
    "# Time Complexity: O(n)\n",
    "# Space Complexity: O(1)\n",
    "def two_sum(A, target):\n",
    "    i = 0\n",
    "    j = len(A) - 1\n",
    "    while i < j:\n",
    "        if A[i] + A[j] == target:\n",
    "            print(A[i], A[j])\n",
    "            return True\n",
    "        elif A[i] + A[j] < target:\n",
    "            i += 1\n",
    "        else:\n",
    "            j -= 1\n",
    "    return False\n",
    "\n",
    "\n",
    "print(two_sum_brute_force(A, target))\n",
    "print(two_sum_hash_table(A, target))\n",
    "print(two_sum(A, target))"
   ]
  },
  {
   "cell_type": "code",
   "execution_count": 10,
   "metadata": {},
   "outputs": [
    {
     "name": "stdout",
     "output_type": "stream",
     "text": [
      "False\n"
     ]
    }
   ],
   "source": [
    "B = [1,2,4,6]\n",
    "su = 5\n",
    "def two_sum_hash_table(B, su):\n",
    "    ht = dict()\n",
    "    for i in range(len(B)):\n",
    "        if B[i] in ht:\n",
    "            print(ht[B[i]], B[i])\n",
    "            return True\n",
    "        else:\n",
    "            ht[target - B[i]] = B[i]\n",
    "    return False\n",
    "print(two_sum_hash_table(B, su))\n"
   ]
  },
  {
   "cell_type": "code",
   "execution_count": 14,
   "metadata": {},
   "outputs": [
    {
     "name": "stdout",
     "output_type": "stream",
     "text": [
      "11\n",
      "2 11\n",
      "True\n"
     ]
    }
   ],
   "source": [
    "def two_sum_hash_table(A, target):\n",
    "    ht = dict()\n",
    "    for i in range(len(A)):\n",
    "        if A[i] in ht:\n",
    "            print (A[i])\n",
    "            print(ht[A[i]], A[i])\n",
    "            return True\n",
    "        else:\n",
    "            ht[target - A[i]] = A[i]\n",
    "    return False\n",
    "    #print (ht)\n",
    "            \n",
    "print (two_sum_hash_table(A,target))"
   ]
  },
  {
   "cell_type": "code",
   "execution_count": 11,
   "metadata": {},
   "outputs": [
    {
     "name": "stdout",
     "output_type": "stream",
     "text": [
      "False\n"
     ]
    }
   ],
   "source": [
    "c = [1,2,3,10,4,5,5,6,10]\n",
    "t = 17\n",
    "\n",
    "def sum_of_numbers(c, t):\n",
    "    count = 0\n",
    "    for i in range(len(c)-1):\n",
    "        for j in range(i+1, len(c)):\n",
    "            if c[i] + c[j] == t:\n",
    "                print(c[i], c[j])\n",
    "                count += 1\n",
    "                return count\n",
    "    return False\n",
    "print(sum_of_numbers(c, t))"
   ]
  },
  {
   "cell_type": "code",
   "execution_count": 12,
   "metadata": {},
   "outputs": [
    {
     "name": "stdout",
     "output_type": "stream",
     "text": [
      "(1, 2)\n",
      "(1, 3)\n"
     ]
    }
   ],
   "source": [
    "def two_sum(arr,targ):\n",
    "    look_for = {}\n",
    "    for n,x in enumerate(arr,1):\n",
    "        try:\n",
    "            return look_for[x], n\n",
    "        except KeyError:\n",
    "            look_for.setdefault(targ - x,n)\n",
    "\n",
    "a = (2,7,1,15,8)\n",
    "t = 9\n",
    "print(two_sum(a,t))  # (1,2)\n",
    "\n",
    "a = (-3,4,3,90)\n",
    "t = 0\n",
    "print(two_sum(a,t))  # (1,3)"
   ]
  },
  {
   "cell_type": "code",
   "execution_count": 13,
   "metadata": {},
   "outputs": [
    {
     "name": "stdout",
     "output_type": "stream",
     "text": [
      "1\n",
      "2\n",
      "(1, 2)\n"
     ]
    }
   ],
   "source": [
    "def two_sum(arr,targ):\n",
    "    look_for = {}\n",
    "    for n,x in enumerate(arr,1):\n",
    "        print (n)\n",
    "        try:\n",
    "            return look_for[x], n\n",
    "        except KeyError:\n",
    "            look_for.setdefault(targ - x,n)\n",
    "\n",
    "a = (2,7,1,15)\n",
    "t = 9\n",
    "print(two_sum(a,t))  # (1,2)"
   ]
  },
  {
   "cell_type": "code",
   "execution_count": 15,
   "metadata": {},
   "outputs": [
    {
     "name": "stdout",
     "output_type": "stream",
     "text": [
      "11\n",
      "2 11\n"
     ]
    },
    {
     "data": {
      "text/plain": [
       "{15: -2, 12: 1, 11: 2, 9: 4, 6: 7}"
      ]
     },
     "execution_count": 15,
     "metadata": {},
     "output_type": "execute_result"
    }
   ],
   "source": [
    "ht = dict()\n",
    "for i in range(len(A)):\n",
    "    if A[i] in ht:\n",
    "        print (A[i])\n",
    "        print(ht[A[i]], A[i])\n",
    "        \n",
    "    else:\n",
    "        ht[target - A[i]] = A[i]\n",
    "ht"
   ]
  },
  {
   "cell_type": "code",
   "execution_count": null,
   "metadata": {},
   "outputs": [],
   "source": []
  }
 ],
 "metadata": {
  "kernelspec": {
   "display_name": "Python 3",
   "language": "python",
   "name": "python3"
  },
  "language_info": {
   "codemirror_mode": {
    "name": "ipython",
    "version": 3
   },
   "file_extension": ".py",
   "mimetype": "text/x-python",
   "name": "python",
   "nbconvert_exporter": "python",
   "pygments_lexer": "ipython3",
   "version": "3.7.3"
  }
 },
 "nbformat": 4,
 "nbformat_minor": 2
}
