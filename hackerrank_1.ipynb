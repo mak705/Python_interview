{
 "cells": [
  {
   "cell_type": "code",
   "execution_count": 147,
   "metadata": {},
   "outputs": [],
   "source": [
    "class Trie:\n",
    "    head = {}\n",
    "\n",
    "    def add(self, word):\n",
    "        cur = self.head\n",
    "        for ch in word:\n",
    "            if ch not in cur:\n",
    "                cur[ch] = {}\n",
    "            cur = cur[ch]\n",
    "        cur['*'] = True\n",
    "\n",
    "    def search(self, word):\n",
    "        cur = self.head\n",
    "        for ch in word:\n",
    "            if ch not in cur:\n",
    "                return False\n",
    "            cur = cur[ch]\n",
    "            \n",
    "        if '*' in cur:\n",
    "            return True\n",
    "        else:\n",
    "            return False\n",
    "    def printf(self):\n",
    "        print (self.head)"
   ]
  },
  {
   "cell_type": "code",
   "execution_count": 148,
   "metadata": {},
   "outputs": [
    {
     "name": "stdout",
     "output_type": "stream",
     "text": [
      "True\n",
      "True\n",
      "False\n",
      "False\n",
      "{'h': {'i': {'*': True}, 'e': {'l': {'l': {'o': {'*': True}}}}}}\n"
     ]
    }
   ],
   "source": [
    "dictionary = Trie()\n",
    "dictionary.add(\"hi\")\n",
    "dictionary.add(\"hello\")\n",
    "#dictionary.add(\"eye\")\n",
    "#dictionary.add(\"hey\")\n",
    "\n",
    "\n",
    "print(dictionary.search(\"hi\"))\n",
    "print(dictionary.search(\"hello\"))\n",
    "print(dictionary.search(\"hel\"))\n",
    "print(dictionary.search(\"he\"))\n",
    "dictionary.printf()"
   ]
  },
  {
   "cell_type": "code",
   "execution_count": null,
   "metadata": {},
   "outputs": [],
   "source": []
  },
  {
   "cell_type": "code",
   "execution_count": 4,
   "metadata": {},
   "outputs": [
    {
     "data": {
      "text/plain": [
       "\"Game of Thrones is an American fantasy drama television series created by David Benioff and D B Weiss for HBO It is an adaptation of A Song of Ice and Fire George R R Martin's series of fantasy novels the first of which is A Game of Thrones The show was both produced and filmed in Belfast and elsewhere in the United Kingdom Filming locations also included Canada Croatia Iceland Malta Morocco and Spain The series premiered on HBO in the United States on April 17 2011 and concluded on May 19 2019 with 73 episodes broadcast over eight seasons\""
      ]
     },
     "execution_count": 4,
     "metadata": {},
     "output_type": "execute_result"
    }
   ],
   "source": [
    "new_text"
   ]
  },
  {
   "cell_type": "code",
   "execution_count": null,
   "metadata": {},
   "outputs": [],
   "source": []
  },
  {
   "cell_type": "code",
   "execution_count": 45,
   "metadata": {},
   "outputs": [
    {
     "name": "stdout",
     "output_type": "stream",
     "text": [
      "{'and': ['D.', 'Benioff', 'filmed', 'produced'], 'in': ['Belfast', 'filmed', 'the', 'elsewhere']}\n"
     ]
    }
   ],
   "source": [
    "Text = '''Game of Thrones is an American fantasy drama television series created by David Benioff and D. B. Weiss for HBO. The show was both produced and filmed in Belfast elsewhere in the United Kingdom.'''\n",
    "import re\n",
    "new_text = ''\n",
    "punctuations = '''!.,'''\n",
    "for character in Text:\n",
    "    if character not in punctuations:\n",
    "        new_text = new_text + character\n",
    "from collections import Counter\n",
    "split_text = Text.split(' ')\n",
    "count = Counter(split_text)\n",
    "most_freq_word_new = [key for key,valu in count.items() if valu == max(count.values())]\n",
    "\n",
    "result =  {i: [] for i in most_freq_word_new}     #Create Dict with word as key and list as value\n",
    "for index, word in enumerate(split_text):\n",
    "    for i in most_freq_word_new:\n",
    "        if word == i:\n",
    "            #print (word)\n",
    "            suffix_word =  split_text[index + 1]\n",
    "            #print (suffix_word)\n",
    "            prefix_word =  split_text[index - 1]\n",
    "            #print (prefix_word)\n",
    "            result[word].extend([suffix_word, prefix_word])  #Use list.extend to add to result.\n",
    "            #print (result[word])\n",
    "print(result)\n"
   ]
  },
  {
   "cell_type": "code",
   "execution_count": 44,
   "metadata": {},
   "outputs": [
    {
     "name": "stdout",
     "output_type": "stream",
     "text": [
      "{'and': {'suffix_word': ['D.', 'filmed'], 'prefix_word': ['Benioff', 'produced']}, 'in': {'suffix_word': ['Belfast', 'the'], 'prefix_word': ['filmed', 'elsewhere']}}\n"
     ]
    }
   ],
   "source": [
    "import re\n",
    "from collections import Counter\n",
    "\n",
    "Text = '''Game of Thrones is an American fantasy drama television series created by David Benioff and D. B. Weiss for HBO. The show was both produced and filmed in Belfast elsewhere in the United Kingdom.'''\n",
    "\n",
    "split_text = Text.split(' ')\n",
    "count = Counter(split_text)\n",
    "most_freq_word_new = [key for key,valu in count.items() if valu == max(count.values())]\n",
    "\n",
    "result =  {i: {\"suffix_word\": [], \"prefix_word\": []} for i in most_freq_word_new}     #Create Dict with word as key and list as value\n",
    "for index, word in enumerate(split_text):\n",
    "    for i in most_freq_word_new:\n",
    "        if word == i:\n",
    "            suffix_word =  split_text[index + 1]\n",
    "            prefix_word =  split_text[index - 1]\n",
    "            result[word][\"suffix_word\"].append(suffix_word)\n",
    "            result[word][\"prefix_word\"].append(prefix_word)\n",
    "\n",
    "print(result)"
   ]
  },
  {
   "cell_type": "code",
   "execution_count": 42,
   "metadata": {},
   "outputs": [
    {
     "name": "stdout",
     "output_type": "stream",
     "text": [
      "{'and': {'suffix_word': ['D.', 'filmed'], 'prefix_word': ['Benioff', 'produced']}, 'in': {'suffix_word': ['Belfast', 'the'], 'prefix_word': ['filmed', 'elsewhere']}}\n"
     ]
    }
   ],
   "source": [
    "import re\n",
    "Text = '''Game of Thrones is an American fantasy drama television series created by David Benioff and D. B. Weiss for HBO. The show was both produced and filmed in Belfast elsewhere in the United Kingdom.'''\n",
    "result = {\n",
    "    'and' : {\n",
    "    'suffix_word': [],\n",
    "    'prefix_word': []\n",
    "    },\n",
    "    'in' : {\n",
    "    'suffix_word': [],\n",
    "    'prefix_word': []\n",
    "    },\n",
    "\n",
    "}\n",
    "infindings=re.findall(r'([\\w.]+) in ([\\w.]+)',Text)\n",
    "andfindings=re.findall(r'([\\w.]+) and ([\\w.]+)',Text)\n",
    "for prefix,suffix in infindings:\n",
    "    result['in']['prefix_word'] .append( prefix)\n",
    "    result['in']['suffix_word'] .append( suffix)\n",
    "for prefix,suffix in andfindings:\n",
    "    result['and']['prefix_word'] .append( prefix)\n",
    "    result['and']['suffix_word'] .append( suffix)\n",
    "print(result)\n"
   ]
  },
  {
   "cell_type": "code",
   "execution_count": 2,
   "metadata": {},
   "outputs": [],
   "source": [
    "from datetime import datetime"
   ]
  },
  {
   "cell_type": "code",
   "execution_count": 7,
   "metadata": {},
   "outputs": [],
   "source": [
    "log_file = r'C:\\Users\\makka\\Desktop\\example.log'"
   ]
  },
  {
   "cell_type": "code",
   "execution_count": 13,
   "metadata": {},
   "outputs": [],
   "source": [
    "#Read log\n",
    "def read_log(log_file):\n",
    "    with open(log_file,'r') as f:\n",
    "        print (f.read())"
   ]
  },
  {
   "cell_type": "code",
   "execution_count": 14,
   "metadata": {},
   "outputs": [],
   "source": [
    "#open the file and write with date stamp\n",
    "def write_log(log_file,name):\n",
    "    log_time = str(datetime.now())\n",
    "    with open(log_file,'a') as f:\n",
    "        f.writelines(\"Entry logged as :{} by {}\\n\".format(log_time,name)) "
   ]
  },
  {
   "cell_type": "code",
   "execution_count": 16,
   "metadata": {},
   "outputs": [
    {
     "name": "stdout",
     "output_type": "stream",
     "text": [
      "what is youe namemanj\n",
      "adding name to logfile\n",
      "\n",
      "log file contents are below\n",
      "Entry logged as :2019-06-18 15:11:34.611246 by mak\n",
      "Entry logged as :2019-06-18 15:11:45.416673 by manj\n",
      "\n"
     ]
    }
   ],
   "source": [
    "if __name__ == '__main__':\n",
    "    name = input(\"what is youe name\")\n",
    "    print (\"adding name to logfile\")\n",
    "    write_log(log_file,name)\n",
    "    print (\"\")\n",
    "    print (\"log file contents are below\")\n",
    "    read_log(log_file)"
   ]
  },
  {
   "cell_type": "code",
   "execution_count": null,
   "metadata": {},
   "outputs": [],
   "source": [
    "# Example Dictionary\n",
    "author = {\"name\": \"Hank\", \"color\": \"green\", \"shape\": \"circle\"}\n",
    "\n",
    "# A list of colors\n",
    "colors = [\"blue\", \"green\", \"red\"]\n",
    "\n",
    "# A list of dictionaries\n",
    "favorite_colors = [\n",
    "                      {\n",
    "                          \"student\": \"Mary\",\n",
    "                          \"color\": \"red\"\n",
    "                      },\n",
    "                      {\n",
    "                          \"student\": \"John\",\n",
    "                          \"color\": \"blue\"\n",
    "                      }\n",
    "                  ]\n",
    "\n",
    "# Entry point for program\n",
    "if __name__ == '__main__':\n",
    "    print(\"The author's name is {}.\".format(author[\"name\"]))\n",
    "    print(\"His favorite color is {}.\".format(author[\"color\"]))\n",
    "    print(\"\")\n",
    "\n",
    "    print(\"The current colors are:\")\n",
    "    for color in colors:\n",
    "        print(color)\n",
    "    print(\"\")\n",
    "\n",
    "    # Ask user for favorite color and compare to author's color\n",
    "    new_color = input(\"What is your favorite color? \")\n",
    "    if new_color == author[\"color\"]:\n",
    "        print(\"You have the same favorite as {}.\".format(author[\"name\"]))\n",
    "        print(\"\")\n",
    "\n",
    "    # See if this is a new color for the list\n",
    "    #if new_color not in colors:\n",
    "        print(\"That's a new color, adding it to the list!\")\n",
    "        colors.append(new_color)\n",
    "        # Print update message about the new colors list\n",
    "        message = (\"There are now {} colors in the list. \".format(len(colors)))\n",
    "        message += \"The color you added was {}.\".format(colors[3])\n",
    "        print(message)\n",
    "        print('new_co"
   ]
  },
  {
   "cell_type": "code",
   "execution_count": 31,
   "metadata": {},
   "outputs": [
    {
     "name": "stdout",
     "output_type": "stream",
     "text": [
      "The author's name is Hank.\n",
      "His favorite color is green.\n",
      "\n",
      "The current colors are:\n",
      "blue\n",
      "green\n",
      "red\n",
      "\n",
      "What is your favorite color? mak\n",
      "That's a new color, adding it to the list!\n",
      "There are now 4 colors in the list. The color you added was mak.\n",
      "new_color listr ['blue', 'green', 'red', 'mak']\n"
     ]
    }
   ],
   "source": [
    "# Example Dictionary\n",
    "author = {\"name\": \"Hank\", \"color\": \"green\", \"shape\": \"circle\"}\n",
    "\n",
    "# A list of colors\n",
    "colors = [\"blue\", \"green\", \"red\"]\n",
    "\n",
    "# A list of dictionaries\n",
    "favorite_colors = [\n",
    "                      {\n",
    "                          \"student\": \"Mary\",\n",
    "                          \"color\": \"red\"\n",
    "                      },\n",
    "                      {\n",
    "                          \"student\": \"John\",\n",
    "                          \"color\": \"blue\"\n",
    "                      }\n",
    "                  ]\n",
    "\n",
    "# Entry point for program\n",
    "if __name__ == '__main__':\n",
    "    print(\"The author's name is {}.\".format(author[\"name\"]))\n",
    "    print(\"His favorite color is {}.\".format(author[\"color\"]))\n",
    "    print(\"\")\n",
    "\n",
    "    print(\"The current colors are:\")\n",
    "    for color in colors:\n",
    "        print(color)\n",
    "    print(\"\")\n",
    "\n",
    "    # Ask user for favorite color and compare to author's color\n",
    "    new_color = input(\"What is your favorite color? \")\n",
    "    if new_color == author[\"color\"]:\n",
    "        print(\"You have the same favorite as {}.\".format(author[\"name\"]))\n",
    "        print(\"\")\n",
    "\n",
    "    # See if this is a new color for the list\n",
    "    if new_color not in colors:\n",
    "        print(\"That's a new color, adding it to the list!\")\n",
    "        colors.append(new_color)\n",
    "        # Print update message about the new colors list\n",
    "        message = (\"There are now {} colors in the list. \".format(len(colors)))\n",
    "        message += \"The color you added was {}.\".format(colors[3])\n",
    "        print(message)\n",
    "        print('new_color listr',colors)\n",
    "    else: \n",
    "        pass"
   ]
  },
  {
   "cell_type": "code",
   "execution_count": 103,
   "metadata": {},
   "outputs": [],
   "source": [
    "ranklist = { 2000 : {1: ' Sara'  , 3 : 'Saj' , 2 : 'Pap' } , \n",
    "              2001 : {2: ' Sara'  , 1 : 'Saj' , 2 : 'Pap' } ,\n",
    "              2002 : {3: ' Sara'  , 2 : 'Saj' , 1 : 'Pap' } ,\n",
    "             }\n",
    "    \n",
    "    \n",
    "a=[]\n",
    "for year in ranklist:   \n",
    "        for rank in ranklist[year] :\n",
    "            if rank == 1:\n",
    "                a.append(ranklist[year][rank])    \n"
   ]
  },
  {
   "cell_type": "code",
   "execution_count": 104,
   "metadata": {},
   "outputs": [
    {
     "data": {
      "text/plain": [
       "[' Sara', 'Saj', 'Pap']"
      ]
     },
     "execution_count": 104,
     "metadata": {},
     "output_type": "execute_result"
    }
   ],
   "source": [
    "a"
   ]
  },
  {
   "cell_type": "code",
   "execution_count": 3,
   "metadata": {},
   "outputs": [
    {
     "name": "stdout",
     "output_type": "stream",
     "text": [
      "{'name': 'Tom', 'age': 10}\n",
      "{'name': 'Mark', 'age': 5, 'height': 4}\n",
      "{'name': 'Pam', 'age': 7, 'weight': 90}\n"
     ]
    },
    {
     "data": {
      "text/plain": [
       "['name', 'age', 'height', 'weight']"
      ]
     },
     "execution_count": 3,
     "metadata": {},
     "output_type": "execute_result"
    }
   ],
   "source": [
    "lis=[\n",
    "{\"name\": \"Tom\", \"age\": 10},\n",
    "{\"name\": \"Mark\", \"age\": 5, \"height\":4},\n",
    "{\"name\": \"Pam\", \"age\": 7, \"weight\":90}\n",
    "]\n",
    "test = []\n",
    "for i in lis:\n",
    "    print (i)\n",
    "    for j in i:\n",
    "        #print (j)\n",
    "        test.append(j)\n",
    "test\n",
    "mylist = list(dict.fromkeys(test))\n",
    "mylist"
   ]
  },
  {
   "cell_type": "code",
   "execution_count": 4,
   "metadata": {},
   "outputs": [
    {
     "data": {
      "text/plain": [
       "[dict_keys(['name', 'age']),\n",
       " dict_keys(['name', 'age', 'height']),\n",
       " dict_keys(['name', 'age', 'weight'])]"
      ]
     },
     "execution_count": 4,
     "metadata": {},
     "output_type": "execute_result"
    }
   ],
   "source": [
    "[x for x in (i.keys() for i in lis)]"
   ]
  },
  {
   "cell_type": "code",
   "execution_count": 130,
   "metadata": {},
   "outputs": [
    {
     "name": "stdout",
     "output_type": "stream",
     "text": [
      "initial_dictionary {'a': 1, 'b': 2, 'c': 3, 'd': 2}\n",
      "final_dictionary {1: ['a'], 2: ['b', 'd'], 3: ['c']}\n"
     ]
    }
   ],
   "source": [
    "# initialising dictionary \n",
    "ini_dict = {'a':1, 'b':2, 'c':3, 'd':2} \n",
    "  \n",
    "# printing initial_dictionary \n",
    "print(\"initial_dictionary\", str(ini_dict)) \n",
    "  \n",
    "# finding duplicate values \n",
    "# from dictionary using flip \n",
    "flipped = {} \n",
    "  \n",
    "for key, value in ini_dict.items(): \n",
    "    if value not in flipped: \n",
    "        flipped[value] = [key] \n",
    "    else: \n",
    "        flipped[value].append(key) \n",
    "  \n",
    "# printing result \n",
    "print(\"final_dictionary\", str(flipped))"
   ]
  },
  {
   "cell_type": "code",
   "execution_count": 152,
   "metadata": {},
   "outputs": [
    {
     "data": {
      "text/plain": [
       "[['a', 'd', 'g', 'j', 'm'], ['b', 'e', 'h', 'k'], ['c', 'f', 'i', 'l']]"
      ]
     },
     "execution_count": 152,
     "metadata": {},
     "output_type": "execute_result"
    }
   ],
   "source": [
    "list = ['a', 'b', 'c', 'd', 'e', 'f', 'g', 'h', 'i', 'j', 'k', 'l', 'm']\n",
    "def four(list,n): \n",
    "    return [list[i::n] for i in range(n)] \n",
    "four(list, 3)"
   ]
  },
  {
   "cell_type": "code",
   "execution_count": 39,
   "metadata": {},
   "outputs": [
    {
     "name": "stdout",
     "output_type": "stream",
     "text": [
      "7\n"
     ]
    }
   ],
   "source": [
    "import re\n",
    "line = \" I am having a very nice day.\"\n",
    "count = len(re.findall(r'\\w+', line))\n",
    "print (count)"
   ]
  },
  {
   "cell_type": "code",
   "execution_count": 1,
   "metadata": {},
   "outputs": [],
   "source": [
    "import pandas as pd"
   ]
  },
  {
   "cell_type": "code",
   "execution_count": 43,
   "metadata": {},
   "outputs": [],
   "source": [
    "df = pd.read_csv(r'C:\\Users\\makka\\Desktop\\m.txt', header=None)\n"
   ]
  },
  {
   "cell_type": "code",
   "execution_count": 44,
   "metadata": {},
   "outputs": [
    {
     "data": {
      "text/html": [
       "<div>\n",
       "<style scoped>\n",
       "    .dataframe tbody tr th:only-of-type {\n",
       "        vertical-align: middle;\n",
       "    }\n",
       "\n",
       "    .dataframe tbody tr th {\n",
       "        vertical-align: top;\n",
       "    }\n",
       "\n",
       "    .dataframe thead th {\n",
       "        text-align: right;\n",
       "    }\n",
       "</style>\n",
       "<table border=\"1\" class=\"dataframe\">\n",
       "  <thead>\n",
       "    <tr style=\"text-align: right;\">\n",
       "      <th></th>\n",
       "      <th>0</th>\n",
       "    </tr>\n",
       "  </thead>\n",
       "  <tbody>\n",
       "    <tr>\n",
       "      <th>2</th>\n",
       "      <td>C   KB           1024               Mysql5.6</td>\n",
       "    </tr>\n",
       "    <tr>\n",
       "      <th>4</th>\n",
       "      <td>F   GB           1                  Mysql5.6</td>\n",
       "    </tr>\n",
       "  </tbody>\n",
       "</table>\n",
       "</div>"
      ],
      "text/plain": [
       "                                                  0\n",
       "2      C   KB           1024               Mysql5.6\n",
       "4      F   GB           1                  Mysql5.6"
      ]
     },
     "execution_count": 44,
     "metadata": {},
     "output_type": "execute_result"
    }
   ],
   "source": [
    "df[df[0].str.contains(\"5.6\")]"
   ]
  },
  {
   "cell_type": "code",
   "execution_count": 50,
   "metadata": {},
   "outputs": [],
   "source": [
    "import re\n",
    "infile = r'C:\\Users\\makka\\Desktop\\m.txt'\n",
    "df_list = []\n",
    "with open(infile) as f:\n",
    "    for line in f:\n",
    "        line = line.strip()\n",
    "        columns = re.split('\\s+', line, maxsplit=4)\n",
    "        df_list.append(columns)"
   ]
  },
  {
   "cell_type": "code",
   "execution_count": 51,
   "metadata": {},
   "outputs": [
    {
     "data": {
      "text/html": [
       "<div>\n",
       "<style scoped>\n",
       "    .dataframe tbody tr th:only-of-type {\n",
       "        vertical-align: middle;\n",
       "    }\n",
       "\n",
       "    .dataframe tbody tr th {\n",
       "        vertical-align: top;\n",
       "    }\n",
       "\n",
       "    .dataframe thead th {\n",
       "        text-align: right;\n",
       "    }\n",
       "</style>\n",
       "<table border=\"1\" class=\"dataframe\">\n",
       "  <thead>\n",
       "    <tr style=\"text-align: right;\">\n",
       "      <th></th>\n",
       "      <th>0</th>\n",
       "      <th>1</th>\n",
       "      <th>2</th>\n",
       "      <th>3</th>\n",
       "      <th>4</th>\n",
       "    </tr>\n",
       "  </thead>\n",
       "  <tbody>\n",
       "    <tr>\n",
       "      <th>2</th>\n",
       "      <td>C</td>\n",
       "      <td>KB</td>\n",
       "      <td>1024</td>\n",
       "      <td>Mysql5.6</td>\n",
       "      <td>None</td>\n",
       "    </tr>\n",
       "    <tr>\n",
       "      <th>4</th>\n",
       "      <td>F</td>\n",
       "      <td>GB</td>\n",
       "      <td>1</td>\n",
       "      <td>Mysql5.6</td>\n",
       "      <td>None</td>\n",
       "    </tr>\n",
       "  </tbody>\n",
       "</table>\n",
       "</div>"
      ],
      "text/plain": [
       "   0   1     2         3     4\n",
       "2  C  KB  1024  Mysql5.6  None\n",
       "4  F  GB     1  Mysql5.6  None"
      ]
     },
     "execution_count": 51,
     "metadata": {},
     "output_type": "execute_result"
    }
   ],
   "source": [
    "df = pd.DataFrame(df_list)\n",
    "df[df[3].str.contains(\"5.6\")]"
   ]
  },
  {
   "cell_type": "code",
   "execution_count": 52,
   "metadata": {},
   "outputs": [
    {
     "data": {
      "text/plain": [
       "[['A', 'KB', '1024', 'MYsql', 'root'],\n",
       " ['B', 'GB', '1', 'ELK-6'],\n",
       " ['C', 'KB', '1024', 'Mysql5.6'],\n",
       " ['E', 'KB', '1024', 'ELK'],\n",
       " ['F', 'GB', '1', 'Mysql5.6']]"
      ]
     },
     "execution_count": 52,
     "metadata": {},
     "output_type": "execute_result"
    }
   ],
   "source": [
    "df_list"
   ]
  },
  {
   "cell_type": "code",
   "execution_count": 54,
   "metadata": {},
   "outputs": [
    {
     "name": "stderr",
     "output_type": "stream",
     "text": [
      "INFO:root:Logging Time : 2019-09-17 11:41:55.133716\n"
     ]
    }
   ],
   "source": [
    "import shconfparser"
   ]
  },
  {
   "cell_type": "code",
   "execution_count": 57,
   "metadata": {},
   "outputs": [
    {
     "data": {
      "text/plain": [
       "\"import logging\\nfrom datetime import datetime\\n\\nlogging.basicConfig(level=logging.DEBUG)\\n# logging.basicConfig(filename='logs/shconfparser.log', level=logging.DEBUG)\\nlogging.info('Logging Time : {}'.format(datetime.now()))\\n\""
      ]
     },
     "execution_count": 57,
     "metadata": {},
     "output_type": "execute_result"
    }
   ],
   "source": [
    "import inspect\n",
    "src = inspect.getsource(shconfparser)\n",
    "src"
   ]
  },
  {
   "cell_type": "code",
   "execution_count": 21,
   "metadata": {},
   "outputs": [
    {
     "name": "stdout",
     "output_type": "stream",
     "text": [
      "2\n",
      "a b\n",
      "c d\n",
      "2\n",
      "1 1\n"
     ]
    }
   ],
   "source": [
    "from collections import Counter, OrderedDict\n",
    "class OrderedCounter(Counter, OrderedDict):\n",
    "    pass\n",
    "d = OrderedCounter(input() for _ in range(int(input())))\n",
    "print(len(d))\n",
    "print(*d.values())"
   ]
  },
  {
   "cell_type": "code",
   "execution_count": 19,
   "metadata": {},
   "outputs": [
    {
     "name": "stdout",
     "output_type": "stream",
     "text": [
      "2 2 2\n",
      "1 2\n",
      "3 4\n",
      "5 6\n",
      "7 8\n",
      "[[1 2]\n",
      " [3 4]\n",
      " [5 6]\n",
      " [7 8]]\n"
     ]
    }
   ],
   "source": [
    "import numpy as np\n",
    "N, M, _ = [int(x) for x in input().strip().split()]\n",
    "a, b = map(lambda x: np.array([input().strip().split() for i in range(int(x))], int), [N, M])\n",
    "print (np.concatenate((a, b), axis = 0))"
   ]
  },
  {
   "cell_type": "code",
   "execution_count": 11,
   "metadata": {},
   "outputs": [
    {
     "data": {
      "text/plain": [
       "array([[1, 2, 3],\n",
       "       [4, 5, 6]])"
      ]
     },
     "execution_count": 11,
     "metadata": {},
     "output_type": "execute_result"
    }
   ],
   "source": [
    "n, m, p = map(int, input().split())\n",
    "print(numpy.array([input().split() for _ in range(n+m)], int))"
   ]
  },
  {
   "cell_type": "code",
   "execution_count": null,
   "metadata": {},
   "outputs": [],
   "source": [
    "import numpy as np\n",
    "\n",
    "n, m, p = map(int, input().split())    #assign n,m,p\n",
    "\n",
    "source = \" \".join(input() for _ in range(n))  #matrix1\n",
    "matrix1 = np.array(source.split(), int)\n",
    "matrix1.shape = (n, p)\n",
    "\n",
    "source = \" \".join(input() for _ in range(m)) #matrix2\n",
    "matrix2 = np.array(source.split(), int)    \n",
    "matrix2.shape = (m, p)\n",
    "\n",
    "print(np.concatenate((matrix1, matrix2), axis=0)) #vertical axis=0"
   ]
  },
  {
   "cell_type": "code",
   "execution_count": null,
   "metadata": {},
   "outputs": [],
   "source": [
    "import numpy as np\n",
    "n,m,p=map(int,input().split())\n",
    "lis=[]\n",
    "for i in range(n+m):\n",
    "    inp=input().split()\n",
    "    lis.append(inp)\n",
    "print(np.array(lis,int))"
   ]
  },
  {
   "cell_type": "code",
   "execution_count": null,
   "metadata": {},
   "outputs": [],
   "source": [
    "k,l,z=input().split()\n",
    "print(numpy.array([input().split() for _ in range(int(k)+int(l))] , int))"
   ]
  },
  {
   "cell_type": "code",
   "execution_count": 24,
   "metadata": {},
   "outputs": [
    {
     "name": "stdout",
     "output_type": "stream",
     "text": [
      "1 2\n",
      "2 3\n",
      "4 5\n",
      "6 7\n",
      "[[2 3]\n",
      " [4 5]\n",
      " [6 7]]\n"
     ]
    }
   ],
   "source": [
    "import numpy as np\n",
    "n,m=map(int,input().split())\n",
    "A = np.array([input().split() for i in range(n)], int)\n",
    "B = np.array([input().split() for i in range(m)], int)\n",
    "print(np.concatenate((A,B), axis=0))"
   ]
  },
  {
   "cell_type": "code",
   "execution_count": null,
   "metadata": {},
   "outputs": [],
   "source": [
    "import numpy as np\n",
    "N,M,P = map(int,input().split())\n",
    "arr = []\n",
    "for _ in range(N+M):\n",
    "    row = np.array(list(map(int,input().split())))\n",
    "    arr.append(row)\n",
    "print(np.array(arr))"
   ]
  },
  {
   "cell_type": "code",
   "execution_count": null,
   "metadata": {},
   "outputs": [],
   "source": []
  },
  {
   "cell_type": "code",
   "execution_count": null,
   "metadata": {},
   "outputs": [],
   "source": []
  }
 ],
 "metadata": {
  "kernelspec": {
   "display_name": "Python 3",
   "language": "python",
   "name": "python3"
  },
  "language_info": {
   "codemirror_mode": {
    "name": "ipython",
    "version": 3
   },
   "file_extension": ".py",
   "mimetype": "text/x-python",
   "name": "python",
   "nbconvert_exporter": "python",
   "pygments_lexer": "ipython3",
   "version": "3.7.3"
  }
 },
 "nbformat": 4,
 "nbformat_minor": 2
}
