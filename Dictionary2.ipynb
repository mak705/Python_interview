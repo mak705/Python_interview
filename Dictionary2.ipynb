{
 "cells": [
  {
   "cell_type": "code",
   "execution_count": 1,
   "metadata": {},
   "outputs": [],
   "source": [
    "dictio =[{'key1':'value1'}, {'key1':'value2'}, {'key1':'value3'}, {'key2':'value4'}, {'key2':'value5'}]"
   ]
  },
  {
   "cell_type": "code",
   "execution_count": 2,
   "metadata": {},
   "outputs": [],
   "source": [
    "from collections import defaultdict\n",
    "\n",
    "result = defaultdict(list)\n",
    "for subd in dictio:\n",
    "    for k, v in subd.items():\n",
    "        result[k].append(v)"
   ]
  },
  {
   "cell_type": "code",
   "execution_count": 3,
   "metadata": {},
   "outputs": [
    {
     "data": {
      "text/plain": [
       "defaultdict(list,\n",
       "            {'key1': ['value1', 'value2', 'value3'],\n",
       "             'key2': ['value4', 'value5']})"
      ]
     },
     "execution_count": 3,
     "metadata": {},
     "output_type": "execute_result"
    }
   ],
   "source": [
    "result"
   ]
  },
  {
   "cell_type": "code",
   "execution_count": 74,
   "metadata": {},
   "outputs": [
    {
     "data": {
      "text/plain": [
       "{'key1': ['value1', 'value2', 'value3'], 'key2': ['value4', 'value5']}"
      ]
     },
     "execution_count": 74,
     "metadata": {},
     "output_type": "execute_result"
    }
   ],
   "source": [
    "dict(result)"
   ]
  },
  {
   "cell_type": "code",
   "execution_count": 75,
   "metadata": {},
   "outputs": [
    {
     "data": {
      "text/plain": [
       "{'key1': ['value1', 'value2', 'value3'], 'key2': ['value4', 'value5']}"
      ]
     },
     "execution_count": 75,
     "metadata": {},
     "output_type": "execute_result"
    }
   ],
   "source": [
    "super_w"
   ]
  },
  {
   "cell_type": "code",
   "execution_count": 76,
   "metadata": {},
   "outputs": [
    {
     "data": {
      "text/plain": [
       "{'key1': ['value1', 'value2', 'value3'], 'key2': ['value4', 'value5']}"
      ]
     },
     "execution_count": 76,
     "metadata": {},
     "output_type": "execute_result"
    }
   ],
   "source": [
    "super_dict = {}\n",
    "for d in dictio:\n",
    "    for l, m in d.items():  \n",
    "        super_dict.setdefault(l, []).append(m)\n",
    "super_dict"
   ]
  },
  {
   "cell_type": "code",
   "execution_count": 86,
   "metadata": {},
   "outputs": [
    {
     "data": {
      "text/plain": [
       "{'key1': {'value1', 'value2', 'value3'}, 'key2': {'value4', 'value5'}}"
      ]
     },
     "execution_count": 86,
     "metadata": {},
     "output_type": "execute_result"
    }
   ],
   "source": [
    "import collections\n",
    "super_dict1 = collections.defaultdict(set)\n",
    "for d in dictio:\n",
    "    for k, v in d.items(): \n",
    "        super_dict1[k].add(v)\n",
    "dict(super_dict1)"
   ]
  },
  {
   "cell_type": "code",
   "execution_count": 79,
   "metadata": {},
   "outputs": [
    {
     "data": {
      "text/plain": [
       "{'key2': ['value4', 'value5'], 'key1': ['value1', 'value2', 'value3']}"
      ]
     },
     "execution_count": 79,
     "metadata": {},
     "output_type": "execute_result"
    }
   ],
   "source": [
    "combined_key_set= {key for d in dictio for key in d}\n",
    "su_di = {key : [d[key] for d in dictio if key in d] for key in combined_key_set}\n",
    "su_di"
   ]
  },
  {
   "cell_type": "code",
   "execution_count": 90,
   "metadata": {},
   "outputs": [
    {
     "data": {
      "text/plain": [
       "['gol', 'log']"
      ]
     },
     "execution_count": 90,
     "metadata": {},
     "output_type": "execute_result"
    }
   ],
   "source": [
    "my_list = ['gool', 'gol', 'log', 'goly']\n",
    "[w for w in my_list if (w == 'gol' or w == 'log') and len(w) == 3] "
   ]
  },
  {
   "cell_type": "code",
   "execution_count": 104,
   "metadata": {},
   "outputs": [],
   "source": [
    "class Trie:\n",
    "    head = {}\n",
    "\n",
    "    def add(self,word):\n",
    "        \n",
    "        cur = self.head\n",
    "        for ch in word:\n",
    "            if ch not in cur:\n",
    "                cur[ch] = {}\n",
    "            cur = cur[ch]\n",
    "        cur['*'] = True\n",
    "\n",
    "    def search(self,word):\n",
    "        cur = self.head\n",
    "        for ch in word:\n",
    "            if ch not in cur:\n",
    "                return False\n",
    "            cur = cur[ch]\n",
    "            \n",
    "        if '*' in cur:\n",
    "            return True\n",
    "        else:\n",
    "            return False\n",
    "    def printf(self):\n",
    "        print (self.head)"
   ]
  },
  {
   "cell_type": "code",
   "execution_count": 105,
   "metadata": {},
   "outputs": [
    {
     "name": "stdout",
     "output_type": "stream",
     "text": [
      "True\n",
      "False\n",
      "False\n",
      "False\n",
      "{'h': {'i': {'*': True}}}\n"
     ]
    }
   ],
   "source": [
    "dictionary = Trie()\n",
    "dictionary.add(\"hi\")\n",
    "#dictionary.add(\"hello\")\n",
    "#dictionary.add(\"eye\")\n",
    "#dictionary.add(\"hey\")\n",
    "\n",
    "\n",
    "print(dictionary.search(\"hi\"))\n",
    "print(dictionary.search(\"hello\"))\n",
    "print(dictionary.search(\"hel\"))\n",
    "print(dictionary.search(\"he\"))\n",
    "dictionary.printf()"
   ]
  },
  {
   "cell_type": "code",
   "execution_count": 58,
   "metadata": {},
   "outputs": [
    {
     "name": "stdout",
     "output_type": "stream",
     "text": [
      "{'key1': ['value1', 'value3'], 'key2': ['value2']}\n"
     ]
    }
   ],
   "source": [
    "class my_dict(dict):    \n",
    "    def add(self, key, value):\n",
    "        self.setdefault(key, []).append(value)\n",
    "\n",
    "    def remove_key(self, key):\n",
    "        del self[key]\n",
    "\n",
    "    \n",
    "\n",
    "dict_obj = my_dict()\n",
    "dict_obj.add('key1', 'value1')\n",
    "dict_obj.add('key2', 'value2')\n",
    "dict_obj.add('key1', 'value3')\n",
    "print(dict_obj)  "
   ]
  },
  {
   "cell_type": "code",
   "execution_count": 59,
   "metadata": {},
   "outputs": [],
   "source": [
    "def add(self, key, value): \n",
    "    try: \n",
    "        self[key].append(value) \n",
    "    except KeyError:  # if key does not exist\n",
    "        self[key] = [value]  # add that key into the dict"
   ]
  },
  {
   "cell_type": "code",
   "execution_count": 162,
   "metadata": {},
   "outputs": [
    {
     "name": "stdout",
     "output_type": "stream",
     "text": [
      "{'key1': ['value1', 'value3', 'value33'], 'key2': ['value9']}\n"
     ]
    }
   ],
   "source": [
    "class my_dict(dict):    \n",
    "    def add(self, key, value):\n",
    "        #if len(value) < 7:\n",
    "            self.setdefault(key, []).append(value)\n",
    "\n",
    "    def remove_key(self, key):\n",
    "        del self[key]\n",
    "\n",
    "    def remove_value(self, key, value):\n",
    "        if value in self[key]:\n",
    "            self[key].remove(value)\n",
    "    \n",
    "    def find_key_for_value(self,value_to_find):\n",
    "        for key, value in self.items():\n",
    "            if value_to_find in value:\n",
    "                return key\n",
    "    \n",
    "    #def remove_value(self,key,value):\n",
    "        #if value in self.get(key, []):\n",
    "            #self[key].remove(value)\n",
    "    #def remove_value(self,key,v):  # Name argument v to match test and remove\n",
    "    #    for value in self.values():  # Call values on self\n",
    "    #             if v in value:\n",
    "    #                 value.remove(v)\n",
    "            \n",
    "dict_obj = my_dict()\n",
    "dict_obj.add('key1', 'value1')\n",
    "dict_obj.add('key2', 'value9')\n",
    "dict_obj.add('key1', 'value3')\n",
    "dict_obj.add('key1', 'value33')\n",
    "\n",
    "print(dict_obj)  "
   ]
  },
  {
   "cell_type": "code",
   "execution_count": 163,
   "metadata": {},
   "outputs": [
    {
     "name": "stdout",
     "output_type": "stream",
     "text": [
      "{'key1': ['value1', 'value3', 'value33']}\n"
     ]
    }
   ],
   "source": [
    "dict_obj.remove_key('key2')\n",
    "print(dict_obj)  "
   ]
  },
  {
   "cell_type": "code",
   "execution_count": 164,
   "metadata": {},
   "outputs": [
    {
     "name": "stdout",
     "output_type": "stream",
     "text": [
      "{'key1': ['value1', 'value33']}\n"
     ]
    }
   ],
   "source": [
    "dict_obj.remove_value('key1','value3')\n",
    "print(dict_obj)  "
   ]
  },
  {
   "cell_type": "code",
   "execution_count": 166,
   "metadata": {},
   "outputs": [
    {
     "data": {
      "text/plain": [
       "'key1'"
      ]
     },
     "execution_count": 166,
     "metadata": {},
     "output_type": "execute_result"
    }
   ],
   "source": [
    "dict_obj.find_key_for_value('value33')\n"
   ]
  },
  {
   "cell_type": "code",
   "execution_count": 125,
   "metadata": {},
   "outputs": [
    {
     "data": {
      "text/plain": [
       "{'A': [1, 2], 'B': [5, 6], 'C': [7, 8], 'D': [10]}"
      ]
     },
     "execution_count": 125,
     "metadata": {},
     "output_type": "execute_result"
    }
   ],
   "source": [
    "def trim_dictionary(d, trim=2):\n",
    "    return {k:v[:trim] for k,v in d.items()}\n",
    "trim_dictionary({'A':[1,2,3,4], 'B':[5,6], 'C':[7,8,9], 'D':[10]})\n"
   ]
  },
  {
   "cell_type": "code",
   "execution_count": 112,
   "metadata": {},
   "outputs": [
    {
     "name": "stdout",
     "output_type": "stream",
     "text": [
      "my_dict([('key1', ['value4', 'value5', 'value6']), ('key2', ['value9']), ('key3', ['value6'])])\n"
     ]
    }
   ],
   "source": [
    "from collections import OrderedDict\n",
    "\n",
    "class my_dict(OrderedDict):\n",
    "    def add(self, key, value):\n",
    "        self.check(key) #check the length\n",
    "        self.setdefault(key, []).append(value)\n",
    "\n",
    "    def check(self, key):\n",
    "        if len(self.keys()) == 3:\n",
    "            del self[next(iter(self))]\n",
    "        if len(self.get(key, [])) == 3:\n",
    "            del self[key][0]\n",
    "\n",
    "dict_obj = my_dict()\n",
    "dict_obj.add('key1', 'value1')\n",
    "dict_obj.add('key2', 'value9')\n",
    "dict_obj.add('key1', 'value3')\n",
    "dict_obj.add('key1', 'value4')\n",
    "dict_obj.add('key1', 'value5')\n",
    "dict_obj.add('key1', 'value6')\n",
    "dict_obj.add('key3', 'value6')\n",
    "print(dict_obj)"
   ]
  },
  {
   "cell_type": "code",
   "execution_count": 156,
   "metadata": {},
   "outputs": [
    {
     "data": {
      "text/plain": [
       "True"
      ]
     },
     "execution_count": 156,
     "metadata": {},
     "output_type": "execute_result"
    }
   ],
   "source": [
    "test = {'key1': ['value4', 'value5', 'value6'], 'key2': ['value9'], 'key3': ['value6'], 'key5':'value10'}\n",
    "values = test.values()\n",
    "\"value10\" in [x for v in test.values() for x in v] or 'value10' in values"
   ]
  },
  {
   "cell_type": "code",
   "execution_count": 149,
   "metadata": {},
   "outputs": [
    {
     "data": {
      "text/plain": [
       "'three'"
      ]
     },
     "execution_count": 149,
     "metadata": {},
     "output_type": "execute_result"
    }
   ],
   "source": [
    "d = {'1': 'one', '3': 'three', '2': 'two', '5': 'five', '4': 'four'}\n",
    "d.get('3')"
   ]
  },
  {
   "cell_type": "code",
   "execution_count": 157,
   "metadata": {},
   "outputs": [
    {
     "data": {
      "text/plain": [
       "False"
      ]
     },
     "execution_count": 157,
     "metadata": {},
     "output_type": "execute_result"
    }
   ],
   "source": [
    "d = {\"key1\":\"value1\", \"key2\":\"value2\"}\n",
    "\"value10\" in d.values() "
   ]
  },
  {
   "cell_type": "code",
   "execution_count": 151,
   "metadata": {},
   "outputs": [
    {
     "data": {
      "text/plain": [
       "True"
      ]
     },
     "execution_count": 151,
     "metadata": {},
     "output_type": "execute_result"
    }
   ],
   "source": [
    "dic = {'key1': [\"value1\",  \"value2\"],\n",
    "       'key2': [\"value77\", \"something\"] }\n",
    "\"value77\" in [x for v in dic.values() for x in v]"
   ]
  },
  {
   "cell_type": "code",
   "execution_count": 224,
   "metadata": {},
   "outputs": [],
   "source": [
    "r = [{'Name': 'Dr. Tajwar Aamir MD',\n",
    "      'Specialised and Location': 'Pediatrics, Princeton, NJ'},\n",
    "     {'Name': 'Dr. Bernard Aaron', 'Specialised and Location': 'Health'},\n",
    "     {'Name': 'Dr. Joseph Aaron MD',\n",
    "      'Specialised and Location': 'Internal Medicine, Short Hills, NJ'},\n",
    "     {'Name': 'Dr. Michael Aaron DO',\n",
    "      'Specialised and Location': 'Cardiology, Neptune, NJ'}]\n"
   ]
  },
  {
   "cell_type": "code",
   "execution_count": 225,
   "metadata": {},
   "outputs": [
    {
     "name": "stdout",
     "output_type": "stream",
     "text": [
      "{'Name': ['Dr. Tajwar Aamir MD', 'Dr. Bernard Aaron', 'Dr. Joseph Aaron MD', 'Dr. Michael Aaron DO'], 'Specialised and Location': ['Pediatrics, Princeton, NJ', 'Health', 'Internal Medicine, Short Hills, NJ', 'Cardiology, Neptune, NJ']}\n"
     ]
    }
   ],
   "source": [
    "#result={'Name':[x['Name'] for x in r], 'Specialised and Location':[x['Specialised and Location'] for x in r]}\n",
    "result={'Name':[x['Name'] for x in r], 'Specialised and Location':[x['Specialised and Location'] for x in r]}\n",
    "print(result)"
   ]
  },
  {
   "cell_type": "code",
   "execution_count": 220,
   "metadata": {},
   "outputs": [
    {
     "name": "stdout",
     "output_type": "stream",
     "text": [
      "{'Name': ['Dr. Tajwar Aamir MD', 'Dr. Bernard Aaron', 'Dr. Joseph Aaron MD', 'Dr. Michael Aaron DO']}\n"
     ]
    }
   ],
   "source": [
    "result={'Name':[x['Name'] for x in r]}\n",
    "print(result)"
   ]
  },
  {
   "cell_type": "code",
   "execution_count": 221,
   "metadata": {},
   "outputs": [
    {
     "name": "stdout",
     "output_type": "stream",
     "text": [
      "{'Specialised and Location': ['Pediatrics, Princeton, NJ', 'Health', 'Internal Medicine, Short Hills, NJ', 'Cardiology, Neptune, NJ']}\n"
     ]
    }
   ],
   "source": [
    "result={'Specialised and Location':[x['Specialised and Location'] for x in r]}\n",
    "print(result)"
   ]
  },
  {
   "cell_type": "code",
   "execution_count": 222,
   "metadata": {},
   "outputs": [
    {
     "name": "stdout",
     "output_type": "stream",
     "text": [
      "{'Name': ['Dr. Tajwar Aamir MD', 'Dr. Bernard Aaron', 'Dr. Joseph Aaron MD', 'Dr. Michael Aaron DO'], 'Specialised and Location': ['Pediatrics, Princeton, NJ', 'Health', 'Internal Medicine, Short Hills, NJ', 'Cardiology, Neptune, NJ']}\n"
     ]
    }
   ],
   "source": [
    "result={'Name':[x['Name'] for x in r], 'Specialised and Location':[x['Specialised and Location'] for x in r]}\n",
    "print(result)"
   ]
  },
  {
   "cell_type": "code",
   "execution_count": 13,
   "metadata": {},
   "outputs": [
    {
     "name": "stdout",
     "output_type": "stream",
     "text": [
      "9 \n",
      "a a b b c c d d d\n",
      "4\n"
     ]
    }
   ],
   "source": [
    "from collections import Counter\n",
    "n = int(input())\n",
    "socks = Counter(input().split())\n",
    "print(sum(map(lambda x: x//2, socks.values())))"
   ]
  },
  {
   "cell_type": "code",
   "execution_count": 238,
   "metadata": {},
   "outputs": [
    {
     "name": "stdout",
     "output_type": "stream",
     "text": [
      "9\n",
      "10 20 20 10 10 30 50 10 20\n",
      "sockts Counter({10: 4, 20: 3, 30: 1, 50: 1})\n",
      "pairs 0\n",
      "3\n"
     ]
    }
   ],
   "source": [
    "from collections import Counter\n",
    "input()\n",
    "socks, pairs = Counter(map(int,input().strip().split())), 0\n",
    "print ('sockts', socks)\n",
    "print ('pairs',pairs)\n",
    "for s in socks: pairs += socks[s]//2\n",
    "print(pairs)"
   ]
  },
  {
   "cell_type": "code",
   "execution_count": 249,
   "metadata": {},
   "outputs": [
    {
     "name": "stdout",
     "output_type": "stream",
     "text": [
      "9\n",
      "10 20 20 10 10 30 50 10 20\n",
      "3\n"
     ]
    }
   ],
   "source": [
    "def sockMerchant(n, ar):\n",
    "    d = (sum(map(lambda x: x//2, ar.values())))\n",
    "    print (d)\n",
    "if __name__ == '__main__':\n",
    "    n = int(input())\n",
    "    ar = Counter(map(int, input().rstrip().split()))\n",
    "    result = sockMerchant(n, ar)"
   ]
  },
  {
   "cell_type": "code",
   "execution_count": 251,
   "metadata": {},
   "outputs": [
    {
     "name": "stdout",
     "output_type": "stream",
     "text": [
      "dad\n",
      "2\n",
      "daddaddad\n"
     ]
    }
   ],
   "source": [
    "s = input()\n",
    "n = int(input())\n",
    "#print (s)\n",
    "#print (n)\n",
    "for n in range(2):\n",
    "     print(s)"
   ]
  },
  {
   "cell_type": "code",
   "execution_count": 253,
   "metadata": {},
   "outputs": [
    {
     "name": "stdout",
     "output_type": "stream",
     "text": [
      "wad\n",
      "2\n",
      "1\n"
     ]
    }
   ],
   "source": [
    "s, n = input().strip(), int(input().strip())\n",
    "print(s.count(\"a\") * (n // len(s)) + s[:n % len(s)].count(\"a\"))\n",
    "# aba\n",
    "# 10\n",
    "# n = 10, means the string s = \"aba\" is repeated over the course of 10 letters,\n",
    "# i.e. abaabaabaa. Now, we break this string further down. First part, \n",
    "# the exactly divisible part, s1 = \"abaabaaba\" and the second part,\n",
    "# the remainder part, s2 = \"a\". To represent the count of a in s1 and s2,\n",
    "# we have, int(n/len(s)) or n//len(s) and s[:n%len(s)], multiplied by count of a in s, respectively."
   ]
  },
  {
   "cell_type": "code",
   "execution_count": 255,
   "metadata": {},
   "outputs": [
    {
     "name": "stdout",
     "output_type": "stream",
     "text": [
      "wah\n",
      "2\n",
      "0\n",
      "2\n",
      "1\n"
     ]
    }
   ],
   "source": [
    "s = input()\n",
    "n = int(input())\n",
    "d, r = divmod(n, len(s))\n",
    "print (d)\n",
    "print (r)\n",
    "print(s.count('a', 0, r) * (d + 1) + s.count('a', r) * d)"
   ]
  },
  {
   "cell_type": "code",
   "execution_count": 319,
   "metadata": {},
   "outputs": [
    {
     "data": {
      "text/plain": [
       "'the quick brown fox jumped over the lazy dog.'"
      ]
     },
     "execution_count": 319,
     "metadata": {},
     "output_type": "execute_result"
    }
   ],
   "source": [
    "the_text = ''.join(['the ','quick ', 'brown ', 'fox ', 'jumped ', 'over ', 'the ', 'lazy ', 'dog.'])\n",
    "the_text"
   ]
  },
  {
   "cell_type": "code",
   "execution_count": 303,
   "metadata": {},
   "outputs": [
    {
     "data": {
      "text/plain": [
       "(3, 1)"
      ]
     },
     "execution_count": 303,
     "metadata": {},
     "output_type": "execute_result"
    }
   ],
   "source": [
    "x,y = divmod(10,3)\n",
    "x,y"
   ]
  },
  {
   "cell_type": "code",
   "execution_count": 320,
   "metadata": {},
   "outputs": [
    {
     "name": "stdout",
     "output_type": "stream",
     "text": [
      "3\n"
     ]
    }
   ],
   "source": [
    "def repeat_n(s, n):\n",
    "    return (s * (n // len(s) + 1))[:n].count('a')\n",
    "\n",
    "s = 'aba'\n",
    "print(repeat_n(s, 5))"
   ]
  },
  {
   "cell_type": "code",
   "execution_count": 12,
   "metadata": {},
   "outputs": [
    {
     "name": "stdout",
     "output_type": "stream",
     "text": [
      "abaa\n"
     ]
    }
   ],
   "source": [
    "s = 'aba'\n",
    "n = 4\n",
    "\n",
    "out = ''\n",
    "for i in range(n):\n",
    "    out += s[i % len(s)]\n",
    "\n",
    "print(out)"
   ]
  },
  {
   "cell_type": "code",
   "execution_count": 4,
   "metadata": {},
   "outputs": [],
   "source": [
    "import pprint\n",
    "message = 'It was a bright cold day in April, and the clocks were striking thirteen and thirteen .'"
   ]
  },
  {
   "cell_type": "code",
   "execution_count": 10,
   "metadata": {},
   "outputs": [
    {
     "name": "stdout",
     "output_type": "stream",
     "text": [
      "{'It': 1, 'was': 1, 'a': 1, 'bright': 1, 'cold': 1, 'day': 1, 'in': 1, 'April,': 1, 'and': 2, 'the': 1, 'clocks': 1, 'were': 1, 'striking': 1, 'thirteen': 2, '.': 1}\n",
      "[('and', 2), ('thirteen', 2), ('It', 1), ('was', 1), ('a', 1), ('bright', 1), ('cold', 1), ('day', 1), ('in', 1), ('April,', 1), ('the', 1), ('clocks', 1), ('were', 1), ('striking', 1), ('.', 1)]\n"
     ]
    }
   ],
   "source": [
    "count = {}\n",
    "for char in message.split():\n",
    "#for char in message:\n",
    "    count.setdefault(char,0)\n",
    "    count[char] += 1  \n",
    "#pprint.pprint(count)\n",
    "print (count)\n",
    "print (sorted(count.items(), key = lambda x : x[1], reverse=True))"
   ]
  },
  {
   "cell_type": "code",
   "execution_count": 1,
   "metadata": {},
   "outputs": [
    {
     "name": "stdout",
     "output_type": "stream",
     "text": [
      "Complement is: tca\n"
     ]
    }
   ],
   "source": [
    "def complement(dna_string):\n",
    "    dna_complement = {'a': 't', \n",
    "                      'g': 'c',\n",
    "                      't': 'a',\n",
    "    #dna_complement = dict(a='t', c='g', t='a', g='c')\n",
    "                      'c': 'g'}\n",
    "    comp_string = ''\n",
    "    for base in dna_string:\n",
    "        comp_string += dna_complement.get(base, 'n')\n",
    "        #if base in dna_complement:\n",
    "            #comp_string += dna_complement[base]\n",
    "        #else:\n",
    "            #comp_string += 'n'\n",
    "    return comp_string\n",
    "\n",
    "dna_string = 'agt'#input('Enter a DNA string:')\n",
    "comp_string = complement(dna_string)\n",
    "print (\"Complement is:\", comp_string)"
   ]
  },
  {
   "cell_type": "code",
   "execution_count": 2,
   "metadata": {},
   "outputs": [
    {
     "name": "stdout",
     "output_type": "stream",
     "text": [
      "[0, None, 1, None, 2, None]\n"
     ]
    }
   ],
   "source": [
    "def foo(i, a=[]):\n",
    "    a.append(a.append(i))\n",
    "    return a\n",
    "for i in range(3):\n",
    "    b = foo(i)\n",
    "print (b)"
   ]
  },
  {
   "cell_type": "code",
   "execution_count": 3,
   "metadata": {},
   "outputs": [
    {
     "name": "stdout",
     "output_type": "stream",
     "text": [
      "3\n",
      "9\n",
      "27\n"
     ]
    }
   ],
   "source": [
    "L = [lambda y: y ** 1, lambda y: y ** 2, lambda y: y ** 3]\n",
    "for f in L:\n",
    "    print (f(3))\n"
   ]
  },
  {
   "cell_type": "code",
   "execution_count": 4,
   "metadata": {},
   "outputs": [
    {
     "name": "stdout",
     "output_type": "stream",
     "text": [
      "12\n"
     ]
    }
   ],
   "source": [
    "n1 = ['m','b','t','a']\n",
    "n2 = n1\n",
    "n3 = n1[:]\n",
    "n2[0] = 'a1'\n",
    "n3[1] = 'b1'\n",
    "sum = 0\n",
    "for ls in (n1,n2,n3):\n",
    "    if ls[0] == 'a1':\n",
    "        sum += 1\n",
    "    if ls[1] == 'b1':\n",
    "        sum += 10\n",
    "print (sum)"
   ]
  },
  {
   "cell_type": "code",
   "execution_count": 33,
   "metadata": {},
   "outputs": [
    {
     "data": {
      "text/plain": [
       "2"
      ]
     },
     "execution_count": 33,
     "metadata": {},
     "output_type": "execute_result"
    }
   ],
   "source": [
    "choices = {'a': (1, 2, 3), 'b': (4, 5, 6)}\n",
    "(result1, result2, result3) = choices.get('a', ('default1', 'default2', 'default3'))\n",
    "result2"
   ]
  },
  {
   "cell_type": "code",
   "execution_count": 11,
   "metadata": {},
   "outputs": [
    {
     "name": "stdout",
     "output_type": "stream",
     "text": [
      "[(10, 20), (10, 30), (20, 30)]\n"
     ]
    }
   ],
   "source": [
    "import itertools\n",
    "l = [10,20,10,20,30]\n",
    "print(list(itertools.combinations(set(l), 2)))"
   ]
  },
  {
   "cell_type": "code",
   "execution_count": 1,
   "metadata": {},
   "outputs": [
    {
     "name": "stdout",
     "output_type": "stream",
     "text": [
      "[[1, 2, 3, 4], [5, 6, 7, 8], [9]]\n"
     ]
    }
   ],
   "source": [
    "my_list = [1, 2, 3, 4, 5, \n",
    "              6, 7, 8, 9] \n",
    "  \n",
    "# How many elements each \n",
    "# list should have \n",
    "n = 4 \n",
    "  \n",
    "# using list comprehension \n",
    "final = [my_list[i * n:(i + 1) * n] for i in range((len(my_list) + n - 1) // n )]  \n",
    "print (final) "
   ]
  },
  {
   "cell_type": "code",
   "execution_count": 2,
   "metadata": {},
   "outputs": [
    {
     "name": "stdout",
     "output_type": "stream",
     "text": [
      "[['geeks', 'for', 'geeks', 'like', 'geeky'], ['nerdy', 'geek', 'love', 'questions', 'words'], ['life']]\n"
     ]
    }
   ],
   "source": [
    "my_list = ['geeks', 'for', 'geeks', 'like', \n",
    "           'geeky','nerdy', 'geek', 'love', \n",
    "               'questions','words', 'life'] \n",
    "  \n",
    "# Yield successive n-sized \n",
    "# chunks from l. \n",
    "def divide_chunks(l, n): \n",
    "      \n",
    "    # looping till length l \n",
    "    for i in range(0, len(l), n):  \n",
    "        yield l[i:i + n] \n",
    "  \n",
    "# How many elements each \n",
    "# list should have \n",
    "n = 5\n",
    "  \n",
    "x = list(divide_chunks(my_list, n)) \n",
    "print (x) "
   ]
  },
  {
   "cell_type": "code",
   "execution_count": 3,
   "metadata": {},
   "outputs": [
    {
     "name": "stdout",
     "output_type": "stream",
     "text": [
      "initial dictionary [{'a': 5, 'b': 10, 'c': 90}, {'a': 45, 'b': 78}, {'a': 90, 'c': 10}]\n",
      "resultant dictionary :  {'a': 140, 'b': 88, 'c': 100}\n"
     ]
    }
   ],
   "source": [
    "import collections \n",
    "  \n",
    "# Initialising list of dictionary \n",
    "ini_dict = [{'a':5, 'b':10, 'c':90},  \n",
    "            {'a':45, 'b':78}, \n",
    "            {'a':90, 'c':10}] \n",
    "  \n",
    "# printing initial dictionary \n",
    "print (\"initial dictionary\", str(ini_dict)) \n",
    "# sum the values with same keys \n",
    "result = {} \n",
    "for d in ini_dict: \n",
    "    for k in d.keys(): \n",
    "        result[k] = result.get(k, 0) + d[k] \n",
    "  \n",
    "  \n",
    "print(\"resultant dictionary : \", str(result)) "
   ]
  },
  {
   "cell_type": "code",
   "execution_count": 4,
   "metadata": {},
   "outputs": [
    {
     "data": {
      "text/plain": [
       "[['a', 'd', 'g', 'j', 'm'], ['b', 'e', 'h', 'k'], ['c', 'f', 'i', 'l']]"
      ]
     },
     "execution_count": 4,
     "metadata": {},
     "output_type": "execute_result"
    }
   ],
   "source": [
    "list = ['a', 'b', 'c', 'd', 'e', 'f', 'g', 'h', 'i', 'j', 'k', 'l', 'm']\n",
    "def four(list,n): \n",
    "    return [list[i::n] for i in range(n)] \n",
    "four(list, 3)"
   ]
  },
  {
   "cell_type": "code",
   "execution_count": 5,
   "metadata": {},
   "outputs": [
    {
     "data": {
      "text/plain": [
       "['key1', 'key2', 'key3']"
      ]
     },
     "execution_count": 5,
     "metadata": {},
     "output_type": "execute_result"
    }
   ],
   "source": [
    "l = [{'k1': 'key1', 'v1': 2}, \n",
    " {'k1': 'key2', 'v2': 3} , \n",
    " {'k1': 'key3', 'v3': 4}]\n",
    "[i['k1'] for i in l if 'k1' in i]\n",
    "[i['k1'] for i in l]"
   ]
  },
  {
   "cell_type": "code",
   "execution_count": 6,
   "metadata": {},
   "outputs": [
    {
     "data": {
      "text/plain": [
       "{'k1': ['v1', 'v2', 'v3'], 'k2': ['v4', 'v5']}"
      ]
     },
     "execution_count": 6,
     "metadata": {},
     "output_type": "execute_result"
    }
   ],
   "source": [
    "dicts =[{'k1':'v1'}, {'k1':'v2'}, {'k1':'v3'}, {'k2':'v4'}, {'k2':'v5'}]\n",
    "{ k:[d[k] for d in dicts if k in d] for k in set().union(*dicts) }"
   ]
  },
  {
   "cell_type": "code",
   "execution_count": 11,
   "metadata": {},
   "outputs": [
    {
     "data": {
      "text/plain": [
       "{'k1': ['v1', 'v2', 'v3', None, None], 'k2': [None, None, None, 'v4', 'v5']}"
      ]
     },
     "execution_count": 11,
     "metadata": {},
     "output_type": "execute_result"
    }
   ],
   "source": [
    "d = {\n",
    "    k: [d.get(k) for d in dicts] for k in set().union(*dicts)\n",
    "}\n",
    "d"
   ]
  },
  {
   "cell_type": "code",
   "execution_count": 12,
   "metadata": {},
   "outputs": [
    {
     "data": {
      "text/plain": [
       "{2000: ' Sara', 2001: 'Saj', 2002: 'Pap'}"
      ]
     },
     "execution_count": 12,
     "metadata": {},
     "output_type": "execute_result"
    }
   ],
   "source": [
    "ranklist = { 2000 : {1: ' Sara'  , 3 : 'Saj' , 2 : 'Pap' } , \n",
    "              2001 : {2: ' Sara'  , 1 : 'Saj' , 2 : 'Pap' } ,\n",
    "              2002 : {3: ' Sara'  , 2 : 'Saj' , 1 : 'Pap' } ,\n",
    "             }\n",
    "out = { k: v.get(1) for k, v in ranklist.items() }\n",
    "out"
   ]
  },
  {
   "cell_type": "code",
   "execution_count": 13,
   "metadata": {},
   "outputs": [
    {
     "data": {
      "text/plain": [
       "{2000: ' Sara', 2001: 'Saj', 2002: 'Pap'}"
      ]
     },
     "execution_count": 13,
     "metadata": {},
     "output_type": "execute_result"
    }
   ],
   "source": [
    "output = { k: v.get(1) for k, v in ranklist.items() if 1 in v }\n",
    "output"
   ]
  },
  {
   "cell_type": "code",
   "execution_count": 14,
   "metadata": {},
   "outputs": [
    {
     "name": "stdout",
     "output_type": "stream",
     "text": [
      "{1: ' Sara', 3: 'Saj', 2: 'Pap'}\n",
      "{2: 'Pap', 1: 'Saj'}\n",
      "{3: ' Sara', 2: 'Saj', 1: 'Pap'}\n"
     ]
    },
    {
     "data": {
      "text/plain": [
       "{2000: ' Sara', 2001: 'Saj', 2002: 'Pap'}"
      ]
     },
     "execution_count": 14,
     "metadata": {},
     "output_type": "execute_result"
    }
   ],
   "source": [
    "out_q = {}\n",
    "for k, v in ranklist.items():\n",
    "    print (v)\n",
    "    out_q[k] = ranklist[k][1]\n",
    "out_q"
   ]
  },
  {
   "cell_type": "code",
   "execution_count": 2,
   "metadata": {},
   "outputs": [
    {
     "name": "stdout",
     "output_type": "stream",
     "text": [
      "0\n",
      "cali\n"
     ]
    }
   ],
   "source": [
    "def counter(string):\n",
    "    count = 0\n",
    "    try:\n",
    "        while True:\n",
    "            item = yield\n",
    "            if isinstance(item, str):\n",
    "                if item in string:\n",
    "                    count += 1\n",
    "                    print (item)\n",
    "                else:\n",
    "                    print ('No Match')\n",
    "            else:\n",
    "                print( 'Not a string')\n",
    "    except GeneratorExit:\n",
    "        print (count)\n",
    "c = counter('california')\n",
    "next(c)\n",
    "c.send('cali')"
   ]
  }
 ],
 "metadata": {
  "kernelspec": {
   "display_name": "Python 3",
   "language": "python",
   "name": "python3"
  },
  "language_info": {
   "codemirror_mode": {
    "name": "ipython",
    "version": 3
   },
   "file_extension": ".py",
   "mimetype": "text/x-python",
   "name": "python",
   "nbconvert_exporter": "python",
   "pygments_lexer": "ipython3",
   "version": "3.7.3"
  }
 },
 "nbformat": 4,
 "nbformat_minor": 2
}
